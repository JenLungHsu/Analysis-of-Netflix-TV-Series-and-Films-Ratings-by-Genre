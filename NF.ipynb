{
 "cells": [
  {
   "cell_type": "code",
   "execution_count": 1,
   "metadata": {},
   "outputs": [
    {
     "data": {
      "text/html": [
       "        <script type=\"text/javascript\">\n",
       "        window.PlotlyConfig = {MathJaxConfig: 'local'};\n",
       "        if (window.MathJax && window.MathJax.Hub && window.MathJax.Hub.Config) {window.MathJax.Hub.Config({SVG: {font: \"STIX-Web\"}});}\n",
       "        if (typeof require !== 'undefined') {\n",
       "        require.undef(\"plotly\");\n",
       "        requirejs.config({\n",
       "            paths: {\n",
       "                'plotly': ['https://cdn.plot.ly/plotly-2.27.0.min']\n",
       "            }\n",
       "        });\n",
       "        require(['plotly'], function(Plotly) {\n",
       "            window._Plotly = Plotly;\n",
       "        });\n",
       "        }\n",
       "        </script>\n",
       "        "
      ]
     },
     "metadata": {},
     "output_type": "display_data"
    }
   ],
   "source": [
    "import numpy as np\n",
    "import pandas as pd\n",
    "import matplotlib.pyplot as plt\n",
    "import seaborn as sns\n",
    "import statsmodels.api as sm\n",
    "\n",
    "# To create interactive plots\n",
    "from plotly.offline import init_notebook_mode, plot, iplot\n",
    "import plotly.graph_objs as go\n",
    "init_notebook_mode(connected=True)\n",
    "\n",
    "# To do the Statistical test\n",
    "from scipy import stats\n",
    "from scipy.stats import levene\n",
    "from statsmodels.stats.diagnostic import kstest_normal\n",
    "from scipy.stats import f_oneway\n",
    "from statsmodels.stats.multicomp import MultiComparison, pairwise_tukeyhsd"
   ]
  },
  {
   "cell_type": "code",
   "execution_count": 2,
   "metadata": {},
   "outputs": [
    {
     "data": {
      "text/html": [
       "<div>\n",
       "<style scoped>\n",
       "    .dataframe tbody tr th:only-of-type {\n",
       "        vertical-align: middle;\n",
       "    }\n",
       "\n",
       "    .dataframe tbody tr th {\n",
       "        vertical-align: top;\n",
       "    }\n",
       "\n",
       "    .dataframe thead th {\n",
       "        text-align: right;\n",
       "    }\n",
       "</style>\n",
       "<table border=\"1\" class=\"dataframe\">\n",
       "  <thead>\n",
       "    <tr style=\"text-align: right;\">\n",
       "      <th></th>\n",
       "      <th>Title</th>\n",
       "      <th>Available Globally?</th>\n",
       "      <th>Release Date</th>\n",
       "      <th>Hours Viewed</th>\n",
       "      <th>Number of Ratings</th>\n",
       "      <th>Rating</th>\n",
       "      <th>Genre</th>\n",
       "      <th>Key Words</th>\n",
       "      <th>Description</th>\n",
       "    </tr>\n",
       "  </thead>\n",
       "  <tbody>\n",
       "    <tr>\n",
       "      <th>0</th>\n",
       "      <td>The Night Agent: Season 1</td>\n",
       "      <td>Yes</td>\n",
       "      <td>2023-03-23</td>\n",
       "      <td>812100000</td>\n",
       "      <td>7696.0</td>\n",
       "      <td>6.0</td>\n",
       "      <td>['Biography', 'Drama', 'History']</td>\n",
       "      <td>persian empire,empire,5th century b.c.,achaeme...</td>\n",
       "      <td>NaN</td>\n",
       "    </tr>\n",
       "    <tr>\n",
       "      <th>1</th>\n",
       "      <td>Ginny &amp; Georgia: Season 2</td>\n",
       "      <td>Yes</td>\n",
       "      <td>2023-01-05</td>\n",
       "      <td>665100000</td>\n",
       "      <td>5216.0</td>\n",
       "      <td>5.7</td>\n",
       "      <td>['Comedy', 'Drama', 'Romance']</td>\n",
       "      <td>producer,three word title,headstrong,arranged ...</td>\n",
       "      <td>The film follows headstrong Ginny who meets Su...</td>\n",
       "    </tr>\n",
       "    <tr>\n",
       "      <th>2</th>\n",
       "      <td>The Glory: Season 1 // 더 글로리: 시즌 1</td>\n",
       "      <td>Yes</td>\n",
       "      <td>2022-12-30</td>\n",
       "      <td>622800000</td>\n",
       "      <td>11869.0</td>\n",
       "      <td>8.4</td>\n",
       "      <td>['Short']</td>\n",
       "      <td>NaN</td>\n",
       "      <td>NaN</td>\n",
       "    </tr>\n",
       "    <tr>\n",
       "      <th>3</th>\n",
       "      <td>Wednesday: Season 1</td>\n",
       "      <td>Yes</td>\n",
       "      <td>2022-11-23</td>\n",
       "      <td>507700000</td>\n",
       "      <td>NaN</td>\n",
       "      <td>NaN</td>\n",
       "      <td>['Talk-Show']</td>\n",
       "      <td>youtube video</td>\n",
       "      <td>MsMojo counts down the top 10 Wednesday (2022)...</td>\n",
       "    </tr>\n",
       "    <tr>\n",
       "      <th>4</th>\n",
       "      <td>Queen Charlotte: A Bridgerton Story</td>\n",
       "      <td>Yes</td>\n",
       "      <td>2023-05-04</td>\n",
       "      <td>503000000</td>\n",
       "      <td>50077.0</td>\n",
       "      <td>7.4</td>\n",
       "      <td>['Drama', 'History', 'Romance']</td>\n",
       "      <td>prequel,queen,historical,england,queen charlot...</td>\n",
       "      <td>Betrothed against her will to King George, you...</td>\n",
       "    </tr>\n",
       "    <tr>\n",
       "      <th>...</th>\n",
       "      <td>...</td>\n",
       "      <td>...</td>\n",
       "      <td>...</td>\n",
       "      <td>...</td>\n",
       "      <td>...</td>\n",
       "      <td>...</td>\n",
       "      <td>...</td>\n",
       "      <td>...</td>\n",
       "      <td>...</td>\n",
       "    </tr>\n",
       "    <tr>\n",
       "      <th>18327</th>\n",
       "      <td>راس السنة</td>\n",
       "      <td>No</td>\n",
       "      <td>NaN</td>\n",
       "      <td>100000</td>\n",
       "      <td>383.0</td>\n",
       "      <td>4.8</td>\n",
       "      <td>['Drama']</td>\n",
       "      <td>live</td>\n",
       "      <td>A tale of different people whose lives intertw...</td>\n",
       "    </tr>\n",
       "    <tr>\n",
       "      <th>18328</th>\n",
       "      <td>心が叫びたがってるんだ。</td>\n",
       "      <td>No</td>\n",
       "      <td>NaN</td>\n",
       "      <td>100000</td>\n",
       "      <td>6209.0</td>\n",
       "      <td>7.3</td>\n",
       "      <td>['Animation', 'Drama', 'Family']</td>\n",
       "      <td>anime animation,anime</td>\n",
       "      <td>A young girl had her voice magically taken awa...</td>\n",
       "    </tr>\n",
       "    <tr>\n",
       "      <th>18329</th>\n",
       "      <td>두근두근 내 인생</td>\n",
       "      <td>No</td>\n",
       "      <td>NaN</td>\n",
       "      <td>100000</td>\n",
       "      <td>NaN</td>\n",
       "      <td>NaN</td>\n",
       "      <td>NaN</td>\n",
       "      <td>NaN</td>\n",
       "      <td>NaN</td>\n",
       "    </tr>\n",
       "    <tr>\n",
       "      <th>18330</th>\n",
       "      <td>라디오 스타</td>\n",
       "      <td>No</td>\n",
       "      <td>NaN</td>\n",
       "      <td>100000</td>\n",
       "      <td>NaN</td>\n",
       "      <td>NaN</td>\n",
       "      <td>NaN</td>\n",
       "      <td>NaN</td>\n",
       "      <td>NaN</td>\n",
       "    </tr>\n",
       "    <tr>\n",
       "      <th>18331</th>\n",
       "      <td>선생 김봉두</td>\n",
       "      <td>No</td>\n",
       "      <td>NaN</td>\n",
       "      <td>100000</td>\n",
       "      <td>NaN</td>\n",
       "      <td>NaN</td>\n",
       "      <td>NaN</td>\n",
       "      <td>NaN</td>\n",
       "      <td>NaN</td>\n",
       "    </tr>\n",
       "  </tbody>\n",
       "</table>\n",
       "<p>18332 rows × 9 columns</p>\n",
       "</div>"
      ],
      "text/plain": [
       "                                     Title Available Globally? Release Date  \\\n",
       "0                The Night Agent: Season 1                 Yes   2023-03-23   \n",
       "1                Ginny & Georgia: Season 2                 Yes   2023-01-05   \n",
       "2       The Glory: Season 1 // 더 글로리: 시즌 1                 Yes   2022-12-30   \n",
       "3                      Wednesday: Season 1                 Yes   2022-11-23   \n",
       "4      Queen Charlotte: A Bridgerton Story                 Yes   2023-05-04   \n",
       "...                                    ...                 ...          ...   \n",
       "18327                            راس السنة                  No          NaN   \n",
       "18328                         心が叫びたがってるんだ。                  No          NaN   \n",
       "18329                            두근두근 내 인생                  No          NaN   \n",
       "18330                               라디오 스타                  No          NaN   \n",
       "18331                               선생 김봉두                  No          NaN   \n",
       "\n",
       "       Hours Viewed  Number of Ratings  Rating  \\\n",
       "0         812100000             7696.0     6.0   \n",
       "1         665100000             5216.0     5.7   \n",
       "2         622800000            11869.0     8.4   \n",
       "3         507700000                NaN     NaN   \n",
       "4         503000000            50077.0     7.4   \n",
       "...             ...                ...     ...   \n",
       "18327        100000              383.0     4.8   \n",
       "18328        100000             6209.0     7.3   \n",
       "18329        100000                NaN     NaN   \n",
       "18330        100000                NaN     NaN   \n",
       "18331        100000                NaN     NaN   \n",
       "\n",
       "                                   Genre  \\\n",
       "0      ['Biography', 'Drama', 'History']   \n",
       "1         ['Comedy', 'Drama', 'Romance']   \n",
       "2                              ['Short']   \n",
       "3                          ['Talk-Show']   \n",
       "4        ['Drama', 'History', 'Romance']   \n",
       "...                                  ...   \n",
       "18327                          ['Drama']   \n",
       "18328   ['Animation', 'Drama', 'Family']   \n",
       "18329                                NaN   \n",
       "18330                                NaN   \n",
       "18331                                NaN   \n",
       "\n",
       "                                               Key Words  \\\n",
       "0      persian empire,empire,5th century b.c.,achaeme...   \n",
       "1      producer,three word title,headstrong,arranged ...   \n",
       "2                                                    NaN   \n",
       "3                                          youtube video   \n",
       "4      prequel,queen,historical,england,queen charlot...   \n",
       "...                                                  ...   \n",
       "18327                                               live   \n",
       "18328                              anime animation,anime   \n",
       "18329                                                NaN   \n",
       "18330                                                NaN   \n",
       "18331                                                NaN   \n",
       "\n",
       "                                             Description  \n",
       "0                                                    NaN  \n",
       "1      The film follows headstrong Ginny who meets Su...  \n",
       "2                                                    NaN  \n",
       "3      MsMojo counts down the top 10 Wednesday (2022)...  \n",
       "4      Betrothed against her will to King George, you...  \n",
       "...                                                  ...  \n",
       "18327  A tale of different people whose lives intertw...  \n",
       "18328  A young girl had her voice magically taken awa...  \n",
       "18329                                                NaN  \n",
       "18330                                                NaN  \n",
       "18331                                                NaN  \n",
       "\n",
       "[18332 rows x 9 columns]"
      ]
     },
     "execution_count": 2,
     "metadata": {},
     "output_type": "execute_result"
    }
   ],
   "source": [
    "df = pd.read_csv('Netflix Engagement (plus).csv')\n",
    "df"
   ]
  },
  {
   "cell_type": "markdown",
   "metadata": {},
   "source": [
    "# Data Pre-Processing"
   ]
  },
  {
   "cell_type": "code",
   "execution_count": 3,
   "metadata": {},
   "outputs": [
    {
     "name": "stdout",
     "output_type": "stream",
     "text": [
      "<class 'pandas.core.frame.DataFrame'>\n",
      "RangeIndex: 14135 entries, 0 to 14134\n",
      "Data columns (total 9 columns):\n",
      " #   Column               Non-Null Count  Dtype  \n",
      "---  ------               --------------  -----  \n",
      " 0   Title                14135 non-null  object \n",
      " 1   Available Globally?  14135 non-null  object \n",
      " 2   Release Date         3572 non-null   object \n",
      " 3   Hours Viewed         14135 non-null  int64  \n",
      " 4   Number of Ratings    14135 non-null  float64\n",
      " 5   Rating               14135 non-null  float64\n",
      " 6   Genre                14135 non-null  object \n",
      " 7   Key Words            12271 non-null  object \n",
      " 8   Description          9752 non-null   object \n",
      "dtypes: float64(2), int64(1), object(6)\n",
      "memory usage: 994.0+ KB\n"
     ]
    }
   ],
   "source": [
    "# Missing Value\n",
    "df.dropna(subset=['Rating'], inplace = True)\n",
    "df.dropna(subset=['Genre'], inplace = True)\n",
    "\n",
    "# Duplicated Value\n",
    "df.drop_duplicates(inplace = True)\n",
    "\n",
    "# Reset Index\n",
    "df.reset_index(drop=True, inplace = True)\n",
    "\n",
    "\n",
    "df.info()"
   ]
  },
  {
   "cell_type": "code",
   "execution_count": 4,
   "metadata": {},
   "outputs": [
    {
     "name": "stdout",
     "output_type": "stream",
     "text": [
      "Non-numeric columns:\n"
     ]
    },
    {
     "data": {
      "text/html": [
       "<div>\n",
       "<style scoped>\n",
       "    .dataframe tbody tr th:only-of-type {\n",
       "        vertical-align: middle;\n",
       "    }\n",
       "\n",
       "    .dataframe tbody tr th {\n",
       "        vertical-align: top;\n",
       "    }\n",
       "\n",
       "    .dataframe thead th {\n",
       "        text-align: right;\n",
       "    }\n",
       "</style>\n",
       "<table border=\"1\" class=\"dataframe\">\n",
       "  <thead>\n",
       "    <tr style=\"text-align: right;\">\n",
       "      <th></th>\n",
       "      <th>Title</th>\n",
       "      <th>Available Globally?</th>\n",
       "      <th>Release Date</th>\n",
       "      <th>Genre</th>\n",
       "      <th>Key Words</th>\n",
       "      <th>Description</th>\n",
       "    </tr>\n",
       "  </thead>\n",
       "  <tbody>\n",
       "    <tr>\n",
       "      <th>count</th>\n",
       "      <td>14135</td>\n",
       "      <td>14135</td>\n",
       "      <td>3572</td>\n",
       "      <td>14135</td>\n",
       "      <td>12271</td>\n",
       "      <td>9752</td>\n",
       "    </tr>\n",
       "    <tr>\n",
       "      <th>unique</th>\n",
       "      <td>14091</td>\n",
       "      <td>2</td>\n",
       "      <td>1440</td>\n",
       "      <td>633</td>\n",
       "      <td>9478</td>\n",
       "      <td>8233</td>\n",
       "    </tr>\n",
       "    <tr>\n",
       "      <th>top</th>\n",
       "      <td>Perfect Strangers // Perfetti sconosciuti</td>\n",
       "      <td>No</td>\n",
       "      <td>2020-03-20</td>\n",
       "      <td>['Comedy']</td>\n",
       "      <td>tv special,stand up comedy,stand up comedy spe...</td>\n",
       "      <td>Celebrate the enduring, powerful character of ...</td>\n",
       "    </tr>\n",
       "    <tr>\n",
       "      <th>freq</th>\n",
       "      <td>3</td>\n",
       "      <td>10802</td>\n",
       "      <td>14</td>\n",
       "      <td>976</td>\n",
       "      <td>79</td>\n",
       "      <td>62</td>\n",
       "    </tr>\n",
       "  </tbody>\n",
       "</table>\n",
       "</div>"
      ],
      "text/plain": [
       "                                            Title Available Globally?  \\\n",
       "count                                       14135               14135   \n",
       "unique                                      14091                   2   \n",
       "top     Perfect Strangers // Perfetti sconosciuti                  No   \n",
       "freq                                            3               10802   \n",
       "\n",
       "       Release Date       Genre  \\\n",
       "count          3572       14135   \n",
       "unique         1440         633   \n",
       "top      2020-03-20  ['Comedy']   \n",
       "freq             14         976   \n",
       "\n",
       "                                                Key Words  \\\n",
       "count                                               12271   \n",
       "unique                                               9478   \n",
       "top     tv special,stand up comedy,stand up comedy spe...   \n",
       "freq                                                   79   \n",
       "\n",
       "                                              Description  \n",
       "count                                                9752  \n",
       "unique                                               8233  \n",
       "top     Celebrate the enduring, powerful character of ...  \n",
       "freq                                                   62  "
      ]
     },
     "execution_count": 4,
     "metadata": {},
     "output_type": "execute_result"
    }
   ],
   "source": [
    "# 显示非数值型列的摘要统计信息\n",
    "print(\"Non-numeric columns:\")\n",
    "df.describe(include='object')\n"
   ]
  },
  {
   "cell_type": "code",
   "execution_count": 5,
   "metadata": {},
   "outputs": [
    {
     "name": "stdout",
     "output_type": "stream",
     "text": [
      "Numeric columns:\n"
     ]
    },
    {
     "data": {
      "text/html": [
       "<div>\n",
       "<style scoped>\n",
       "    .dataframe tbody tr th:only-of-type {\n",
       "        vertical-align: middle;\n",
       "    }\n",
       "\n",
       "    .dataframe tbody tr th {\n",
       "        vertical-align: top;\n",
       "    }\n",
       "\n",
       "    .dataframe thead th {\n",
       "        text-align: right;\n",
       "    }\n",
       "</style>\n",
       "<table border=\"1\" class=\"dataframe\">\n",
       "  <thead>\n",
       "    <tr style=\"text-align: right;\">\n",
       "      <th></th>\n",
       "      <th>Hours Viewed</th>\n",
       "      <th>Number of Ratings</th>\n",
       "      <th>Rating</th>\n",
       "    </tr>\n",
       "  </thead>\n",
       "  <tbody>\n",
       "    <tr>\n",
       "      <th>count</th>\n",
       "      <td>14135.00</td>\n",
       "      <td>14135.00</td>\n",
       "      <td>14135.00</td>\n",
       "    </tr>\n",
       "    <tr>\n",
       "      <th>mean</th>\n",
       "      <td>4592147.15</td>\n",
       "      <td>46373.06</td>\n",
       "      <td>6.51</td>\n",
       "    </tr>\n",
       "    <tr>\n",
       "      <th>std</th>\n",
       "      <td>18048924.81</td>\n",
       "      <td>149028.82</td>\n",
       "      <td>1.23</td>\n",
       "    </tr>\n",
       "    <tr>\n",
       "      <th>min</th>\n",
       "      <td>100000.00</td>\n",
       "      <td>5.00</td>\n",
       "      <td>1.20</td>\n",
       "    </tr>\n",
       "    <tr>\n",
       "      <th>25%</th>\n",
       "      <td>200000.00</td>\n",
       "      <td>347.00</td>\n",
       "      <td>5.80</td>\n",
       "    </tr>\n",
       "    <tr>\n",
       "      <th>50%</th>\n",
       "      <td>600000.00</td>\n",
       "      <td>2620.00</td>\n",
       "      <td>6.60</td>\n",
       "    </tr>\n",
       "    <tr>\n",
       "      <th>75%</th>\n",
       "      <td>2900000.00</td>\n",
       "      <td>19614.00</td>\n",
       "      <td>7.30</td>\n",
       "    </tr>\n",
       "    <tr>\n",
       "      <th>max</th>\n",
       "      <td>812100000.00</td>\n",
       "      <td>2829797.00</td>\n",
       "      <td>10.00</td>\n",
       "    </tr>\n",
       "  </tbody>\n",
       "</table>\n",
       "</div>"
      ],
      "text/plain": [
       "       Hours Viewed  Number of Ratings   Rating\n",
       "count      14135.00           14135.00 14135.00\n",
       "mean     4592147.15           46373.06     6.51\n",
       "std     18048924.81          149028.82     1.23\n",
       "min       100000.00               5.00     1.20\n",
       "25%       200000.00             347.00     5.80\n",
       "50%       600000.00            2620.00     6.60\n",
       "75%      2900000.00           19614.00     7.30\n",
       "max    812100000.00         2829797.00    10.00"
      ]
     },
     "execution_count": 5,
     "metadata": {},
     "output_type": "execute_result"
    }
   ],
   "source": [
    "# 将浮点数格式设置为固定小数点格式，而不是科学计数法\n",
    "pd.set_option('display.float_format', lambda x: '%.2f' % x)\n",
    "\n",
    "# 显示数值型列的描述统计信息，避免科学符号表示法\n",
    "numeric_summary = df.describe(include='number')\n",
    "print(\"Numeric columns:\")\n",
    "numeric_summary\n"
   ]
  },
  {
   "cell_type": "markdown",
   "metadata": {},
   "source": [
    "# Data Processing - Number of Ratings"
   ]
  },
  {
   "cell_type": "markdown",
   "metadata": {},
   "source": [
    " - 只拿評分筆數超過100,000筆的資料"
   ]
  },
  {
   "cell_type": "code",
   "execution_count": 6,
   "metadata": {},
   "outputs": [
    {
     "data": {
      "text/html": [
       "<div>\n",
       "<style scoped>\n",
       "    .dataframe tbody tr th:only-of-type {\n",
       "        vertical-align: middle;\n",
       "    }\n",
       "\n",
       "    .dataframe tbody tr th {\n",
       "        vertical-align: top;\n",
       "    }\n",
       "\n",
       "    .dataframe thead th {\n",
       "        text-align: right;\n",
       "    }\n",
       "</style>\n",
       "<table border=\"1\" class=\"dataframe\">\n",
       "  <thead>\n",
       "    <tr style=\"text-align: right;\">\n",
       "      <th></th>\n",
       "      <th>Title</th>\n",
       "      <th>Available Globally?</th>\n",
       "      <th>Release Date</th>\n",
       "      <th>Hours Viewed</th>\n",
       "      <th>Number of Ratings</th>\n",
       "      <th>Rating</th>\n",
       "      <th>Genre</th>\n",
       "      <th>Key Words</th>\n",
       "      <th>Description</th>\n",
       "    </tr>\n",
       "  </thead>\n",
       "  <tbody>\n",
       "    <tr>\n",
       "      <th>0</th>\n",
       "      <td>Extraction 2</td>\n",
       "      <td>Yes</td>\n",
       "      <td>2023-06-16</td>\n",
       "      <td>201800000</td>\n",
       "      <td>136009.00</td>\n",
       "      <td>7.00</td>\n",
       "      <td>['Action', 'Thriller']</td>\n",
       "      <td>assassin,rescue,escape,mercenary,prison riot</td>\n",
       "      <td>After barely surviving his grievous wounds fro...</td>\n",
       "    </tr>\n",
       "    <tr>\n",
       "      <th>1</th>\n",
       "      <td>Shadow and Bone: Season 2</td>\n",
       "      <td>Yes</td>\n",
       "      <td>2023-03-16</td>\n",
       "      <td>192900000</td>\n",
       "      <td>111361.00</td>\n",
       "      <td>7.60</td>\n",
       "      <td>['Action', 'Adventure', 'Drama']</td>\n",
       "      <td>magic,power,young woman,soldier,gay man</td>\n",
       "      <td>Dark forces conspire against orphan mapmaker A...</td>\n",
       "    </tr>\n",
       "    <tr>\n",
       "      <th>2</th>\n",
       "      <td>Emily in Paris: Season 3</td>\n",
       "      <td>Yes</td>\n",
       "      <td>2022-12-21</td>\n",
       "      <td>161100000</td>\n",
       "      <td>112694.00</td>\n",
       "      <td>6.90</td>\n",
       "      <td>['Comedy', 'Drama', 'Romance']</td>\n",
       "      <td>female protagonist,character name in series ti...</td>\n",
       "      <td>A young American woman from the Midwest is hir...</td>\n",
       "    </tr>\n",
       "    <tr>\n",
       "      <th>3</th>\n",
       "      <td>Alice in Borderland: Season 2 // 今際の国のアリス: シーズン2</td>\n",
       "      <td>Yes</td>\n",
       "      <td>2022-12-22</td>\n",
       "      <td>157600000</td>\n",
       "      <td>119246.00</td>\n",
       "      <td>6.20</td>\n",
       "      <td>['Adventure', 'Family', 'Fantasy']</td>\n",
       "      <td>alice character,caterpillar character,the mad ...</td>\n",
       "      <td>NaN</td>\n",
       "    </tr>\n",
       "    <tr>\n",
       "      <th>4</th>\n",
       "      <td>Glass Onion: A Knives Out Mystery</td>\n",
       "      <td>Yes</td>\n",
       "      <td>2022-12-23</td>\n",
       "      <td>142900000</td>\n",
       "      <td>419661.00</td>\n",
       "      <td>7.10</td>\n",
       "      <td>['Comedy', 'Crime', 'Drama']</td>\n",
       "      <td>sequel,detective,benoit blanc character,twin s...</td>\n",
       "      <td>NaN</td>\n",
       "    </tr>\n",
       "    <tr>\n",
       "      <th>...</th>\n",
       "      <td>...</td>\n",
       "      <td>...</td>\n",
       "      <td>...</td>\n",
       "      <td>...</td>\n",
       "      <td>...</td>\n",
       "      <td>...</td>\n",
       "      <td>...</td>\n",
       "      <td>...</td>\n",
       "      <td>...</td>\n",
       "    </tr>\n",
       "    <tr>\n",
       "      <th>1562</th>\n",
       "      <td>Voices of the New Gen // เสียง (ไม่) เงียบ 2022</td>\n",
       "      <td>No</td>\n",
       "      <td>NaN</td>\n",
       "      <td>100000</td>\n",
       "      <td>182145.00</td>\n",
       "      <td>5.80</td>\n",
       "      <td>['Action', 'Adventure', 'Fantasy']</td>\n",
       "      <td>library,year 1899,steampunk,mina murray charac...</td>\n",
       "      <td>In an alternate Victorian Age world, a group o...</td>\n",
       "    </tr>\n",
       "    <tr>\n",
       "      <th>1563</th>\n",
       "      <td>Wall // Wycieczka</td>\n",
       "      <td>No</td>\n",
       "      <td>NaN</td>\n",
       "      <td>100000</td>\n",
       "      <td>163100.00</td>\n",
       "      <td>7.30</td>\n",
       "      <td>['Crime', 'Drama']</td>\n",
       "      <td>capitalism,1980s,wall street manhattan new yor...</td>\n",
       "      <td>An impatient young stockbroker is willing to d...</td>\n",
       "    </tr>\n",
       "    <tr>\n",
       "      <th>1564</th>\n",
       "      <td>What Happened to Mr. Cha? // 차인표</td>\n",
       "      <td>Yes</td>\n",
       "      <td>2021-01-01</td>\n",
       "      <td>100000</td>\n",
       "      <td>131713.00</td>\n",
       "      <td>6.80</td>\n",
       "      <td>['Action', 'Crime', 'Fantasy']</td>\n",
       "      <td>overpopulation,one child policy,actress playin...</td>\n",
       "      <td>NaN</td>\n",
       "    </tr>\n",
       "    <tr>\n",
       "      <th>1565</th>\n",
       "      <td>Women´s Revenge // Ženská pomsta</td>\n",
       "      <td>No</td>\n",
       "      <td>NaN</td>\n",
       "      <td>100000</td>\n",
       "      <td>350677.00</td>\n",
       "      <td>7.90</td>\n",
       "      <td>['Action', 'Adventure', 'Comedy']</td>\n",
       "      <td>based on comic,god complex,raccoon,guardians o...</td>\n",
       "      <td>Still reeling from the loss of Gamora, Peter Q...</td>\n",
       "    </tr>\n",
       "    <tr>\n",
       "      <th>1566</th>\n",
       "      <td>Zack and Miri Make a Porno</td>\n",
       "      <td>No</td>\n",
       "      <td>NaN</td>\n",
       "      <td>100000</td>\n",
       "      <td>181297.00</td>\n",
       "      <td>6.50</td>\n",
       "      <td>['Comedy', 'Romance']</td>\n",
       "      <td>female full frontal nudity,female nudity,breas...</td>\n",
       "      <td>NaN</td>\n",
       "    </tr>\n",
       "  </tbody>\n",
       "</table>\n",
       "<p>1567 rows × 9 columns</p>\n",
       "</div>"
      ],
      "text/plain": [
       "                                                 Title Available Globally?  \\\n",
       "0                                         Extraction 2                 Yes   \n",
       "1                            Shadow and Bone: Season 2                 Yes   \n",
       "2                             Emily in Paris: Season 3                 Yes   \n",
       "3     Alice in Borderland: Season 2 // 今際の国のアリス: シーズン2                 Yes   \n",
       "4                    Glass Onion: A Knives Out Mystery                 Yes   \n",
       "...                                                ...                 ...   \n",
       "1562   Voices of the New Gen // เสียง (ไม่) เงียบ 2022                  No   \n",
       "1563                                 Wall // Wycieczka                  No   \n",
       "1564                  What Happened to Mr. Cha? // 차인표                 Yes   \n",
       "1565                  Women´s Revenge // Ženská pomsta                  No   \n",
       "1566                        Zack and Miri Make a Porno                  No   \n",
       "\n",
       "     Release Date  Hours Viewed  Number of Ratings  Rating  \\\n",
       "0      2023-06-16     201800000          136009.00    7.00   \n",
       "1      2023-03-16     192900000          111361.00    7.60   \n",
       "2      2022-12-21     161100000          112694.00    6.90   \n",
       "3      2022-12-22     157600000          119246.00    6.20   \n",
       "4      2022-12-23     142900000          419661.00    7.10   \n",
       "...           ...           ...                ...     ...   \n",
       "1562          NaN        100000          182145.00    5.80   \n",
       "1563          NaN        100000          163100.00    7.30   \n",
       "1564   2021-01-01        100000          131713.00    6.80   \n",
       "1565          NaN        100000          350677.00    7.90   \n",
       "1566          NaN        100000          181297.00    6.50   \n",
       "\n",
       "                                   Genre  \\\n",
       "0                 ['Action', 'Thriller']   \n",
       "1       ['Action', 'Adventure', 'Drama']   \n",
       "2         ['Comedy', 'Drama', 'Romance']   \n",
       "3     ['Adventure', 'Family', 'Fantasy']   \n",
       "4           ['Comedy', 'Crime', 'Drama']   \n",
       "...                                  ...   \n",
       "1562  ['Action', 'Adventure', 'Fantasy']   \n",
       "1563                  ['Crime', 'Drama']   \n",
       "1564      ['Action', 'Crime', 'Fantasy']   \n",
       "1565   ['Action', 'Adventure', 'Comedy']   \n",
       "1566               ['Comedy', 'Romance']   \n",
       "\n",
       "                                              Key Words  \\\n",
       "0          assassin,rescue,escape,mercenary,prison riot   \n",
       "1               magic,power,young woman,soldier,gay man   \n",
       "2     female protagonist,character name in series ti...   \n",
       "3     alice character,caterpillar character,the mad ...   \n",
       "4     sequel,detective,benoit blanc character,twin s...   \n",
       "...                                                 ...   \n",
       "1562  library,year 1899,steampunk,mina murray charac...   \n",
       "1563  capitalism,1980s,wall street manhattan new yor...   \n",
       "1564  overpopulation,one child policy,actress playin...   \n",
       "1565  based on comic,god complex,raccoon,guardians o...   \n",
       "1566  female full frontal nudity,female nudity,breas...   \n",
       "\n",
       "                                            Description  \n",
       "0     After barely surviving his grievous wounds fro...  \n",
       "1     Dark forces conspire against orphan mapmaker A...  \n",
       "2     A young American woman from the Midwest is hir...  \n",
       "3                                                   NaN  \n",
       "4                                                   NaN  \n",
       "...                                                 ...  \n",
       "1562  In an alternate Victorian Age world, a group o...  \n",
       "1563  An impatient young stockbroker is willing to d...  \n",
       "1564                                                NaN  \n",
       "1565  Still reeling from the loss of Gamora, Peter Q...  \n",
       "1566                                                NaN  \n",
       "\n",
       "[1567 rows x 9 columns]"
      ]
     },
     "execution_count": 6,
     "metadata": {},
     "output_type": "execute_result"
    }
   ],
   "source": [
    "df = df[df['Number of Ratings']>=100000]\n",
    "df.reset_index(drop=True, inplace = True)\n",
    "df"
   ]
  },
  {
   "cell_type": "markdown",
   "metadata": {},
   "source": [
    "- 畫出 boxplot 觀察其分佈"
   ]
  },
  {
   "cell_type": "code",
   "execution_count": 7,
   "metadata": {},
   "outputs": [
    {
     "data": {
      "application/vnd.plotly.v1+json": {
       "config": {
        "plotlyServerURL": "https://plot.ly"
       },
       "data": [
        {
         "marker": {
          "color": "#db0000"
         },
         "name": "Number of Ratings Distribution",
         "type": "box",
         "y": [
          136009,
          111361,
          112694,
          119246,
          419661,
          1058121,
          118352,
          426880,
          111361,
          163191,
          255235,
          620143,
          186094,
          137978,
          1058121,
          308125,
          139444,
          274154,
          148405,
          109736,
          1058121,
          836899,
          143473,
          1058121,
          228037,
          1058121,
          620143,
          1058121,
          250532,
          718336,
          494480,
          188186,
          349385,
          515709,
          620143,
          157640,
          159287,
          620143,
          349385,
          620143,
          980208,
          349385,
          195540,
          192274,
          620143,
          222690,
          122784,
          269006,
          263468,
          275240,
          171650,
          397206,
          670175,
          783580,
          325594,
          186721,
          263249,
          112135,
          125855,
          254006,
          515709,
          223834,
          681715,
          160187,
          420510,
          423507,
          706073,
          109253,
          828927,
          179564,
          427464,
          836899,
          157377,
          178295,
          183129,
          369699,
          191507,
          213756,
          260617,
          120031,
          643784,
          142003,
          245741,
          750022,
          459037,
          139042,
          579566,
          200867,
          267867,
          249848,
          311697,
          287661,
          163339,
          165767,
          676484,
          120310,
          331533,
          391585,
          326451,
          428548,
          440854,
          128770,
          705750,
          167557,
          144237,
          157377,
          174907,
          581839,
          360749,
          118768,
          165614,
          106277,
          163339,
          171511,
          112253,
          2204968,
          539887,
          182431,
          376532,
          675536,
          208032,
          666269,
          489935,
          199604,
          254006,
          141873,
          255472,
          412431,
          135183,
          123851,
          267868,
          129696,
          356889,
          125855,
          498155,
          266243,
          2811102,
          392649,
          163339,
          525673,
          148944,
          312696,
          581665,
          163339,
          1045354,
          143928,
          266243,
          259478,
          163339,
          218286,
          783643,
          432369,
          207650,
          212776,
          198520,
          136132,
          116613,
          184222,
          619058,
          143611,
          588472,
          281223,
          1064497,
          143233,
          862320,
          625692,
          823055,
          252109,
          282499,
          175808,
          1972305,
          131278,
          266243,
          1964393,
          157377,
          168824,
          452839,
          531597,
          666843,
          186203,
          103903,
          233473,
          489935,
          412872,
          581839,
          581839,
          403899,
          205356,
          585242,
          2024366,
          521314,
          445999,
          1582672,
          296199,
          116924,
          199154,
          239241,
          489935,
          213801,
          171280,
          581839,
          110555,
          1514027,
          673246,
          722275,
          407362,
          261142,
          155622,
          581839,
          242775,
          262505,
          174907,
          131152,
          189109,
          112757,
          377257,
          146068,
          146077,
          139711,
          371223,
          896118,
          358698,
          645026,
          202617,
          148509,
          120966,
          410487,
          928033,
          174939,
          218286,
          703772,
          251041,
          257138,
          504565,
          173302,
          197493,
          690362,
          255213,
          636399,
          103828,
          173919,
          249229,
          294740,
          125861,
          174907,
          210400,
          437689,
          145036,
          106006,
          1937552,
          289423,
          275246,
          253553,
          360749,
          273409,
          848281,
          417214,
          336544,
          548521,
          174907,
          238585,
          117493,
          275158,
          185407,
          609848,
          693390,
          576932,
          111209,
          695078,
          261703,
          1416039,
          163343,
          646164,
          115553,
          170761,
          108447,
          127756,
          813752,
          118593,
          308906,
          313692,
          514445,
          241156,
          171869,
          142184,
          237723,
          536566,
          157467,
          176065,
          254465,
          110475,
          321528,
          134410,
          352854,
          150955,
          287033,
          152148,
          342827,
          241180,
          103828,
          202546,
          205096,
          169895,
          193157,
          576932,
          122890,
          193543,
          283476,
          280562,
          116053,
          266243,
          148661,
          149646,
          306039,
          284895,
          616537,
          452856,
          576932,
          128726,
          243309,
          206685,
          126175,
          788338,
          108578,
          152603,
          367648,
          333649,
          628646,
          205192,
          354718,
          746654,
          238800,
          287459,
          326666,
          484741,
          1034305,
          363572,
          1221513,
          247550,
          142135,
          282317,
          103828,
          218286,
          232614,
          250610,
          167871,
          105631,
          367648,
          152701,
          233338,
          495881,
          1278525,
          2495359,
          147297,
          216553,
          202983,
          585242,
          544547,
          810678,
          429755,
          1656148,
          732440,
          2169658,
          321384,
          571125,
          528192,
          332935,
          193752,
          404165,
          186753,
          546480,
          568499,
          115926,
          259256,
          350445,
          313864,
          333812,
          195939,
          236728,
          132282,
          219794,
          592137,
          196034,
          848281,
          1395221,
          268803,
          199234,
          744702,
          205674,
          107134,
          207510,
          206688,
          100341,
          131704,
          403851,
          184028,
          512957,
          525048,
          107259,
          289686,
          124771,
          108119,
          569469,
          151961,
          269483,
          1429558,
          722014,
          481151,
          131431,
          281735,
          585242,
          472583,
          337112,
          131197,
          328482,
          360910,
          371013,
          125861,
          143488,
          334236,
          162776,
          148304,
          178981,
          118988,
          158036,
          222529,
          255666,
          168564,
          138757,
          600712,
          145997,
          235973,
          560771,
          205857,
          159445,
          514445,
          227330,
          493967,
          214624,
          1152845,
          105357,
          141588,
          274056,
          211394,
          198130,
          154172,
          471327,
          478002,
          219102,
          428030,
          342827,
          105817,
          159140,
          644389,
          183919,
          105355,
          457264,
          644467,
          310327,
          122246,
          426337,
          236900,
          114762,
          123025,
          249848,
          489935,
          360749,
          153034,
          187468,
          712991,
          379091,
          294421,
          186384,
          519278,
          302401,
          110420,
          177161,
          251078,
          207496,
          106917,
          108183,
          328530,
          265750,
          220982,
          1545057,
          294028,
          192671,
          151852,
          205089,
          181638,
          111326,
          384071,
          267814,
          138272,
          652328,
          472544,
          230222,
          425537,
          551640,
          185997,
          280028,
          118510,
          189482,
          119845,
          200039,
          575916,
          214385,
          302515,
          576031,
          646164,
          217275,
          690195,
          100522,
          229911,
          384486,
          162368,
          319364,
          100815,
          1548837,
          647266,
          144021,
          607044,
          353382,
          898141,
          435725,
          113626,
          124829,
          102313,
          368671,
          247387,
          115234,
          141390,
          294425,
          465606,
          100426,
          505138,
          116386,
          421554,
          1792746,
          100950,
          251970,
          110896,
          252109,
          367428,
          115808,
          545497,
          304461,
          202822,
          160288,
          185018,
          160198,
          470536,
          133521,
          101899,
          194791,
          206665,
          951362,
          689535,
          403851,
          499224,
          476878,
          164506,
          251858,
          209708,
          137689,
          1376722,
          409632,
          156100,
          654805,
          177038,
          801817,
          152932,
          226980,
          134547,
          152566,
          275050,
          130963,
          653445,
          241575,
          238588,
          181462,
          283914,
          248482,
          278897,
          852099,
          259116,
          504349,
          187530,
          201934,
          173084,
          200512,
          180390,
          197614,
          426880,
          909887,
          102276,
          583619,
          690195,
          268944,
          200535,
          123128,
          133100,
          604996,
          302266,
          109871,
          319591,
          247363,
          127614,
          180205,
          203276,
          516614,
          111187,
          128724,
          123776,
          198318,
          139607,
          191999,
          468383,
          227741,
          319458,
          253320,
          146641,
          514482,
          312605,
          313195,
          286933,
          129108,
          150464,
          228560,
          150598,
          177415,
          148343,
          234954,
          619160,
          134377,
          134726,
          110008,
          281950,
          213189,
          133910,
          145115,
          115637,
          179227,
          494006,
          194544,
          214234,
          134647,
          103828,
          145378,
          381418,
          176861,
          121249,
          116756,
          168774,
          744024,
          231509,
          130207,
          280828,
          376930,
          125212,
          182219,
          421078,
          267775,
          314807,
          423364,
          721321,
          122467,
          154589,
          156035,
          157446,
          129777,
          362577,
          148393,
          121456,
          189636,
          113026,
          134602,
          117728,
          120537,
          372852,
          105845,
          282854,
          894265,
          312886,
          161665,
          539123,
          107553,
          154738,
          562639,
          720505,
          193738,
          126281,
          288641,
          138752,
          514482,
          1061161,
          175934,
          206918,
          292482,
          201323,
          360985,
          260863,
          166291,
          409464,
          639041,
          375586,
          134567,
          115476,
          799163,
          254015,
          102429,
          115417,
          206092,
          161665,
          381747,
          291317,
          576948,
          159552,
          242406,
          261720,
          331105,
          177985,
          193100,
          134351,
          146587,
          161407,
          128035,
          435650,
          175934,
          131904,
          312523,
          245317,
          109662,
          305446,
          326180,
          284938,
          360768,
          225693,
          168310,
          234409,
          281490,
          141813,
          489960,
          146951,
          110037,
          909149,
          626154,
          418988,
          349988,
          371326,
          124856,
          115905,
          112282,
          459045,
          196574,
          134552,
          161860,
          2829797,
          263504,
          185609,
          141022,
          205808,
          117774,
          175934,
          1756620,
          660507,
          859295,
          161665,
          120289,
          369234,
          325943,
          165841,
          172360,
          271747,
          244233,
          216775,
          669821,
          186314,
          186317,
          167165,
          339329,
          189574,
          129917,
          197616,
          125249,
          131202,
          253422,
          356897,
          194066,
          207029,
          137805,
          134991,
          144719,
          576880,
          161096,
          342019,
          100729,
          175934,
          240821,
          749296,
          196574,
          123972,
          560621,
          693095,
          106428,
          168452,
          2011534,
          120031,
          144092,
          525329,
          159167,
          250098,
          148163,
          124338,
          105705,
          126048,
          573327,
          169250,
          101946,
          462224,
          414481,
          204116,
          142863,
          101032,
          236955,
          146667,
          227335,
          126888,
          431832,
          804331,
          345059,
          422414,
          271979,
          122226,
          112676,
          227848,
          178611,
          474485,
          112749,
          147132,
          120807,
          109170,
          491146,
          698214,
          203748,
          625639,
          213462,
          144979,
          225090,
          527885,
          263065,
          141796,
          129738,
          185822,
          489960,
          381482,
          155108,
          285044,
          113828,
          123157,
          143656,
          371847,
          1338735,
          462899,
          244905,
          348349,
          100298,
          142000,
          139267,
          187565,
          103828,
          928058,
          101946,
          117589,
          112257,
          178571,
          123261,
          706483,
          132973,
          262247,
          103153,
          381380,
          255666,
          898179,
          211010,
          183412,
          255703,
          116560,
          313919,
          132839,
          203828,
          156299,
          1048375,
          262233,
          437375,
          1229933,
          293411,
          159470,
          1937639,
          119050,
          327732,
          602638,
          152405,
          266508,
          252928,
          1421976,
          240541,
          144255,
          394832,
          168462,
          122629,
          123744,
          378120,
          375037,
          107581,
          403980,
          290282,
          104041,
          294098,
          197006,
          176254,
          276248,
          262969,
          101056,
          195116,
          105141,
          151855,
          138276,
          241847,
          101090,
          489960,
          386034,
          168873,
          241900,
          552192,
          298623,
          129396,
          246727,
          145970,
          396696,
          298153,
          117591,
          203182,
          1466365,
          160403,
          158395,
          138286,
          583178,
          147286,
          162784,
          208214,
          233908,
          260317,
          245420,
          401514,
          128859,
          259262,
          106000,
          100843,
          625639,
          105121,
          105121,
          142229,
          101359,
          101681,
          240541,
          516614,
          147760,
          111042,
          124268,
          153229,
          102870,
          128156,
          305996,
          249643,
          225380,
          294589,
          164554,
          293141,
          139000,
          263155,
          101996,
          486680,
          366263,
          274349,
          465716,
          182116,
          174839,
          308524,
          240109,
          1053019,
          105121,
          208035,
          189759,
          442759,
          115060,
          272373,
          625263,
          201621,
          218130,
          1162976,
          132659,
          231768,
          496856,
          106969,
          272513,
          175810,
          101968,
          139998,
          206092,
          148509,
          106337,
          676511,
          398791,
          200316,
          267037,
          137389,
          162041,
          249855,
          151855,
          175753,
          493781,
          176226,
          332392,
          418988,
          110830,
          247020,
          120581,
          513536,
          127645,
          112394,
          117883,
          1937639,
          854120,
          156608,
          346697,
          240521,
          113096,
          326964,
          140550,
          196098,
          110213,
          230876,
          141391,
          312642,
          120119,
          219096,
          132191,
          214831,
          162265,
          307201,
          216759,
          168265,
          729852,
          278623,
          712486,
          138482,
          172389,
          303414,
          379189,
          153076,
          560621,
          113284,
          144916,
          166299,
          212899,
          1535436,
          535877,
          231768,
          263709,
          353227,
          125212,
          1163909,
          107385,
          632784,
          179289,
          138752,
          454272,
          142000,
          152807,
          104443,
          521721,
          371195,
          277410,
          263846,
          574897,
          142528,
          215471,
          251150,
          100522,
          138849,
          454263,
          1106602,
          282319,
          606793,
          113779,
          444196,
          244439,
          590306,
          813793,
          142229,
          121610,
          133679,
          115026,
          100942,
          176560,
          143861,
          210586,
          442985,
          384270,
          360768,
          219971,
          324632,
          161665,
          411071,
          137887,
          1053019,
          1162976,
          190790,
          428543,
          106287,
          373903,
          110905,
          210510,
          210685,
          364300,
          211765,
          101391,
          415492,
          125588,
          109800,
          171746,
          430507,
          1056596,
          151479,
          123249,
          282874,
          464770,
          1964467,
          648354,
          137467,
          233493,
          100395,
          110887,
          324877,
          1035583,
          274435,
          105121,
          109157,
          189117,
          177231,
          274136,
          104357,
          318822,
          116311,
          144955,
          444389,
          128501,
          110184,
          701114,
          244896,
          128997,
          890108,
          115127,
          1514073,
          474397,
          120807,
          127514,
          236746,
          174716,
          111809,
          125212,
          125212,
          125212,
          207345,
          730742,
          214782,
          133910,
          454272,
          153837,
          189963,
          347786,
          230903,
          229145,
          106236,
          260876,
          128494,
          154256,
          215056,
          250885,
          178976,
          238369,
          141678,
          288641,
          114655,
          136745,
          145297,
          472590,
          119368,
          119368,
          514482,
          207810,
          225693,
          244439,
          103081,
          300685,
          349672,
          308138,
          109946,
          303414,
          584589,
          542192,
          125271,
          103697,
          196814,
          108820,
          142625,
          169430,
          146068,
          146077,
          159747,
          1412084,
          114585,
          110680,
          209958,
          125212,
          211918,
          1514073,
          213108,
          218862,
          319425,
          255356,
          104289,
          110334,
          133910,
          171658,
          403980,
          328539,
          808295,
          186066,
          235980,
          104066,
          155249,
          354812,
          404858,
          343349,
          138276,
          174293,
          297553,
          120692,
          221218,
          1043534,
          853067,
          350579,
          350579,
          141377,
          112993,
          333673,
          100378,
          472600,
          1064534,
          190569,
          176228,
          170254,
          327736,
          479529,
          514482,
          165652,
          278639,
          1299496,
          349627,
          619107,
          813821,
          813821,
          168044,
          292739,
          298129,
          135410,
          156048,
          206921,
          382317,
          493969,
          196141,
          135907,
          360793,
          142625,
          142625,
          142625,
          188713,
          219976,
          159891,
          159742,
          159745,
          282636,
          282636,
          282636,
          282636,
          125218,
          166247,
          332116,
          468950,
          165032,
          225991,
          375046,
          971439,
          281589,
          783914,
          105127,
          110668,
          192068,
          189968,
          114243,
          128417,
          148366,
          382893,
          156948,
          154343,
          156947,
          244238,
          284754,
          102527,
          117050,
          249212,
          428268,
          194546,
          318304,
          184392,
          225096,
          151191,
          150892,
          158612,
          114943,
          129705,
          585608,
          198320,
          160634,
          185825,
          661591,
          110959,
          479529,
          247981,
          282858,
          202552,
          207815,
          235863,
          151858,
          325918,
          813821,
          813821,
          370800,
          813821,
          161407,
          135889,
          694055,
          179618,
          348334,
          144021,
          102280,
          298627,
          298627,
          298627,
          209118,
          206921,
          117977,
          270691,
          203827,
          869196,
          145073,
          147221,
          313206,
          249598,
          133486,
          131034,
          116458,
          197508,
          134261,
          210278,
          144960,
          419633,
          489987,
          116584,
          149695,
          173333,
          136554,
          177909,
          333834,
          250606,
          1128341,
          133945,
          134291,
          190911,
          348334,
          141290,
          212295,
          159801,
          429855,
          158784,
          104287,
          165827,
          103809,
          607066,
          243896,
          204116,
          313711,
          145705,
          228457,
          228457,
          143498,
          321411,
          174907,
          420885,
          1194988,
          221898,
          104529,
          110911,
          133913,
          1278598,
          214396,
          282335,
          109539,
          127268,
          123116,
          160634,
          258143,
          199320,
          277018,
          146646,
          511452,
          461292,
          100534,
          108360,
          194818,
          133999,
          245211,
          1656242,
          369852,
          274151,
          193521,
          126297,
          104588,
          380106,
          331548,
          147564,
          125982,
          122167,
          231353,
          225096,
          107776,
          129882,
          348423,
          100849,
          186314,
          186317,
          152327,
          184227,
          137059,
          159691,
          125237,
          750081,
          150886,
          102399,
          504612,
          168467,
          159656,
          139745,
          322873,
          165656,
          240012,
          103683,
          325729,
          136330,
          244449,
          106385,
          151860,
          126429,
          233339,
          137028,
          111856,
          370806,
          813847,
          813847,
          813847,
          813847,
          176909,
          162650,
          113155,
          254223,
          422425,
          173927,
          282342,
          569497,
          179620,
          867351,
          883325,
          283923,
          1937713,
          100840,
          134180,
          131205,
          173338,
          922511,
          119328,
          142531,
          1416169,
          164859,
          432091,
          616227,
          382668,
          109889,
          373897,
          106510,
          190537,
          242569,
          126429,
          846702,
          230329,
          428040,
          110835,
          118402,
          384277,
          196589,
          797067,
          350677,
          528213,
          248498,
          112732,
          324635,
          859314,
          288487,
          134377,
          134726,
          173338,
          560647,
          109580,
          184750,
          124789,
          419639,
          280331,
          224735,
          153638,
          1937713,
          210428,
          182245,
          444407,
          1937713,
          1747113,
          282525,
          105364,
          1514130,
          1128352,
          1747113,
          1535500,
          159742,
          159745,
          286941,
          493858,
          434382,
          434382,
          223888,
          126625,
          105553,
          266245,
          182145,
          163100,
          131713,
          350677,
          181297
         ]
        }
       ],
       "layout": {
        "template": {
         "data": {
          "bar": [
           {
            "error_x": {
             "color": "#2a3f5f"
            },
            "error_y": {
             "color": "#2a3f5f"
            },
            "marker": {
             "line": {
              "color": "#E5ECF6",
              "width": 0.5
             },
             "pattern": {
              "fillmode": "overlay",
              "size": 10,
              "solidity": 0.2
             }
            },
            "type": "bar"
           }
          ],
          "barpolar": [
           {
            "marker": {
             "line": {
              "color": "#E5ECF6",
              "width": 0.5
             },
             "pattern": {
              "fillmode": "overlay",
              "size": 10,
              "solidity": 0.2
             }
            },
            "type": "barpolar"
           }
          ],
          "carpet": [
           {
            "aaxis": {
             "endlinecolor": "#2a3f5f",
             "gridcolor": "white",
             "linecolor": "white",
             "minorgridcolor": "white",
             "startlinecolor": "#2a3f5f"
            },
            "baxis": {
             "endlinecolor": "#2a3f5f",
             "gridcolor": "white",
             "linecolor": "white",
             "minorgridcolor": "white",
             "startlinecolor": "#2a3f5f"
            },
            "type": "carpet"
           }
          ],
          "choropleth": [
           {
            "colorbar": {
             "outlinewidth": 0,
             "ticks": ""
            },
            "type": "choropleth"
           }
          ],
          "contour": [
           {
            "colorbar": {
             "outlinewidth": 0,
             "ticks": ""
            },
            "colorscale": [
             [
              0,
              "#0d0887"
             ],
             [
              0.1111111111111111,
              "#46039f"
             ],
             [
              0.2222222222222222,
              "#7201a8"
             ],
             [
              0.3333333333333333,
              "#9c179e"
             ],
             [
              0.4444444444444444,
              "#bd3786"
             ],
             [
              0.5555555555555556,
              "#d8576b"
             ],
             [
              0.6666666666666666,
              "#ed7953"
             ],
             [
              0.7777777777777778,
              "#fb9f3a"
             ],
             [
              0.8888888888888888,
              "#fdca26"
             ],
             [
              1,
              "#f0f921"
             ]
            ],
            "type": "contour"
           }
          ],
          "contourcarpet": [
           {
            "colorbar": {
             "outlinewidth": 0,
             "ticks": ""
            },
            "type": "contourcarpet"
           }
          ],
          "heatmap": [
           {
            "colorbar": {
             "outlinewidth": 0,
             "ticks": ""
            },
            "colorscale": [
             [
              0,
              "#0d0887"
             ],
             [
              0.1111111111111111,
              "#46039f"
             ],
             [
              0.2222222222222222,
              "#7201a8"
             ],
             [
              0.3333333333333333,
              "#9c179e"
             ],
             [
              0.4444444444444444,
              "#bd3786"
             ],
             [
              0.5555555555555556,
              "#d8576b"
             ],
             [
              0.6666666666666666,
              "#ed7953"
             ],
             [
              0.7777777777777778,
              "#fb9f3a"
             ],
             [
              0.8888888888888888,
              "#fdca26"
             ],
             [
              1,
              "#f0f921"
             ]
            ],
            "type": "heatmap"
           }
          ],
          "heatmapgl": [
           {
            "colorbar": {
             "outlinewidth": 0,
             "ticks": ""
            },
            "colorscale": [
             [
              0,
              "#0d0887"
             ],
             [
              0.1111111111111111,
              "#46039f"
             ],
             [
              0.2222222222222222,
              "#7201a8"
             ],
             [
              0.3333333333333333,
              "#9c179e"
             ],
             [
              0.4444444444444444,
              "#bd3786"
             ],
             [
              0.5555555555555556,
              "#d8576b"
             ],
             [
              0.6666666666666666,
              "#ed7953"
             ],
             [
              0.7777777777777778,
              "#fb9f3a"
             ],
             [
              0.8888888888888888,
              "#fdca26"
             ],
             [
              1,
              "#f0f921"
             ]
            ],
            "type": "heatmapgl"
           }
          ],
          "histogram": [
           {
            "marker": {
             "pattern": {
              "fillmode": "overlay",
              "size": 10,
              "solidity": 0.2
             }
            },
            "type": "histogram"
           }
          ],
          "histogram2d": [
           {
            "colorbar": {
             "outlinewidth": 0,
             "ticks": ""
            },
            "colorscale": [
             [
              0,
              "#0d0887"
             ],
             [
              0.1111111111111111,
              "#46039f"
             ],
             [
              0.2222222222222222,
              "#7201a8"
             ],
             [
              0.3333333333333333,
              "#9c179e"
             ],
             [
              0.4444444444444444,
              "#bd3786"
             ],
             [
              0.5555555555555556,
              "#d8576b"
             ],
             [
              0.6666666666666666,
              "#ed7953"
             ],
             [
              0.7777777777777778,
              "#fb9f3a"
             ],
             [
              0.8888888888888888,
              "#fdca26"
             ],
             [
              1,
              "#f0f921"
             ]
            ],
            "type": "histogram2d"
           }
          ],
          "histogram2dcontour": [
           {
            "colorbar": {
             "outlinewidth": 0,
             "ticks": ""
            },
            "colorscale": [
             [
              0,
              "#0d0887"
             ],
             [
              0.1111111111111111,
              "#46039f"
             ],
             [
              0.2222222222222222,
              "#7201a8"
             ],
             [
              0.3333333333333333,
              "#9c179e"
             ],
             [
              0.4444444444444444,
              "#bd3786"
             ],
             [
              0.5555555555555556,
              "#d8576b"
             ],
             [
              0.6666666666666666,
              "#ed7953"
             ],
             [
              0.7777777777777778,
              "#fb9f3a"
             ],
             [
              0.8888888888888888,
              "#fdca26"
             ],
             [
              1,
              "#f0f921"
             ]
            ],
            "type": "histogram2dcontour"
           }
          ],
          "mesh3d": [
           {
            "colorbar": {
             "outlinewidth": 0,
             "ticks": ""
            },
            "type": "mesh3d"
           }
          ],
          "parcoords": [
           {
            "line": {
             "colorbar": {
              "outlinewidth": 0,
              "ticks": ""
             }
            },
            "type": "parcoords"
           }
          ],
          "pie": [
           {
            "automargin": true,
            "type": "pie"
           }
          ],
          "scatter": [
           {
            "fillpattern": {
             "fillmode": "overlay",
             "size": 10,
             "solidity": 0.2
            },
            "type": "scatter"
           }
          ],
          "scatter3d": [
           {
            "line": {
             "colorbar": {
              "outlinewidth": 0,
              "ticks": ""
             }
            },
            "marker": {
             "colorbar": {
              "outlinewidth": 0,
              "ticks": ""
             }
            },
            "type": "scatter3d"
           }
          ],
          "scattercarpet": [
           {
            "marker": {
             "colorbar": {
              "outlinewidth": 0,
              "ticks": ""
             }
            },
            "type": "scattercarpet"
           }
          ],
          "scattergeo": [
           {
            "marker": {
             "colorbar": {
              "outlinewidth": 0,
              "ticks": ""
             }
            },
            "type": "scattergeo"
           }
          ],
          "scattergl": [
           {
            "marker": {
             "colorbar": {
              "outlinewidth": 0,
              "ticks": ""
             }
            },
            "type": "scattergl"
           }
          ],
          "scattermapbox": [
           {
            "marker": {
             "colorbar": {
              "outlinewidth": 0,
              "ticks": ""
             }
            },
            "type": "scattermapbox"
           }
          ],
          "scatterpolar": [
           {
            "marker": {
             "colorbar": {
              "outlinewidth": 0,
              "ticks": ""
             }
            },
            "type": "scatterpolar"
           }
          ],
          "scatterpolargl": [
           {
            "marker": {
             "colorbar": {
              "outlinewidth": 0,
              "ticks": ""
             }
            },
            "type": "scatterpolargl"
           }
          ],
          "scatterternary": [
           {
            "marker": {
             "colorbar": {
              "outlinewidth": 0,
              "ticks": ""
             }
            },
            "type": "scatterternary"
           }
          ],
          "surface": [
           {
            "colorbar": {
             "outlinewidth": 0,
             "ticks": ""
            },
            "colorscale": [
             [
              0,
              "#0d0887"
             ],
             [
              0.1111111111111111,
              "#46039f"
             ],
             [
              0.2222222222222222,
              "#7201a8"
             ],
             [
              0.3333333333333333,
              "#9c179e"
             ],
             [
              0.4444444444444444,
              "#bd3786"
             ],
             [
              0.5555555555555556,
              "#d8576b"
             ],
             [
              0.6666666666666666,
              "#ed7953"
             ],
             [
              0.7777777777777778,
              "#fb9f3a"
             ],
             [
              0.8888888888888888,
              "#fdca26"
             ],
             [
              1,
              "#f0f921"
             ]
            ],
            "type": "surface"
           }
          ],
          "table": [
           {
            "cells": {
             "fill": {
              "color": "#EBF0F8"
             },
             "line": {
              "color": "white"
             }
            },
            "header": {
             "fill": {
              "color": "#C8D4E3"
             },
             "line": {
              "color": "white"
             }
            },
            "type": "table"
           }
          ]
         },
         "layout": {
          "annotationdefaults": {
           "arrowcolor": "#2a3f5f",
           "arrowhead": 0,
           "arrowwidth": 1
          },
          "autotypenumbers": "strict",
          "coloraxis": {
           "colorbar": {
            "outlinewidth": 0,
            "ticks": ""
           }
          },
          "colorscale": {
           "diverging": [
            [
             0,
             "#8e0152"
            ],
            [
             0.1,
             "#c51b7d"
            ],
            [
             0.2,
             "#de77ae"
            ],
            [
             0.3,
             "#f1b6da"
            ],
            [
             0.4,
             "#fde0ef"
            ],
            [
             0.5,
             "#f7f7f7"
            ],
            [
             0.6,
             "#e6f5d0"
            ],
            [
             0.7,
             "#b8e186"
            ],
            [
             0.8,
             "#7fbc41"
            ],
            [
             0.9,
             "#4d9221"
            ],
            [
             1,
             "#276419"
            ]
           ],
           "sequential": [
            [
             0,
             "#0d0887"
            ],
            [
             0.1111111111111111,
             "#46039f"
            ],
            [
             0.2222222222222222,
             "#7201a8"
            ],
            [
             0.3333333333333333,
             "#9c179e"
            ],
            [
             0.4444444444444444,
             "#bd3786"
            ],
            [
             0.5555555555555556,
             "#d8576b"
            ],
            [
             0.6666666666666666,
             "#ed7953"
            ],
            [
             0.7777777777777778,
             "#fb9f3a"
            ],
            [
             0.8888888888888888,
             "#fdca26"
            ],
            [
             1,
             "#f0f921"
            ]
           ],
           "sequentialminus": [
            [
             0,
             "#0d0887"
            ],
            [
             0.1111111111111111,
             "#46039f"
            ],
            [
             0.2222222222222222,
             "#7201a8"
            ],
            [
             0.3333333333333333,
             "#9c179e"
            ],
            [
             0.4444444444444444,
             "#bd3786"
            ],
            [
             0.5555555555555556,
             "#d8576b"
            ],
            [
             0.6666666666666666,
             "#ed7953"
            ],
            [
             0.7777777777777778,
             "#fb9f3a"
            ],
            [
             0.8888888888888888,
             "#fdca26"
            ],
            [
             1,
             "#f0f921"
            ]
           ]
          },
          "colorway": [
           "#636efa",
           "#EF553B",
           "#00cc96",
           "#ab63fa",
           "#FFA15A",
           "#19d3f3",
           "#FF6692",
           "#B6E880",
           "#FF97FF",
           "#FECB52"
          ],
          "font": {
           "color": "#2a3f5f"
          },
          "geo": {
           "bgcolor": "white",
           "lakecolor": "white",
           "landcolor": "#E5ECF6",
           "showlakes": true,
           "showland": true,
           "subunitcolor": "white"
          },
          "hoverlabel": {
           "align": "left"
          },
          "hovermode": "closest",
          "mapbox": {
           "style": "light"
          },
          "paper_bgcolor": "white",
          "plot_bgcolor": "#E5ECF6",
          "polar": {
           "angularaxis": {
            "gridcolor": "white",
            "linecolor": "white",
            "ticks": ""
           },
           "bgcolor": "#E5ECF6",
           "radialaxis": {
            "gridcolor": "white",
            "linecolor": "white",
            "ticks": ""
           }
          },
          "scene": {
           "xaxis": {
            "backgroundcolor": "#E5ECF6",
            "gridcolor": "white",
            "gridwidth": 2,
            "linecolor": "white",
            "showbackground": true,
            "ticks": "",
            "zerolinecolor": "white"
           },
           "yaxis": {
            "backgroundcolor": "#E5ECF6",
            "gridcolor": "white",
            "gridwidth": 2,
            "linecolor": "white",
            "showbackground": true,
            "ticks": "",
            "zerolinecolor": "white"
           },
           "zaxis": {
            "backgroundcolor": "#E5ECF6",
            "gridcolor": "white",
            "gridwidth": 2,
            "linecolor": "white",
            "showbackground": true,
            "ticks": "",
            "zerolinecolor": "white"
           }
          },
          "shapedefaults": {
           "line": {
            "color": "#2a3f5f"
           }
          },
          "ternary": {
           "aaxis": {
            "gridcolor": "white",
            "linecolor": "white",
            "ticks": ""
           },
           "baxis": {
            "gridcolor": "white",
            "linecolor": "white",
            "ticks": ""
           },
           "bgcolor": "#E5ECF6",
           "caxis": {
            "gridcolor": "white",
            "linecolor": "white",
            "ticks": ""
           }
          },
          "title": {
           "x": 0.05
          },
          "xaxis": {
           "automargin": true,
           "gridcolor": "white",
           "linecolor": "white",
           "ticks": "",
           "title": {
            "standoff": 15
           },
           "zerolinecolor": "white",
           "zerolinewidth": 2
          },
          "yaxis": {
           "automargin": true,
           "gridcolor": "white",
           "linecolor": "white",
           "ticks": "",
           "title": {
            "standoff": 15
           },
           "zerolinecolor": "white",
           "zerolinewidth": 2
          }
         }
        },
        "title": {
         "text": "Distribution Of 1567 Netflix-Ratings"
        },
        "yaxis": {
         "title": {
          "text": "Rating"
         }
        }
       }
      },
      "text/html": [
       "<div>                            <div id=\"6818e15d-cfcf-4c0d-9c1a-972f7b43de83\" class=\"plotly-graph-div\" style=\"height:525px; width:100%;\"></div>            <script type=\"text/javascript\">                require([\"plotly\"], function(Plotly) {                    window.PLOTLYENV=window.PLOTLYENV || {};                                    if (document.getElementById(\"6818e15d-cfcf-4c0d-9c1a-972f7b43de83\")) {                    Plotly.newPlot(                        \"6818e15d-cfcf-4c0d-9c1a-972f7b43de83\",                        [{\"marker\":{\"color\":\"#db0000\"},\"name\":\"Number of Ratings Distribution\",\"y\":[136009.0,111361.0,112694.0,119246.0,419661.0,1058121.0,118352.0,426880.0,111361.0,163191.0,255235.0,620143.0,186094.0,137978.0,1058121.0,308125.0,139444.0,274154.0,148405.0,109736.0,1058121.0,836899.0,143473.0,1058121.0,228037.0,1058121.0,620143.0,1058121.0,250532.0,718336.0,494480.0,188186.0,349385.0,515709.0,620143.0,157640.0,159287.0,620143.0,349385.0,620143.0,980208.0,349385.0,195540.0,192274.0,620143.0,222690.0,122784.0,269006.0,263468.0,275240.0,171650.0,397206.0,670175.0,783580.0,325594.0,186721.0,263249.0,112135.0,125855.0,254006.0,515709.0,223834.0,681715.0,160187.0,420510.0,423507.0,706073.0,109253.0,828927.0,179564.0,427464.0,836899.0,157377.0,178295.0,183129.0,369699.0,191507.0,213756.0,260617.0,120031.0,643784.0,142003.0,245741.0,750022.0,459037.0,139042.0,579566.0,200867.0,267867.0,249848.0,311697.0,287661.0,163339.0,165767.0,676484.0,120310.0,331533.0,391585.0,326451.0,428548.0,440854.0,128770.0,705750.0,167557.0,144237.0,157377.0,174907.0,581839.0,360749.0,118768.0,165614.0,106277.0,163339.0,171511.0,112253.0,2204968.0,539887.0,182431.0,376532.0,675536.0,208032.0,666269.0,489935.0,199604.0,254006.0,141873.0,255472.0,412431.0,135183.0,123851.0,267868.0,129696.0,356889.0,125855.0,498155.0,266243.0,2811102.0,392649.0,163339.0,525673.0,148944.0,312696.0,581665.0,163339.0,1045354.0,143928.0,266243.0,259478.0,163339.0,218286.0,783643.0,432369.0,207650.0,212776.0,198520.0,136132.0,116613.0,184222.0,619058.0,143611.0,588472.0,281223.0,1064497.0,143233.0,862320.0,625692.0,823055.0,252109.0,282499.0,175808.0,1972305.0,131278.0,266243.0,1964393.0,157377.0,168824.0,452839.0,531597.0,666843.0,186203.0,103903.0,233473.0,489935.0,412872.0,581839.0,581839.0,403899.0,205356.0,585242.0,2024366.0,521314.0,445999.0,1582672.0,296199.0,116924.0,199154.0,239241.0,489935.0,213801.0,171280.0,581839.0,110555.0,1514027.0,673246.0,722275.0,407362.0,261142.0,155622.0,581839.0,242775.0,262505.0,174907.0,131152.0,189109.0,112757.0,377257.0,146068.0,146077.0,139711.0,371223.0,896118.0,358698.0,645026.0,202617.0,148509.0,120966.0,410487.0,928033.0,174939.0,218286.0,703772.0,251041.0,257138.0,504565.0,173302.0,197493.0,690362.0,255213.0,636399.0,103828.0,173919.0,249229.0,294740.0,125861.0,174907.0,210400.0,437689.0,145036.0,106006.0,1937552.0,289423.0,275246.0,253553.0,360749.0,273409.0,848281.0,417214.0,336544.0,548521.0,174907.0,238585.0,117493.0,275158.0,185407.0,609848.0,693390.0,576932.0,111209.0,695078.0,261703.0,1416039.0,163343.0,646164.0,115553.0,170761.0,108447.0,127756.0,813752.0,118593.0,308906.0,313692.0,514445.0,241156.0,171869.0,142184.0,237723.0,536566.0,157467.0,176065.0,254465.0,110475.0,321528.0,134410.0,352854.0,150955.0,287033.0,152148.0,342827.0,241180.0,103828.0,202546.0,205096.0,169895.0,193157.0,576932.0,122890.0,193543.0,283476.0,280562.0,116053.0,266243.0,148661.0,149646.0,306039.0,284895.0,616537.0,452856.0,576932.0,128726.0,243309.0,206685.0,126175.0,788338.0,108578.0,152603.0,367648.0,333649.0,628646.0,205192.0,354718.0,746654.0,238800.0,287459.0,326666.0,484741.0,1034305.0,363572.0,1221513.0,247550.0,142135.0,282317.0,103828.0,218286.0,232614.0,250610.0,167871.0,105631.0,367648.0,152701.0,233338.0,495881.0,1278525.0,2495359.0,147297.0,216553.0,202983.0,585242.0,544547.0,810678.0,429755.0,1656148.0,732440.0,2169658.0,321384.0,571125.0,528192.0,332935.0,193752.0,404165.0,186753.0,546480.0,568499.0,115926.0,259256.0,350445.0,313864.0,333812.0,195939.0,236728.0,132282.0,219794.0,592137.0,196034.0,848281.0,1395221.0,268803.0,199234.0,744702.0,205674.0,107134.0,207510.0,206688.0,100341.0,131704.0,403851.0,184028.0,512957.0,525048.0,107259.0,289686.0,124771.0,108119.0,569469.0,151961.0,269483.0,1429558.0,722014.0,481151.0,131431.0,281735.0,585242.0,472583.0,337112.0,131197.0,328482.0,360910.0,371013.0,125861.0,143488.0,334236.0,162776.0,148304.0,178981.0,118988.0,158036.0,222529.0,255666.0,168564.0,138757.0,600712.0,145997.0,235973.0,560771.0,205857.0,159445.0,514445.0,227330.0,493967.0,214624.0,1152845.0,105357.0,141588.0,274056.0,211394.0,198130.0,154172.0,471327.0,478002.0,219102.0,428030.0,342827.0,105817.0,159140.0,644389.0,183919.0,105355.0,457264.0,644467.0,310327.0,122246.0,426337.0,236900.0,114762.0,123025.0,249848.0,489935.0,360749.0,153034.0,187468.0,712991.0,379091.0,294421.0,186384.0,519278.0,302401.0,110420.0,177161.0,251078.0,207496.0,106917.0,108183.0,328530.0,265750.0,220982.0,1545057.0,294028.0,192671.0,151852.0,205089.0,181638.0,111326.0,384071.0,267814.0,138272.0,652328.0,472544.0,230222.0,425537.0,551640.0,185997.0,280028.0,118510.0,189482.0,119845.0,200039.0,575916.0,214385.0,302515.0,576031.0,646164.0,217275.0,690195.0,100522.0,229911.0,384486.0,162368.0,319364.0,100815.0,1548837.0,647266.0,144021.0,607044.0,353382.0,898141.0,435725.0,113626.0,124829.0,102313.0,368671.0,247387.0,115234.0,141390.0,294425.0,465606.0,100426.0,505138.0,116386.0,421554.0,1792746.0,100950.0,251970.0,110896.0,252109.0,367428.0,115808.0,545497.0,304461.0,202822.0,160288.0,185018.0,160198.0,470536.0,133521.0,101899.0,194791.0,206665.0,951362.0,689535.0,403851.0,499224.0,476878.0,164506.0,251858.0,209708.0,137689.0,1376722.0,409632.0,156100.0,654805.0,177038.0,801817.0,152932.0,226980.0,134547.0,152566.0,275050.0,130963.0,653445.0,241575.0,238588.0,181462.0,283914.0,248482.0,278897.0,852099.0,259116.0,504349.0,187530.0,201934.0,173084.0,200512.0,180390.0,197614.0,426880.0,909887.0,102276.0,583619.0,690195.0,268944.0,200535.0,123128.0,133100.0,604996.0,302266.0,109871.0,319591.0,247363.0,127614.0,180205.0,203276.0,516614.0,111187.0,128724.0,123776.0,198318.0,139607.0,191999.0,468383.0,227741.0,319458.0,253320.0,146641.0,514482.0,312605.0,313195.0,286933.0,129108.0,150464.0,228560.0,150598.0,177415.0,148343.0,234954.0,619160.0,134377.0,134726.0,110008.0,281950.0,213189.0,133910.0,145115.0,115637.0,179227.0,494006.0,194544.0,214234.0,134647.0,103828.0,145378.0,381418.0,176861.0,121249.0,116756.0,168774.0,744024.0,231509.0,130207.0,280828.0,376930.0,125212.0,182219.0,421078.0,267775.0,314807.0,423364.0,721321.0,122467.0,154589.0,156035.0,157446.0,129777.0,362577.0,148393.0,121456.0,189636.0,113026.0,134602.0,117728.0,120537.0,372852.0,105845.0,282854.0,894265.0,312886.0,161665.0,539123.0,107553.0,154738.0,562639.0,720505.0,193738.0,126281.0,288641.0,138752.0,514482.0,1061161.0,175934.0,206918.0,292482.0,201323.0,360985.0,260863.0,166291.0,409464.0,639041.0,375586.0,134567.0,115476.0,799163.0,254015.0,102429.0,115417.0,206092.0,161665.0,381747.0,291317.0,576948.0,159552.0,242406.0,261720.0,331105.0,177985.0,193100.0,134351.0,146587.0,161407.0,128035.0,435650.0,175934.0,131904.0,312523.0,245317.0,109662.0,305446.0,326180.0,284938.0,360768.0,225693.0,168310.0,234409.0,281490.0,141813.0,489960.0,146951.0,110037.0,909149.0,626154.0,418988.0,349988.0,371326.0,124856.0,115905.0,112282.0,459045.0,196574.0,134552.0,161860.0,2829797.0,263504.0,185609.0,141022.0,205808.0,117774.0,175934.0,1756620.0,660507.0,859295.0,161665.0,120289.0,369234.0,325943.0,165841.0,172360.0,271747.0,244233.0,216775.0,669821.0,186314.0,186317.0,167165.0,339329.0,189574.0,129917.0,197616.0,125249.0,131202.0,253422.0,356897.0,194066.0,207029.0,137805.0,134991.0,144719.0,576880.0,161096.0,342019.0,100729.0,175934.0,240821.0,749296.0,196574.0,123972.0,560621.0,693095.0,106428.0,168452.0,2011534.0,120031.0,144092.0,525329.0,159167.0,250098.0,148163.0,124338.0,105705.0,126048.0,573327.0,169250.0,101946.0,462224.0,414481.0,204116.0,142863.0,101032.0,236955.0,146667.0,227335.0,126888.0,431832.0,804331.0,345059.0,422414.0,271979.0,122226.0,112676.0,227848.0,178611.0,474485.0,112749.0,147132.0,120807.0,109170.0,491146.0,698214.0,203748.0,625639.0,213462.0,144979.0,225090.0,527885.0,263065.0,141796.0,129738.0,185822.0,489960.0,381482.0,155108.0,285044.0,113828.0,123157.0,143656.0,371847.0,1338735.0,462899.0,244905.0,348349.0,100298.0,142000.0,139267.0,187565.0,103828.0,928058.0,101946.0,117589.0,112257.0,178571.0,123261.0,706483.0,132973.0,262247.0,103153.0,381380.0,255666.0,898179.0,211010.0,183412.0,255703.0,116560.0,313919.0,132839.0,203828.0,156299.0,1048375.0,262233.0,437375.0,1229933.0,293411.0,159470.0,1937639.0,119050.0,327732.0,602638.0,152405.0,266508.0,252928.0,1421976.0,240541.0,144255.0,394832.0,168462.0,122629.0,123744.0,378120.0,375037.0,107581.0,403980.0,290282.0,104041.0,294098.0,197006.0,176254.0,276248.0,262969.0,101056.0,195116.0,105141.0,151855.0,138276.0,241847.0,101090.0,489960.0,386034.0,168873.0,241900.0,552192.0,298623.0,129396.0,246727.0,145970.0,396696.0,298153.0,117591.0,203182.0,1466365.0,160403.0,158395.0,138286.0,583178.0,147286.0,162784.0,208214.0,233908.0,260317.0,245420.0,401514.0,128859.0,259262.0,106000.0,100843.0,625639.0,105121.0,105121.0,142229.0,101359.0,101681.0,240541.0,516614.0,147760.0,111042.0,124268.0,153229.0,102870.0,128156.0,305996.0,249643.0,225380.0,294589.0,164554.0,293141.0,139000.0,263155.0,101996.0,486680.0,366263.0,274349.0,465716.0,182116.0,174839.0,308524.0,240109.0,1053019.0,105121.0,208035.0,189759.0,442759.0,115060.0,272373.0,625263.0,201621.0,218130.0,1162976.0,132659.0,231768.0,496856.0,106969.0,272513.0,175810.0,101968.0,139998.0,206092.0,148509.0,106337.0,676511.0,398791.0,200316.0,267037.0,137389.0,162041.0,249855.0,151855.0,175753.0,493781.0,176226.0,332392.0,418988.0,110830.0,247020.0,120581.0,513536.0,127645.0,112394.0,117883.0,1937639.0,854120.0,156608.0,346697.0,240521.0,113096.0,326964.0,140550.0,196098.0,110213.0,230876.0,141391.0,312642.0,120119.0,219096.0,132191.0,214831.0,162265.0,307201.0,216759.0,168265.0,729852.0,278623.0,712486.0,138482.0,172389.0,303414.0,379189.0,153076.0,560621.0,113284.0,144916.0,166299.0,212899.0,1535436.0,535877.0,231768.0,263709.0,353227.0,125212.0,1163909.0,107385.0,632784.0,179289.0,138752.0,454272.0,142000.0,152807.0,104443.0,521721.0,371195.0,277410.0,263846.0,574897.0,142528.0,215471.0,251150.0,100522.0,138849.0,454263.0,1106602.0,282319.0,606793.0,113779.0,444196.0,244439.0,590306.0,813793.0,142229.0,121610.0,133679.0,115026.0,100942.0,176560.0,143861.0,210586.0,442985.0,384270.0,360768.0,219971.0,324632.0,161665.0,411071.0,137887.0,1053019.0,1162976.0,190790.0,428543.0,106287.0,373903.0,110905.0,210510.0,210685.0,364300.0,211765.0,101391.0,415492.0,125588.0,109800.0,171746.0,430507.0,1056596.0,151479.0,123249.0,282874.0,464770.0,1964467.0,648354.0,137467.0,233493.0,100395.0,110887.0,324877.0,1035583.0,274435.0,105121.0,109157.0,189117.0,177231.0,274136.0,104357.0,318822.0,116311.0,144955.0,444389.0,128501.0,110184.0,701114.0,244896.0,128997.0,890108.0,115127.0,1514073.0,474397.0,120807.0,127514.0,236746.0,174716.0,111809.0,125212.0,125212.0,125212.0,207345.0,730742.0,214782.0,133910.0,454272.0,153837.0,189963.0,347786.0,230903.0,229145.0,106236.0,260876.0,128494.0,154256.0,215056.0,250885.0,178976.0,238369.0,141678.0,288641.0,114655.0,136745.0,145297.0,472590.0,119368.0,119368.0,514482.0,207810.0,225693.0,244439.0,103081.0,300685.0,349672.0,308138.0,109946.0,303414.0,584589.0,542192.0,125271.0,103697.0,196814.0,108820.0,142625.0,169430.0,146068.0,146077.0,159747.0,1412084.0,114585.0,110680.0,209958.0,125212.0,211918.0,1514073.0,213108.0,218862.0,319425.0,255356.0,104289.0,110334.0,133910.0,171658.0,403980.0,328539.0,808295.0,186066.0,235980.0,104066.0,155249.0,354812.0,404858.0,343349.0,138276.0,174293.0,297553.0,120692.0,221218.0,1043534.0,853067.0,350579.0,350579.0,141377.0,112993.0,333673.0,100378.0,472600.0,1064534.0,190569.0,176228.0,170254.0,327736.0,479529.0,514482.0,165652.0,278639.0,1299496.0,349627.0,619107.0,813821.0,813821.0,168044.0,292739.0,298129.0,135410.0,156048.0,206921.0,382317.0,493969.0,196141.0,135907.0,360793.0,142625.0,142625.0,142625.0,188713.0,219976.0,159891.0,159742.0,159745.0,282636.0,282636.0,282636.0,282636.0,125218.0,166247.0,332116.0,468950.0,165032.0,225991.0,375046.0,971439.0,281589.0,783914.0,105127.0,110668.0,192068.0,189968.0,114243.0,128417.0,148366.0,382893.0,156948.0,154343.0,156947.0,244238.0,284754.0,102527.0,117050.0,249212.0,428268.0,194546.0,318304.0,184392.0,225096.0,151191.0,150892.0,158612.0,114943.0,129705.0,585608.0,198320.0,160634.0,185825.0,661591.0,110959.0,479529.0,247981.0,282858.0,202552.0,207815.0,235863.0,151858.0,325918.0,813821.0,813821.0,370800.0,813821.0,161407.0,135889.0,694055.0,179618.0,348334.0,144021.0,102280.0,298627.0,298627.0,298627.0,209118.0,206921.0,117977.0,270691.0,203827.0,869196.0,145073.0,147221.0,313206.0,249598.0,133486.0,131034.0,116458.0,197508.0,134261.0,210278.0,144960.0,419633.0,489987.0,116584.0,149695.0,173333.0,136554.0,177909.0,333834.0,250606.0,1128341.0,133945.0,134291.0,190911.0,348334.0,141290.0,212295.0,159801.0,429855.0,158784.0,104287.0,165827.0,103809.0,607066.0,243896.0,204116.0,313711.0,145705.0,228457.0,228457.0,143498.0,321411.0,174907.0,420885.0,1194988.0,221898.0,104529.0,110911.0,133913.0,1278598.0,214396.0,282335.0,109539.0,127268.0,123116.0,160634.0,258143.0,199320.0,277018.0,146646.0,511452.0,461292.0,100534.0,108360.0,194818.0,133999.0,245211.0,1656242.0,369852.0,274151.0,193521.0,126297.0,104588.0,380106.0,331548.0,147564.0,125982.0,122167.0,231353.0,225096.0,107776.0,129882.0,348423.0,100849.0,186314.0,186317.0,152327.0,184227.0,137059.0,159691.0,125237.0,750081.0,150886.0,102399.0,504612.0,168467.0,159656.0,139745.0,322873.0,165656.0,240012.0,103683.0,325729.0,136330.0,244449.0,106385.0,151860.0,126429.0,233339.0,137028.0,111856.0,370806.0,813847.0,813847.0,813847.0,813847.0,176909.0,162650.0,113155.0,254223.0,422425.0,173927.0,282342.0,569497.0,179620.0,867351.0,883325.0,283923.0,1937713.0,100840.0,134180.0,131205.0,173338.0,922511.0,119328.0,142531.0,1416169.0,164859.0,432091.0,616227.0,382668.0,109889.0,373897.0,106510.0,190537.0,242569.0,126429.0,846702.0,230329.0,428040.0,110835.0,118402.0,384277.0,196589.0,797067.0,350677.0,528213.0,248498.0,112732.0,324635.0,859314.0,288487.0,134377.0,134726.0,173338.0,560647.0,109580.0,184750.0,124789.0,419639.0,280331.0,224735.0,153638.0,1937713.0,210428.0,182245.0,444407.0,1937713.0,1747113.0,282525.0,105364.0,1514130.0,1128352.0,1747113.0,1535500.0,159742.0,159745.0,286941.0,493858.0,434382.0,434382.0,223888.0,126625.0,105553.0,266245.0,182145.0,163100.0,131713.0,350677.0,181297.0],\"type\":\"box\"}],                        {\"title\":{\"text\":\"Distribution Of 1567 Netflix-Ratings\"},\"yaxis\":{\"title\":{\"text\":\"Rating\"}},\"template\":{\"data\":{\"histogram2dcontour\":[{\"type\":\"histogram2dcontour\",\"colorbar\":{\"outlinewidth\":0,\"ticks\":\"\"},\"colorscale\":[[0.0,\"#0d0887\"],[0.1111111111111111,\"#46039f\"],[0.2222222222222222,\"#7201a8\"],[0.3333333333333333,\"#9c179e\"],[0.4444444444444444,\"#bd3786\"],[0.5555555555555556,\"#d8576b\"],[0.6666666666666666,\"#ed7953\"],[0.7777777777777778,\"#fb9f3a\"],[0.8888888888888888,\"#fdca26\"],[1.0,\"#f0f921\"]]}],\"choropleth\":[{\"type\":\"choropleth\",\"colorbar\":{\"outlinewidth\":0,\"ticks\":\"\"}}],\"histogram2d\":[{\"type\":\"histogram2d\",\"colorbar\":{\"outlinewidth\":0,\"ticks\":\"\"},\"colorscale\":[[0.0,\"#0d0887\"],[0.1111111111111111,\"#46039f\"],[0.2222222222222222,\"#7201a8\"],[0.3333333333333333,\"#9c179e\"],[0.4444444444444444,\"#bd3786\"],[0.5555555555555556,\"#d8576b\"],[0.6666666666666666,\"#ed7953\"],[0.7777777777777778,\"#fb9f3a\"],[0.8888888888888888,\"#fdca26\"],[1.0,\"#f0f921\"]]}],\"heatmap\":[{\"type\":\"heatmap\",\"colorbar\":{\"outlinewidth\":0,\"ticks\":\"\"},\"colorscale\":[[0.0,\"#0d0887\"],[0.1111111111111111,\"#46039f\"],[0.2222222222222222,\"#7201a8\"],[0.3333333333333333,\"#9c179e\"],[0.4444444444444444,\"#bd3786\"],[0.5555555555555556,\"#d8576b\"],[0.6666666666666666,\"#ed7953\"],[0.7777777777777778,\"#fb9f3a\"],[0.8888888888888888,\"#fdca26\"],[1.0,\"#f0f921\"]]}],\"heatmapgl\":[{\"type\":\"heatmapgl\",\"colorbar\":{\"outlinewidth\":0,\"ticks\":\"\"},\"colorscale\":[[0.0,\"#0d0887\"],[0.1111111111111111,\"#46039f\"],[0.2222222222222222,\"#7201a8\"],[0.3333333333333333,\"#9c179e\"],[0.4444444444444444,\"#bd3786\"],[0.5555555555555556,\"#d8576b\"],[0.6666666666666666,\"#ed7953\"],[0.7777777777777778,\"#fb9f3a\"],[0.8888888888888888,\"#fdca26\"],[1.0,\"#f0f921\"]]}],\"contourcarpet\":[{\"type\":\"contourcarpet\",\"colorbar\":{\"outlinewidth\":0,\"ticks\":\"\"}}],\"contour\":[{\"type\":\"contour\",\"colorbar\":{\"outlinewidth\":0,\"ticks\":\"\"},\"colorscale\":[[0.0,\"#0d0887\"],[0.1111111111111111,\"#46039f\"],[0.2222222222222222,\"#7201a8\"],[0.3333333333333333,\"#9c179e\"],[0.4444444444444444,\"#bd3786\"],[0.5555555555555556,\"#d8576b\"],[0.6666666666666666,\"#ed7953\"],[0.7777777777777778,\"#fb9f3a\"],[0.8888888888888888,\"#fdca26\"],[1.0,\"#f0f921\"]]}],\"surface\":[{\"type\":\"surface\",\"colorbar\":{\"outlinewidth\":0,\"ticks\":\"\"},\"colorscale\":[[0.0,\"#0d0887\"],[0.1111111111111111,\"#46039f\"],[0.2222222222222222,\"#7201a8\"],[0.3333333333333333,\"#9c179e\"],[0.4444444444444444,\"#bd3786\"],[0.5555555555555556,\"#d8576b\"],[0.6666666666666666,\"#ed7953\"],[0.7777777777777778,\"#fb9f3a\"],[0.8888888888888888,\"#fdca26\"],[1.0,\"#f0f921\"]]}],\"mesh3d\":[{\"type\":\"mesh3d\",\"colorbar\":{\"outlinewidth\":0,\"ticks\":\"\"}}],\"scatter\":[{\"fillpattern\":{\"fillmode\":\"overlay\",\"size\":10,\"solidity\":0.2},\"type\":\"scatter\"}],\"parcoords\":[{\"type\":\"parcoords\",\"line\":{\"colorbar\":{\"outlinewidth\":0,\"ticks\":\"\"}}}],\"scatterpolargl\":[{\"type\":\"scatterpolargl\",\"marker\":{\"colorbar\":{\"outlinewidth\":0,\"ticks\":\"\"}}}],\"bar\":[{\"error_x\":{\"color\":\"#2a3f5f\"},\"error_y\":{\"color\":\"#2a3f5f\"},\"marker\":{\"line\":{\"color\":\"#E5ECF6\",\"width\":0.5},\"pattern\":{\"fillmode\":\"overlay\",\"size\":10,\"solidity\":0.2}},\"type\":\"bar\"}],\"scattergeo\":[{\"type\":\"scattergeo\",\"marker\":{\"colorbar\":{\"outlinewidth\":0,\"ticks\":\"\"}}}],\"scatterpolar\":[{\"type\":\"scatterpolar\",\"marker\":{\"colorbar\":{\"outlinewidth\":0,\"ticks\":\"\"}}}],\"histogram\":[{\"marker\":{\"pattern\":{\"fillmode\":\"overlay\",\"size\":10,\"solidity\":0.2}},\"type\":\"histogram\"}],\"scattergl\":[{\"type\":\"scattergl\",\"marker\":{\"colorbar\":{\"outlinewidth\":0,\"ticks\":\"\"}}}],\"scatter3d\":[{\"type\":\"scatter3d\",\"line\":{\"colorbar\":{\"outlinewidth\":0,\"ticks\":\"\"}},\"marker\":{\"colorbar\":{\"outlinewidth\":0,\"ticks\":\"\"}}}],\"scattermapbox\":[{\"type\":\"scattermapbox\",\"marker\":{\"colorbar\":{\"outlinewidth\":0,\"ticks\":\"\"}}}],\"scatterternary\":[{\"type\":\"scatterternary\",\"marker\":{\"colorbar\":{\"outlinewidth\":0,\"ticks\":\"\"}}}],\"scattercarpet\":[{\"type\":\"scattercarpet\",\"marker\":{\"colorbar\":{\"outlinewidth\":0,\"ticks\":\"\"}}}],\"carpet\":[{\"aaxis\":{\"endlinecolor\":\"#2a3f5f\",\"gridcolor\":\"white\",\"linecolor\":\"white\",\"minorgridcolor\":\"white\",\"startlinecolor\":\"#2a3f5f\"},\"baxis\":{\"endlinecolor\":\"#2a3f5f\",\"gridcolor\":\"white\",\"linecolor\":\"white\",\"minorgridcolor\":\"white\",\"startlinecolor\":\"#2a3f5f\"},\"type\":\"carpet\"}],\"table\":[{\"cells\":{\"fill\":{\"color\":\"#EBF0F8\"},\"line\":{\"color\":\"white\"}},\"header\":{\"fill\":{\"color\":\"#C8D4E3\"},\"line\":{\"color\":\"white\"}},\"type\":\"table\"}],\"barpolar\":[{\"marker\":{\"line\":{\"color\":\"#E5ECF6\",\"width\":0.5},\"pattern\":{\"fillmode\":\"overlay\",\"size\":10,\"solidity\":0.2}},\"type\":\"barpolar\"}],\"pie\":[{\"automargin\":true,\"type\":\"pie\"}]},\"layout\":{\"autotypenumbers\":\"strict\",\"colorway\":[\"#636efa\",\"#EF553B\",\"#00cc96\",\"#ab63fa\",\"#FFA15A\",\"#19d3f3\",\"#FF6692\",\"#B6E880\",\"#FF97FF\",\"#FECB52\"],\"font\":{\"color\":\"#2a3f5f\"},\"hovermode\":\"closest\",\"hoverlabel\":{\"align\":\"left\"},\"paper_bgcolor\":\"white\",\"plot_bgcolor\":\"#E5ECF6\",\"polar\":{\"bgcolor\":\"#E5ECF6\",\"angularaxis\":{\"gridcolor\":\"white\",\"linecolor\":\"white\",\"ticks\":\"\"},\"radialaxis\":{\"gridcolor\":\"white\",\"linecolor\":\"white\",\"ticks\":\"\"}},\"ternary\":{\"bgcolor\":\"#E5ECF6\",\"aaxis\":{\"gridcolor\":\"white\",\"linecolor\":\"white\",\"ticks\":\"\"},\"baxis\":{\"gridcolor\":\"white\",\"linecolor\":\"white\",\"ticks\":\"\"},\"caxis\":{\"gridcolor\":\"white\",\"linecolor\":\"white\",\"ticks\":\"\"}},\"coloraxis\":{\"colorbar\":{\"outlinewidth\":0,\"ticks\":\"\"}},\"colorscale\":{\"sequential\":[[0.0,\"#0d0887\"],[0.1111111111111111,\"#46039f\"],[0.2222222222222222,\"#7201a8\"],[0.3333333333333333,\"#9c179e\"],[0.4444444444444444,\"#bd3786\"],[0.5555555555555556,\"#d8576b\"],[0.6666666666666666,\"#ed7953\"],[0.7777777777777778,\"#fb9f3a\"],[0.8888888888888888,\"#fdca26\"],[1.0,\"#f0f921\"]],\"sequentialminus\":[[0.0,\"#0d0887\"],[0.1111111111111111,\"#46039f\"],[0.2222222222222222,\"#7201a8\"],[0.3333333333333333,\"#9c179e\"],[0.4444444444444444,\"#bd3786\"],[0.5555555555555556,\"#d8576b\"],[0.6666666666666666,\"#ed7953\"],[0.7777777777777778,\"#fb9f3a\"],[0.8888888888888888,\"#fdca26\"],[1.0,\"#f0f921\"]],\"diverging\":[[0,\"#8e0152\"],[0.1,\"#c51b7d\"],[0.2,\"#de77ae\"],[0.3,\"#f1b6da\"],[0.4,\"#fde0ef\"],[0.5,\"#f7f7f7\"],[0.6,\"#e6f5d0\"],[0.7,\"#b8e186\"],[0.8,\"#7fbc41\"],[0.9,\"#4d9221\"],[1,\"#276419\"]]},\"xaxis\":{\"gridcolor\":\"white\",\"linecolor\":\"white\",\"ticks\":\"\",\"title\":{\"standoff\":15},\"zerolinecolor\":\"white\",\"automargin\":true,\"zerolinewidth\":2},\"yaxis\":{\"gridcolor\":\"white\",\"linecolor\":\"white\",\"ticks\":\"\",\"title\":{\"standoff\":15},\"zerolinecolor\":\"white\",\"automargin\":true,\"zerolinewidth\":2},\"scene\":{\"xaxis\":{\"backgroundcolor\":\"#E5ECF6\",\"gridcolor\":\"white\",\"linecolor\":\"white\",\"showbackground\":true,\"ticks\":\"\",\"zerolinecolor\":\"white\",\"gridwidth\":2},\"yaxis\":{\"backgroundcolor\":\"#E5ECF6\",\"gridcolor\":\"white\",\"linecolor\":\"white\",\"showbackground\":true,\"ticks\":\"\",\"zerolinecolor\":\"white\",\"gridwidth\":2},\"zaxis\":{\"backgroundcolor\":\"#E5ECF6\",\"gridcolor\":\"white\",\"linecolor\":\"white\",\"showbackground\":true,\"ticks\":\"\",\"zerolinecolor\":\"white\",\"gridwidth\":2}},\"shapedefaults\":{\"line\":{\"color\":\"#2a3f5f\"}},\"annotationdefaults\":{\"arrowcolor\":\"#2a3f5f\",\"arrowhead\":0,\"arrowwidth\":1},\"geo\":{\"bgcolor\":\"white\",\"landcolor\":\"#E5ECF6\",\"subunitcolor\":\"white\",\"showland\":true,\"showlakes\":true,\"lakecolor\":\"white\"},\"title\":{\"x\":0.05},\"mapbox\":{\"style\":\"light\"}}}},                        {\"responsive\": true}                    ).then(function(){\n",
       "                            \n",
       "var gd = document.getElementById('6818e15d-cfcf-4c0d-9c1a-972f7b43de83');\n",
       "var x = new MutationObserver(function (mutations, observer) {{\n",
       "        var display = window.getComputedStyle(gd).display;\n",
       "        if (!display || display === 'none') {{\n",
       "            console.log([gd, 'removed!']);\n",
       "            Plotly.purge(gd);\n",
       "            observer.disconnect();\n",
       "        }}\n",
       "}});\n",
       "\n",
       "// Listen for the removal of the full notebook cells\n",
       "var notebookContainer = gd.closest('#notebook-container');\n",
       "if (notebookContainer) {{\n",
       "    x.observe(notebookContainer, {childList: true});\n",
       "}}\n",
       "\n",
       "// Listen for the clearing of the current output cell\n",
       "var outputEl = gd.closest('.output');\n",
       "if (outputEl) {{\n",
       "    x.observe(outputEl, {childList: true});\n",
       "}}\n",
       "\n",
       "                        })                };                });            </script>        </div>"
      ]
     },
     "metadata": {},
     "output_type": "display_data"
    }
   ],
   "source": [
    "# Get data\n",
    "data = df['Number of Ratings'].value_counts().sort_index(ascending=False)\n",
    "\n",
    "# Create trace\n",
    "trace = go.Box(y=df['Number of Ratings'], name='Number of Ratings Distribution', marker=dict(color='#db0000'))\n",
    "\n",
    "# Create layout\n",
    "layout = dict(title='Distribution Of {} Netflix-Ratings'.format(len(df)),\n",
    "              yaxis=dict(title='Rating'))\n",
    "\n",
    "# Create plot\n",
    "fig = go.Figure(data=[trace], layout=layout)\n",
    "fig.show()"
   ]
  },
  {
   "cell_type": "markdown",
   "metadata": {},
   "source": [
    "- 印出 five number 觀察其分佈"
   ]
  },
  {
   "cell_type": "code",
   "execution_count": 8,
   "metadata": {},
   "outputs": [
    {
     "name": "stdout",
     "output_type": "stream",
     "text": [
      "Numeric columns:\n"
     ]
    },
    {
     "data": {
      "text/html": [
       "<div>\n",
       "<style scoped>\n",
       "    .dataframe tbody tr th:only-of-type {\n",
       "        vertical-align: middle;\n",
       "    }\n",
       "\n",
       "    .dataframe tbody tr th {\n",
       "        vertical-align: top;\n",
       "    }\n",
       "\n",
       "    .dataframe thead th {\n",
       "        text-align: right;\n",
       "    }\n",
       "</style>\n",
       "<table border=\"1\" class=\"dataframe\">\n",
       "  <thead>\n",
       "    <tr style=\"text-align: right;\">\n",
       "      <th></th>\n",
       "      <th>Hours Viewed</th>\n",
       "      <th>Number of Ratings</th>\n",
       "      <th>Rating</th>\n",
       "    </tr>\n",
       "  </thead>\n",
       "  <tbody>\n",
       "    <tr>\n",
       "      <th>count</th>\n",
       "      <td>1567.00</td>\n",
       "      <td>1567.00</td>\n",
       "      <td>1567.00</td>\n",
       "    </tr>\n",
       "    <tr>\n",
       "      <th>mean</th>\n",
       "      <td>6614486.28</td>\n",
       "      <td>334492.98</td>\n",
       "      <td>7.04</td>\n",
       "    </tr>\n",
       "    <tr>\n",
       "      <th>std</th>\n",
       "      <td>14979063.32</td>\n",
       "      <td>322422.83</td>\n",
       "      <td>0.86</td>\n",
       "    </tr>\n",
       "    <tr>\n",
       "      <th>min</th>\n",
       "      <td>100000.00</td>\n",
       "      <td>100298.00</td>\n",
       "      <td>2.80</td>\n",
       "    </tr>\n",
       "    <tr>\n",
       "      <th>25%</th>\n",
       "      <td>450000.00</td>\n",
       "      <td>145054.50</td>\n",
       "      <td>6.45</td>\n",
       "    </tr>\n",
       "    <tr>\n",
       "      <th>50%</th>\n",
       "      <td>1900000.00</td>\n",
       "      <td>220982.00</td>\n",
       "      <td>7.00</td>\n",
       "    </tr>\n",
       "    <tr>\n",
       "      <th>75%</th>\n",
       "      <td>6400000.00</td>\n",
       "      <td>384170.50</td>\n",
       "      <td>7.65</td>\n",
       "    </tr>\n",
       "    <tr>\n",
       "      <th>max</th>\n",
       "      <td>201800000.00</td>\n",
       "      <td>2829797.00</td>\n",
       "      <td>9.30</td>\n",
       "    </tr>\n",
       "  </tbody>\n",
       "</table>\n",
       "</div>"
      ],
      "text/plain": [
       "       Hours Viewed  Number of Ratings  Rating\n",
       "count       1567.00            1567.00 1567.00\n",
       "mean     6614486.28          334492.98    7.04\n",
       "std     14979063.32          322422.83    0.86\n",
       "min       100000.00          100298.00    2.80\n",
       "25%       450000.00          145054.50    6.45\n",
       "50%      1900000.00          220982.00    7.00\n",
       "75%      6400000.00          384170.50    7.65\n",
       "max    201800000.00         2829797.00    9.30"
      ]
     },
     "execution_count": 8,
     "metadata": {},
     "output_type": "execute_result"
    }
   ],
   "source": [
    "# 显示数值型列的描述统计信息，避免科学符号表示法\n",
    "numeric_summary = df.describe(include='number')\n",
    "print(\"Numeric columns:\")\n",
    "numeric_summary"
   ]
  },
  {
   "cell_type": "markdown",
   "metadata": {},
   "source": [
    "# Data Processing - Rating"
   ]
  },
  {
   "cell_type": "code",
   "execution_count": 9,
   "metadata": {},
   "outputs": [
    {
     "data": {
      "application/vnd.plotly.v1+json": {
       "config": {
        "linkText": "Export to plot.ly",
        "plotlyServerURL": "https://plot.ly",
        "showLink": false
       },
       "data": [
        {
         "marker": {
          "color": "#db0000"
         },
         "text": [
          "0.3 %",
          "0.1 %",
          "0.4 %",
          "1.3 %",
          "0.1 %",
          "0.4 %",
          "0.3 %",
          "0.7 %",
          "1.3 %",
          "0.8 %",
          "1.1 %",
          "2.4 %",
          "3.5 %",
          "2.4 %",
          "2.9 %",
          "3.7 %",
          "3.4 %",
          "4.3 %",
          "3.1 %",
          "3.6 %",
          "5.4 %",
          "3.1 %",
          "4.7 %",
          "4.5 %",
          "3.8 %",
          "4.0 %",
          "3.2 %",
          "5.0 %",
          "5.4 %",
          "3.6 %",
          "4.6 %",
          "3.1 %",
          "3.3 %",
          "1.3 %",
          "1.1 %",
          "1.7 %",
          "1.1 %",
          "1.3 %",
          "1.1 %",
          "0.5 %",
          "0.7 %",
          "0.5 %",
          "0.3 %",
          "0.3 %",
          "0.1 %",
          "0.1 %",
          "0.2 %",
          "0.1 %",
          "0.1 %",
          "0.1 %"
         ],
         "textfont": {
          "color": "#000000"
         },
         "textposition": "auto",
         "type": "bar",
         "x": [
          9.3,
          9.2,
          9.1,
          9,
          8.9,
          8.8,
          8.7,
          8.6,
          8.5,
          8.4,
          8.3,
          8.2,
          8.1,
          8,
          7.9,
          7.8,
          7.7,
          7.6,
          7.5,
          7.4,
          7.3,
          7.2,
          7.1,
          7,
          6.9,
          6.8,
          6.7,
          6.6,
          6.5,
          6.4,
          6.3,
          6.2,
          6.1,
          6,
          5.9,
          5.8,
          5.7,
          5.6,
          5.5,
          5.4,
          5.3,
          5.2,
          5.1,
          4.9,
          4.8,
          4.6,
          4.3,
          4.2,
          4,
          2.8
         ],
         "y": [
          4,
          1,
          6,
          20,
          1,
          7,
          5,
          11,
          20,
          13,
          17,
          37,
          55,
          38,
          46,
          58,
          53,
          67,
          48,
          57,
          84,
          49,
          73,
          70,
          60,
          62,
          50,
          78,
          85,
          57,
          72,
          48,
          51,
          20,
          17,
          26,
          17,
          20,
          17,
          8,
          11,
          8,
          5,
          5,
          1,
          2,
          3,
          2,
          1,
          1
         ]
        }
       ],
       "layout": {
        "template": {
         "data": {
          "bar": [
           {
            "error_x": {
             "color": "#2a3f5f"
            },
            "error_y": {
             "color": "#2a3f5f"
            },
            "marker": {
             "line": {
              "color": "#E5ECF6",
              "width": 0.5
             },
             "pattern": {
              "fillmode": "overlay",
              "size": 10,
              "solidity": 0.2
             }
            },
            "type": "bar"
           }
          ],
          "barpolar": [
           {
            "marker": {
             "line": {
              "color": "#E5ECF6",
              "width": 0.5
             },
             "pattern": {
              "fillmode": "overlay",
              "size": 10,
              "solidity": 0.2
             }
            },
            "type": "barpolar"
           }
          ],
          "carpet": [
           {
            "aaxis": {
             "endlinecolor": "#2a3f5f",
             "gridcolor": "white",
             "linecolor": "white",
             "minorgridcolor": "white",
             "startlinecolor": "#2a3f5f"
            },
            "baxis": {
             "endlinecolor": "#2a3f5f",
             "gridcolor": "white",
             "linecolor": "white",
             "minorgridcolor": "white",
             "startlinecolor": "#2a3f5f"
            },
            "type": "carpet"
           }
          ],
          "choropleth": [
           {
            "colorbar": {
             "outlinewidth": 0,
             "ticks": ""
            },
            "type": "choropleth"
           }
          ],
          "contour": [
           {
            "colorbar": {
             "outlinewidth": 0,
             "ticks": ""
            },
            "colorscale": [
             [
              0,
              "#0d0887"
             ],
             [
              0.1111111111111111,
              "#46039f"
             ],
             [
              0.2222222222222222,
              "#7201a8"
             ],
             [
              0.3333333333333333,
              "#9c179e"
             ],
             [
              0.4444444444444444,
              "#bd3786"
             ],
             [
              0.5555555555555556,
              "#d8576b"
             ],
             [
              0.6666666666666666,
              "#ed7953"
             ],
             [
              0.7777777777777778,
              "#fb9f3a"
             ],
             [
              0.8888888888888888,
              "#fdca26"
             ],
             [
              1,
              "#f0f921"
             ]
            ],
            "type": "contour"
           }
          ],
          "contourcarpet": [
           {
            "colorbar": {
             "outlinewidth": 0,
             "ticks": ""
            },
            "type": "contourcarpet"
           }
          ],
          "heatmap": [
           {
            "colorbar": {
             "outlinewidth": 0,
             "ticks": ""
            },
            "colorscale": [
             [
              0,
              "#0d0887"
             ],
             [
              0.1111111111111111,
              "#46039f"
             ],
             [
              0.2222222222222222,
              "#7201a8"
             ],
             [
              0.3333333333333333,
              "#9c179e"
             ],
             [
              0.4444444444444444,
              "#bd3786"
             ],
             [
              0.5555555555555556,
              "#d8576b"
             ],
             [
              0.6666666666666666,
              "#ed7953"
             ],
             [
              0.7777777777777778,
              "#fb9f3a"
             ],
             [
              0.8888888888888888,
              "#fdca26"
             ],
             [
              1,
              "#f0f921"
             ]
            ],
            "type": "heatmap"
           }
          ],
          "heatmapgl": [
           {
            "colorbar": {
             "outlinewidth": 0,
             "ticks": ""
            },
            "colorscale": [
             [
              0,
              "#0d0887"
             ],
             [
              0.1111111111111111,
              "#46039f"
             ],
             [
              0.2222222222222222,
              "#7201a8"
             ],
             [
              0.3333333333333333,
              "#9c179e"
             ],
             [
              0.4444444444444444,
              "#bd3786"
             ],
             [
              0.5555555555555556,
              "#d8576b"
             ],
             [
              0.6666666666666666,
              "#ed7953"
             ],
             [
              0.7777777777777778,
              "#fb9f3a"
             ],
             [
              0.8888888888888888,
              "#fdca26"
             ],
             [
              1,
              "#f0f921"
             ]
            ],
            "type": "heatmapgl"
           }
          ],
          "histogram": [
           {
            "marker": {
             "pattern": {
              "fillmode": "overlay",
              "size": 10,
              "solidity": 0.2
             }
            },
            "type": "histogram"
           }
          ],
          "histogram2d": [
           {
            "colorbar": {
             "outlinewidth": 0,
             "ticks": ""
            },
            "colorscale": [
             [
              0,
              "#0d0887"
             ],
             [
              0.1111111111111111,
              "#46039f"
             ],
             [
              0.2222222222222222,
              "#7201a8"
             ],
             [
              0.3333333333333333,
              "#9c179e"
             ],
             [
              0.4444444444444444,
              "#bd3786"
             ],
             [
              0.5555555555555556,
              "#d8576b"
             ],
             [
              0.6666666666666666,
              "#ed7953"
             ],
             [
              0.7777777777777778,
              "#fb9f3a"
             ],
             [
              0.8888888888888888,
              "#fdca26"
             ],
             [
              1,
              "#f0f921"
             ]
            ],
            "type": "histogram2d"
           }
          ],
          "histogram2dcontour": [
           {
            "colorbar": {
             "outlinewidth": 0,
             "ticks": ""
            },
            "colorscale": [
             [
              0,
              "#0d0887"
             ],
             [
              0.1111111111111111,
              "#46039f"
             ],
             [
              0.2222222222222222,
              "#7201a8"
             ],
             [
              0.3333333333333333,
              "#9c179e"
             ],
             [
              0.4444444444444444,
              "#bd3786"
             ],
             [
              0.5555555555555556,
              "#d8576b"
             ],
             [
              0.6666666666666666,
              "#ed7953"
             ],
             [
              0.7777777777777778,
              "#fb9f3a"
             ],
             [
              0.8888888888888888,
              "#fdca26"
             ],
             [
              1,
              "#f0f921"
             ]
            ],
            "type": "histogram2dcontour"
           }
          ],
          "mesh3d": [
           {
            "colorbar": {
             "outlinewidth": 0,
             "ticks": ""
            },
            "type": "mesh3d"
           }
          ],
          "parcoords": [
           {
            "line": {
             "colorbar": {
              "outlinewidth": 0,
              "ticks": ""
             }
            },
            "type": "parcoords"
           }
          ],
          "pie": [
           {
            "automargin": true,
            "type": "pie"
           }
          ],
          "scatter": [
           {
            "fillpattern": {
             "fillmode": "overlay",
             "size": 10,
             "solidity": 0.2
            },
            "type": "scatter"
           }
          ],
          "scatter3d": [
           {
            "line": {
             "colorbar": {
              "outlinewidth": 0,
              "ticks": ""
             }
            },
            "marker": {
             "colorbar": {
              "outlinewidth": 0,
              "ticks": ""
             }
            },
            "type": "scatter3d"
           }
          ],
          "scattercarpet": [
           {
            "marker": {
             "colorbar": {
              "outlinewidth": 0,
              "ticks": ""
             }
            },
            "type": "scattercarpet"
           }
          ],
          "scattergeo": [
           {
            "marker": {
             "colorbar": {
              "outlinewidth": 0,
              "ticks": ""
             }
            },
            "type": "scattergeo"
           }
          ],
          "scattergl": [
           {
            "marker": {
             "colorbar": {
              "outlinewidth": 0,
              "ticks": ""
             }
            },
            "type": "scattergl"
           }
          ],
          "scattermapbox": [
           {
            "marker": {
             "colorbar": {
              "outlinewidth": 0,
              "ticks": ""
             }
            },
            "type": "scattermapbox"
           }
          ],
          "scatterpolar": [
           {
            "marker": {
             "colorbar": {
              "outlinewidth": 0,
              "ticks": ""
             }
            },
            "type": "scatterpolar"
           }
          ],
          "scatterpolargl": [
           {
            "marker": {
             "colorbar": {
              "outlinewidth": 0,
              "ticks": ""
             }
            },
            "type": "scatterpolargl"
           }
          ],
          "scatterternary": [
           {
            "marker": {
             "colorbar": {
              "outlinewidth": 0,
              "ticks": ""
             }
            },
            "type": "scatterternary"
           }
          ],
          "surface": [
           {
            "colorbar": {
             "outlinewidth": 0,
             "ticks": ""
            },
            "colorscale": [
             [
              0,
              "#0d0887"
             ],
             [
              0.1111111111111111,
              "#46039f"
             ],
             [
              0.2222222222222222,
              "#7201a8"
             ],
             [
              0.3333333333333333,
              "#9c179e"
             ],
             [
              0.4444444444444444,
              "#bd3786"
             ],
             [
              0.5555555555555556,
              "#d8576b"
             ],
             [
              0.6666666666666666,
              "#ed7953"
             ],
             [
              0.7777777777777778,
              "#fb9f3a"
             ],
             [
              0.8888888888888888,
              "#fdca26"
             ],
             [
              1,
              "#f0f921"
             ]
            ],
            "type": "surface"
           }
          ],
          "table": [
           {
            "cells": {
             "fill": {
              "color": "#EBF0F8"
             },
             "line": {
              "color": "white"
             }
            },
            "header": {
             "fill": {
              "color": "#C8D4E3"
             },
             "line": {
              "color": "white"
             }
            },
            "type": "table"
           }
          ]
         },
         "layout": {
          "annotationdefaults": {
           "arrowcolor": "#2a3f5f",
           "arrowhead": 0,
           "arrowwidth": 1
          },
          "autotypenumbers": "strict",
          "coloraxis": {
           "colorbar": {
            "outlinewidth": 0,
            "ticks": ""
           }
          },
          "colorscale": {
           "diverging": [
            [
             0,
             "#8e0152"
            ],
            [
             0.1,
             "#c51b7d"
            ],
            [
             0.2,
             "#de77ae"
            ],
            [
             0.3,
             "#f1b6da"
            ],
            [
             0.4,
             "#fde0ef"
            ],
            [
             0.5,
             "#f7f7f7"
            ],
            [
             0.6,
             "#e6f5d0"
            ],
            [
             0.7,
             "#b8e186"
            ],
            [
             0.8,
             "#7fbc41"
            ],
            [
             0.9,
             "#4d9221"
            ],
            [
             1,
             "#276419"
            ]
           ],
           "sequential": [
            [
             0,
             "#0d0887"
            ],
            [
             0.1111111111111111,
             "#46039f"
            ],
            [
             0.2222222222222222,
             "#7201a8"
            ],
            [
             0.3333333333333333,
             "#9c179e"
            ],
            [
             0.4444444444444444,
             "#bd3786"
            ],
            [
             0.5555555555555556,
             "#d8576b"
            ],
            [
             0.6666666666666666,
             "#ed7953"
            ],
            [
             0.7777777777777778,
             "#fb9f3a"
            ],
            [
             0.8888888888888888,
             "#fdca26"
            ],
            [
             1,
             "#f0f921"
            ]
           ],
           "sequentialminus": [
            [
             0,
             "#0d0887"
            ],
            [
             0.1111111111111111,
             "#46039f"
            ],
            [
             0.2222222222222222,
             "#7201a8"
            ],
            [
             0.3333333333333333,
             "#9c179e"
            ],
            [
             0.4444444444444444,
             "#bd3786"
            ],
            [
             0.5555555555555556,
             "#d8576b"
            ],
            [
             0.6666666666666666,
             "#ed7953"
            ],
            [
             0.7777777777777778,
             "#fb9f3a"
            ],
            [
             0.8888888888888888,
             "#fdca26"
            ],
            [
             1,
             "#f0f921"
            ]
           ]
          },
          "colorway": [
           "#636efa",
           "#EF553B",
           "#00cc96",
           "#ab63fa",
           "#FFA15A",
           "#19d3f3",
           "#FF6692",
           "#B6E880",
           "#FF97FF",
           "#FECB52"
          ],
          "font": {
           "color": "#2a3f5f"
          },
          "geo": {
           "bgcolor": "white",
           "lakecolor": "white",
           "landcolor": "#E5ECF6",
           "showlakes": true,
           "showland": true,
           "subunitcolor": "white"
          },
          "hoverlabel": {
           "align": "left"
          },
          "hovermode": "closest",
          "mapbox": {
           "style": "light"
          },
          "paper_bgcolor": "white",
          "plot_bgcolor": "#E5ECF6",
          "polar": {
           "angularaxis": {
            "gridcolor": "white",
            "linecolor": "white",
            "ticks": ""
           },
           "bgcolor": "#E5ECF6",
           "radialaxis": {
            "gridcolor": "white",
            "linecolor": "white",
            "ticks": ""
           }
          },
          "scene": {
           "xaxis": {
            "backgroundcolor": "#E5ECF6",
            "gridcolor": "white",
            "gridwidth": 2,
            "linecolor": "white",
            "showbackground": true,
            "ticks": "",
            "zerolinecolor": "white"
           },
           "yaxis": {
            "backgroundcolor": "#E5ECF6",
            "gridcolor": "white",
            "gridwidth": 2,
            "linecolor": "white",
            "showbackground": true,
            "ticks": "",
            "zerolinecolor": "white"
           },
           "zaxis": {
            "backgroundcolor": "#E5ECF6",
            "gridcolor": "white",
            "gridwidth": 2,
            "linecolor": "white",
            "showbackground": true,
            "ticks": "",
            "zerolinecolor": "white"
           }
          },
          "shapedefaults": {
           "line": {
            "color": "#2a3f5f"
           }
          },
          "ternary": {
           "aaxis": {
            "gridcolor": "white",
            "linecolor": "white",
            "ticks": ""
           },
           "baxis": {
            "gridcolor": "white",
            "linecolor": "white",
            "ticks": ""
           },
           "bgcolor": "#E5ECF6",
           "caxis": {
            "gridcolor": "white",
            "linecolor": "white",
            "ticks": ""
           }
          },
          "title": {
           "x": 0.05
          },
          "xaxis": {
           "automargin": true,
           "gridcolor": "white",
           "linecolor": "white",
           "ticks": "",
           "title": {
            "standoff": 15
           },
           "zerolinecolor": "white",
           "zerolinewidth": 2
          },
          "yaxis": {
           "automargin": true,
           "gridcolor": "white",
           "linecolor": "white",
           "ticks": "",
           "title": {
            "standoff": 15
           },
           "zerolinecolor": "white",
           "zerolinewidth": 2
          }
         }
        },
        "title": {
         "text": "Distribution Of 1567 Netflix-Ratings"
        },
        "xaxis": {
         "title": {
          "text": "Rating"
         }
        },
        "yaxis": {
         "title": {
          "text": "Count"
         }
        }
       }
      },
      "text/html": [
       "<div>                            <div id=\"30c6c67b-a958-4e86-8e7a-0cdf2e032211\" class=\"plotly-graph-div\" style=\"height:525px; width:100%;\"></div>            <script type=\"text/javascript\">                require([\"plotly\"], function(Plotly) {                    window.PLOTLYENV=window.PLOTLYENV || {};                                    if (document.getElementById(\"30c6c67b-a958-4e86-8e7a-0cdf2e032211\")) {                    Plotly.newPlot(                        \"30c6c67b-a958-4e86-8e7a-0cdf2e032211\",                        [{\"marker\":{\"color\":\"#db0000\"},\"text\":[\"0.3 %\",\"0.1 %\",\"0.4 %\",\"1.3 %\",\"0.1 %\",\"0.4 %\",\"0.3 %\",\"0.7 %\",\"1.3 %\",\"0.8 %\",\"1.1 %\",\"2.4 %\",\"3.5 %\",\"2.4 %\",\"2.9 %\",\"3.7 %\",\"3.4 %\",\"4.3 %\",\"3.1 %\",\"3.6 %\",\"5.4 %\",\"3.1 %\",\"4.7 %\",\"4.5 %\",\"3.8 %\",\"4.0 %\",\"3.2 %\",\"5.0 %\",\"5.4 %\",\"3.6 %\",\"4.6 %\",\"3.1 %\",\"3.3 %\",\"1.3 %\",\"1.1 %\",\"1.7 %\",\"1.1 %\",\"1.3 %\",\"1.1 %\",\"0.5 %\",\"0.7 %\",\"0.5 %\",\"0.3 %\",\"0.3 %\",\"0.1 %\",\"0.1 %\",\"0.2 %\",\"0.1 %\",\"0.1 %\",\"0.1 %\"],\"textfont\":{\"color\":\"#000000\"},\"textposition\":\"auto\",\"x\":[9.3,9.2,9.1,9.0,8.9,8.8,8.7,8.6,8.5,8.4,8.3,8.2,8.1,8.0,7.9,7.8,7.7,7.6,7.5,7.4,7.3,7.2,7.1,7.0,6.9,6.8,6.7,6.6,6.5,6.4,6.3,6.2,6.1,6.0,5.9,5.8,5.7,5.6,5.5,5.4,5.3,5.2,5.1,4.9,4.8,4.6,4.3,4.2,4.0,2.8],\"y\":[4,1,6,20,1,7,5,11,20,13,17,37,55,38,46,58,53,67,48,57,84,49,73,70,60,62,50,78,85,57,72,48,51,20,17,26,17,20,17,8,11,8,5,5,1,2,3,2,1,1],\"type\":\"bar\"}],                        {\"template\":{\"data\":{\"barpolar\":[{\"marker\":{\"line\":{\"color\":\"#E5ECF6\",\"width\":0.5},\"pattern\":{\"fillmode\":\"overlay\",\"size\":10,\"solidity\":0.2}},\"type\":\"barpolar\"}],\"bar\":[{\"error_x\":{\"color\":\"#2a3f5f\"},\"error_y\":{\"color\":\"#2a3f5f\"},\"marker\":{\"line\":{\"color\":\"#E5ECF6\",\"width\":0.5},\"pattern\":{\"fillmode\":\"overlay\",\"size\":10,\"solidity\":0.2}},\"type\":\"bar\"}],\"carpet\":[{\"aaxis\":{\"endlinecolor\":\"#2a3f5f\",\"gridcolor\":\"white\",\"linecolor\":\"white\",\"minorgridcolor\":\"white\",\"startlinecolor\":\"#2a3f5f\"},\"baxis\":{\"endlinecolor\":\"#2a3f5f\",\"gridcolor\":\"white\",\"linecolor\":\"white\",\"minorgridcolor\":\"white\",\"startlinecolor\":\"#2a3f5f\"},\"type\":\"carpet\"}],\"choropleth\":[{\"colorbar\":{\"outlinewidth\":0,\"ticks\":\"\"},\"type\":\"choropleth\"}],\"contourcarpet\":[{\"colorbar\":{\"outlinewidth\":0,\"ticks\":\"\"},\"type\":\"contourcarpet\"}],\"contour\":[{\"colorbar\":{\"outlinewidth\":0,\"ticks\":\"\"},\"colorscale\":[[0.0,\"#0d0887\"],[0.1111111111111111,\"#46039f\"],[0.2222222222222222,\"#7201a8\"],[0.3333333333333333,\"#9c179e\"],[0.4444444444444444,\"#bd3786\"],[0.5555555555555556,\"#d8576b\"],[0.6666666666666666,\"#ed7953\"],[0.7777777777777778,\"#fb9f3a\"],[0.8888888888888888,\"#fdca26\"],[1.0,\"#f0f921\"]],\"type\":\"contour\"}],\"heatmapgl\":[{\"colorbar\":{\"outlinewidth\":0,\"ticks\":\"\"},\"colorscale\":[[0.0,\"#0d0887\"],[0.1111111111111111,\"#46039f\"],[0.2222222222222222,\"#7201a8\"],[0.3333333333333333,\"#9c179e\"],[0.4444444444444444,\"#bd3786\"],[0.5555555555555556,\"#d8576b\"],[0.6666666666666666,\"#ed7953\"],[0.7777777777777778,\"#fb9f3a\"],[0.8888888888888888,\"#fdca26\"],[1.0,\"#f0f921\"]],\"type\":\"heatmapgl\"}],\"heatmap\":[{\"colorbar\":{\"outlinewidth\":0,\"ticks\":\"\"},\"colorscale\":[[0.0,\"#0d0887\"],[0.1111111111111111,\"#46039f\"],[0.2222222222222222,\"#7201a8\"],[0.3333333333333333,\"#9c179e\"],[0.4444444444444444,\"#bd3786\"],[0.5555555555555556,\"#d8576b\"],[0.6666666666666666,\"#ed7953\"],[0.7777777777777778,\"#fb9f3a\"],[0.8888888888888888,\"#fdca26\"],[1.0,\"#f0f921\"]],\"type\":\"heatmap\"}],\"histogram2dcontour\":[{\"colorbar\":{\"outlinewidth\":0,\"ticks\":\"\"},\"colorscale\":[[0.0,\"#0d0887\"],[0.1111111111111111,\"#46039f\"],[0.2222222222222222,\"#7201a8\"],[0.3333333333333333,\"#9c179e\"],[0.4444444444444444,\"#bd3786\"],[0.5555555555555556,\"#d8576b\"],[0.6666666666666666,\"#ed7953\"],[0.7777777777777778,\"#fb9f3a\"],[0.8888888888888888,\"#fdca26\"],[1.0,\"#f0f921\"]],\"type\":\"histogram2dcontour\"}],\"histogram2d\":[{\"colorbar\":{\"outlinewidth\":0,\"ticks\":\"\"},\"colorscale\":[[0.0,\"#0d0887\"],[0.1111111111111111,\"#46039f\"],[0.2222222222222222,\"#7201a8\"],[0.3333333333333333,\"#9c179e\"],[0.4444444444444444,\"#bd3786\"],[0.5555555555555556,\"#d8576b\"],[0.6666666666666666,\"#ed7953\"],[0.7777777777777778,\"#fb9f3a\"],[0.8888888888888888,\"#fdca26\"],[1.0,\"#f0f921\"]],\"type\":\"histogram2d\"}],\"histogram\":[{\"marker\":{\"pattern\":{\"fillmode\":\"overlay\",\"size\":10,\"solidity\":0.2}},\"type\":\"histogram\"}],\"mesh3d\":[{\"colorbar\":{\"outlinewidth\":0,\"ticks\":\"\"},\"type\":\"mesh3d\"}],\"parcoords\":[{\"line\":{\"colorbar\":{\"outlinewidth\":0,\"ticks\":\"\"}},\"type\":\"parcoords\"}],\"pie\":[{\"automargin\":true,\"type\":\"pie\"}],\"scatter3d\":[{\"line\":{\"colorbar\":{\"outlinewidth\":0,\"ticks\":\"\"}},\"marker\":{\"colorbar\":{\"outlinewidth\":0,\"ticks\":\"\"}},\"type\":\"scatter3d\"}],\"scattercarpet\":[{\"marker\":{\"colorbar\":{\"outlinewidth\":0,\"ticks\":\"\"}},\"type\":\"scattercarpet\"}],\"scattergeo\":[{\"marker\":{\"colorbar\":{\"outlinewidth\":0,\"ticks\":\"\"}},\"type\":\"scattergeo\"}],\"scattergl\":[{\"marker\":{\"colorbar\":{\"outlinewidth\":0,\"ticks\":\"\"}},\"type\":\"scattergl\"}],\"scattermapbox\":[{\"marker\":{\"colorbar\":{\"outlinewidth\":0,\"ticks\":\"\"}},\"type\":\"scattermapbox\"}],\"scatterpolargl\":[{\"marker\":{\"colorbar\":{\"outlinewidth\":0,\"ticks\":\"\"}},\"type\":\"scatterpolargl\"}],\"scatterpolar\":[{\"marker\":{\"colorbar\":{\"outlinewidth\":0,\"ticks\":\"\"}},\"type\":\"scatterpolar\"}],\"scatter\":[{\"fillpattern\":{\"fillmode\":\"overlay\",\"size\":10,\"solidity\":0.2},\"type\":\"scatter\"}],\"scatterternary\":[{\"marker\":{\"colorbar\":{\"outlinewidth\":0,\"ticks\":\"\"}},\"type\":\"scatterternary\"}],\"surface\":[{\"colorbar\":{\"outlinewidth\":0,\"ticks\":\"\"},\"colorscale\":[[0.0,\"#0d0887\"],[0.1111111111111111,\"#46039f\"],[0.2222222222222222,\"#7201a8\"],[0.3333333333333333,\"#9c179e\"],[0.4444444444444444,\"#bd3786\"],[0.5555555555555556,\"#d8576b\"],[0.6666666666666666,\"#ed7953\"],[0.7777777777777778,\"#fb9f3a\"],[0.8888888888888888,\"#fdca26\"],[1.0,\"#f0f921\"]],\"type\":\"surface\"}],\"table\":[{\"cells\":{\"fill\":{\"color\":\"#EBF0F8\"},\"line\":{\"color\":\"white\"}},\"header\":{\"fill\":{\"color\":\"#C8D4E3\"},\"line\":{\"color\":\"white\"}},\"type\":\"table\"}]},\"layout\":{\"annotationdefaults\":{\"arrowcolor\":\"#2a3f5f\",\"arrowhead\":0,\"arrowwidth\":1},\"autotypenumbers\":\"strict\",\"coloraxis\":{\"colorbar\":{\"outlinewidth\":0,\"ticks\":\"\"}},\"colorscale\":{\"diverging\":[[0,\"#8e0152\"],[0.1,\"#c51b7d\"],[0.2,\"#de77ae\"],[0.3,\"#f1b6da\"],[0.4,\"#fde0ef\"],[0.5,\"#f7f7f7\"],[0.6,\"#e6f5d0\"],[0.7,\"#b8e186\"],[0.8,\"#7fbc41\"],[0.9,\"#4d9221\"],[1,\"#276419\"]],\"sequential\":[[0.0,\"#0d0887\"],[0.1111111111111111,\"#46039f\"],[0.2222222222222222,\"#7201a8\"],[0.3333333333333333,\"#9c179e\"],[0.4444444444444444,\"#bd3786\"],[0.5555555555555556,\"#d8576b\"],[0.6666666666666666,\"#ed7953\"],[0.7777777777777778,\"#fb9f3a\"],[0.8888888888888888,\"#fdca26\"],[1.0,\"#f0f921\"]],\"sequentialminus\":[[0.0,\"#0d0887\"],[0.1111111111111111,\"#46039f\"],[0.2222222222222222,\"#7201a8\"],[0.3333333333333333,\"#9c179e\"],[0.4444444444444444,\"#bd3786\"],[0.5555555555555556,\"#d8576b\"],[0.6666666666666666,\"#ed7953\"],[0.7777777777777778,\"#fb9f3a\"],[0.8888888888888888,\"#fdca26\"],[1.0,\"#f0f921\"]]},\"colorway\":[\"#636efa\",\"#EF553B\",\"#00cc96\",\"#ab63fa\",\"#FFA15A\",\"#19d3f3\",\"#FF6692\",\"#B6E880\",\"#FF97FF\",\"#FECB52\"],\"font\":{\"color\":\"#2a3f5f\"},\"geo\":{\"bgcolor\":\"white\",\"lakecolor\":\"white\",\"landcolor\":\"#E5ECF6\",\"showlakes\":true,\"showland\":true,\"subunitcolor\":\"white\"},\"hoverlabel\":{\"align\":\"left\"},\"hovermode\":\"closest\",\"mapbox\":{\"style\":\"light\"},\"paper_bgcolor\":\"white\",\"plot_bgcolor\":\"#E5ECF6\",\"polar\":{\"angularaxis\":{\"gridcolor\":\"white\",\"linecolor\":\"white\",\"ticks\":\"\"},\"bgcolor\":\"#E5ECF6\",\"radialaxis\":{\"gridcolor\":\"white\",\"linecolor\":\"white\",\"ticks\":\"\"}},\"scene\":{\"xaxis\":{\"backgroundcolor\":\"#E5ECF6\",\"gridcolor\":\"white\",\"gridwidth\":2,\"linecolor\":\"white\",\"showbackground\":true,\"ticks\":\"\",\"zerolinecolor\":\"white\"},\"yaxis\":{\"backgroundcolor\":\"#E5ECF6\",\"gridcolor\":\"white\",\"gridwidth\":2,\"linecolor\":\"white\",\"showbackground\":true,\"ticks\":\"\",\"zerolinecolor\":\"white\"},\"zaxis\":{\"backgroundcolor\":\"#E5ECF6\",\"gridcolor\":\"white\",\"gridwidth\":2,\"linecolor\":\"white\",\"showbackground\":true,\"ticks\":\"\",\"zerolinecolor\":\"white\"}},\"shapedefaults\":{\"line\":{\"color\":\"#2a3f5f\"}},\"ternary\":{\"aaxis\":{\"gridcolor\":\"white\",\"linecolor\":\"white\",\"ticks\":\"\"},\"baxis\":{\"gridcolor\":\"white\",\"linecolor\":\"white\",\"ticks\":\"\"},\"bgcolor\":\"#E5ECF6\",\"caxis\":{\"gridcolor\":\"white\",\"linecolor\":\"white\",\"ticks\":\"\"}},\"title\":{\"x\":0.05},\"xaxis\":{\"automargin\":true,\"gridcolor\":\"white\",\"linecolor\":\"white\",\"ticks\":\"\",\"title\":{\"standoff\":15},\"zerolinecolor\":\"white\",\"zerolinewidth\":2},\"yaxis\":{\"automargin\":true,\"gridcolor\":\"white\",\"linecolor\":\"white\",\"ticks\":\"\",\"title\":{\"standoff\":15},\"zerolinecolor\":\"white\",\"zerolinewidth\":2}}},\"title\":{\"text\":\"Distribution Of 1567 Netflix-Ratings\"},\"xaxis\":{\"title\":{\"text\":\"Rating\"}},\"yaxis\":{\"title\":{\"text\":\"Count\"}}},                        {\"responsive\": true}                    ).then(function(){\n",
       "                            \n",
       "var gd = document.getElementById('30c6c67b-a958-4e86-8e7a-0cdf2e032211');\n",
       "var x = new MutationObserver(function (mutations, observer) {{\n",
       "        var display = window.getComputedStyle(gd).display;\n",
       "        if (!display || display === 'none') {{\n",
       "            console.log([gd, 'removed!']);\n",
       "            Plotly.purge(gd);\n",
       "            observer.disconnect();\n",
       "        }}\n",
       "}});\n",
       "\n",
       "// Listen for the removal of the full notebook cells\n",
       "var notebookContainer = gd.closest('#notebook-container');\n",
       "if (notebookContainer) {{\n",
       "    x.observe(notebookContainer, {childList: true});\n",
       "}}\n",
       "\n",
       "// Listen for the clearing of the current output cell\n",
       "var outputEl = gd.closest('.output');\n",
       "if (outputEl) {{\n",
       "    x.observe(outputEl, {childList: true});\n",
       "}}\n",
       "\n",
       "                        })                };                });            </script>        </div>"
      ]
     },
     "metadata": {},
     "output_type": "display_data"
    }
   ],
   "source": [
    "# Get data\n",
    "data = df['Rating'].value_counts().sort_index(ascending=False)\n",
    "\n",
    "# Create trace\n",
    "trace = go.Bar(x = data.index,\n",
    "               text = ['{:.1f} %'.format(val) for val in (data.values / df.shape[0] * 100)],\n",
    "               textposition = 'auto',\n",
    "               textfont = dict(color = '#000000'),\n",
    "               y = data.values,\n",
    "               marker = dict(color = '#db0000'))\n",
    "# Create layout\n",
    "layout = dict(title = 'Distribution Of {} Netflix-Ratings'.format(df.shape[0]),\n",
    "              xaxis = dict(title = 'Rating'),\n",
    "              yaxis = dict(title = 'Count'))\n",
    "# Create plot\n",
    "fig = go.Figure(data=[trace], layout=layout)\n",
    "iplot(fig)"
   ]
  },
  {
   "cell_type": "markdown",
   "metadata": {},
   "source": [
    "# Data Processing - Genres"
   ]
  },
  {
   "cell_type": "markdown",
   "metadata": {},
   "source": [
    "- 計算各類型的數量"
   ]
  },
  {
   "cell_type": "code",
   "execution_count": 10,
   "metadata": {},
   "outputs": [],
   "source": [
    "dic_genre2num = {}\n",
    "for index, genres in enumerate(df['Genre']):\n",
    "    genres = eval(genres)\n",
    "    for genre in genres:\n",
    "        if genre in dic_genre2num.keys():\n",
    "            dic_genre2num[genre] += 1\n",
    "        else:\n",
    "            dic_genre2num[genre] = 1\n",
    "\n",
    "# dic_genre2num"
   ]
  },
  {
   "cell_type": "markdown",
   "metadata": {},
   "source": [
    "- 畫出 bar chart 觀察各類型之數量"
   ]
  },
  {
   "cell_type": "code",
   "execution_count": 11,
   "metadata": {},
   "outputs": [
    {
     "data": {
      "image/png": "[encoded data removed]",
      "text/plain": [
       "<Figure size 1200x800 with 1 Axes>"
      ]
     },
     "metadata": {},
     "output_type": "display_data"
    }
   ],
   "source": [
    "# 將類別和值配對，然後依照值的大小排序\n",
    "sorted_data = sorted(zip(dic_genre2num.keys(), dic_genre2num.values()), key=lambda x: x[1], reverse=True)\n",
    "sorted_categories, sorted_values = zip(*sorted_data)\n",
    "\n",
    "# 繪製 bar chart\n",
    "plt.figure(figsize=(12,8))  # 設置圖表大小（選擇性）\n",
    "bars = plt.bar(sorted_categories, sorted_values, color='skyblue')  # 繪製 bar chart，指定顏色\n",
    "\n",
    "# 加上標題與標籤\n",
    "plt.title('Number of each Genre')  # 圖表標題\n",
    "plt.xlabel('Genres')  # x 軸標籤\n",
    "plt.ylabel('Frequency')  # y 軸標籤\n",
    "\n",
    "# 調整 X 軸標籤的角度\n",
    "plt.xticks(rotation=45, ha='right')  # 將 X 軸標籤逆時針旋轉45度，並靠右對齊\n",
    "\n",
    "# 顯示數值標籤\n",
    "for bar, value in zip(bars, sorted_values):\n",
    "    plt.text(bar.get_x() + bar.get_width() / 2, bar.get_height(),\n",
    "             str(value), ha='center', va='bottom')\n",
    "\n",
    "# 顯示圖表\n",
    "plt.tight_layout()  # 調整佈局，避免標籤被截斷\n",
    "plt.show()"
   ]
  },
  {
   "cell_type": "markdown",
   "metadata": {},
   "source": [
    "- 將各類型轉成 One-Hot Encoding的形式"
   ]
  },
  {
   "cell_type": "code",
   "execution_count": 12,
   "metadata": {},
   "outputs": [
    {
     "data": {
      "text/html": [
       "<div>\n",
       "<style scoped>\n",
       "    .dataframe tbody tr th:only-of-type {\n",
       "        vertical-align: middle;\n",
       "    }\n",
       "\n",
       "    .dataframe tbody tr th {\n",
       "        vertical-align: top;\n",
       "    }\n",
       "\n",
       "    .dataframe thead th {\n",
       "        text-align: right;\n",
       "    }\n",
       "</style>\n",
       "<table border=\"1\" class=\"dataframe\">\n",
       "  <thead>\n",
       "    <tr style=\"text-align: right;\">\n",
       "      <th></th>\n",
       "      <th>Action</th>\n",
       "      <th>Thriller</th>\n",
       "      <th>Adventure</th>\n",
       "      <th>Drama</th>\n",
       "      <th>Comedy</th>\n",
       "      <th>Romance</th>\n",
       "      <th>Family</th>\n",
       "      <th>Fantasy</th>\n",
       "      <th>Crime</th>\n",
       "      <th>Horror</th>\n",
       "      <th>...</th>\n",
       "      <th>Animation</th>\n",
       "      <th>Biography</th>\n",
       "      <th>Sci-Fi</th>\n",
       "      <th>Music</th>\n",
       "      <th>Sport</th>\n",
       "      <th>Western</th>\n",
       "      <th>History</th>\n",
       "      <th>War</th>\n",
       "      <th>Musical</th>\n",
       "      <th>Documentary</th>\n",
       "    </tr>\n",
       "  </thead>\n",
       "  <tbody>\n",
       "    <tr>\n",
       "      <th>0</th>\n",
       "      <td>1</td>\n",
       "      <td>1</td>\n",
       "      <td>0</td>\n",
       "      <td>0</td>\n",
       "      <td>0</td>\n",
       "      <td>0</td>\n",
       "      <td>0</td>\n",
       "      <td>0</td>\n",
       "      <td>0</td>\n",
       "      <td>0</td>\n",
       "      <td>...</td>\n",
       "      <td>0</td>\n",
       "      <td>0</td>\n",
       "      <td>0</td>\n",
       "      <td>0</td>\n",
       "      <td>0</td>\n",
       "      <td>0</td>\n",
       "      <td>0</td>\n",
       "      <td>0</td>\n",
       "      <td>0</td>\n",
       "      <td>0</td>\n",
       "    </tr>\n",
       "    <tr>\n",
       "      <th>1</th>\n",
       "      <td>1</td>\n",
       "      <td>0</td>\n",
       "      <td>1</td>\n",
       "      <td>1</td>\n",
       "      <td>0</td>\n",
       "      <td>0</td>\n",
       "      <td>0</td>\n",
       "      <td>0</td>\n",
       "      <td>0</td>\n",
       "      <td>0</td>\n",
       "      <td>...</td>\n",
       "      <td>0</td>\n",
       "      <td>0</td>\n",
       "      <td>0</td>\n",
       "      <td>0</td>\n",
       "      <td>0</td>\n",
       "      <td>0</td>\n",
       "      <td>0</td>\n",
       "      <td>0</td>\n",
       "      <td>0</td>\n",
       "      <td>0</td>\n",
       "    </tr>\n",
       "    <tr>\n",
       "      <th>2</th>\n",
       "      <td>0</td>\n",
       "      <td>0</td>\n",
       "      <td>0</td>\n",
       "      <td>1</td>\n",
       "      <td>1</td>\n",
       "      <td>1</td>\n",
       "      <td>0</td>\n",
       "      <td>0</td>\n",
       "      <td>0</td>\n",
       "      <td>0</td>\n",
       "      <td>...</td>\n",
       "      <td>0</td>\n",
       "      <td>0</td>\n",
       "      <td>0</td>\n",
       "      <td>0</td>\n",
       "      <td>0</td>\n",
       "      <td>0</td>\n",
       "      <td>0</td>\n",
       "      <td>0</td>\n",
       "      <td>0</td>\n",
       "      <td>0</td>\n",
       "    </tr>\n",
       "    <tr>\n",
       "      <th>3</th>\n",
       "      <td>0</td>\n",
       "      <td>0</td>\n",
       "      <td>1</td>\n",
       "      <td>0</td>\n",
       "      <td>0</td>\n",
       "      <td>0</td>\n",
       "      <td>1</td>\n",
       "      <td>1</td>\n",
       "      <td>0</td>\n",
       "      <td>0</td>\n",
       "      <td>...</td>\n",
       "      <td>0</td>\n",
       "      <td>0</td>\n",
       "      <td>0</td>\n",
       "      <td>0</td>\n",
       "      <td>0</td>\n",
       "      <td>0</td>\n",
       "      <td>0</td>\n",
       "      <td>0</td>\n",
       "      <td>0</td>\n",
       "      <td>0</td>\n",
       "    </tr>\n",
       "    <tr>\n",
       "      <th>4</th>\n",
       "      <td>0</td>\n",
       "      <td>0</td>\n",
       "      <td>0</td>\n",
       "      <td>1</td>\n",
       "      <td>1</td>\n",
       "      <td>0</td>\n",
       "      <td>0</td>\n",
       "      <td>0</td>\n",
       "      <td>1</td>\n",
       "      <td>0</td>\n",
       "      <td>...</td>\n",
       "      <td>0</td>\n",
       "      <td>0</td>\n",
       "      <td>0</td>\n",
       "      <td>0</td>\n",
       "      <td>0</td>\n",
       "      <td>0</td>\n",
       "      <td>0</td>\n",
       "      <td>0</td>\n",
       "      <td>0</td>\n",
       "      <td>0</td>\n",
       "    </tr>\n",
       "    <tr>\n",
       "      <th>...</th>\n",
       "      <td>...</td>\n",
       "      <td>...</td>\n",
       "      <td>...</td>\n",
       "      <td>...</td>\n",
       "      <td>...</td>\n",
       "      <td>...</td>\n",
       "      <td>...</td>\n",
       "      <td>...</td>\n",
       "      <td>...</td>\n",
       "      <td>...</td>\n",
       "      <td>...</td>\n",
       "      <td>...</td>\n",
       "      <td>...</td>\n",
       "      <td>...</td>\n",
       "      <td>...</td>\n",
       "      <td>...</td>\n",
       "      <td>...</td>\n",
       "      <td>...</td>\n",
       "      <td>...</td>\n",
       "      <td>...</td>\n",
       "      <td>...</td>\n",
       "    </tr>\n",
       "    <tr>\n",
       "      <th>1562</th>\n",
       "      <td>1</td>\n",
       "      <td>0</td>\n",
       "      <td>1</td>\n",
       "      <td>0</td>\n",
       "      <td>0</td>\n",
       "      <td>0</td>\n",
       "      <td>0</td>\n",
       "      <td>1</td>\n",
       "      <td>0</td>\n",
       "      <td>0</td>\n",
       "      <td>...</td>\n",
       "      <td>0</td>\n",
       "      <td>0</td>\n",
       "      <td>0</td>\n",
       "      <td>0</td>\n",
       "      <td>0</td>\n",
       "      <td>0</td>\n",
       "      <td>0</td>\n",
       "      <td>0</td>\n",
       "      <td>0</td>\n",
       "      <td>0</td>\n",
       "    </tr>\n",
       "    <tr>\n",
       "      <th>1563</th>\n",
       "      <td>0</td>\n",
       "      <td>0</td>\n",
       "      <td>0</td>\n",
       "      <td>1</td>\n",
       "      <td>0</td>\n",
       "      <td>0</td>\n",
       "      <td>0</td>\n",
       "      <td>0</td>\n",
       "      <td>1</td>\n",
       "      <td>0</td>\n",
       "      <td>...</td>\n",
       "      <td>0</td>\n",
       "      <td>0</td>\n",
       "      <td>0</td>\n",
       "      <td>0</td>\n",
       "      <td>0</td>\n",
       "      <td>0</td>\n",
       "      <td>0</td>\n",
       "      <td>0</td>\n",
       "      <td>0</td>\n",
       "      <td>0</td>\n",
       "    </tr>\n",
       "    <tr>\n",
       "      <th>1564</th>\n",
       "      <td>1</td>\n",
       "      <td>0</td>\n",
       "      <td>0</td>\n",
       "      <td>0</td>\n",
       "      <td>0</td>\n",
       "      <td>0</td>\n",
       "      <td>0</td>\n",
       "      <td>1</td>\n",
       "      <td>1</td>\n",
       "      <td>0</td>\n",
       "      <td>...</td>\n",
       "      <td>0</td>\n",
       "      <td>0</td>\n",
       "      <td>0</td>\n",
       "      <td>0</td>\n",
       "      <td>0</td>\n",
       "      <td>0</td>\n",
       "      <td>0</td>\n",
       "      <td>0</td>\n",
       "      <td>0</td>\n",
       "      <td>0</td>\n",
       "    </tr>\n",
       "    <tr>\n",
       "      <th>1565</th>\n",
       "      <td>1</td>\n",
       "      <td>0</td>\n",
       "      <td>1</td>\n",
       "      <td>0</td>\n",
       "      <td>1</td>\n",
       "      <td>0</td>\n",
       "      <td>0</td>\n",
       "      <td>0</td>\n",
       "      <td>0</td>\n",
       "      <td>0</td>\n",
       "      <td>...</td>\n",
       "      <td>0</td>\n",
       "      <td>0</td>\n",
       "      <td>0</td>\n",
       "      <td>0</td>\n",
       "      <td>0</td>\n",
       "      <td>0</td>\n",
       "      <td>0</td>\n",
       "      <td>0</td>\n",
       "      <td>0</td>\n",
       "      <td>0</td>\n",
       "    </tr>\n",
       "    <tr>\n",
       "      <th>1566</th>\n",
       "      <td>0</td>\n",
       "      <td>0</td>\n",
       "      <td>0</td>\n",
       "      <td>0</td>\n",
       "      <td>1</td>\n",
       "      <td>1</td>\n",
       "      <td>0</td>\n",
       "      <td>0</td>\n",
       "      <td>0</td>\n",
       "      <td>0</td>\n",
       "      <td>...</td>\n",
       "      <td>0</td>\n",
       "      <td>0</td>\n",
       "      <td>0</td>\n",
       "      <td>0</td>\n",
       "      <td>0</td>\n",
       "      <td>0</td>\n",
       "      <td>0</td>\n",
       "      <td>0</td>\n",
       "      <td>0</td>\n",
       "      <td>0</td>\n",
       "    </tr>\n",
       "  </tbody>\n",
       "</table>\n",
       "<p>1567 rows × 21 columns</p>\n",
       "</div>"
      ],
      "text/plain": [
       "      Action  Thriller  Adventure  Drama  Comedy  Romance  Family  Fantasy  \\\n",
       "0          1         1          0      0       0        0       0        0   \n",
       "1          1         0          1      1       0        0       0        0   \n",
       "2          0         0          0      1       1        1       0        0   \n",
       "3          0         0          1      0       0        0       1        1   \n",
       "4          0         0          0      1       1        0       0        0   \n",
       "...      ...       ...        ...    ...     ...      ...     ...      ...   \n",
       "1562       1         0          1      0       0        0       0        1   \n",
       "1563       0         0          0      1       0        0       0        0   \n",
       "1564       1         0          0      0       0        0       0        1   \n",
       "1565       1         0          1      0       1        0       0        0   \n",
       "1566       0         0          0      0       1        1       0        0   \n",
       "\n",
       "      Crime  Horror  ...  Animation  Biography  Sci-Fi  Music  Sport  Western  \\\n",
       "0         0       0  ...          0          0       0      0      0        0   \n",
       "1         0       0  ...          0          0       0      0      0        0   \n",
       "2         0       0  ...          0          0       0      0      0        0   \n",
       "3         0       0  ...          0          0       0      0      0        0   \n",
       "4         1       0  ...          0          0       0      0      0        0   \n",
       "...     ...     ...  ...        ...        ...     ...    ...    ...      ...   \n",
       "1562      0       0  ...          0          0       0      0      0        0   \n",
       "1563      1       0  ...          0          0       0      0      0        0   \n",
       "1564      1       0  ...          0          0       0      0      0        0   \n",
       "1565      0       0  ...          0          0       0      0      0        0   \n",
       "1566      0       0  ...          0          0       0      0      0        0   \n",
       "\n",
       "      History  War  Musical  Documentary  \n",
       "0           0    0        0            0  \n",
       "1           0    0        0            0  \n",
       "2           0    0        0            0  \n",
       "3           0    0        0            0  \n",
       "4           0    0        0            0  \n",
       "...       ...  ...      ...          ...  \n",
       "1562        0    0        0            0  \n",
       "1563        0    0        0            0  \n",
       "1564        0    0        0            0  \n",
       "1565        0    0        0            0  \n",
       "1566        0    0        0            0  \n",
       "\n",
       "[1567 rows x 21 columns]"
      ]
     },
     "execution_count": 12,
     "metadata": {},
     "output_type": "execute_result"
    }
   ],
   "source": [
    "dic_genre2onehot = {}\n",
    "for genre_name in dic_genre2num.keys():\n",
    "    lst = []\n",
    "\n",
    "    # build a list to save one-hot encoding of each genre\n",
    "    for index, genres in enumerate(df['Genre']):\n",
    "        genres = eval(genres)\n",
    "        lst.append(1) if genre_name in genres else lst.append(0)\n",
    "\n",
    "    dic_genre2onehot[genre_name] = lst\n",
    "\n",
    "df_genre2onehot = pd.DataFrame(dic_genre2onehot)\n",
    "df_genre2onehot"
   ]
  },
  {
   "cell_type": "code",
   "execution_count": 13,
   "metadata": {},
   "outputs": [],
   "source": [
    "# # 對每一列進行加總\n",
    "# column_sums = df_genre2onehot.sum(axis=0)\n",
    "\n",
    "# # 顯示結果\n",
    "# print(column_sums)"
   ]
  },
  {
   "cell_type": "markdown",
   "metadata": {},
   "source": [
    "- 合併資料"
   ]
  },
  {
   "cell_type": "code",
   "execution_count": 14,
   "metadata": {},
   "outputs": [
    {
     "data": {
      "text/html": [
       "<div>\n",
       "<style scoped>\n",
       "    .dataframe tbody tr th:only-of-type {\n",
       "        vertical-align: middle;\n",
       "    }\n",
       "\n",
       "    .dataframe tbody tr th {\n",
       "        vertical-align: top;\n",
       "    }\n",
       "\n",
       "    .dataframe thead th {\n",
       "        text-align: right;\n",
       "    }\n",
       "</style>\n",
       "<table border=\"1\" class=\"dataframe\">\n",
       "  <thead>\n",
       "    <tr style=\"text-align: right;\">\n",
       "      <th></th>\n",
       "      <th>Title</th>\n",
       "      <th>Available Globally?</th>\n",
       "      <th>Release Date</th>\n",
       "      <th>Hours Viewed</th>\n",
       "      <th>Number of Ratings</th>\n",
       "      <th>Rating</th>\n",
       "      <th>Genre</th>\n",
       "      <th>Key Words</th>\n",
       "      <th>Description</th>\n",
       "      <th>Action</th>\n",
       "      <th>...</th>\n",
       "      <th>Animation</th>\n",
       "      <th>Biography</th>\n",
       "      <th>Sci-Fi</th>\n",
       "      <th>Music</th>\n",
       "      <th>Sport</th>\n",
       "      <th>Western</th>\n",
       "      <th>History</th>\n",
       "      <th>War</th>\n",
       "      <th>Musical</th>\n",
       "      <th>Documentary</th>\n",
       "    </tr>\n",
       "  </thead>\n",
       "  <tbody>\n",
       "    <tr>\n",
       "      <th>0</th>\n",
       "      <td>Extraction 2</td>\n",
       "      <td>Yes</td>\n",
       "      <td>2023-06-16</td>\n",
       "      <td>201800000</td>\n",
       "      <td>136009.00</td>\n",
       "      <td>7.00</td>\n",
       "      <td>['Action', 'Thriller']</td>\n",
       "      <td>assassin,rescue,escape,mercenary,prison riot</td>\n",
       "      <td>After barely surviving his grievous wounds fro...</td>\n",
       "      <td>1</td>\n",
       "      <td>...</td>\n",
       "      <td>0</td>\n",
       "      <td>0</td>\n",
       "      <td>0</td>\n",
       "      <td>0</td>\n",
       "      <td>0</td>\n",
       "      <td>0</td>\n",
       "      <td>0</td>\n",
       "      <td>0</td>\n",
       "      <td>0</td>\n",
       "      <td>0</td>\n",
       "    </tr>\n",
       "    <tr>\n",
       "      <th>1</th>\n",
       "      <td>Shadow and Bone: Season 2</td>\n",
       "      <td>Yes</td>\n",
       "      <td>2023-03-16</td>\n",
       "      <td>192900000</td>\n",
       "      <td>111361.00</td>\n",
       "      <td>7.60</td>\n",
       "      <td>['Action', 'Adventure', 'Drama']</td>\n",
       "      <td>magic,power,young woman,soldier,gay man</td>\n",
       "      <td>Dark forces conspire against orphan mapmaker A...</td>\n",
       "      <td>1</td>\n",
       "      <td>...</td>\n",
       "      <td>0</td>\n",
       "      <td>0</td>\n",
       "      <td>0</td>\n",
       "      <td>0</td>\n",
       "      <td>0</td>\n",
       "      <td>0</td>\n",
       "      <td>0</td>\n",
       "      <td>0</td>\n",
       "      <td>0</td>\n",
       "      <td>0</td>\n",
       "    </tr>\n",
       "    <tr>\n",
       "      <th>2</th>\n",
       "      <td>Emily in Paris: Season 3</td>\n",
       "      <td>Yes</td>\n",
       "      <td>2022-12-21</td>\n",
       "      <td>161100000</td>\n",
       "      <td>112694.00</td>\n",
       "      <td>6.90</td>\n",
       "      <td>['Comedy', 'Drama', 'Romance']</td>\n",
       "      <td>female protagonist,character name in series ti...</td>\n",
       "      <td>A young American woman from the Midwest is hir...</td>\n",
       "      <td>0</td>\n",
       "      <td>...</td>\n",
       "      <td>0</td>\n",
       "      <td>0</td>\n",
       "      <td>0</td>\n",
       "      <td>0</td>\n",
       "      <td>0</td>\n",
       "      <td>0</td>\n",
       "      <td>0</td>\n",
       "      <td>0</td>\n",
       "      <td>0</td>\n",
       "      <td>0</td>\n",
       "    </tr>\n",
       "    <tr>\n",
       "      <th>3</th>\n",
       "      <td>Alice in Borderland: Season 2 // 今際の国のアリス: シーズン2</td>\n",
       "      <td>Yes</td>\n",
       "      <td>2022-12-22</td>\n",
       "      <td>157600000</td>\n",
       "      <td>119246.00</td>\n",
       "      <td>6.20</td>\n",
       "      <td>['Adventure', 'Family', 'Fantasy']</td>\n",
       "      <td>alice character,caterpillar character,the mad ...</td>\n",
       "      <td>NaN</td>\n",
       "      <td>0</td>\n",
       "      <td>...</td>\n",
       "      <td>0</td>\n",
       "      <td>0</td>\n",
       "      <td>0</td>\n",
       "      <td>0</td>\n",
       "      <td>0</td>\n",
       "      <td>0</td>\n",
       "      <td>0</td>\n",
       "      <td>0</td>\n",
       "      <td>0</td>\n",
       "      <td>0</td>\n",
       "    </tr>\n",
       "    <tr>\n",
       "      <th>4</th>\n",
       "      <td>Glass Onion: A Knives Out Mystery</td>\n",
       "      <td>Yes</td>\n",
       "      <td>2022-12-23</td>\n",
       "      <td>142900000</td>\n",
       "      <td>419661.00</td>\n",
       "      <td>7.10</td>\n",
       "      <td>['Comedy', 'Crime', 'Drama']</td>\n",
       "      <td>sequel,detective,benoit blanc character,twin s...</td>\n",
       "      <td>NaN</td>\n",
       "      <td>0</td>\n",
       "      <td>...</td>\n",
       "      <td>0</td>\n",
       "      <td>0</td>\n",
       "      <td>0</td>\n",
       "      <td>0</td>\n",
       "      <td>0</td>\n",
       "      <td>0</td>\n",
       "      <td>0</td>\n",
       "      <td>0</td>\n",
       "      <td>0</td>\n",
       "      <td>0</td>\n",
       "    </tr>\n",
       "    <tr>\n",
       "      <th>...</th>\n",
       "      <td>...</td>\n",
       "      <td>...</td>\n",
       "      <td>...</td>\n",
       "      <td>...</td>\n",
       "      <td>...</td>\n",
       "      <td>...</td>\n",
       "      <td>...</td>\n",
       "      <td>...</td>\n",
       "      <td>...</td>\n",
       "      <td>...</td>\n",
       "      <td>...</td>\n",
       "      <td>...</td>\n",
       "      <td>...</td>\n",
       "      <td>...</td>\n",
       "      <td>...</td>\n",
       "      <td>...</td>\n",
       "      <td>...</td>\n",
       "      <td>...</td>\n",
       "      <td>...</td>\n",
       "      <td>...</td>\n",
       "      <td>...</td>\n",
       "    </tr>\n",
       "    <tr>\n",
       "      <th>1562</th>\n",
       "      <td>Voices of the New Gen // เสียง (ไม่) เงียบ 2022</td>\n",
       "      <td>No</td>\n",
       "      <td>NaN</td>\n",
       "      <td>100000</td>\n",
       "      <td>182145.00</td>\n",
       "      <td>5.80</td>\n",
       "      <td>['Action', 'Adventure', 'Fantasy']</td>\n",
       "      <td>library,year 1899,steampunk,mina murray charac...</td>\n",
       "      <td>In an alternate Victorian Age world, a group o...</td>\n",
       "      <td>1</td>\n",
       "      <td>...</td>\n",
       "      <td>0</td>\n",
       "      <td>0</td>\n",
       "      <td>0</td>\n",
       "      <td>0</td>\n",
       "      <td>0</td>\n",
       "      <td>0</td>\n",
       "      <td>0</td>\n",
       "      <td>0</td>\n",
       "      <td>0</td>\n",
       "      <td>0</td>\n",
       "    </tr>\n",
       "    <tr>\n",
       "      <th>1563</th>\n",
       "      <td>Wall // Wycieczka</td>\n",
       "      <td>No</td>\n",
       "      <td>NaN</td>\n",
       "      <td>100000</td>\n",
       "      <td>163100.00</td>\n",
       "      <td>7.30</td>\n",
       "      <td>['Crime', 'Drama']</td>\n",
       "      <td>capitalism,1980s,wall street manhattan new yor...</td>\n",
       "      <td>An impatient young stockbroker is willing to d...</td>\n",
       "      <td>0</td>\n",
       "      <td>...</td>\n",
       "      <td>0</td>\n",
       "      <td>0</td>\n",
       "      <td>0</td>\n",
       "      <td>0</td>\n",
       "      <td>0</td>\n",
       "      <td>0</td>\n",
       "      <td>0</td>\n",
       "      <td>0</td>\n",
       "      <td>0</td>\n",
       "      <td>0</td>\n",
       "    </tr>\n",
       "    <tr>\n",
       "      <th>1564</th>\n",
       "      <td>What Happened to Mr. Cha? // 차인표</td>\n",
       "      <td>Yes</td>\n",
       "      <td>2021-01-01</td>\n",
       "      <td>100000</td>\n",
       "      <td>131713.00</td>\n",
       "      <td>6.80</td>\n",
       "      <td>['Action', 'Crime', 'Fantasy']</td>\n",
       "      <td>overpopulation,one child policy,actress playin...</td>\n",
       "      <td>NaN</td>\n",
       "      <td>1</td>\n",
       "      <td>...</td>\n",
       "      <td>0</td>\n",
       "      <td>0</td>\n",
       "      <td>0</td>\n",
       "      <td>0</td>\n",
       "      <td>0</td>\n",
       "      <td>0</td>\n",
       "      <td>0</td>\n",
       "      <td>0</td>\n",
       "      <td>0</td>\n",
       "      <td>0</td>\n",
       "    </tr>\n",
       "    <tr>\n",
       "      <th>1565</th>\n",
       "      <td>Women´s Revenge // Ženská pomsta</td>\n",
       "      <td>No</td>\n",
       "      <td>NaN</td>\n",
       "      <td>100000</td>\n",
       "      <td>350677.00</td>\n",
       "      <td>7.90</td>\n",
       "      <td>['Action', 'Adventure', 'Comedy']</td>\n",
       "      <td>based on comic,god complex,raccoon,guardians o...</td>\n",
       "      <td>Still reeling from the loss of Gamora, Peter Q...</td>\n",
       "      <td>1</td>\n",
       "      <td>...</td>\n",
       "      <td>0</td>\n",
       "      <td>0</td>\n",
       "      <td>0</td>\n",
       "      <td>0</td>\n",
       "      <td>0</td>\n",
       "      <td>0</td>\n",
       "      <td>0</td>\n",
       "      <td>0</td>\n",
       "      <td>0</td>\n",
       "      <td>0</td>\n",
       "    </tr>\n",
       "    <tr>\n",
       "      <th>1566</th>\n",
       "      <td>Zack and Miri Make a Porno</td>\n",
       "      <td>No</td>\n",
       "      <td>NaN</td>\n",
       "      <td>100000</td>\n",
       "      <td>181297.00</td>\n",
       "      <td>6.50</td>\n",
       "      <td>['Comedy', 'Romance']</td>\n",
       "      <td>female full frontal nudity,female nudity,breas...</td>\n",
       "      <td>NaN</td>\n",
       "      <td>0</td>\n",
       "      <td>...</td>\n",
       "      <td>0</td>\n",
       "      <td>0</td>\n",
       "      <td>0</td>\n",
       "      <td>0</td>\n",
       "      <td>0</td>\n",
       "      <td>0</td>\n",
       "      <td>0</td>\n",
       "      <td>0</td>\n",
       "      <td>0</td>\n",
       "      <td>0</td>\n",
       "    </tr>\n",
       "  </tbody>\n",
       "</table>\n",
       "<p>1567 rows × 30 columns</p>\n",
       "</div>"
      ],
      "text/plain": [
       "                                                 Title Available Globally?  \\\n",
       "0                                         Extraction 2                 Yes   \n",
       "1                            Shadow and Bone: Season 2                 Yes   \n",
       "2                             Emily in Paris: Season 3                 Yes   \n",
       "3     Alice in Borderland: Season 2 // 今際の国のアリス: シーズン2                 Yes   \n",
       "4                    Glass Onion: A Knives Out Mystery                 Yes   \n",
       "...                                                ...                 ...   \n",
       "1562   Voices of the New Gen // เสียง (ไม่) เงียบ 2022                  No   \n",
       "1563                                 Wall // Wycieczka                  No   \n",
       "1564                  What Happened to Mr. Cha? // 차인표                 Yes   \n",
       "1565                  Women´s Revenge // Ženská pomsta                  No   \n",
       "1566                        Zack and Miri Make a Porno                  No   \n",
       "\n",
       "     Release Date  Hours Viewed  Number of Ratings  Rating  \\\n",
       "0      2023-06-16     201800000          136009.00    7.00   \n",
       "1      2023-03-16     192900000          111361.00    7.60   \n",
       "2      2022-12-21     161100000          112694.00    6.90   \n",
       "3      2022-12-22     157600000          119246.00    6.20   \n",
       "4      2022-12-23     142900000          419661.00    7.10   \n",
       "...           ...           ...                ...     ...   \n",
       "1562          NaN        100000          182145.00    5.80   \n",
       "1563          NaN        100000          163100.00    7.30   \n",
       "1564   2021-01-01        100000          131713.00    6.80   \n",
       "1565          NaN        100000          350677.00    7.90   \n",
       "1566          NaN        100000          181297.00    6.50   \n",
       "\n",
       "                                   Genre  \\\n",
       "0                 ['Action', 'Thriller']   \n",
       "1       ['Action', 'Adventure', 'Drama']   \n",
       "2         ['Comedy', 'Drama', 'Romance']   \n",
       "3     ['Adventure', 'Family', 'Fantasy']   \n",
       "4           ['Comedy', 'Crime', 'Drama']   \n",
       "...                                  ...   \n",
       "1562  ['Action', 'Adventure', 'Fantasy']   \n",
       "1563                  ['Crime', 'Drama']   \n",
       "1564      ['Action', 'Crime', 'Fantasy']   \n",
       "1565   ['Action', 'Adventure', 'Comedy']   \n",
       "1566               ['Comedy', 'Romance']   \n",
       "\n",
       "                                              Key Words  \\\n",
       "0          assassin,rescue,escape,mercenary,prison riot   \n",
       "1               magic,power,young woman,soldier,gay man   \n",
       "2     female protagonist,character name in series ti...   \n",
       "3     alice character,caterpillar character,the mad ...   \n",
       "4     sequel,detective,benoit blanc character,twin s...   \n",
       "...                                                 ...   \n",
       "1562  library,year 1899,steampunk,mina murray charac...   \n",
       "1563  capitalism,1980s,wall street manhattan new yor...   \n",
       "1564  overpopulation,one child policy,actress playin...   \n",
       "1565  based on comic,god complex,raccoon,guardians o...   \n",
       "1566  female full frontal nudity,female nudity,breas...   \n",
       "\n",
       "                                            Description  Action  ...  \\\n",
       "0     After barely surviving his grievous wounds fro...       1  ...   \n",
       "1     Dark forces conspire against orphan mapmaker A...       1  ...   \n",
       "2     A young American woman from the Midwest is hir...       0  ...   \n",
       "3                                                   NaN       0  ...   \n",
       "4                                                   NaN       0  ...   \n",
       "...                                                 ...     ...  ...   \n",
       "1562  In an alternate Victorian Age world, a group o...       1  ...   \n",
       "1563  An impatient young stockbroker is willing to d...       0  ...   \n",
       "1564                                                NaN       1  ...   \n",
       "1565  Still reeling from the loss of Gamora, Peter Q...       1  ...   \n",
       "1566                                                NaN       0  ...   \n",
       "\n",
       "      Animation  Biography  Sci-Fi  Music  Sport  Western  History  War  \\\n",
       "0             0          0       0      0      0        0        0    0   \n",
       "1             0          0       0      0      0        0        0    0   \n",
       "2             0          0       0      0      0        0        0    0   \n",
       "3             0          0       0      0      0        0        0    0   \n",
       "4             0          0       0      0      0        0        0    0   \n",
       "...         ...        ...     ...    ...    ...      ...      ...  ...   \n",
       "1562          0          0       0      0      0        0        0    0   \n",
       "1563          0          0       0      0      0        0        0    0   \n",
       "1564          0          0       0      0      0        0        0    0   \n",
       "1565          0          0       0      0      0        0        0    0   \n",
       "1566          0          0       0      0      0        0        0    0   \n",
       "\n",
       "      Musical  Documentary  \n",
       "0           0            0  \n",
       "1           0            0  \n",
       "2           0            0  \n",
       "3           0            0  \n",
       "4           0            0  \n",
       "...       ...          ...  \n",
       "1562        0            0  \n",
       "1563        0            0  \n",
       "1564        0            0  \n",
       "1565        0            0  \n",
       "1566        0            0  \n",
       "\n",
       "[1567 rows x 30 columns]"
      ]
     },
     "execution_count": 14,
     "metadata": {},
     "output_type": "execute_result"
    }
   ],
   "source": [
    "df = pd.concat([df, df_genre2onehot], axis=1)\n",
    "df"
   ]
  },
  {
   "cell_type": "markdown",
   "metadata": {},
   "source": [
    "- 將各類型之評分資料取出"
   ]
  },
  {
   "cell_type": "code",
   "execution_count": 15,
   "metadata": {},
   "outputs": [
    {
     "data": {
      "text/plain": [
       "{'Action': array([7. , 7.6, 7.6, 6. , 6.8, 6.3, 6.7, 7.2, 6.6, 9.3, 8.2, 5.2, 9.3,\n",
       "        7.2, 9.3, 6.1, 6.7, 7.6, 6.5, 7.3, 6.9, 6.6, 9. , 8.2, 6.7, 7.8,\n",
       "        6. , 7.5, 6.7, 6.2, 7.1, 5.8, 7.7, 6.5, 6.3, 6.2, 7.9, 7.4, 7.3,\n",
       "        7.2, 6.6, 7. , 6.3, 5.6, 6.5, 5.2, 6.4, 6.2, 7.4, 6.3, 6.6, 7.8,\n",
       "        5.6, 6.9, 7.9, 7.9, 7.8, 9. , 7.4, 9. , 5.8, 6.6, 7.6, 8.2, 5.9,\n",
       "        8.1, 6.3, 6.6, 5.5, 6.6, 6.7, 7.5, 7.2, 6.8, 7.4, 6.3, 7.3, 6.4,\n",
       "        7. , 8.8, 6.2, 7.1, 7.6, 7. , 5.7, 6.6, 7.4, 7.4, 6.7, 7.4, 8.5,\n",
       "        6.3, 6.6, 6.6, 5.7, 6.1, 7.3, 7.4, 7.2, 5.6, 5.6, 7.2, 5.9, 7.8,\n",
       "        6.9, 7. , 8.4, 5.4, 7. , 7.4, 5.1, 7.6, 6.4, 6.9, 5.8, 8. , 5.3,\n",
       "        9. , 5.6, 6.5, 5.2, 5.5, 9. , 7.3, 6.5, 8.2, 7.7, 5.9, 5.6, 6.1,\n",
       "        6.7, 7.6, 7.5, 6.4, 8.3, 5.2, 5.9, 6.5, 7.2, 6.7, 5.3, 6.6, 5.6,\n",
       "        6.2, 4. , 6.1, 6.6, 6.1, 6.2, 6.7, 6.5, 6.9, 5.6, 6.5, 8. , 7.3,\n",
       "        6.4, 7.8, 8.5, 7.6, 7. , 6.1, 6.3, 8.8, 7.1, 8. , 7.3, 6.6, 6.4,\n",
       "        6.7, 6.2, 7. , 7.8, 6.5, 6.1, 6.4, 6.7, 5.6, 8.2, 6.4, 7. , 6.1,\n",
       "        6.8, 5.7, 6.4, 6.1, 6.3, 6.5, 6. , 7.1, 7.8, 7.7, 4.6, 7. , 6.1,\n",
       "        5.7, 7.4, 9. , 5.5, 6.8, 7.7, 7. , 6.4, 7.3, 6.2, 7.7, 8.6, 6.3,\n",
       "        5.6, 7. , 7.6, 9.1, 7.1, 6.1, 6.5, 7.5, 7.5, 6.3, 6.1, 6.4, 6.6,\n",
       "        6.5, 5.9, 6.6, 7.3, 5.7, 6.8, 6.9, 5.5, 7. , 7.3, 6.4, 8. , 6.6,\n",
       "        7.1, 7.5, 7.6, 8.3, 7.8, 6.3, 6.9, 7.1, 6.6, 8.2, 5.6, 6.9, 4.3,\n",
       "        6.6, 6.4, 8.3, 8.4, 6.5, 5.9, 8.2, 7. , 6.4, 5.8, 7.8, 7.4, 6.4,\n",
       "        6.8, 6.3, 7.4, 6.2, 7.1, 7.3, 8.2, 6.8, 6.6, 6.1, 6.6, 7.9, 7.6,\n",
       "        8.1, 5.4, 6. , 7.8, 5.5, 7.5, 6.1, 6.2, 6.6, 6. , 7.3, 6.9, 5.4,\n",
       "        6.7, 5.8, 5.3, 6.7, 6.8, 6.8, 8. , 5.8, 6.5, 7.6, 6.3, 6.4, 6.1,\n",
       "        5.2, 6.5, 8. , 7. , 6.8, 7.9, 6.3, 6.8, 6.6, 7. , 6.2, 5.1, 5.2,\n",
       "        7.3, 6.4, 7.8, 6.6, 6.3, 8.1, 6.4, 6.7, 7.2, 5.5, 7.7, 6.9, 5.3,\n",
       "        6.4, 6.2, 5.4, 6.2, 6.6, 6.5, 6.3, 6.6, 7.6, 6.1, 5.6, 5.3, 5.9,\n",
       "        7.6, 7.1, 6.4, 7.9, 7.9, 6.7, 7.3, 5.9, 5.7, 6. , 7.8, 5.7, 6.5,\n",
       "        6.5, 7.6, 6.5, 7.7, 7.8, 5.9, 7.3, 8.7, 5.5, 6.6, 6.3, 8.2, 7.2,\n",
       "        6.3, 7.3, 7. , 6.4, 6.8, 7.4, 7.6, 6.1, 6.6, 7.4, 6.3, 8.1, 6.7,\n",
       "        6.3, 7.8, 5.8, 7.3, 6.6, 6.8, 6.6, 5.5, 6.9, 7.8, 6.2, 8.2, 5.7,\n",
       "        7.2, 7. , 7.5, 7.7, 7.8, 5.5, 9. , 7.3, 5.6, 6.4, 5.8, 6.2, 5.6,\n",
       "        6.6, 6.4, 7. , 6.3, 6.6, 6.5, 7. , 6.2, 6.5, 6.2, 6.9, 7.3, 6.4,\n",
       "        6.1, 6.6, 6.6, 7.3, 6.6, 6.1, 6.6, 7.4, 7.1, 7. , 5.1, 6. , 6.6,\n",
       "        6.3, 7.8, 6. , 5.8, 7.7, 7.6, 5.7, 6.5, 7. , 7. , 8. , 7.8, 6.7,\n",
       "        5.8, 9. , 8. , 7.3, 7.7, 4.9, 6.7, 5.7, 6.6, 7.2, 5.8, 6.5, 7.8,\n",
       "        6.7, 6.2, 8.2, 6.3, 6.5, 7.9, 7.6, 6.9, 6.7, 7.9, 6.7, 6.7, 6.5,\n",
       "        7.8, 6.5, 8.1, 6.8, 6.9, 5.8, 7.9, 8.2, 6.4, 8.2, 7. , 8.8, 6.9,\n",
       "        6.6, 5.7, 7.2, 6.2, 6.2, 6.3, 6.2, 6.1, 6.6, 6.7, 8. , 6.9, 7.1,\n",
       "        6.6, 6.8, 5.8, 7.4, 6.1, 6.3, 6.6, 7.1, 6.3, 6.3, 7.8, 7.5, 5.6,\n",
       "        6.5, 7. , 5.2, 8. , 6.5, 5.8, 7.3, 6.4, 4.3, 6.4, 6.7, 7.9, 7.9,\n",
       "        6.5, 6.1, 6.7, 6.6, 6.9, 8.4, 6.3, 7.4, 7.1, 7.7, 6.5, 8.1, 6.5,\n",
       "        6.5, 6.7, 7.5, 7.7, 6.1, 6.2, 6.6, 6.3, 8. , 7.6, 6. , 7.3, 6.9,\n",
       "        5.6, 7.5, 6.6, 6.5, 7.5, 6. , 6. , 7.9, 6.3, 6.6, 6.1, 7.5, 6.3,\n",
       "        6.3, 4.9, 5.5, 7.3, 7. , 7.9, 7.9, 5.6, 8.2, 8. , 6.5, 6.9, 7.6,\n",
       "        7.1, 7.5, 5.7, 6.3, 6.5, 7.9, 7.9, 6.6, 6.2, 7.6, 7.8, 7. , 6.9,\n",
       "        6.5, 6.1, 7.4, 6.5, 6.6, 9. , 6.3, 5.7, 8.2, 7.1, 7.9, 6.5, 7.8,\n",
       "        7.9, 6.6, 6.8, 6.8, 6.8, 6.2, 6.9, 9. , 9. , 8.8, 7.3, 8.8, 5.4,\n",
       "        7.8, 7.3, 7.3, 6.3, 5.8, 6.8, 7.9]),\n",
       " 'Thriller': array([7. , 8.1, 6.8, 8.1, 6.3, 8.1, 8.1, 8.1, 8.1, 5.2, 6.1, 6.7, 7.3,\n",
       "        4.6, 6.7, 7.7, 6.5, 4.2, 6.6, 6.3, 6.4, 7.8, 7.9, 7.4, 7. , 6.6,\n",
       "        6.3, 7. , 7.4, 7.4, 7.4, 6.3, 8.6, 7.8, 7.4, 7.2, 7. , 7.3, 7. ,\n",
       "        5.3, 8. , 7.2, 8.2, 6.5, 7.5, 7.3, 6.7, 7.2, 8. , 6.1, 7.1, 6.7,\n",
       "        6.6, 8. , 6.4, 7.6, 6.3, 7.5, 8. , 7.3, 7.1, 6.7, 7.8, 6.5, 8.5,\n",
       "        6.4, 7. , 6. , 6.4, 6.1, 6.5, 8.4, 7.8, 7.7, 7. , 6.6, 6.1, 6.4,\n",
       "        7.3, 6.6, 6.2, 7. , 8. , 6.5, 7.1, 7.6, 6.3, 6.9, 6.6, 8.1, 7.7,\n",
       "        4.3, 6.3, 7.1, 6.1, 8.4, 5.9, 5.8, 6.2, 6.3, 6.3, 6.6, 7.2, 5.4,\n",
       "        8.5, 6.6, 6.5, 7.5, 7.6, 6.1, 6.6, 6.7, 7.6, 6.4, 7.7, 6.9, 7.7,\n",
       "        6.8, 7.4, 6.6, 6.9, 7. , 7.7, 6.4, 6.6, 6.8, 6.5, 6.4, 5.3, 7.5,\n",
       "        8. , 5.5, 8. , 7.8, 6.4, 6.2, 7.5, 6.1, 6.3, 6.8, 5.8, 7.8, 5.4,\n",
       "        6.4, 8. , 6.2, 6. , 6.5, 6.5, 6.3, 8.1, 6.5, 7.2, 7. , 5.8, 7.6,\n",
       "        6.2, 6.7, 6.8, 7.1, 7.3, 6.6, 8.2, 7.1, 8.5, 6.5, 7.2, 7.1, 7.5,\n",
       "        7.4, 7. , 6.2, 7.3, 7. , 6.5, 7.6, 7.5, 6.5, 6.7, 6.9, 7.3, 6.4,\n",
       "        6.8, 7.5, 6.7, 8.1, 6.6, 7.8, 6.7, 6.7, 7. , 7.6, 6.8, 5.7, 5.5,\n",
       "        5.1, 6.9, 8.1, 7.7, 7.1, 6.5, 7.7, 7.2, 6.7, 7.8, 6.7, 7. , 6.8,\n",
       "        7.3, 5.8, 5.9, 8.2, 6.9, 5.7, 7.6, 6.8, 6.2, 6.7, 6.4, 8.6, 6.1,\n",
       "        6.6, 6.7, 7.9, 6.2, 6.8, 6.8, 6.3, 6.3, 7. , 7. , 8.1, 8.6, 5.2,\n",
       "        8. , 7. , 6.3, 6.4, 8.1, 7.7, 6.7, 6.6, 8.4, 6.3, 6.8, 5.8, 6.5,\n",
       "        6.5, 6.8, 7.5, 7.7, 6.1, 6.2, 6.6, 6.7, 7.7, 7.7, 7.3, 6.6, 6.5,\n",
       "        6.2, 6.5, 5.3, 6.9, 6.8, 5.9, 7.2, 6.3, 7.7, 7.6, 7. , 7.3, 6.1,\n",
       "        6.6, 4.2, 5.6, 6.2, 6.2, 4.9, 7.7, 7.8, 6.5, 6.5, 8.2, 8.2, 7.1,\n",
       "        7.1, 6.8, 6.4, 6.9, 8.6, 7.3, 7.3]),\n",
       " 'Adventure': array([7.6, 6.2, 7.6, 6.3, 6.6, 6.7, 6.5, 7.6, 7.2, 7.9, 7.3, 6.6, 9.3,\n",
       "        9.3, 7.2, 9.3, 6. , 7.6, 7. , 6.9, 6.7, 9. , 6.4, 6.7, 6. , 7.5,\n",
       "        6.2, 7.6, 7.1, 7.7, 6.5, 6.3, 7.9, 8.1, 7.3, 7.4, 6.1, 6.9, 7.2,\n",
       "        7. , 9.1, 6.5, 5.2, 6.2, 6.3, 7.4, 7.9, 7.7, 6.6, 7.8, 6.4, 5.6,\n",
       "        6.5, 6.9, 7.9, 7.8, 9. , 5.8, 6.6, 7.6, 8.2, 5.9, 5.5, 6.8, 8.1,\n",
       "        8.2, 6.3, 6.6, 6.6, 6.7, 7.5, 7.4, 6.3, 8.6, 6.9, 6.4, 8.8, 7.1,\n",
       "        7. , 5.7, 6.6, 9.1, 9.1, 7.4, 6.7, 7.7, 8.7, 7.4, 8.5, 4.8, 6.6,\n",
       "        6.6, 5.7, 9.1, 9.1, 6.6, 7.2, 5.9, 6.9, 8.4, 5.4, 8.1, 6.8, 7.4,\n",
       "        4.9, 5.1, 7.6, 6.4, 6.9, 5.8, 6.1, 9. , 6.5, 5.2, 5.5, 9. , 7. ,\n",
       "        6.5, 8.2, 5.9, 6.1, 6.7, 7.5, 8. , 5.2, 5.9, 7.2, 7.6, 6.1, 6.8,\n",
       "        6.6, 6.1, 4. , 8. , 6.1, 6.1, 8. , 7.3, 5.6, 7.1, 6.1, 6.8, 6.1,\n",
       "        8.5, 8.8, 7.7, 8. , 6.6, 6.4, 6.2, 7. , 6.4, 7.3, 5.6, 8.2, 6.1,\n",
       "        7. , 5.7, 6.7, 6.3, 7.8, 7.7, 6.1, 5.7, 9. , 5.5, 6.8, 6.2, 7. ,\n",
       "        7.3, 6. , 7.7, 6.9, 7. , 7.6, 9.1, 7.1, 8.1, 6.6, 6.5, 7.1, 5.9,\n",
       "        6.5, 5.7, 7.1, 8.4, 6.9, 6.4, 7.4, 6.6, 6.1, 6.9, 6.6, 7.6, 8.1,\n",
       "        5.6, 7.1, 8.3, 6.9, 5.8, 7.4, 6.8, 6.3, 7.4, 7. , 7.2, 6.5, 8.2,\n",
       "        7.1, 6.1, 7.9, 7.4, 6. , 6.8, 6.1, 6.6, 6. , 7. , 6.9, 5.4, 6.7,\n",
       "        6.8, 6.8, 6.5, 6.1, 6.3, 5.2, 6.5, 7. , 7.9, 6.2, 5.1, 6.5, 7.3,\n",
       "        7.8, 6.3, 8.1, 6.4, 6.7, 6.4, 5.5, 6.7, 7.7, 8. , 6.9, 5.3, 7.3,\n",
       "        5.4, 6.6, 6.5, 6.5, 7.6, 6.6, 7.8, 7.3, 6.1, 5.6, 5.9, 7.1, 7.6,\n",
       "        7.8, 7.9, 7.9, 6.7, 7.3, 5.9, 5.7, 7.8, 5.7, 6.5, 6.5, 7.7, 7.4,\n",
       "        7.8, 5.9, 7.3, 5.5, 6.6, 6.8, 7.6, 6.3, 7.2, 7.2, 7.3, 6.4, 6.8,\n",
       "        7.4, 7.4, 7.3, 5.8, 6.6, 6.8, 5.3, 5.5, 6.9, 6.1, 8.1, 6.3, 8. ,\n",
       "        7. , 7.5, 7.7, 7. , 8.3, 7.9, 5.5, 9. , 7.3, 5.6, 7. , 5.8, 6.4,\n",
       "        6.1, 6.4, 7. , 6.6, 7. , 6.2, 7.3, 6.6, 6.1, 5.1, 8.3, 6. , 5.8,\n",
       "        6.6, 7.6, 6.5, 6.7, 7.4, 6.5, 8.1, 7.8, 7.3, 6.6, 5.8, 9. , 8. ,\n",
       "        4.9, 7.1, 7.2, 5.8, 6.5, 7.8, 7.4, 6.6, 6.2, 8.1, 6.3, 8. , 6.9,\n",
       "        6.7, 7.8, 7.9, 6.7, 7.1, 6.5, 8.1, 5.8, 7.9, 7. , 6.4, 7.9, 7. ,\n",
       "        8.8, 8.1, 5.7, 7.2, 6.2, 8. , 7.3, 6.1, 8. , 6.6, 6.1, 7.4, 6.1,\n",
       "        6.6, 7.8, 5.6, 6.5, 7. , 7. , 7.1, 6.4, 4.3, 7.5, 7.9, 7.9, 7.5,\n",
       "        6.1, 6.9, 7.7, 6.5, 8.1, 6.5, 6.7, 7.5, 7.2, 8. , 6. , 6.9, 7.7,\n",
       "        6.5, 7.5, 7.5, 6. , 6.7, 6. , 7.9, 6.9, 6.6, 6.1, 7.3, 7.3, 7.5,\n",
       "        5.5, 7. , 8.5, 6.9, 7.6, 6.9, 6.5, 7.9, 7.9, 6.6, 7.6, 7.8, 6.9,\n",
       "        6.1, 7.4, 6.5, 9. , 6.7, 5.7, 8.1, 7.9, 6.5, 8.1, 8.8, 7.9, 6.6,\n",
       "        7.8, 7.4, 6.8, 6.8, 7.4, 6.2, 6.9, 6.9, 7.3, 9. , 8. , 9. , 8.8,\n",
       "        6.9, 8.8, 5.4, 7.8, 7.3, 7.3, 6.3, 5.8, 7.9]),\n",
       " 'Drama': array([7.6, 6.9, 7.1, 8.1, 7.6, 9. , 8.1, 7.9, 8.1, 7.5, 8.1, 8.1, 9. ,\n",
       "        8.1, 7.3, 8.2, 9. , 9. , 9. , 9. , 7.2, 8.1, 7.2, 8.2, 7.8, 7.8,\n",
       "        4.6, 7.1, 5.8, 7.9, 7.3, 7.2, 6.2, 8.1, 7.4, 8.1, 7. , 4.2, 7.6,\n",
       "        6.6, 7.3, 7.1, 5.6, 7.9, 6.4, 8.1, 8.8, 8.2, 6.5, 7.4, 7.1, 9. ,\n",
       "        8.1, 7. , 8.1, 7.1, 5.5, 8.1, 7.3, 8.1, 6.3, 7.3, 9.2, 7. , 7.1,\n",
       "        8.8, 7.1, 6.2, 7.6, 5.8, 7.8, 6.7, 8.7, 7.8, 8.5, 4.8, 7.1, 6.1,\n",
       "        7.3, 8.6, 7.5, 5.6, 7.3, 7.3, 7.3, 8.3, 6.2, 7. , 7. , 7.9, 4.9,\n",
       "        5.1, 7.2, 8. , 7.3, 5.6, 9. , 7.3, 7.7, 7.7, 8. , 5.6, 7.7, 6.1,\n",
       "        8. , 6.4, 7.3, 8.3, 7.2, 7.6, 7.3, 7.2, 7.6, 7.5, 7.8, 6.8, 7.8,\n",
       "        7.2, 7.7, 7.7, 6.2, 8. , 6.3, 6.7, 7.1, 7.1, 8.1, 8. , 6.5, 8.6,\n",
       "        8. , 7.2, 8.2, 7.6, 7.9, 8.3, 7.3, 8.5, 6.4, 7.3, 7.2, 6.3, 7.2,\n",
       "        7.4, 7. , 8. , 8.5, 8. , 8.9, 8. , 6.4, 7.3, 7.5, 8.5, 7.1, 7.4,\n",
       "        7.8, 7.5, 7.1, 6.6, 8.4, 7.9, 6.8, 7.5, 6.5, 7.3, 6.9, 6.4, 6.7,\n",
       "        7.3, 7.3, 7.6, 7.3, 7.8, 6.3, 6.6, 7.1, 7.1, 7.8, 7.7, 8. , 7.4,\n",
       "        6.5, 7.8, 7.5, 6.4, 8.1, 7.1, 6.8, 7.5, 7.3, 5.6, 7.2, 6.8, 6.8,\n",
       "        7.3, 8.4, 6.5, 7.1, 6.3, 6.9, 6.7, 6.4, 7.4, 6.6, 6.7, 6.8, 7.9,\n",
       "        7.4, 7.5, 8.3, 7.6, 7.8, 7.1, 7.6, 8.2, 8.2, 7.5, 6. , 8. , 6.6,\n",
       "        6.7, 6.4, 8.4, 6.5, 8.2, 7.2, 8.2, 8.1, 7. , 7.8, 6.4, 6.2, 8.5,\n",
       "        7.9, 7.3, 8.6, 7.6, 6.3, 8. , 7.3, 8.3, 7.6, 8.2, 7.1, 7.9, 7.6,\n",
       "        7.2, 8.1, 7.2, 6.8, 6.4, 6.9, 8.5, 7.7, 7.8, 7.5, 7.7, 7.8, 7.8,\n",
       "        7.5, 8.3, 6.8, 6.5, 5.7, 7.3, 7.5, 7.6, 7.6, 6.7, 6.4, 8. , 8.1,\n",
       "        7.1, 7.1, 8. , 7.5, 7.7, 6.5, 7.7, 7.4, 8.4, 6.8, 6.9, 5.3, 7.7,\n",
       "        5.1, 5.8, 7.3, 6.5, 7.9, 7.8, 7.8, 6.8, 7.6, 7.4, 6.5, 7.4, 7.6,\n",
       "        6.7, 7.5, 7.7, 7.2, 5.5, 7. , 8. , 7.8, 7. , 7. , 7.4, 6.2, 7.7,\n",
       "        7.6, 7.5, 7.5, 7.6, 8.5, 7.8, 6.5, 7.4, 9.3, 6.8, 6.9, 7.4, 8.6,\n",
       "        6.3, 7.8, 7.1, 7.5, 8. , 7.9, 7.9, 8. , 7.3, 8.1, 6.5, 6.3, 8.1,\n",
       "        7.5, 7.7, 7.4, 7.8, 6.5, 6.4, 7.8, 8.1, 6.8, 6.1, 7.3, 7.2, 7.5,\n",
       "        7. , 5.8, 7.3, 8.1, 6.1, 6.4, 7.3, 8.1, 8.4, 7.3, 6.3, 7.1, 7.3,\n",
       "        6.5, 9. , 7.8, 7.2, 7.1, 7.2, 6.2, 7.1, 8.2, 7.7, 7.6, 7.5, 7.7,\n",
       "        6.5, 8.7, 7.4, 9. , 8.1, 9. , 7.5, 7. , 6.4, 6.8, 6.8, 7.4, 6.3,\n",
       "        6.3, 7.5, 7. , 8.2, 7.1, 7.6, 6.1, 7.5, 8.6, 7.3, 7.1, 6.7, 7.2,\n",
       "        7.3, 7.4, 6.5, 6.3, 7.4, 7.8, 6.1, 6.6, 6.8, 6.6, 8.4, 7.4, 7.8,\n",
       "        7.4, 7. , 7.8, 7.8, 7.5, 7.5, 6. , 8.3, 8.7, 7.3, 8.1, 6.6, 8.2,\n",
       "        7.7, 6.7, 6.5, 6. , 6.2, 7.6, 8. , 7.3, 8.1, 6.3, 7.6, 6.8, 7.6,\n",
       "        6.6, 5.8, 9. , 8. , 7.3, 7.4, 7. , 7.7, 6.6, 6.8, 7.2, 7. , 8.6,\n",
       "        7.4, 8.1, 6.9, 8.1, 7.6, 6.5, 8.2, 6.4, 7.7, 8.1, 8. , 7.1, 7.9,\n",
       "        7.4, 7.6, 7.7, 7.2, 7.8, 7.9, 7.3, 8.2, 6.6, 7.8, 7.6, 7.4, 8.1,\n",
       "        7.2, 7.8, 8.7, 8.2, 5.2, 8.2, 7.3, 7.9, 8.4, 8.2, 7.1, 8.3, 8.8,\n",
       "        8.1, 6.5, 7.8, 7.7, 8.2, 7.6, 6.3, 6.7, 8. , 7.4, 7.2, 8.5, 7.3,\n",
       "        8.6, 7.7, 7.3, 6.2, 6.5, 6.5, 6.5, 8.1, 8. , 8. , 6.9, 7. , 7.8,\n",
       "        7.9, 6.9, 8.4, 7.1, 8. , 6.8, 6.8, 6.1, 7.6, 8.1, 6.6, 7.6, 7.1,\n",
       "        7.5, 7.4, 7.1, 7.2, 7.3, 7.3, 7.2, 8.5, 5.8, 7. , 6.5, 8.1, 8.6,\n",
       "        7.3, 7.2, 6.7, 7.4, 8. , 8. , 6.7, 7. , 6.5, 7.3, 7.5, 6.7, 8.1,\n",
       "        7.7, 6.3, 6.5, 7.5, 6.2, 8.1, 8.1, 7.7, 7.6, 7. , 7.4, 8.4, 7.6,\n",
       "        7.6, 6.8, 7.4, 6.5, 7.1, 8. , 7. , 6.5, 7.5, 6.7, 6.8, 8.2, 7.7,\n",
       "        6.6, 7.5, 6.9, 7.1, 7.5, 7.7, 8. , 7.2, 8. , 7.9, 7.7, 6.3, 7.7,\n",
       "        7.3, 7.7, 8. , 7.7, 7.7, 8.1, 7.5, 6.3, 7.6, 7.6, 8.3, 7.6, 7. ,\n",
       "        6.6, 8.2, 7.1, 7.1, 7.1, 6.5, 6.7, 7.2, 8. , 7.7, 5.3, 6.9, 7.2,\n",
       "        7.9, 7.2, 6.3, 6.8, 7. , 6.1, 7.3, 7.2, 8.5, 7.3, 8.4, 6.4, 6.2,\n",
       "        8.2, 7.2, 7.6, 7.3, 7.2, 7.9, 7.9, 7.5, 8. , 5.6, 8.4, 8.3, 7.9,\n",
       "        8.2, 8. , 7. , 8.1, 7.3, 6.9, 7.7, 6.8, 7.3, 8.5, 7.9, 7.6, 7. ,\n",
       "        7.1, 8.3, 6.8, 8.5, 8.2, 7.5, 6.9, 4.2, 7. , 7.2, 7.1, 6.3, 7.9,\n",
       "        7.9, 8.1, 6.2, 7.9, 6.2, 7.8, 7.7, 7. , 6.5, 7.4, 6.6, 6.3, 7.8,\n",
       "        6.9, 8.3, 7.6, 7.6, 7.6, 7.6, 8.1, 7.7, 7.3, 8.1, 7.5, 8.3, 9. ,\n",
       "        6.3, 7. , 8.1, 7.3, 7.5, 7.8, 8.1, 7.8, 7.2, 7.8, 6.5, 7.1, 6.4,\n",
       "        7. , 7.7, 6.2, 7.5, 7.1, 6.9, 7.3, 9. , 9. , 8.8, 7.3, 8.6, 8.5,\n",
       "        8.8, 7.1, 7.3]),\n",
       " 'Comedy': array([6.9, 7.1, 7. , 6. , 7.1, 6.3, 6.3, 6.6, 6.7, 6.5, 7.5, 7.9, 7.3,\n",
       "        5.8, 6. , 6.7, 6. , 7. , 6.5, 7.3, 7.1, 6.7, 6.6, 6.4, 6.7, 9. ,\n",
       "        7.7, 6.4, 6.5, 6.4, 6.9, 6.9, 7.9, 7.1, 7.3, 7.2, 7.9, 5.4, 7. ,\n",
       "        6.1, 6.9, 9.1, 6.2, 6.3, 7.4, 8.2, 6.3, 6.4, 5.6, 6.9, 6.6, 7.9,\n",
       "        7.1, 6.5, 7.1, 6.8, 6.3, 5.5, 7.3, 7.2, 6.8, 6.9, 7.1, 9.1, 9.1,\n",
       "        9.1, 5.6, 9.1, 6.6, 5.9, 6.9, 6.2, 7. , 6.8, 6.1, 7.3, 7.2, 6.3,\n",
       "        7. , 6.1, 7.6, 6.5, 7.3, 7.6, 7.3, 7.6, 6.2, 6.4, 6. , 7.6, 6.1,\n",
       "        6.1, 6.1, 6.3, 6.3, 6.6, 6.7, 7.1, 6.2, 6.5, 7.3, 6.9, 5.9, 8.1,\n",
       "        7.2, 7.1, 6.9, 7.3, 6.4, 7.3, 6.1, 6.8, 6.4, 6.3, 8.1, 8.5, 7. ,\n",
       "        7.1, 6.6, 6.1, 6.4, 6.4, 7.3, 6.7, 7.5, 6.4, 7.1, 7.1, 6.1, 7. ,\n",
       "        6.7, 6.6, 6.4, 7.4, 7. , 7.7, 6.4, 7.3, 6. , 6.7, 6.2, 7.6, 6.9,\n",
       "        5.6, 7.8, 6.1, 8. , 7.5, 6.9, 5.7, 6.3, 6.8, 5.7, 5.6, 5.5, 6.3,\n",
       "        7.4, 6.4, 6.8, 7.4, 6.1, 6.5, 5.6, 6.9, 5.5, 7.1, 6.5, 6.4, 6.9,\n",
       "        8.2, 6.2, 6.8, 7. , 6.5, 7.3, 8.2, 6.3, 8.3, 7.6, 6.8, 7.4, 6.4,\n",
       "        7. , 6. , 6.8, 5.5, 7.4, 6.2, 6.8, 5.7, 5.7, 6.4, 6.9, 7. , 7.6,\n",
       "        6.9, 5.8, 6.7, 7.6, 6.5, 6.4, 6.2, 6.5, 6.1, 6.1, 5.1, 7. , 8.4,\n",
       "        6.2, 7.3, 6.5, 6.3, 8.2, 8.5, 7.8, 6.3, 7.6, 6.1, 6.4, 4.9, 6.7,\n",
       "        8.5, 7. , 6.5, 6.6, 6.6, 6.5, 6.8, 6.3, 6.2, 7.1, 8.5, 7.3, 7. ,\n",
       "        5.3, 7.1, 6.9, 7.1, 8.5, 8. , 8.1, 5.9, 6.5, 6.9, 6.8, 6.8, 7.6,\n",
       "        8.2, 7.3, 6.2, 6.7, 6.6, 7.7, 6. , 7.8, 6.8, 5.3, 7.1, 6.1, 8.2,\n",
       "        5.5, 6.3, 7.5, 7.7, 6.2, 7. , 8.3, 7.9, 7.8, 6.9, 7.1, 6.5, 5.7,\n",
       "        6.8, 6.8, 6.8, 7. , 6.4, 6.6, 6.3, 7.1, 6.1, 6.2, 6.4, 6.8, 6.5,\n",
       "        6.1, 6.3, 6.3, 7.7, 5.9, 6.1, 6.1, 6.1, 6.2, 7.4, 6.3, 6.4, 6.3,\n",
       "        5.8, 8.2, 6.6, 7. , 6.7, 6.2, 7.6, 7. , 6.4, 6.5, 6.3, 6.3, 7.8,\n",
       "        7.3, 4.3, 6.8, 7.4, 6.8, 6.1, 6.5, 6.6, 7. , 7.1, 8.6, 5.3, 6.1,\n",
       "        6.3, 8.2, 6.6, 6.3, 5.9, 6.2, 6.4, 6.9, 7.8, 7.9, 7.3, 7.6, 7.6,\n",
       "        8.1, 6.5, 7.1, 8.5, 6.9, 8.2, 7.5, 7.1, 5.6, 7.3, 7.1, 6.9, 6.5,\n",
       "        2.8, 6.3, 6.2, 8. , 6.7, 6.3, 6.3, 7. , 7.8, 6.6, 6.8, 6.8, 7.6,\n",
       "        6.3, 7.6, 6.3, 7.9, 5.6, 7.9, 8.1, 7.7, 6.5, 7. , 6.7, 6.5, 7.3,\n",
       "        7.5, 7.9, 7.9, 6.3, 6.9, 7.7, 7.6, 7.6, 7.6, 5.5, 6.6, 6.1, 7.9,\n",
       "        7.9, 7.9, 6.9, 6.9, 7.6, 7.6, 7.6, 7.6, 6.7, 6.8, 8.3, 6.7, 7.1,\n",
       "        8. , 7.3, 7.9, 6.3, 7.7, 7.3, 6.6, 7.6, 5.3, 7.7, 6.6, 6.3, 6.3,\n",
       "        7.7, 7.6, 7.6, 7.6, 7.5, 6. , 7.1, 7.1, 7.1, 6.7, 7.1, 6.9, 7.2,\n",
       "        7.9, 6.8, 6.2, 7.3, 6.2, 7.2, 6.7, 4.9, 5.5, 7.5, 6.7, 8.5, 6.5,\n",
       "        6.8, 7. , 8.3, 7.8, 7.2, 5.9, 6.5, 6.3, 6.8, 6.2, 7.9, 7. , 6.9,\n",
       "        6.4, 6.5, 6.3, 7. , 6.9, 7.6, 7.6, 7.6, 7.6, 7.4, 7.3, 6.7, 6.8,\n",
       "        6.4, 8.1, 6.1, 8.1, 7.8, 7.2, 7.9, 7.4, 8. , 6.9, 8.2, 6.9, 6.9,\n",
       "        7.8, 7.1, 7.1, 7.9, 6.5]),\n",
       " 'Romance': array([6.9, 7.1, 7.2, 4.6, 6.4, 7.1, 7. , 4.2, 7.2, 8.8, 7.1, 7.1, 7.1,\n",
       "        5.8, 7.8, 6.2, 7. , 7.2, 7.3, 7.2, 6.3, 6.1, 6.5, 7.6, 6.2, 6.4,\n",
       "        6. , 7.8, 7.1, 5.9, 7.2, 6.9, 8.3, 7.3, 7.2, 7.4, 7. , 7.1, 7.9,\n",
       "        7. , 7.5, 7.3, 6.7, 7.6, 7. , 7.1, 6.9, 5.7, 6.8, 5.6, 6.3, 7.4,\n",
       "        6.5, 6.5, 6.2, 7.6, 6.3, 8. , 7.2, 6.8, 6.4, 7.7, 5.5, 7.8, 7.8,\n",
       "        6.8, 6.4, 7.6, 5.8, 6.9, 5.1, 6.3, 7.3, 6.3, 7.6, 7.4, 7.7, 6.5,\n",
       "        6.6, 7. , 7. , 7.4, 7.8, 7. , 7.1, 6.9, 7.4, 7.5, 7.4, 6.4, 5.9,\n",
       "        6.4, 7.2, 5.5, 7.6, 7.7, 7.1, 6.5, 5.7, 6.8, 6.8, 6.8, 6.3, 7.1,\n",
       "        7.2, 6.4, 7.3, 6.5, 6.3, 7.4, 5.9, 6.1, 6.1, 7.8, 6.4, 6.6, 6.2,\n",
       "        6.3, 7.4, 6.8, 7. , 6.5, 7. , 8.6, 7.4, 8.1, 6.4, 7.3, 7.6, 7.4,\n",
       "        5.6, 7.3, 7.1, 8.3, 6.5, 7.8, 7.2, 7.7, 6.8, 6.8, 7.6, 7.4, 7.3,\n",
       "        6.7, 7.6, 7.4, 7. , 6.9, 6.9, 6.7, 6.8, 8.3, 6.6, 7.5, 7.2, 7.3,\n",
       "        7.7, 7.7, 6.3, 6.3, 7. , 7.1, 7.1, 7.1, 8. , 7.9, 7.2, 6.2, 8.1,\n",
       "        6.9, 7.7, 6.8, 7.3, 8.5, 8.3, 4.2, 7.1, 5.9, 6.3, 6.2, 6.5, 6.3,\n",
       "        8.1, 7.3, 8.1, 6.8, 6.4, 6.1, 7.1, 6.9, 6.9, 7.1, 6.5]),\n",
       " 'Family': array([6.2, 7.1, 7.6, 7.6, 6.2, 7.4, 7.9, 7.7, 6.6, 7.6, 6.8, 8.2, 7.5,\n",
       "        8.6, 7.7, 8.1, 7.9, 6.8, 4. , 7.3, 8.1, 6.8, 8.1, 7.7, 6.4, 6.7,\n",
       "        7.7, 6.2, 6. , 7.8, 6.5, 7.1, 7.1, 8.1, 7.2, 6.8, 8.3, 6.2, 7.3,\n",
       "        6.5, 7.6, 6.2, 7.7, 5.8, 5.3, 8.1, 7.4, 6.1, 7.7, 7.4, 7.9, 8. ,\n",
       "        7.1, 7.5, 7. , 6.9, 7. , 6.9, 7.3, 8. ]),\n",
       " 'Fantasy': array([6.2, 7.6, 7.6, 7.4, 8.2, 7.9, 7.7, 5.9, 5.5, 6.2, 7.1, 7.7, 4.8,\n",
       "        6.3, 5.6, 7.5, 5.9, 5.4, 8.1, 4.9, 7.2, 5.3, 6.3, 6.8, 8.2, 6.7,\n",
       "        5.9, 5.3, 7.7, 6.2, 6.3, 6.1, 6.7, 7.7, 6.6, 6.4, 6.4, 8.2, 6.8,\n",
       "        7. , 7. , 7.7, 6.1, 5.5, 6.2, 7.7, 7.6, 7.7, 7.8, 7.5, 5.9, 6.5,\n",
       "        7.1, 6.5, 6.8, 4.3, 7. , 7.4, 7. , 7.2, 8.6, 6.8, 7.2, 6. , 5.4,\n",
       "        6.9, 6.4, 6.2, 5.8, 7.1, 6.3, 5.2, 5.8, 7. , 6.9, 7.3, 7.6, 7.1,\n",
       "        7.8, 8. , 6.7, 6.2, 5.7, 7.4, 7.8, 5.5, 6.8, 7.4, 7.3, 8.1, 5.7,\n",
       "        7.8, 6.9, 5.6, 7.5, 6.8, 7. , 5.8, 6.1, 7.5, 6.4, 6.8, 7.4, 8.4,\n",
       "        5.1, 6. , 7.4, 6.6, 7. , 6.6, 5.8, 7.3, 7.4, 6.4, 8. , 6.2, 7.6,\n",
       "        5.4, 5.8, 7.9, 7. , 2.8, 7.4, 6.7, 8. , 6.6, 6.1, 6.6, 6.5, 5.8,\n",
       "        7. , 7.1, 6.1, 6.9, 6.5, 6. , 6.9, 5.3, 8.2, 6. , 7.2, 6.9, 6.8,\n",
       "        6.4, 6.3, 7.1, 6.1, 6.9, 7.4, 6.5, 7.4, 7.8, 7.4, 6.9, 5.4, 6.3,\n",
       "        6.9, 5.8, 6.8]),\n",
       " 'Crime': array([7.1, 6.6, 6. , 9. , 7.9, 9. , 7.3, 8.2, 9. , 5.2, 5.8, 9. , 9. ,\n",
       "        9. , 6.5, 8.1, 6.6, 8.2, 7.8, 5.8, 6.4, 6.9, 7.9, 7.4, 8.1, 7.6,\n",
       "        7.9, 8.1, 6.3, 7.9, 7.4, 9. , 8.1, 7. , 8.1, 8.1, 6.6, 5.5, 7.2,\n",
       "        6.8, 8.1, 6.3, 7.3, 9.2, 7.4, 7.8, 7.1, 6.1, 7.3, 8.6, 7.4, 7.2,\n",
       "        7.5, 7.8, 8.3, 7. , 7.7, 6.4, 7.2, 6.5, 6.1, 7.8, 7.2, 7.7, 6.6,\n",
       "        7.1, 6.2, 6.5, 6.9, 6.5, 8.6, 8. , 7.8, 8.5, 6.4, 6.1, 7.2, 7.1,\n",
       "        8.9, 6.7, 6.2, 6.5, 6.1, 8.5, 7.4, 6.4, 7. , 6.8, 6.1, 6.6, 8.4,\n",
       "        7.4, 6.4, 6.2, 6.1, 7.4, 7.8, 7.5, 6.3, 7.2, 6.8, 6.7, 7. , 7.1,\n",
       "        7.6, 7.6, 7.1, 8.2, 7.7, 6.9, 8.2, 7.1, 6.7, 6.4, 7.9, 8.6, 7.3,\n",
       "        8.3, 7.2, 6.9, 7.7, 7.5, 6.2, 5.7, 7.3, 6.7, 6.8, 6.8, 6.5, 8.1,\n",
       "        7.6, 6.4, 6.1, 7.7, 6.5, 6.3, 6.8, 6.6, 6.9, 8.2, 6.8, 7.5, 6.4,\n",
       "        6.2, 7.7, 7.6, 6.3, 7.5, 5.3, 6.5, 6.8, 8.6, 6.3, 7.8, 7.5, 7.6,\n",
       "        7.8, 6.5, 6.9, 6.8, 8.2, 7.3, 7.6, 6.1, 6.6, 6.3, 6. , 6.3, 7.1,\n",
       "        7.3, 7.3, 6.5, 6.6, 5.5, 9. , 7.1, 8.2, 8.2, 7.2, 7.1, 8.2, 8.7,\n",
       "        7.4, 6.4, 6.2, 6.2, 6.3, 6.5, 8.2, 7.6, 6.5, 7.3, 7.1, 6.9, 7.3,\n",
       "        6.1, 6.3, 6.3, 7.8, 6.6, 6.8, 6.6, 7.4, 7. , 7.8, 7.8, 7.5, 6.3,\n",
       "        6.3, 7.8, 6. , 7.7, 7. , 7. , 6.7, 7.6, 7.7, 6.6, 6.5, 6.1, 8.2,\n",
       "        6.5, 6.5, 7.6, 7.2, 7.9, 8.2, 7.8, 8.1, 6.7, 6.9, 5.2, 7.3, 6.4,\n",
       "        6.9, 8.2, 6.2, 6.4, 8.6, 6.7, 6.6, 6.5, 6.5, 6.5, 6.9, 7. , 7.9,\n",
       "        6.9, 6.8, 6.1, 8.1, 6.3, 7.1, 7.2, 6.5, 8.6, 6.5, 7. , 6.4, 6.7,\n",
       "        6.5, 8.1, 8.1, 6.7, 6.6, 6.3, 6.8, 8. , 6.5, 6.9, 7.7, 6.1, 6.2,\n",
       "        6.6, 6.3, 8. , 7.6, 7.3, 8.1, 7.7, 8.3, 7.1, 8. , 5.3, 7.2, 8.5,\n",
       "        8.4, 6.3, 7.7, 7.6, 7.3, 7.3, 6.5, 7.1, 6.8, 6.3, 6.3, 8.1, 7.9,\n",
       "        6.2, 4.9, 7. , 7.7, 6.5, 7.8, 8.3, 8.3, 6.3, 7.1, 7.5, 7.8, 8.1,\n",
       "        6.6, 6.5, 6.8, 6.8, 7.5, 6.4, 7.3, 8.6, 8.5, 8.2, 7.3, 6.8]),\n",
       " 'Horror': array([8.1, 6.6, 8.1, 8.1, 8.1, 8.1, 8.1, 7.2, 7. , 6.6, 7.4, 6.2, 7.8,\n",
       "        7. , 5.2, 6.8, 7.6, 7.3, 5.3, 6.8, 7.7, 5.6, 7.3, 7.6, 7. , 6.3,\n",
       "        7.5, 7.1, 6.7, 7.3, 6.1, 6. , 6.5, 6. , 7.5, 4.6, 6.3, 7.7, 7.3,\n",
       "        6.6, 6.2, 6.5, 5.5, 7.3, 6.4, 6.5, 7.5, 6.3, 7.1, 6.1, 7. , 6.4,\n",
       "        6.8, 6.3, 6.3, 6.6, 7.1, 6.6, 6.5, 6.1, 6.6, 5.8, 5.3, 5.8, 7.1,\n",
       "        6.9, 5.8, 5.2, 6.5, 7.6, 5.3, 5.5, 7.2, 7. , 6.2, 7.1, 6.3, 7.4,\n",
       "        5.8, 7.1, 5.4, 7.1, 6.2, 6.5, 6.5, 6.1, 5.8, 6.1, 6.2, 7.3, 6.8,\n",
       "        7.2, 5.7, 8.5, 7.4, 6.5, 6.3, 6.2, 6.4, 6. , 6.2, 6.7, 7.4, 6.6,\n",
       "        6.6, 7.1, 6.7, 6.6, 6.6, 6. , 7. , 6.5, 6.8, 4.9, 6.7, 5.5, 7. ,\n",
       "        5.3, 7.3, 5.1, 6.4, 6.2, 6.6, 5.4, 5.8, 7. , 7.5, 5.2, 7. , 5.8,\n",
       "        5.9, 6.6, 6.8, 5.9, 7.4, 6.6, 6.6, 6.2, 5.8, 6.6, 7.9, 5.8, 5.8,\n",
       "        6.3, 6.4, 6.2, 5.8, 6.8, 7.1, 7.1, 6.6, 5.6, 6.2, 6.8, 5.9, 7. ,\n",
       "        6.4, 6.3, 6.1, 6.6, 6.5, 5.7, 5.6, 6.6, 7.8, 6.5, 7.5, 6.6, 7. ,\n",
       "        7.3, 7.1, 6.8, 6.6, 7.1, 7. , 6.9]),\n",
       " 'Mystery': array([6.6, 7.3, 8.1, 7.2, 8.1, 7.6, 8.1, 6.6, 6.5, 7.4, 8.1, 8.1, 8.1,\n",
       "        6.2, 7.8, 7. , 8. , 6.8, 7.7, 7.2, 8.2, 7.7, 6.7, 6.6, 7.9, 7.3,\n",
       "        7.4, 7.5, 7.8, 6. , 7.7, 5.7, 6.6, 7.8, 7.3, 6.2, 6.7, 8. , 6.5,\n",
       "        7.6, 8.1, 6.3, 6.1, 7.9, 6.8, 6.3, 6.3, 7.1, 7.7, 7.5, 7.6, 6.9,\n",
       "        6.7, 7.1, 7.1, 6.9, 7.7, 6.8, 5.8, 6.6, 7.4, 6.5, 7.6, 5.3, 8. ,\n",
       "        5.5, 7.4, 7.6, 6.2, 6.5, 6.3, 7.4, 5.8, 7.4, 8.6, 7.6, 6.3, 7.1,\n",
       "        5.4, 7.1, 5.7, 6.3, 7.4, 6.5, 6.5, 6.8, 6.5, 6.1, 6.1, 7.4, 6.4,\n",
       "        6.2, 8.4, 7.8, 6.8, 7.3, 6.5, 7.2, 8.2, 8.5, 7.4, 7.6, 6.5, 6.3,\n",
       "        7.5, 7. , 7.3, 6.2, 7.5, 7.1, 6.6, 7.8, 7.8, 7.5, 6.6, 6. , 7. ,\n",
       "        6.6, 7. , 7.3, 6.9, 7.4, 8.2, 6.6, 5.4, 7. , 6.9, 7.6, 6.8, 6.4,\n",
       "        8.1, 6.6, 7.5, 7.2, 8.5, 7. , 6.3, 8.1, 6.3, 6.2, 8.4, 6.9, 8.4,\n",
       "        6.5, 8. , 6.8, 7.5, 8.2, 7.1, 6.7, 6.6, 7.7, 8.1, 6.2, 6.5, 7.9,\n",
       "        6.8, 5.9, 7. , 8.5, 8.4, 7. , 6.1, 6.8, 6.9, 5.6, 6.6, 7.8, 7.4,\n",
       "        5.7, 7. , 8.2, 6.8, 7.8, 6.6, 6.5, 7.1, 7. , 7.5, 6.4, 6.9, 8.5,\n",
       "        6.9]),\n",
       " 'Animation': array([7.1, 6.3, 6.6, 6.5, 7.2, 7.9, 7.3, 6.6, 9.3, 9.3, 9.3, 6. , 7.6,\n",
       "        7. , 6.7, 9. , 6.4, 7.1, 6.5, 7.3, 6.1, 6.9, 9.1, 6.3, 6.4, 6.6,\n",
       "        7.8, 9. , 8.1, 8.2, 6.6, 8.6, 6.9, 9.1, 9.1, 9.1, 9.1, 6.6, 7.2,\n",
       "        8.4, 7.6, 6.4, 6.1, 9. , 7. , 7.2, 7.6, 6.1, 6.1, 8.1, 7.1, 7.3,\n",
       "        6.1, 8.1, 6.1, 9. , 6.9, 9.1, 7.8, 7.6, 8.3, 6.9, 6.5, 8.2, 6.1,\n",
       "        6.4, 7.7, 7.3, 7.8, 7.3, 6.8, 7.6, 7.2, 6.1, 6.3, 8. , 8.3, 7.9,\n",
       "        7.3, 7.4, 6.4, 7.3, 8.4, 6.6, 8. , 6.5, 7.3, 7.1, 6.6, 7.1, 8.1,\n",
       "        7.2, 7.4, 8.1, 7.5, 7. , 7.6, 7.4, 6.9]),\n",
       " 'Biography': array([7.9, 7.8, 7.3, 5.6, 8.1, 5.8, 7.8, 5.6, 7.3, 7.3, 5.6, 8. , 5.6,\n",
       "        7.2, 7.6, 7.8, 8. , 7.5, 7.8, 6.5, 7.3, 7.8, 7.4, 7.1, 7.5, 7.3,\n",
       "        7.2, 7.3, 6.7, 7.9, 7.4, 7.5, 6. , 8. , 6.7, 8.2, 8.1, 7. , 7.6,\n",
       "        8.1, 6.9, 7.5, 6.9, 8.1, 8. , 7.5, 7.8, 7.4, 7.8, 7.7, 8.5, 7.5,\n",
       "        7.6, 8.1, 6.8, 7.5, 7.1, 7.5, 8.7, 9. , 7.3, 7.8, 8.3, 7.3, 6.8,\n",
       "        8.2, 7.7, 7.2, 7.8, 8.1, 7.7, 8. , 8.5, 7.3, 7.7, 8.1, 6.9, 8. ,\n",
       "        7.6, 7.1, 7.3, 7.3, 7.2, 6.7, 8.1, 8.2, 6.9, 7.3, 7.3, 7.2, 5.6,\n",
       "        8.4, 6.9, 7.9, 8.2, 7. , 8.1, 7.5, 7.8, 6.4, 7.7, 8.2]),\n",
       " 'Sci-Fi': array([7.2, 7.2, 6.9, 6. , 7.5, 6.2, 7.2, 6.5, 5.2, 6.6, 6.6, 5.8, 8.2,\n",
       "        6.7, 6.2, 7.4, 6.3, 6.4, 7. , 5.7, 6.6, 8.7, 6.6, 6.6, 5.7, 7. ,\n",
       "        7.4, 6.9, 5.8, 6.5, 5.5, 6.5, 5.9, 7.5, 5.2, 6.6, 5.6, 5.6, 7.9,\n",
       "        7. , 8.5, 8.8, 7.3, 6.6, 7.1, 7. , 5.6, 6.1, 5.7, 6.4, 6.3, 6. ,\n",
       "        7.5, 4.6, 7. , 7.7, 8.6, 5.7, 6.1, 6.6, 6.5, 7.1, 5.5, 7.4, 6.3,\n",
       "        7.5, 6.6, 5.9, 6.4, 7.4, 6.3, 6.2, 6.8, 8. , 7.1, 6.1, 6.6, 7.4,\n",
       "        5.4, 6.1, 6.6, 6.6, 5.8, 5.3, 6.5, 7.9, 5.2, 5.8, 7.3, 7.8, 8.1,\n",
       "        8. , 6.1, 6.7, 5.3, 7. , 5.4, 6.5, 6.6, 5.6, 5.9, 7.1, 6.4, 8.1,\n",
       "        6.4, 8.7, 6.6, 6.3, 6.3, 6.4, 6.6, 6.9, 6.2, 8. , 7. , 5.5, 7.4,\n",
       "        5.6, 6.6, 6.2, 6.6, 6.6, 6.6, 7.1, 6.6, 7.6, 5.7, 6.7, 7.6, 6.7,\n",
       "        5.7, 7.8, 6.7, 6.2, 8.2, 7.9, 7.4, 7.7, 6.7, 7.9, 5.8, 6.5, 6.8,\n",
       "        7. , 7.9, 8.3, 6.6, 6.2, 6.6, 5.8, 7.1, 6.3, 7.8, 8.5, 7.2, 5.8,\n",
       "        7.3, 4.3, 7.7, 7.4, 7.1, 7.7, 6.5, 6.5, 7.1, 7.7, 5.6, 7.5, 6.6,\n",
       "        7.5, 4.9, 8.5, 6.9, 6.6, 6.6, 6.4, 7.5, 8.3, 6.6, 7.9, 6.5, 6.6,\n",
       "        6.8, 7.1, 6.9]),\n",
       " 'Music': array([7.1, 7.2, 6.4, 8. , 7.3, 7.9, 6.5, 8.5, 7.6, 6.5, 6.8, 7.4, 7.3,\n",
       "        6.5, 6.3, 8.5, 6.5, 6.5, 6.5, 6.5, 7.4, 6.9, 6.9, 6.5, 8. , 6.3,\n",
       "        7.7, 6.3, 7.2, 8.4, 6.5, 6.9, 6.9]),\n",
       " 'Sport': array([6.4, 7.3, 7.3, 7.3, 7.3, 6.4, 8.1, 7.6, 7.1, 6.9, 7.3, 6.5, 6.8,\n",
       "        7.5, 5.3, 7. , 7.5, 8.1, 7.4, 8.1, 6.3, 8.1, 6.7, 6.6]),\n",
       " 'Western': array([6.3, 8.5, 6.8, 6.1, 7.6, 7.1, 8. , 8.2, 7.9, 7.9, 8.5, 8.8]),\n",
       " 'History': array([7.9, 7.3, 7.3, 7.7, 7.5, 6.5, 7.8, 6.7, 7.4, 7.7, 7.8, 7.6, 7.1,\n",
       "        8. , 8.1, 7.3, 9. , 7.4, 6.7, 7.3, 7.4, 7.7, 8. , 7.3, 8.1, 7.1,\n",
       "        8. , 7.3, 7.3, 7.2, 7.5, 8.2, 7. , 7.2, 7.7]),\n",
       " 'War': array([7.6, 7.7, 7.5, 8.4, 7. , 6.3, 8.2, 7.5, 6.2, 8.4, 7.1, 8.6, 8.1,\n",
       "        7.1, 8.2, 8.4, 7.9, 8.2, 6.2, 7.5, 8.1]),\n",
       " 'Musical': array([7.2, 7.3, 7.5, 8.1, 6.5, 7.2, 6.7, 7.3]),\n",
       " 'Documentary': array([7.2, 6.6])}"
      ]
     },
     "execution_count": 15,
     "metadata": {},
     "output_type": "execute_result"
    }
   ],
   "source": [
    "dic_g2rating = {}\n",
    "for genre in dic_genre2num.keys():\n",
    "    dic_g2rating[genre] = df[df[genre]==1]['Rating'].values\n",
    "dic_g2rating"
   ]
  },
  {
   "cell_type": "markdown",
   "metadata": {},
   "source": [
    "- 計算各類型之評分的平均數、標準差、筆數"
   ]
  },
  {
   "cell_type": "code",
   "execution_count": 16,
   "metadata": {},
   "outputs": [
    {
     "data": {
      "text/html": [
       "<div>\n",
       "<style scoped>\n",
       "    .dataframe tbody tr th:only-of-type {\n",
       "        vertical-align: middle;\n",
       "    }\n",
       "\n",
       "    .dataframe tbody tr th {\n",
       "        vertical-align: top;\n",
       "    }\n",
       "\n",
       "    .dataframe thead th {\n",
       "        text-align: right;\n",
       "    }\n",
       "</style>\n",
       "<table border=\"1\" class=\"dataframe\">\n",
       "  <thead>\n",
       "    <tr style=\"text-align: right;\">\n",
       "      <th></th>\n",
       "      <th>mean</th>\n",
       "      <th>std</th>\n",
       "      <th>num</th>\n",
       "    </tr>\n",
       "  </thead>\n",
       "  <tbody>\n",
       "    <tr>\n",
       "      <th>Western</th>\n",
       "      <td>7.64</td>\n",
       "      <td>0.88</td>\n",
       "      <td>12</td>\n",
       "    </tr>\n",
       "    <tr>\n",
       "      <th>War</th>\n",
       "      <td>7.63</td>\n",
       "      <td>0.74</td>\n",
       "      <td>21</td>\n",
       "    </tr>\n",
       "    <tr>\n",
       "      <th>History</th>\n",
       "      <td>7.52</td>\n",
       "      <td>0.49</td>\n",
       "      <td>35</td>\n",
       "    </tr>\n",
       "    <tr>\n",
       "      <th>Biography</th>\n",
       "      <td>7.46</td>\n",
       "      <td>0.69</td>\n",
       "      <td>102</td>\n",
       "    </tr>\n",
       "    <tr>\n",
       "      <th>Animation</th>\n",
       "      <td>7.40</td>\n",
       "      <td>0.93</td>\n",
       "      <td>99</td>\n",
       "    </tr>\n",
       "    <tr>\n",
       "      <th>Drama</th>\n",
       "      <td>7.37</td>\n",
       "      <td>0.77</td>\n",
       "      <td>731</td>\n",
       "    </tr>\n",
       "    <tr>\n",
       "      <th>Musical</th>\n",
       "      <td>7.22</td>\n",
       "      <td>0.49</td>\n",
       "      <td>8</td>\n",
       "    </tr>\n",
       "    <tr>\n",
       "      <th>Family</th>\n",
       "      <td>7.17</td>\n",
       "      <td>0.83</td>\n",
       "      <td>60</td>\n",
       "    </tr>\n",
       "    <tr>\n",
       "      <th>Crime</th>\n",
       "      <td>7.16</td>\n",
       "      <td>0.82</td>\n",
       "      <td>324</td>\n",
       "    </tr>\n",
       "    <tr>\n",
       "      <th>Sport</th>\n",
       "      <td>7.12</td>\n",
       "      <td>0.68</td>\n",
       "      <td>24</td>\n",
       "    </tr>\n",
       "    <tr>\n",
       "      <th>Music</th>\n",
       "      <td>7.08</td>\n",
       "      <td>0.68</td>\n",
       "      <td>33</td>\n",
       "    </tr>\n",
       "    <tr>\n",
       "      <th>Mystery</th>\n",
       "      <td>7.08</td>\n",
       "      <td>0.75</td>\n",
       "      <td>183</td>\n",
       "    </tr>\n",
       "    <tr>\n",
       "      <th>Adventure</th>\n",
       "      <td>6.97</td>\n",
       "      <td>0.94</td>\n",
       "      <td>464</td>\n",
       "    </tr>\n",
       "    <tr>\n",
       "      <th>Romance</th>\n",
       "      <td>6.94</td>\n",
       "      <td>0.74</td>\n",
       "      <td>193</td>\n",
       "    </tr>\n",
       "    <tr>\n",
       "      <th>Thriller</th>\n",
       "      <td>6.90</td>\n",
       "      <td>0.81</td>\n",
       "      <td>293</td>\n",
       "    </tr>\n",
       "    <tr>\n",
       "      <th>Documentary</th>\n",
       "      <td>6.90</td>\n",
       "      <td>0.42</td>\n",
       "      <td>2</td>\n",
       "    </tr>\n",
       "    <tr>\n",
       "      <th>Comedy</th>\n",
       "      <td>6.89</td>\n",
       "      <td>0.78</td>\n",
       "      <td>486</td>\n",
       "    </tr>\n",
       "    <tr>\n",
       "      <th>Action</th>\n",
       "      <td>6.83</td>\n",
       "      <td>0.88</td>\n",
       "      <td>618</td>\n",
       "    </tr>\n",
       "    <tr>\n",
       "      <th>Sci-Fi</th>\n",
       "      <td>6.74</td>\n",
       "      <td>0.86</td>\n",
       "      <td>185</td>\n",
       "    </tr>\n",
       "    <tr>\n",
       "      <th>Fantasy</th>\n",
       "      <td>6.72</td>\n",
       "      <td>0.89</td>\n",
       "      <td>159</td>\n",
       "    </tr>\n",
       "    <tr>\n",
       "      <th>Horror</th>\n",
       "      <td>6.59</td>\n",
       "      <td>0.73</td>\n",
       "      <td>176</td>\n",
       "    </tr>\n",
       "  </tbody>\n",
       "</table>\n",
       "</div>"
      ],
      "text/plain": [
       "             mean  std  num\n",
       "Western      7.64 0.88   12\n",
       "War          7.63 0.74   21\n",
       "History      7.52 0.49   35\n",
       "Biography    7.46 0.69  102\n",
       "Animation    7.40 0.93   99\n",
       "Drama        7.37 0.77  731\n",
       "Musical      7.22 0.49    8\n",
       "Family       7.17 0.83   60\n",
       "Crime        7.16 0.82  324\n",
       "Sport        7.12 0.68   24\n",
       "Music        7.08 0.68   33\n",
       "Mystery      7.08 0.75  183\n",
       "Adventure    6.97 0.94  464\n",
       "Romance      6.94 0.74  193\n",
       "Thriller     6.90 0.81  293\n",
       "Documentary  6.90 0.42    2\n",
       "Comedy       6.89 0.78  486\n",
       "Action       6.83 0.88  618\n",
       "Sci-Fi       6.74 0.86  185\n",
       "Fantasy      6.72 0.89  159\n",
       "Horror       6.59 0.73  176"
      ]
     },
     "execution_count": 16,
     "metadata": {},
     "output_type": "execute_result"
    }
   ],
   "source": [
    "dic_g2ratingSTAT = {}\n",
    "for genre in dic_genre2num.keys():\n",
    "    mean = df[df[genre]==1]['Rating'].mean()\n",
    "    std   = df[df[genre]==1]['Rating'].std()\n",
    "    num  = len(df[df[genre]==1]['Rating'])\n",
    "    dic_g2ratingSTAT[genre] = {'mean':mean, 'std':std, 'num':num}\n",
    "\n",
    "# 將類別和值配對，然後依照值的大小排序\n",
    "sorted_nested_dict = dict(sorted(dic_g2ratingSTAT.items(), key=lambda x: list(x[1].values())[0], reverse=True))\n",
    "\n",
    "sorted_nested_df = pd.DataFrame.from_dict(sorted_nested_dict, orient='index')\n",
    "sorted_nested_df"
   ]
  },
  {
   "cell_type": "code",
   "execution_count": 17,
   "metadata": {},
   "outputs": [
    {
     "data": {
      "text/plain": [
       "{'Action': array([6.3, 7.8, 7.6, 6.3, 7.4, 9. , 6.6, 6.5, 6.2, 6.5, 6.6, 6.2, 7.1,\n",
       "        7.6, 7.6, 6.9, 6.5, 5.1, 6.4, 5.6]),\n",
       " 'Thriller': array([7.1, 6.2, 7.3, 7.5, 6.4, 6.8, 6.3, 7.4, 5.2, 7.7, 6.5, 5.6, 7.8,\n",
       "        6.5, 6.6, 6.4, 6.7, 8.1, 8.1, 6.8]),\n",
       " 'Adventure': array([7.9, 6.5, 7. , 7.4, 5.7, 7. , 6.1, 7.8, 6.3, 6.8, 7.9, 7.1, 9. ,\n",
       "        7.5, 7.9, 7.5, 7.9, 5.2, 6.4, 7.6]),\n",
       " 'Drama': array([7. , 8.1, 7.5, 8.1, 7.3, 6.7, 6.6, 6.4, 7.7, 8.1, 7.1, 6.1, 6.5,\n",
       "        7.3, 7.1, 7.3, 8.7, 7.9, 7.4, 9. ]),\n",
       " 'Comedy': array([7.5, 7.5, 6.2, 6.5, 6.3, 7.3, 7. , 6.6, 7.2, 6.2, 6.5, 6.3, 6.9,\n",
       "        6.3, 7.9, 7.9, 7.3, 6.9, 7.8, 6.1]),\n",
       " 'Romance': array([7.1, 7.7, 7.7, 7.6, 7.8, 6.6, 6.2, 7.3, 7. , 8.8, 6.6, 6.1, 6.4,\n",
       "        6.8, 7.2, 7.2, 7. , 6.9, 6.1, 5.8]),\n",
       " 'Family': array([6.2, 7.4, 8.3, 8.1, 8.6, 7. , 8.1, 7.7, 7.5, 6.9, 7.4, 7.9, 7.1,\n",
       "        7.6, 7.1, 6.8, 6.6, 7.9, 7.6, 6.2]),\n",
       " 'Fantasy': array([7.8, 6.3, 6.5, 4.3, 7.5, 6.2, 6.9, 6.5, 6.1, 6.9, 4.9, 8.6, 7.5,\n",
       "        6.9, 8.2, 6.3, 6.1, 6.8, 7. , 5.9]),\n",
       " 'Crime': array([6.1, 7.7, 6.6, 5.2, 8.2, 6.8, 6.1, 6.3, 6.8, 7.7, 7.1, 6.6, 8.2,\n",
       "        7.3, 6.3, 7.7, 6.3, 7.3, 7.6, 9. ]),\n",
       " 'Horror': array([6.8, 6.5, 6.6, 6.1, 5.2, 7.6, 5.1, 6.6, 6. , 7.9, 7. , 6.5, 6.5,\n",
       "        7.3, 6.8, 6.5, 4.9, 6.2, 6.6, 6.7]),\n",
       " 'Mystery': array([7.2, 6.1, 7.9, 7.8, 8.2, 7. , 7.9, 6.2, 6.6, 8.2, 7.2, 7. , 6.5,\n",
       "        7.8, 6.3, 8. , 6.9, 6.2, 7.4, 7.7]),\n",
       " 'Animation': array([6.5, 7.6, 7. , 6.5, 7.4, 8. , 6.1, 6.1, 9.3, 7.1, 8.6, 8.3, 6.1,\n",
       "        7.8, 7. , 7.2, 9.1, 7.6, 6.6, 6.1]),\n",
       " 'Biography': array([7.4, 7.2, 8.3, 7.4, 6.9, 6.9, 5.6, 7.5, 5.6, 7.9, 7.8, 7.5, 7.5,\n",
       "        8.2, 6.9, 8.1, 7.1, 8. , 5.6, 7.2]),\n",
       " 'Sci-Fi': array([5.7, 7.3, 7.3, 6.9, 6.6, 7.4, 5.7, 6.4, 5.6, 6.6, 6.5, 6.5, 7.4,\n",
       "        6.4, 7. , 6.3, 6. , 6.6, 5.8, 8.6]),\n",
       " 'Music': array([6.9, 8.5, 7.7, 6.5, 7.6, 6.5, 6.5, 6.9, 7.3, 7.1, 7.3, 6.5, 7.9,\n",
       "        6.5, 7.4, 8. , 7.2, 6.4, 8.4, 8. ]),\n",
       " 'Sport': array([7.1, 7.5, 6.4, 7.4, 6.5, 6.9, 7.5, 7.3, 8.1, 6.4, 7.3, 6.8, 7. ,\n",
       "        7.3, 7.3, 6.7, 8.1, 6.3, 6.6, 7.6]),\n",
       " 'History': array([8. , 8. , 8.1, 7.7, 7.3, 7.2, 7.3, 7.1, 7.4, 9. , 7.7, 7.2, 7.9,\n",
       "        7.5, 7.4, 7.3, 6.5, 7.6, 7.3, 7.3]),\n",
       " 'War': array([7.6, 8.2, 8.4, 7.7, 6.2, 6.3, 8.6, 8.4, 6.2, 7.9, 7.1, 7.5, 8.4,\n",
       "        8.1, 7. , 8.1, 7.5, 7.1, 8.2, 7.5])}"
      ]
     },
     "execution_count": 17,
     "metadata": {},
     "output_type": "execute_result"
    }
   ],
   "source": [
    "sample_size = 20\n",
    "\n",
    "dic_g2rating_sample = {}\n",
    "for genre in dic_genre2num.keys():\n",
    "    if len(df[df[genre]==1]['Rating'].values) >= sample_size:\n",
    "        sample_data = df[df[genre]==1]['Rating'].sample(n=sample_size, random_state=42) \n",
    "        dic_g2rating_sample[genre] = sample_data.values\n",
    "dic_g2rating_sample"
   ]
  },
  {
   "cell_type": "code",
   "execution_count": 18,
   "metadata": {},
   "outputs": [
    {
     "data": {
      "text/html": [
       "<div>\n",
       "<style scoped>\n",
       "    .dataframe tbody tr th:only-of-type {\n",
       "        vertical-align: middle;\n",
       "    }\n",
       "\n",
       "    .dataframe tbody tr th {\n",
       "        vertical-align: top;\n",
       "    }\n",
       "\n",
       "    .dataframe thead th {\n",
       "        text-align: right;\n",
       "    }\n",
       "</style>\n",
       "<table border=\"1\" class=\"dataframe\">\n",
       "  <thead>\n",
       "    <tr style=\"text-align: right;\">\n",
       "      <th></th>\n",
       "      <th>mean</th>\n",
       "      <th>std</th>\n",
       "      <th>num</th>\n",
       "    </tr>\n",
       "  </thead>\n",
       "  <tbody>\n",
       "    <tr>\n",
       "      <th>War</th>\n",
       "      <td>7.60</td>\n",
       "      <td>0.73</td>\n",
       "      <td>20</td>\n",
       "    </tr>\n",
       "    <tr>\n",
       "      <th>History</th>\n",
       "      <td>7.54</td>\n",
       "      <td>0.49</td>\n",
       "      <td>20</td>\n",
       "    </tr>\n",
       "    <tr>\n",
       "      <th>Family</th>\n",
       "      <td>7.40</td>\n",
       "      <td>0.65</td>\n",
       "      <td>20</td>\n",
       "    </tr>\n",
       "    <tr>\n",
       "      <th>Drama</th>\n",
       "      <td>7.40</td>\n",
       "      <td>0.74</td>\n",
       "      <td>20</td>\n",
       "    </tr>\n",
       "    <tr>\n",
       "      <th>Animation</th>\n",
       "      <td>7.30</td>\n",
       "      <td>0.96</td>\n",
       "      <td>20</td>\n",
       "    </tr>\n",
       "    <tr>\n",
       "      <th>Music</th>\n",
       "      <td>7.25</td>\n",
       "      <td>0.66</td>\n",
       "      <td>20</td>\n",
       "    </tr>\n",
       "    <tr>\n",
       "      <th>Biography</th>\n",
       "      <td>7.23</td>\n",
       "      <td>0.80</td>\n",
       "      <td>20</td>\n",
       "    </tr>\n",
       "    <tr>\n",
       "      <th>Mystery</th>\n",
       "      <td>7.21</td>\n",
       "      <td>0.70</td>\n",
       "      <td>20</td>\n",
       "    </tr>\n",
       "    <tr>\n",
       "      <th>Adventure</th>\n",
       "      <td>7.12</td>\n",
       "      <td>0.88</td>\n",
       "      <td>20</td>\n",
       "    </tr>\n",
       "    <tr>\n",
       "      <th>Sport</th>\n",
       "      <td>7.10</td>\n",
       "      <td>0.52</td>\n",
       "      <td>20</td>\n",
       "    </tr>\n",
       "    <tr>\n",
       "      <th>Crime</th>\n",
       "      <td>7.04</td>\n",
       "      <td>0.88</td>\n",
       "      <td>20</td>\n",
       "    </tr>\n",
       "    <tr>\n",
       "      <th>Romance</th>\n",
       "      <td>7.00</td>\n",
       "      <td>0.70</td>\n",
       "      <td>20</td>\n",
       "    </tr>\n",
       "    <tr>\n",
       "      <th>Comedy</th>\n",
       "      <td>6.91</td>\n",
       "      <td>0.59</td>\n",
       "      <td>20</td>\n",
       "    </tr>\n",
       "    <tr>\n",
       "      <th>Thriller</th>\n",
       "      <td>6.85</td>\n",
       "      <td>0.76</td>\n",
       "      <td>20</td>\n",
       "    </tr>\n",
       "    <tr>\n",
       "      <th>Action</th>\n",
       "      <td>6.79</td>\n",
       "      <td>0.84</td>\n",
       "      <td>20</td>\n",
       "    </tr>\n",
       "    <tr>\n",
       "      <th>Fantasy</th>\n",
       "      <td>6.66</td>\n",
       "      <td>0.99</td>\n",
       "      <td>20</td>\n",
       "    </tr>\n",
       "    <tr>\n",
       "      <th>Sci-Fi</th>\n",
       "      <td>6.63</td>\n",
       "      <td>0.72</td>\n",
       "      <td>20</td>\n",
       "    </tr>\n",
       "    <tr>\n",
       "      <th>Horror</th>\n",
       "      <td>6.47</td>\n",
       "      <td>0.74</td>\n",
       "      <td>20</td>\n",
       "    </tr>\n",
       "  </tbody>\n",
       "</table>\n",
       "</div>"
      ],
      "text/plain": [
       "           mean  std  num\n",
       "War        7.60 0.73   20\n",
       "History    7.54 0.49   20\n",
       "Family     7.40 0.65   20\n",
       "Drama      7.40 0.74   20\n",
       "Animation  7.30 0.96   20\n",
       "Music      7.25 0.66   20\n",
       "Biography  7.23 0.80   20\n",
       "Mystery    7.21 0.70   20\n",
       "Adventure  7.12 0.88   20\n",
       "Sport      7.10 0.52   20\n",
       "Crime      7.04 0.88   20\n",
       "Romance    7.00 0.70   20\n",
       "Comedy     6.91 0.59   20\n",
       "Thriller   6.85 0.76   20\n",
       "Action     6.79 0.84   20\n",
       "Fantasy    6.66 0.99   20\n",
       "Sci-Fi     6.63 0.72   20\n",
       "Horror     6.47 0.74   20"
      ]
     },
     "execution_count": 18,
     "metadata": {},
     "output_type": "execute_result"
    }
   ],
   "source": [
    "dic_g2ratingSTAT = {}\n",
    "for genre in dic_g2rating_sample.keys():\n",
    "    mean = dic_g2rating_sample[genre].mean()\n",
    "    std   = dic_g2rating_sample[genre].std()\n",
    "    num  = len(dic_g2rating_sample[genre])\n",
    "    dic_g2ratingSTAT[genre] = {'mean':mean, 'std':std, 'num':num}\n",
    "\n",
    "# 將類別和值配對，然後依照值的大小排序\n",
    "sorted_nested_dict = dict(sorted(dic_g2ratingSTAT.items(), key=lambda x: list(x[1].values())[0], reverse=True))\n",
    "\n",
    "sorted_nested_df = pd.DataFrame.from_dict(sorted_nested_dict, orient='index')\n",
    "sorted_nested_df"
   ]
  },
  {
   "cell_type": "markdown",
   "metadata": {},
   "source": [
    "# One-way ANOVA"
   ]
  },
  {
   "cell_type": "markdown",
   "metadata": {},
   "source": [
    "- Levene's test"
   ]
  },
  {
   "cell_type": "code",
   "execution_count": 19,
   "metadata": {},
   "outputs": [
    {
     "name": "stdout",
     "output_type": "stream",
     "text": [
      "Levene test statistic: 1.0380362671384349\n",
      "P-value: 0.41575749400935963\n",
      "接受原假设，表示组间方差相等\n"
     ]
    }
   ],
   "source": [
    "groups = []\n",
    "for genre, rating in dic_g2rating_sample.items():\n",
    "     groups.append(rating)\n",
    "     \n",
    "# 执行 Levene 检验\n",
    "statistic, p_value = levene(*groups)\n",
    "\n",
    "# 输出 Levene 检验的统计量和 p-value\n",
    "print(\"Levene test statistic:\", statistic)\n",
    "print(\"P-value:\", p_value)\n",
    "\n",
    "# 判断是否拒绝原假设（方差相等）\n",
    "alpha = 0.05  # 设置显著性水平\n",
    "if p_value < alpha:\n",
    "    print(\"拒绝原假设，表示组间方差不相等\")\n",
    "else:\n",
    "    print(\"接受原假设，表示组间方差相等\")"
   ]
  },
  {
   "cell_type": "code",
   "execution_count": 20,
   "metadata": {},
   "outputs": [
    {
     "data": {
      "image/png": "[encoded data removed]",
      "text/plain": [
       "<Figure size 1000x600 with 1 Axes>"
      ]
     },
     "metadata": {},
     "output_type": "display_data"
    }
   ],
   "source": [
    "# 将字典数据转换为 DataFrame\n",
    "df_sample = pd.DataFrame.from_dict(dic_g2rating_sample)\n",
    "\n",
    "sorted_categories = df_sample.mean().sort_values().index.tolist()\n",
    "df_sort = df_sample.reindex(columns=sorted_categories)\n",
    "\n",
    "# 使用 Seaborn 绘制箱线图\n",
    "plt.figure(figsize=(10, 6))  # 设置图的大小\n",
    "sns.boxplot(data=df_sort)\n",
    "plt.xlabel('Movie Category')  # 设置 x 轴标签\n",
    "plt.ylabel('Rating')  # 设置 y 轴标签\n",
    "plt.title('Boxplot of Ratings by Genre')  # 设置图的标题\n",
    "plt.xticks(rotation = 45)\n",
    "plt.show()"
   ]
  },
  {
   "cell_type": "markdown",
   "metadata": {},
   "source": [
    "- Normality test"
   ]
  },
  {
   "cell_type": "code",
   "execution_count": 21,
   "metadata": {},
   "outputs": [
    {
     "name": "stdout",
     "output_type": "stream",
     "text": [
      "Shapiro-Wilk test statistic: 0.9922012090682983\n",
      "P-value: 0.056352365761995316\n"
     ]
    }
   ],
   "source": [
    "# 將資料攤平\n",
    "flattened_data = [item for sublist in groups for item in sublist]\n",
    "\n",
    "# 执行 Shapiro-Wilk 检定，检验样本数据是否符合正态分布\n",
    "statistic, p_value = stats.shapiro(flattened_data)\n",
    "\n",
    "# 输出 Shapiro-Wilk 检定的结果\n",
    "print(\"Shapiro-Wilk test statistic:\", statistic)\n",
    "print(\"P-value:\", p_value)"
   ]
  },
  {
   "cell_type": "code",
   "execution_count": 22,
   "metadata": {},
   "outputs": [
    {
     "name": "stdout",
     "output_type": "stream",
     "text": [
      "KS test statistic: 0.999991460094529\n",
      "P-value: 0.0\n"
     ]
    }
   ],
   "source": [
    "# 执行 KS 检定，检验样本数据是否符合正态分布\n",
    "normality_test = stats.kstest(flattened_data, 'norm')\n",
    "\n",
    "# 输出 KS 检定的结果\n",
    "print(\"KS test statistic:\", normality_test.statistic)\n",
    "print(\"P-value:\", normality_test.pvalue)"
   ]
  },
  {
   "cell_type": "code",
   "execution_count": 23,
   "metadata": {},
   "outputs": [
    {
     "name": "stdout",
     "output_type": "stream",
     "text": [
      "Anderson-Darling test statistic: 0.9517839025571675\n",
      "Anderson-Darling test p-value: 0.779\n"
     ]
    }
   ],
   "source": [
    "# 执行 Anderson-Darling 检定，检验样本数据是否符合正态分布\n",
    "result = stats.anderson(flattened_data, dist='norm')\n",
    "\n",
    "# 输出 Anderson-Darling 检定的结果\n",
    "print(\"Anderson-Darling test statistic:\", result.statistic)\n",
    "print(\"Anderson-Darling test p-value:\", result.critical_values[2])"
   ]
  },
  {
   "cell_type": "code",
   "execution_count": 24,
   "metadata": {},
   "outputs": [
    {
     "name": "stdout",
     "output_type": "stream",
     "text": [
      "Cramér-von Mises test statistic: 0.0704305976963896\n",
      "P-value: 0.0009999999999998899\n"
     ]
    }
   ],
   "source": [
    "# 执行 Cramér-von Mises 检定，检验样本数据是否符合正态分布\n",
    "cvm_test_result = kstest_normal(flattened_data, dist='norm')\n",
    "\n",
    "# 输出 Cramér-von Mises 检定的结果\n",
    "print(\"Cramér-von Mises test statistic:\", cvm_test_result[0])\n",
    "print(\"P-value:\", cvm_test_result[1])"
   ]
  },
  {
   "cell_type": "code",
   "execution_count": 25,
   "metadata": {},
   "outputs": [
    {
     "data": {
      "image/png": "[encoded data removed]",
      "text/plain": [
       "<Figure size 640x480 with 1 Axes>"
      ]
     },
     "metadata": {},
     "output_type": "display_data"
    }
   ],
   "source": [
    "# 计算均值和标准差\n",
    "sample_data = np.array(flattened_data)\n",
    "\n",
    "mean = np.mean(sample_data)\n",
    "std_dev = np.std(sample_data)\n",
    "\n",
    "# 对数据进行标准化\n",
    "standardized_data = (sample_data - mean) / std_dev\n",
    "\n",
    "# 绘制 QQ 图\n",
    "fig = sm.qqplot(standardized_data, line ='45')\n",
    "plt.title('QQ Plot')  # 设置图的标题\n",
    "plt.show()"
   ]
  },
  {
   "cell_type": "code",
   "execution_count": 26,
   "metadata": {},
   "outputs": [
    {
     "data": {
      "application/vnd.plotly.v1+json": {
       "config": {
        "linkText": "Export to plot.ly",
        "plotlyServerURL": "https://plot.ly",
        "showLink": false
       },
       "data": [
        {
         "marker": {
          "color": "#db0000"
         },
         "text": [
          "0.1 %",
          "0.1 %",
          "0.3 %",
          "0.1 %",
          "0.1 %",
          "0.3 %",
          "0.1 %",
          "0.3 %",
          "0.2 %",
          "0.5 %",
          "0.8 %",
          "0.4 %",
          "1.0 %",
          "0.6 %",
          "0.8 %",
          "1.0 %",
          "1.1 %",
          "1.0 %",
          "1.5 %",
          "0.7 %",
          "1.0 %",
          "1.0 %",
          "1.0 %",
          "0.7 %",
          "0.3 %",
          "1.2 %",
          "1.7 %",
          "0.7 %",
          "1.0 %",
          "0.9 %",
          "1.0 %",
          "0.1 %",
          "0.1 %",
          "0.1 %",
          "0.2 %",
          "0.4 %",
          "0.3 %",
          "0.1 %",
          "0.1 %",
          "0.1 %"
         ],
         "textfont": {
          "color": "#000000"
         },
         "textposition": "auto",
         "type": "bar",
         "x": [
          9.3,
          9.1,
          9,
          8.8,
          8.7,
          8.6,
          8.5,
          8.4,
          8.3,
          8.2,
          8.1,
          8,
          7.9,
          7.8,
          7.7,
          7.6,
          7.5,
          7.4,
          7.3,
          7.2,
          7.1,
          7,
          6.9,
          6.8,
          6.7,
          6.6,
          6.5,
          6.4,
          6.3,
          6.2,
          6.1,
          6,
          5.9,
          5.8,
          5.7,
          5.6,
          5.2,
          5.1,
          4.9,
          4.3
         ],
         "y": [
          1,
          1,
          5,
          1,
          1,
          5,
          1,
          4,
          3,
          8,
          13,
          7,
          16,
          10,
          13,
          15,
          18,
          16,
          23,
          11,
          16,
          16,
          16,
          11,
          4,
          19,
          27,
          11,
          16,
          14,
          15,
          2,
          1,
          2,
          3,
          6,
          4,
          2,
          2,
          1
         ]
        }
       ],
       "layout": {
        "template": {
         "data": {
          "bar": [
           {
            "error_x": {
             "color": "#2a3f5f"
            },
            "error_y": {
             "color": "#2a3f5f"
            },
            "marker": {
             "line": {
              "color": "#E5ECF6",
              "width": 0.5
             },
             "pattern": {
              "fillmode": "overlay",
              "size": 10,
              "solidity": 0.2
             }
            },
            "type": "bar"
           }
          ],
          "barpolar": [
           {
            "marker": {
             "line": {
              "color": "#E5ECF6",
              "width": 0.5
             },
             "pattern": {
              "fillmode": "overlay",
              "size": 10,
              "solidity": 0.2
             }
            },
            "type": "barpolar"
           }
          ],
          "carpet": [
           {
            "aaxis": {
             "endlinecolor": "#2a3f5f",
             "gridcolor": "white",
             "linecolor": "white",
             "minorgridcolor": "white",
             "startlinecolor": "#2a3f5f"
            },
            "baxis": {
             "endlinecolor": "#2a3f5f",
             "gridcolor": "white",
             "linecolor": "white",
             "minorgridcolor": "white",
             "startlinecolor": "#2a3f5f"
            },
            "type": "carpet"
           }
          ],
          "choropleth": [
           {
            "colorbar": {
             "outlinewidth": 0,
             "ticks": ""
            },
            "type": "choropleth"
           }
          ],
          "contour": [
           {
            "colorbar": {
             "outlinewidth": 0,
             "ticks": ""
            },
            "colorscale": [
             [
              0,
              "#0d0887"
             ],
             [
              0.1111111111111111,
              "#46039f"
             ],
             [
              0.2222222222222222,
              "#7201a8"
             ],
             [
              0.3333333333333333,
              "#9c179e"
             ],
             [
              0.4444444444444444,
              "#bd3786"
             ],
             [
              0.5555555555555556,
              "#d8576b"
             ],
             [
              0.6666666666666666,
              "#ed7953"
             ],
             [
              0.7777777777777778,
              "#fb9f3a"
             ],
             [
              0.8888888888888888,
              "#fdca26"
             ],
             [
              1,
              "#f0f921"
             ]
            ],
            "type": "contour"
           }
          ],
          "contourcarpet": [
           {
            "colorbar": {
             "outlinewidth": 0,
             "ticks": ""
            },
            "type": "contourcarpet"
           }
          ],
          "heatmap": [
           {
            "colorbar": {
             "outlinewidth": 0,
             "ticks": ""
            },
            "colorscale": [
             [
              0,
              "#0d0887"
             ],
             [
              0.1111111111111111,
              "#46039f"
             ],
             [
              0.2222222222222222,
              "#7201a8"
             ],
             [
              0.3333333333333333,
              "#9c179e"
             ],
             [
              0.4444444444444444,
              "#bd3786"
             ],
             [
              0.5555555555555556,
              "#d8576b"
             ],
             [
              0.6666666666666666,
              "#ed7953"
             ],
             [
              0.7777777777777778,
              "#fb9f3a"
             ],
             [
              0.8888888888888888,
              "#fdca26"
             ],
             [
              1,
              "#f0f921"
             ]
            ],
            "type": "heatmap"
           }
          ],
          "heatmapgl": [
           {
            "colorbar": {
             "outlinewidth": 0,
             "ticks": ""
            },
            "colorscale": [
             [
              0,
              "#0d0887"
             ],
             [
              0.1111111111111111,
              "#46039f"
             ],
             [
              0.2222222222222222,
              "#7201a8"
             ],
             [
              0.3333333333333333,
              "#9c179e"
             ],
             [
              0.4444444444444444,
              "#bd3786"
             ],
             [
              0.5555555555555556,
              "#d8576b"
             ],
             [
              0.6666666666666666,
              "#ed7953"
             ],
             [
              0.7777777777777778,
              "#fb9f3a"
             ],
             [
              0.8888888888888888,
              "#fdca26"
             ],
             [
              1,
              "#f0f921"
             ]
            ],
            "type": "heatmapgl"
           }
          ],
          "histogram": [
           {
            "marker": {
             "pattern": {
              "fillmode": "overlay",
              "size": 10,
              "solidity": 0.2
             }
            },
            "type": "histogram"
           }
          ],
          "histogram2d": [
           {
            "colorbar": {
             "outlinewidth": 0,
             "ticks": ""
            },
            "colorscale": [
             [
              0,
              "#0d0887"
             ],
             [
              0.1111111111111111,
              "#46039f"
             ],
             [
              0.2222222222222222,
              "#7201a8"
             ],
             [
              0.3333333333333333,
              "#9c179e"
             ],
             [
              0.4444444444444444,
              "#bd3786"
             ],
             [
              0.5555555555555556,
              "#d8576b"
             ],
             [
              0.6666666666666666,
              "#ed7953"
             ],
             [
              0.7777777777777778,
              "#fb9f3a"
             ],
             [
              0.8888888888888888,
              "#fdca26"
             ],
             [
              1,
              "#f0f921"
             ]
            ],
            "type": "histogram2d"
           }
          ],
          "histogram2dcontour": [
           {
            "colorbar": {
             "outlinewidth": 0,
             "ticks": ""
            },
            "colorscale": [
             [
              0,
              "#0d0887"
             ],
             [
              0.1111111111111111,
              "#46039f"
             ],
             [
              0.2222222222222222,
              "#7201a8"
             ],
             [
              0.3333333333333333,
              "#9c179e"
             ],
             [
              0.4444444444444444,
              "#bd3786"
             ],
             [
              0.5555555555555556,
              "#d8576b"
             ],
             [
              0.6666666666666666,
              "#ed7953"
             ],
             [
              0.7777777777777778,
              "#fb9f3a"
             ],
             [
              0.8888888888888888,
              "#fdca26"
             ],
             [
              1,
              "#f0f921"
             ]
            ],
            "type": "histogram2dcontour"
           }
          ],
          "mesh3d": [
           {
            "colorbar": {
             "outlinewidth": 0,
             "ticks": ""
            },
            "type": "mesh3d"
           }
          ],
          "parcoords": [
           {
            "line": {
             "colorbar": {
              "outlinewidth": 0,
              "ticks": ""
             }
            },
            "type": "parcoords"
           }
          ],
          "pie": [
           {
            "automargin": true,
            "type": "pie"
           }
          ],
          "scatter": [
           {
            "fillpattern": {
             "fillmode": "overlay",
             "size": 10,
             "solidity": 0.2
            },
            "type": "scatter"
           }
          ],
          "scatter3d": [
           {
            "line": {
             "colorbar": {
              "outlinewidth": 0,
              "ticks": ""
             }
            },
            "marker": {
             "colorbar": {
              "outlinewidth": 0,
              "ticks": ""
             }
            },
            "type": "scatter3d"
           }
          ],
          "scattercarpet": [
           {
            "marker": {
             "colorbar": {
              "outlinewidth": 0,
              "ticks": ""
             }
            },
            "type": "scattercarpet"
           }
          ],
          "scattergeo": [
           {
            "marker": {
             "colorbar": {
              "outlinewidth": 0,
              "ticks": ""
             }
            },
            "type": "scattergeo"
           }
          ],
          "scattergl": [
           {
            "marker": {
             "colorbar": {
              "outlinewidth": 0,
              "ticks": ""
             }
            },
            "type": "scattergl"
           }
          ],
          "scattermapbox": [
           {
            "marker": {
             "colorbar": {
              "outlinewidth": 0,
              "ticks": ""
             }
            },
            "type": "scattermapbox"
           }
          ],
          "scatterpolar": [
           {
            "marker": {
             "colorbar": {
              "outlinewidth": 0,
              "ticks": ""
             }
            },
            "type": "scatterpolar"
           }
          ],
          "scatterpolargl": [
           {
            "marker": {
             "colorbar": {
              "outlinewidth": 0,
              "ticks": ""
             }
            },
            "type": "scatterpolargl"
           }
          ],
          "scatterternary": [
           {
            "marker": {
             "colorbar": {
              "outlinewidth": 0,
              "ticks": ""
             }
            },
            "type": "scatterternary"
           }
          ],
          "surface": [
           {
            "colorbar": {
             "outlinewidth": 0,
             "ticks": ""
            },
            "colorscale": [
             [
              0,
              "#0d0887"
             ],
             [
              0.1111111111111111,
              "#46039f"
             ],
             [
              0.2222222222222222,
              "#7201a8"
             ],
             [
              0.3333333333333333,
              "#9c179e"
             ],
             [
              0.4444444444444444,
              "#bd3786"
             ],
             [
              0.5555555555555556,
              "#d8576b"
             ],
             [
              0.6666666666666666,
              "#ed7953"
             ],
             [
              0.7777777777777778,
              "#fb9f3a"
             ],
             [
              0.8888888888888888,
              "#fdca26"
             ],
             [
              1,
              "#f0f921"
             ]
            ],
            "type": "surface"
           }
          ],
          "table": [
           {
            "cells": {
             "fill": {
              "color": "#EBF0F8"
             },
             "line": {
              "color": "white"
             }
            },
            "header": {
             "fill": {
              "color": "#C8D4E3"
             },
             "line": {
              "color": "white"
             }
            },
            "type": "table"
           }
          ]
         },
         "layout": {
          "annotationdefaults": {
           "arrowcolor": "#2a3f5f",
           "arrowhead": 0,
           "arrowwidth": 1
          },
          "autotypenumbers": "strict",
          "coloraxis": {
           "colorbar": {
            "outlinewidth": 0,
            "ticks": ""
           }
          },
          "colorscale": {
           "diverging": [
            [
             0,
             "#8e0152"
            ],
            [
             0.1,
             "#c51b7d"
            ],
            [
             0.2,
             "#de77ae"
            ],
            [
             0.3,
             "#f1b6da"
            ],
            [
             0.4,
             "#fde0ef"
            ],
            [
             0.5,
             "#f7f7f7"
            ],
            [
             0.6,
             "#e6f5d0"
            ],
            [
             0.7,
             "#b8e186"
            ],
            [
             0.8,
             "#7fbc41"
            ],
            [
             0.9,
             "#4d9221"
            ],
            [
             1,
             "#276419"
            ]
           ],
           "sequential": [
            [
             0,
             "#0d0887"
            ],
            [
             0.1111111111111111,
             "#46039f"
            ],
            [
             0.2222222222222222,
             "#7201a8"
            ],
            [
             0.3333333333333333,
             "#9c179e"
            ],
            [
             0.4444444444444444,
             "#bd3786"
            ],
            [
             0.5555555555555556,
             "#d8576b"
            ],
            [
             0.6666666666666666,
             "#ed7953"
            ],
            [
             0.7777777777777778,
             "#fb9f3a"
            ],
            [
             0.8888888888888888,
             "#fdca26"
            ],
            [
             1,
             "#f0f921"
            ]
           ],
           "sequentialminus": [
            [
             0,
             "#0d0887"
            ],
            [
             0.1111111111111111,
             "#46039f"
            ],
            [
             0.2222222222222222,
             "#7201a8"
            ],
            [
             0.3333333333333333,
             "#9c179e"
            ],
            [
             0.4444444444444444,
             "#bd3786"
            ],
            [
             0.5555555555555556,
             "#d8576b"
            ],
            [
             0.6666666666666666,
             "#ed7953"
            ],
            [
             0.7777777777777778,
             "#fb9f3a"
            ],
            [
             0.8888888888888888,
             "#fdca26"
            ],
            [
             1,
             "#f0f921"
            ]
           ]
          },
          "colorway": [
           "#636efa",
           "#EF553B",
           "#00cc96",
           "#ab63fa",
           "#FFA15A",
           "#19d3f3",
           "#FF6692",
           "#B6E880",
           "#FF97FF",
           "#FECB52"
          ],
          "font": {
           "color": "#2a3f5f"
          },
          "geo": {
           "bgcolor": "white",
           "lakecolor": "white",
           "landcolor": "#E5ECF6",
           "showlakes": true,
           "showland": true,
           "subunitcolor": "white"
          },
          "hoverlabel": {
           "align": "left"
          },
          "hovermode": "closest",
          "mapbox": {
           "style": "light"
          },
          "paper_bgcolor": "white",
          "plot_bgcolor": "#E5ECF6",
          "polar": {
           "angularaxis": {
            "gridcolor": "white",
            "linecolor": "white",
            "ticks": ""
           },
           "bgcolor": "#E5ECF6",
           "radialaxis": {
            "gridcolor": "white",
            "linecolor": "white",
            "ticks": ""
           }
          },
          "scene": {
           "xaxis": {
            "backgroundcolor": "#E5ECF6",
            "gridcolor": "white",
            "gridwidth": 2,
            "linecolor": "white",
            "showbackground": true,
            "ticks": "",
            "zerolinecolor": "white"
           },
           "yaxis": {
            "backgroundcolor": "#E5ECF6",
            "gridcolor": "white",
            "gridwidth": 2,
            "linecolor": "white",
            "showbackground": true,
            "ticks": "",
            "zerolinecolor": "white"
           },
           "zaxis": {
            "backgroundcolor": "#E5ECF6",
            "gridcolor": "white",
            "gridwidth": 2,
            "linecolor": "white",
            "showbackground": true,
            "ticks": "",
            "zerolinecolor": "white"
           }
          },
          "shapedefaults": {
           "line": {
            "color": "#2a3f5f"
           }
          },
          "ternary": {
           "aaxis": {
            "gridcolor": "white",
            "linecolor": "white",
            "ticks": ""
           },
           "baxis": {
            "gridcolor": "white",
            "linecolor": "white",
            "ticks": ""
           },
           "bgcolor": "#E5ECF6",
           "caxis": {
            "gridcolor": "white",
            "linecolor": "white",
            "ticks": ""
           }
          },
          "title": {
           "x": 0.05
          },
          "xaxis": {
           "automargin": true,
           "gridcolor": "white",
           "linecolor": "white",
           "ticks": "",
           "title": {
            "standoff": 15
           },
           "zerolinecolor": "white",
           "zerolinewidth": 2
          },
          "yaxis": {
           "automargin": true,
           "gridcolor": "white",
           "linecolor": "white",
           "ticks": "",
           "title": {
            "standoff": 15
           },
           "zerolinecolor": "white",
           "zerolinewidth": 2
          }
         }
        },
        "title": {
         "text": "Distribution Of 1567 Netflix-Ratings"
        },
        "xaxis": {
         "title": {
          "text": "Rating"
         }
        },
        "yaxis": {
         "title": {
          "text": "Count"
         }
        }
       }
      },
      "text/html": [
       "<div>                            <div id=\"3b4da107-ac91-4628-a9c5-ed0eb442017b\" class=\"plotly-graph-div\" style=\"height:525px; width:100%;\"></div>            <script type=\"text/javascript\">                require([\"plotly\"], function(Plotly) {                    window.PLOTLYENV=window.PLOTLYENV || {};                                    if (document.getElementById(\"3b4da107-ac91-4628-a9c5-ed0eb442017b\")) {                    Plotly.newPlot(                        \"3b4da107-ac91-4628-a9c5-ed0eb442017b\",                        [{\"marker\":{\"color\":\"#db0000\"},\"text\":[\"0.1 %\",\"0.1 %\",\"0.3 %\",\"0.1 %\",\"0.1 %\",\"0.3 %\",\"0.1 %\",\"0.3 %\",\"0.2 %\",\"0.5 %\",\"0.8 %\",\"0.4 %\",\"1.0 %\",\"0.6 %\",\"0.8 %\",\"1.0 %\",\"1.1 %\",\"1.0 %\",\"1.5 %\",\"0.7 %\",\"1.0 %\",\"1.0 %\",\"1.0 %\",\"0.7 %\",\"0.3 %\",\"1.2 %\",\"1.7 %\",\"0.7 %\",\"1.0 %\",\"0.9 %\",\"1.0 %\",\"0.1 %\",\"0.1 %\",\"0.1 %\",\"0.2 %\",\"0.4 %\",\"0.3 %\",\"0.1 %\",\"0.1 %\",\"0.1 %\"],\"textfont\":{\"color\":\"#000000\"},\"textposition\":\"auto\",\"x\":[9.3,9.1,9.0,8.8,8.7,8.6,8.5,8.4,8.3,8.2,8.1,8.0,7.9,7.8,7.7,7.6,7.5,7.4,7.3,7.2,7.1,7.0,6.9,6.8,6.7,6.6,6.5,6.4,6.3,6.2,6.1,6.0,5.9,5.8,5.7,5.6,5.2,5.1,4.9,4.3],\"y\":[1,1,5,1,1,5,1,4,3,8,13,7,16,10,13,15,18,16,23,11,16,16,16,11,4,19,27,11,16,14,15,2,1,2,3,6,4,2,2,1],\"type\":\"bar\"}],                        {\"template\":{\"data\":{\"barpolar\":[{\"marker\":{\"line\":{\"color\":\"#E5ECF6\",\"width\":0.5},\"pattern\":{\"fillmode\":\"overlay\",\"size\":10,\"solidity\":0.2}},\"type\":\"barpolar\"}],\"bar\":[{\"error_x\":{\"color\":\"#2a3f5f\"},\"error_y\":{\"color\":\"#2a3f5f\"},\"marker\":{\"line\":{\"color\":\"#E5ECF6\",\"width\":0.5},\"pattern\":{\"fillmode\":\"overlay\",\"size\":10,\"solidity\":0.2}},\"type\":\"bar\"}],\"carpet\":[{\"aaxis\":{\"endlinecolor\":\"#2a3f5f\",\"gridcolor\":\"white\",\"linecolor\":\"white\",\"minorgridcolor\":\"white\",\"startlinecolor\":\"#2a3f5f\"},\"baxis\":{\"endlinecolor\":\"#2a3f5f\",\"gridcolor\":\"white\",\"linecolor\":\"white\",\"minorgridcolor\":\"white\",\"startlinecolor\":\"#2a3f5f\"},\"type\":\"carpet\"}],\"choropleth\":[{\"colorbar\":{\"outlinewidth\":0,\"ticks\":\"\"},\"type\":\"choropleth\"}],\"contourcarpet\":[{\"colorbar\":{\"outlinewidth\":0,\"ticks\":\"\"},\"type\":\"contourcarpet\"}],\"contour\":[{\"colorbar\":{\"outlinewidth\":0,\"ticks\":\"\"},\"colorscale\":[[0.0,\"#0d0887\"],[0.1111111111111111,\"#46039f\"],[0.2222222222222222,\"#7201a8\"],[0.3333333333333333,\"#9c179e\"],[0.4444444444444444,\"#bd3786\"],[0.5555555555555556,\"#d8576b\"],[0.6666666666666666,\"#ed7953\"],[0.7777777777777778,\"#fb9f3a\"],[0.8888888888888888,\"#fdca26\"],[1.0,\"#f0f921\"]],\"type\":\"contour\"}],\"heatmapgl\":[{\"colorbar\":{\"outlinewidth\":0,\"ticks\":\"\"},\"colorscale\":[[0.0,\"#0d0887\"],[0.1111111111111111,\"#46039f\"],[0.2222222222222222,\"#7201a8\"],[0.3333333333333333,\"#9c179e\"],[0.4444444444444444,\"#bd3786\"],[0.5555555555555556,\"#d8576b\"],[0.6666666666666666,\"#ed7953\"],[0.7777777777777778,\"#fb9f3a\"],[0.8888888888888888,\"#fdca26\"],[1.0,\"#f0f921\"]],\"type\":\"heatmapgl\"}],\"heatmap\":[{\"colorbar\":{\"outlinewidth\":0,\"ticks\":\"\"},\"colorscale\":[[0.0,\"#0d0887\"],[0.1111111111111111,\"#46039f\"],[0.2222222222222222,\"#7201a8\"],[0.3333333333333333,\"#9c179e\"],[0.4444444444444444,\"#bd3786\"],[0.5555555555555556,\"#d8576b\"],[0.6666666666666666,\"#ed7953\"],[0.7777777777777778,\"#fb9f3a\"],[0.8888888888888888,\"#fdca26\"],[1.0,\"#f0f921\"]],\"type\":\"heatmap\"}],\"histogram2dcontour\":[{\"colorbar\":{\"outlinewidth\":0,\"ticks\":\"\"},\"colorscale\":[[0.0,\"#0d0887\"],[0.1111111111111111,\"#46039f\"],[0.2222222222222222,\"#7201a8\"],[0.3333333333333333,\"#9c179e\"],[0.4444444444444444,\"#bd3786\"],[0.5555555555555556,\"#d8576b\"],[0.6666666666666666,\"#ed7953\"],[0.7777777777777778,\"#fb9f3a\"],[0.8888888888888888,\"#fdca26\"],[1.0,\"#f0f921\"]],\"type\":\"histogram2dcontour\"}],\"histogram2d\":[{\"colorbar\":{\"outlinewidth\":0,\"ticks\":\"\"},\"colorscale\":[[0.0,\"#0d0887\"],[0.1111111111111111,\"#46039f\"],[0.2222222222222222,\"#7201a8\"],[0.3333333333333333,\"#9c179e\"],[0.4444444444444444,\"#bd3786\"],[0.5555555555555556,\"#d8576b\"],[0.6666666666666666,\"#ed7953\"],[0.7777777777777778,\"#fb9f3a\"],[0.8888888888888888,\"#fdca26\"],[1.0,\"#f0f921\"]],\"type\":\"histogram2d\"}],\"histogram\":[{\"marker\":{\"pattern\":{\"fillmode\":\"overlay\",\"size\":10,\"solidity\":0.2}},\"type\":\"histogram\"}],\"mesh3d\":[{\"colorbar\":{\"outlinewidth\":0,\"ticks\":\"\"},\"type\":\"mesh3d\"}],\"parcoords\":[{\"line\":{\"colorbar\":{\"outlinewidth\":0,\"ticks\":\"\"}},\"type\":\"parcoords\"}],\"pie\":[{\"automargin\":true,\"type\":\"pie\"}],\"scatter3d\":[{\"line\":{\"colorbar\":{\"outlinewidth\":0,\"ticks\":\"\"}},\"marker\":{\"colorbar\":{\"outlinewidth\":0,\"ticks\":\"\"}},\"type\":\"scatter3d\"}],\"scattercarpet\":[{\"marker\":{\"colorbar\":{\"outlinewidth\":0,\"ticks\":\"\"}},\"type\":\"scattercarpet\"}],\"scattergeo\":[{\"marker\":{\"colorbar\":{\"outlinewidth\":0,\"ticks\":\"\"}},\"type\":\"scattergeo\"}],\"scattergl\":[{\"marker\":{\"colorbar\":{\"outlinewidth\":0,\"ticks\":\"\"}},\"type\":\"scattergl\"}],\"scattermapbox\":[{\"marker\":{\"colorbar\":{\"outlinewidth\":0,\"ticks\":\"\"}},\"type\":\"scattermapbox\"}],\"scatterpolargl\":[{\"marker\":{\"colorbar\":{\"outlinewidth\":0,\"ticks\":\"\"}},\"type\":\"scatterpolargl\"}],\"scatterpolar\":[{\"marker\":{\"colorbar\":{\"outlinewidth\":0,\"ticks\":\"\"}},\"type\":\"scatterpolar\"}],\"scatter\":[{\"fillpattern\":{\"fillmode\":\"overlay\",\"size\":10,\"solidity\":0.2},\"type\":\"scatter\"}],\"scatterternary\":[{\"marker\":{\"colorbar\":{\"outlinewidth\":0,\"ticks\":\"\"}},\"type\":\"scatterternary\"}],\"surface\":[{\"colorbar\":{\"outlinewidth\":0,\"ticks\":\"\"},\"colorscale\":[[0.0,\"#0d0887\"],[0.1111111111111111,\"#46039f\"],[0.2222222222222222,\"#7201a8\"],[0.3333333333333333,\"#9c179e\"],[0.4444444444444444,\"#bd3786\"],[0.5555555555555556,\"#d8576b\"],[0.6666666666666666,\"#ed7953\"],[0.7777777777777778,\"#fb9f3a\"],[0.8888888888888888,\"#fdca26\"],[1.0,\"#f0f921\"]],\"type\":\"surface\"}],\"table\":[{\"cells\":{\"fill\":{\"color\":\"#EBF0F8\"},\"line\":{\"color\":\"white\"}},\"header\":{\"fill\":{\"color\":\"#C8D4E3\"},\"line\":{\"color\":\"white\"}},\"type\":\"table\"}]},\"layout\":{\"annotationdefaults\":{\"arrowcolor\":\"#2a3f5f\",\"arrowhead\":0,\"arrowwidth\":1},\"autotypenumbers\":\"strict\",\"coloraxis\":{\"colorbar\":{\"outlinewidth\":0,\"ticks\":\"\"}},\"colorscale\":{\"diverging\":[[0,\"#8e0152\"],[0.1,\"#c51b7d\"],[0.2,\"#de77ae\"],[0.3,\"#f1b6da\"],[0.4,\"#fde0ef\"],[0.5,\"#f7f7f7\"],[0.6,\"#e6f5d0\"],[0.7,\"#b8e186\"],[0.8,\"#7fbc41\"],[0.9,\"#4d9221\"],[1,\"#276419\"]],\"sequential\":[[0.0,\"#0d0887\"],[0.1111111111111111,\"#46039f\"],[0.2222222222222222,\"#7201a8\"],[0.3333333333333333,\"#9c179e\"],[0.4444444444444444,\"#bd3786\"],[0.5555555555555556,\"#d8576b\"],[0.6666666666666666,\"#ed7953\"],[0.7777777777777778,\"#fb9f3a\"],[0.8888888888888888,\"#fdca26\"],[1.0,\"#f0f921\"]],\"sequentialminus\":[[0.0,\"#0d0887\"],[0.1111111111111111,\"#46039f\"],[0.2222222222222222,\"#7201a8\"],[0.3333333333333333,\"#9c179e\"],[0.4444444444444444,\"#bd3786\"],[0.5555555555555556,\"#d8576b\"],[0.6666666666666666,\"#ed7953\"],[0.7777777777777778,\"#fb9f3a\"],[0.8888888888888888,\"#fdca26\"],[1.0,\"#f0f921\"]]},\"colorway\":[\"#636efa\",\"#EF553B\",\"#00cc96\",\"#ab63fa\",\"#FFA15A\",\"#19d3f3\",\"#FF6692\",\"#B6E880\",\"#FF97FF\",\"#FECB52\"],\"font\":{\"color\":\"#2a3f5f\"},\"geo\":{\"bgcolor\":\"white\",\"lakecolor\":\"white\",\"landcolor\":\"#E5ECF6\",\"showlakes\":true,\"showland\":true,\"subunitcolor\":\"white\"},\"hoverlabel\":{\"align\":\"left\"},\"hovermode\":\"closest\",\"mapbox\":{\"style\":\"light\"},\"paper_bgcolor\":\"white\",\"plot_bgcolor\":\"#E5ECF6\",\"polar\":{\"angularaxis\":{\"gridcolor\":\"white\",\"linecolor\":\"white\",\"ticks\":\"\"},\"bgcolor\":\"#E5ECF6\",\"radialaxis\":{\"gridcolor\":\"white\",\"linecolor\":\"white\",\"ticks\":\"\"}},\"scene\":{\"xaxis\":{\"backgroundcolor\":\"#E5ECF6\",\"gridcolor\":\"white\",\"gridwidth\":2,\"linecolor\":\"white\",\"showbackground\":true,\"ticks\":\"\",\"zerolinecolor\":\"white\"},\"yaxis\":{\"backgroundcolor\":\"#E5ECF6\",\"gridcolor\":\"white\",\"gridwidth\":2,\"linecolor\":\"white\",\"showbackground\":true,\"ticks\":\"\",\"zerolinecolor\":\"white\"},\"zaxis\":{\"backgroundcolor\":\"#E5ECF6\",\"gridcolor\":\"white\",\"gridwidth\":2,\"linecolor\":\"white\",\"showbackground\":true,\"ticks\":\"\",\"zerolinecolor\":\"white\"}},\"shapedefaults\":{\"line\":{\"color\":\"#2a3f5f\"}},\"ternary\":{\"aaxis\":{\"gridcolor\":\"white\",\"linecolor\":\"white\",\"ticks\":\"\"},\"baxis\":{\"gridcolor\":\"white\",\"linecolor\":\"white\",\"ticks\":\"\"},\"bgcolor\":\"#E5ECF6\",\"caxis\":{\"gridcolor\":\"white\",\"linecolor\":\"white\",\"ticks\":\"\"}},\"title\":{\"x\":0.05},\"xaxis\":{\"automargin\":true,\"gridcolor\":\"white\",\"linecolor\":\"white\",\"ticks\":\"\",\"title\":{\"standoff\":15},\"zerolinecolor\":\"white\",\"zerolinewidth\":2},\"yaxis\":{\"automargin\":true,\"gridcolor\":\"white\",\"linecolor\":\"white\",\"ticks\":\"\",\"title\":{\"standoff\":15},\"zerolinecolor\":\"white\",\"zerolinewidth\":2}}},\"title\":{\"text\":\"Distribution Of 1567 Netflix-Ratings\"},\"xaxis\":{\"title\":{\"text\":\"Rating\"}},\"yaxis\":{\"title\":{\"text\":\"Count\"}}},                        {\"responsive\": true}                    ).then(function(){\n",
       "                            \n",
       "var gd = document.getElementById('3b4da107-ac91-4628-a9c5-ed0eb442017b');\n",
       "var x = new MutationObserver(function (mutations, observer) {{\n",
       "        var display = window.getComputedStyle(gd).display;\n",
       "        if (!display || display === 'none') {{\n",
       "            console.log([gd, 'removed!']);\n",
       "            Plotly.purge(gd);\n",
       "            observer.disconnect();\n",
       "        }}\n",
       "}});\n",
       "\n",
       "// Listen for the removal of the full notebook cells\n",
       "var notebookContainer = gd.closest('#notebook-container');\n",
       "if (notebookContainer) {{\n",
       "    x.observe(notebookContainer, {childList: true});\n",
       "}}\n",
       "\n",
       "// Listen for the clearing of the current output cell\n",
       "var outputEl = gd.closest('.output');\n",
       "if (outputEl) {{\n",
       "    x.observe(outputEl, {childList: true});\n",
       "}}\n",
       "\n",
       "                        })                };                });            </script>        </div>"
      ]
     },
     "metadata": {},
     "output_type": "display_data"
    }
   ],
   "source": [
    "# Get data\n",
    "data = pd.Series(flattened_data).value_counts().sort_index(ascending=False)\n",
    "\n",
    "# Create trace\n",
    "trace = go.Bar(x = data.index,\n",
    "               text = ['{:.1f} %'.format(val) for val in (data.values / df.shape[0] * 100)],\n",
    "               textposition = 'auto',\n",
    "               textfont = dict(color = '#000000'),\n",
    "               y = data.values,\n",
    "               marker = dict(color = '#db0000'))\n",
    "# Create layout\n",
    "layout = dict(title = 'Distribution Of {} Netflix-Ratings'.format(df.shape[0]),\n",
    "              xaxis = dict(title = 'Rating'),\n",
    "              yaxis = dict(title = 'Count'))\n",
    "# Create plot\n",
    "fig = go.Figure(data=[trace], layout=layout)\n",
    "iplot(fig)"
   ]
  },
  {
   "cell_type": "markdown",
   "metadata": {},
   "source": [
    "- Finally ANOVA"
   ]
  },
  {
   "cell_type": "code",
   "execution_count": 27,
   "metadata": {},
   "outputs": [
    {
     "name": "stdout",
     "output_type": "stream",
     "text": [
      "F-statistic: 3.3978638364583307\n",
      "P-value: 8.170297928164354e-06\n"
     ]
    }
   ],
   "source": [
    "# 执行单因素方差分析 (One-way ANOVA)\n",
    "f_statistic, p_value = f_oneway(*groups)\n",
    "\n",
    "# 输出方差分析的结果\n",
    "print(\"F-statistic:\", f_statistic)\n",
    "print(\"P-value:\", p_value)"
   ]
  },
  {
   "cell_type": "markdown",
   "metadata": {},
   "source": [
    "# Post-Hoc Analysis"
   ]
  },
  {
   "cell_type": "code",
   "execution_count": 28,
   "metadata": {},
   "outputs": [
    {
     "data": {
      "text/html": [
       "<div>\n",
       "<style scoped>\n",
       "    .dataframe tbody tr th:only-of-type {\n",
       "        vertical-align: middle;\n",
       "    }\n",
       "\n",
       "    .dataframe tbody tr th {\n",
       "        vertical-align: top;\n",
       "    }\n",
       "\n",
       "    .dataframe thead th {\n",
       "        text-align: right;\n",
       "    }\n",
       "</style>\n",
       "<table border=\"1\" class=\"dataframe\">\n",
       "  <thead>\n",
       "    <tr style=\"text-align: right;\">\n",
       "      <th></th>\n",
       "      <th>genre</th>\n",
       "      <th>ratings</th>\n",
       "    </tr>\n",
       "  </thead>\n",
       "  <tbody>\n",
       "    <tr>\n",
       "      <th>0</th>\n",
       "      <td>Horror</td>\n",
       "      <td>6.80</td>\n",
       "    </tr>\n",
       "    <tr>\n",
       "      <th>1</th>\n",
       "      <td>Horror</td>\n",
       "      <td>6.50</td>\n",
       "    </tr>\n",
       "    <tr>\n",
       "      <th>2</th>\n",
       "      <td>Horror</td>\n",
       "      <td>6.60</td>\n",
       "    </tr>\n",
       "    <tr>\n",
       "      <th>3</th>\n",
       "      <td>Horror</td>\n",
       "      <td>6.10</td>\n",
       "    </tr>\n",
       "    <tr>\n",
       "      <th>4</th>\n",
       "      <td>Horror</td>\n",
       "      <td>5.20</td>\n",
       "    </tr>\n",
       "    <tr>\n",
       "      <th>...</th>\n",
       "      <td>...</td>\n",
       "      <td>...</td>\n",
       "    </tr>\n",
       "    <tr>\n",
       "      <th>355</th>\n",
       "      <td>War</td>\n",
       "      <td>8.10</td>\n",
       "    </tr>\n",
       "    <tr>\n",
       "      <th>356</th>\n",
       "      <td>War</td>\n",
       "      <td>7.50</td>\n",
       "    </tr>\n",
       "    <tr>\n",
       "      <th>357</th>\n",
       "      <td>War</td>\n",
       "      <td>7.10</td>\n",
       "    </tr>\n",
       "    <tr>\n",
       "      <th>358</th>\n",
       "      <td>War</td>\n",
       "      <td>8.20</td>\n",
       "    </tr>\n",
       "    <tr>\n",
       "      <th>359</th>\n",
       "      <td>War</td>\n",
       "      <td>7.50</td>\n",
       "    </tr>\n",
       "  </tbody>\n",
       "</table>\n",
       "<p>360 rows × 2 columns</p>\n",
       "</div>"
      ],
      "text/plain": [
       "      genre  ratings\n",
       "0    Horror     6.80\n",
       "1    Horror     6.50\n",
       "2    Horror     6.60\n",
       "3    Horror     6.10\n",
       "4    Horror     5.20\n",
       "..      ...      ...\n",
       "355     War     8.10\n",
       "356     War     7.50\n",
       "357     War     7.10\n",
       "358     War     8.20\n",
       "359     War     7.50\n",
       "\n",
       "[360 rows x 2 columns]"
      ]
     },
     "execution_count": 28,
     "metadata": {},
     "output_type": "execute_result"
    }
   ],
   "source": [
    "dic = {}\n",
    "lst0 = []\n",
    "lst1 = []\n",
    "\n",
    "for genre in df_sort.columns:\n",
    "    lst0.extend([genre]*sample_size)\n",
    "    lst1.extend(df_sort[genre])\n",
    "\n",
    "df_sort_gr = pd.DataFrame({'genre':lst0, 'ratings':lst1})\n",
    "df_sort_gr"
   ]
  },
  {
   "cell_type": "code",
   "execution_count": 29,
   "metadata": {},
   "outputs": [
    {
     "name": "stdout",
     "output_type": "stream",
     "text": [
      "   Multiple Comparison of Means - Tukey HSD, FWER=0.05    \n",
      "==========================================================\n",
      "  group1    group2  meandiff p-adj   lower   upper  reject\n",
      "----------------------------------------------------------\n",
      "   Action Adventure    0.335 0.9965 -0.5251  1.1951  False\n",
      "   Action Animation     0.51 0.8233 -0.3501  1.3701  False\n",
      "   Action Biography     0.44 0.9429 -0.4201  1.3001  False\n",
      "   Action    Comedy     0.12    1.0 -0.7401  0.9801  False\n",
      "   Action     Crime    0.255 0.9999 -0.6051  1.1151  False\n",
      "   Action     Drama    0.605 0.5527 -0.2551  1.4651  False\n",
      "   Action    Family     0.61  0.537 -0.2501  1.4701  False\n",
      "   Action   Fantasy    -0.13    1.0 -0.9901  0.7301  False\n",
      "   Action   History     0.75 0.1761 -0.1101  1.6101  False\n",
      "   Action    Horror    -0.32 0.9979 -1.1801  0.5401  False\n",
      "   Action     Music    0.465 0.9098 -0.3951  1.3251  False\n",
      "   Action   Mystery    0.415 0.9663 -0.4451  1.2751  False\n",
      "   Action   Romance    0.205    1.0 -0.6551  1.0651  False\n",
      "   Action    Sci-Fi    -0.16    1.0 -1.0201  0.7001  False\n",
      "   Action     Sport    0.315 0.9983 -0.5451  1.1751  False\n",
      "   Action  Thriller     0.06    1.0 -0.8001  0.9201  False\n",
      "   Action       War     0.81 0.0921 -0.0501  1.6701  False\n",
      "Adventure Animation    0.175    1.0 -0.6851  1.0351  False\n",
      "Adventure Biography    0.105    1.0 -0.7551  0.9651  False\n",
      "Adventure    Comedy   -0.215    1.0 -1.0751  0.6451  False\n",
      "Adventure     Crime    -0.08    1.0 -0.9401  0.7801  False\n",
      "Adventure     Drama     0.27 0.9998 -0.5901  1.1301  False\n",
      "Adventure    Family    0.275 0.9997 -0.5851  1.1351  False\n",
      "Adventure   Fantasy   -0.465 0.9098 -1.3251  0.3951  False\n",
      "Adventure   History    0.415 0.9663 -0.4451  1.2751  False\n",
      "Adventure    Horror   -0.655 0.4004 -1.5151  0.2051  False\n",
      "Adventure     Music     0.13    1.0 -0.7301  0.9901  False\n",
      "Adventure   Mystery     0.08    1.0 -0.7801  0.9401  False\n",
      "Adventure   Romance    -0.13    1.0 -0.9901  0.7301  False\n",
      "Adventure    Sci-Fi   -0.495  0.856 -1.3551  0.3651  False\n",
      "Adventure     Sport    -0.02    1.0 -0.8801  0.8401  False\n",
      "Adventure  Thriller   -0.275 0.9997 -1.1351  0.5851  False\n",
      "Adventure       War    0.475 0.8936 -0.3851  1.3351  False\n",
      "Animation Biography    -0.07    1.0 -0.9301  0.7901  False\n",
      "Animation    Comedy    -0.39 0.9815 -1.2501  0.4701  False\n",
      "Animation     Crime   -0.255 0.9999 -1.1151  0.6051  False\n",
      "Animation     Drama    0.095    1.0 -0.7651  0.9551  False\n",
      "Animation    Family      0.1    1.0 -0.7601  0.9601  False\n",
      "Animation   Fantasy    -0.64 0.4447 -1.5001  0.2201  False\n",
      "Animation   History     0.24    1.0 -0.6201  1.1001  False\n",
      "Animation    Horror    -0.83 0.0727 -1.6901  0.0301  False\n",
      "Animation     Music   -0.045    1.0 -0.9051  0.8151  False\n",
      "Animation   Mystery   -0.095    1.0 -0.9551  0.7651  False\n",
      "Animation   Romance   -0.305 0.9989 -1.1651  0.5551  False\n",
      "Animation    Sci-Fi    -0.67  0.358 -1.5301  0.1901  False\n",
      "Animation     Sport   -0.195    1.0 -1.0551  0.6651  False\n",
      "Animation  Thriller    -0.45 0.9309 -1.3101  0.4101  False\n",
      "Animation       War      0.3 0.9991 -0.5601  1.1601  False\n",
      "Biography    Comedy    -0.32 0.9979 -1.1801  0.5401  False\n",
      "Biography     Crime   -0.185    1.0 -1.0451  0.6751  False\n",
      "Biography     Drama    0.165    1.0 -0.6951  1.0251  False\n",
      "Biography    Family     0.17    1.0 -0.6901  1.0301  False\n",
      "Biography   Fantasy    -0.57 0.6609 -1.4301  0.2901  False\n",
      "Biography   History     0.31 0.9986 -0.5501  1.1701  False\n",
      "Biography    Horror    -0.76 0.1591 -1.6201  0.1001  False\n",
      "Biography     Music    0.025    1.0 -0.8351  0.8851  False\n",
      "Biography   Mystery   -0.025    1.0 -0.8851  0.8351  False\n",
      "Biography   Romance   -0.235    1.0 -1.0951  0.6251  False\n",
      "Biography    Sci-Fi     -0.6 0.5683 -1.4601  0.2601  False\n",
      "Biography     Sport   -0.125    1.0 -0.9851  0.7351  False\n",
      "Biography  Thriller    -0.38 0.9858 -1.2401  0.4801  False\n",
      "Biography       War     0.37 0.9893 -0.4901  1.2301  False\n",
      "   Comedy     Crime    0.135    1.0 -0.7251  0.9951  False\n",
      "   Comedy     Drama    0.485 0.8757 -0.3751  1.3451  False\n",
      "   Comedy    Family     0.49  0.866 -0.3701  1.3501  False\n",
      "   Comedy   Fantasy    -0.25 0.9999 -1.1101  0.6101  False\n",
      "   Comedy   History     0.63  0.475 -0.2301  1.4901  False\n",
      "   Comedy    Horror    -0.44 0.9429 -1.3001  0.4201  False\n",
      "   Comedy     Music    0.345  0.995 -0.5151  1.2051  False\n",
      "   Comedy   Mystery    0.295 0.9992 -0.5651  1.1551  False\n",
      "   Comedy   Romance    0.085    1.0 -0.7751  0.9451  False\n",
      "   Comedy    Sci-Fi    -0.28 0.9996 -1.1401  0.5801  False\n",
      "   Comedy     Sport    0.195    1.0 -0.6651  1.0551  False\n",
      "   Comedy  Thriller    -0.06    1.0 -0.9201  0.8001  False\n",
      "   Comedy       War     0.69 0.3052 -0.1701  1.5501  False\n",
      "    Crime     Drama     0.35 0.9942 -0.5101  1.2101  False\n",
      "    Crime    Family    0.355 0.9932 -0.5051  1.2151  False\n",
      "    Crime   Fantasy   -0.385 0.9838 -1.2451  0.4751  False\n",
      "    Crime   History    0.495  0.856 -0.3651  1.3551  False\n",
      "    Crime    Horror   -0.575 0.6457 -1.4351  0.2851  False\n",
      "    Crime     Music     0.21    1.0 -0.6501  1.0701  False\n",
      "    Crime   Mystery     0.16    1.0 -0.7001  1.0201  False\n",
      "    Crime   Romance    -0.05    1.0 -0.9101  0.8101  False\n",
      "    Crime    Sci-Fi   -0.415 0.9663 -1.2751  0.4451  False\n",
      "    Crime     Sport     0.06    1.0 -0.8001  0.9201  False\n",
      "    Crime  Thriller   -0.195    1.0 -1.0551  0.6651  False\n",
      "    Crime       War    0.555 0.7053 -0.3051  1.4151  False\n",
      "    Drama    Family    0.005    1.0 -0.8551  0.8651  False\n",
      "    Drama   Fantasy   -0.735  0.204 -1.5951  0.1251  False\n",
      "    Drama   History    0.145    1.0 -0.7151  1.0051  False\n",
      "    Drama    Horror   -0.925 0.0208 -1.7851 -0.0649   True\n",
      "    Drama     Music    -0.14    1.0 -1.0001  0.7201  False\n",
      "    Drama   Mystery    -0.19    1.0 -1.0501  0.6701  False\n",
      "    Drama   Romance     -0.4 0.9763 -1.2601  0.4601  False\n",
      "    Drama    Sci-Fi   -0.765 0.1511 -1.6251  0.0951  False\n",
      "    Drama     Sport    -0.29 0.9994 -1.1501  0.5701  False\n",
      "    Drama  Thriller   -0.545 0.7337 -1.4051  0.3151  False\n",
      "    Drama       War    0.205    1.0 -0.6551  1.0651  False\n",
      "   Family   Fantasy    -0.74 0.1944 -1.6001  0.1201  False\n",
      "   Family   History     0.14    1.0 -0.7201  1.0001  False\n",
      "   Family    Horror    -0.93 0.0194 -1.7901 -0.0699   True\n",
      "   Family     Music   -0.145    1.0 -1.0051  0.7151  False\n",
      "   Family   Mystery   -0.195    1.0 -1.0551  0.6651  False\n",
      "   Family   Romance   -0.405 0.9732 -1.2651  0.4551  False\n",
      "   Family    Sci-Fi    -0.77 0.1434 -1.6301  0.0901  False\n",
      "   Family     Sport   -0.295 0.9992 -1.1551  0.5651  False\n",
      "   Family  Thriller    -0.55 0.7196 -1.4101  0.3101  False\n",
      "   Family       War      0.2    1.0 -0.6601  1.0601  False\n",
      "  Fantasy   History     0.88 0.0386  0.0199  1.7401   True\n",
      "  Fantasy    Horror    -0.19    1.0 -1.0501  0.6701  False\n",
      "  Fantasy     Music    0.595 0.5839 -0.2651  1.4551  False\n",
      "  Fantasy   Mystery    0.545 0.7337 -0.3151  1.4051  False\n",
      "  Fantasy   Romance    0.335 0.9965 -0.5251  1.1951  False\n",
      "  Fantasy    Sci-Fi    -0.03    1.0 -0.8901  0.8301  False\n",
      "  Fantasy     Sport    0.445 0.9371 -0.4151  1.3051  False\n",
      "  Fantasy  Thriller     0.19    1.0 -0.6701  1.0501  False\n",
      "  Fantasy       War     0.94 0.0168  0.0799  1.8001   True\n",
      "  History    Horror    -1.07 0.0022 -1.9301 -0.2099   True\n",
      "  History     Music   -0.285 0.9995 -1.1451  0.5751  False\n",
      "  History   Mystery   -0.335 0.9965 -1.1951  0.5251  False\n",
      "  History   Romance   -0.545 0.7337 -1.4051  0.3151  False\n",
      "  History    Sci-Fi    -0.91 0.0257 -1.7701 -0.0499   True\n",
      "  History     Sport   -0.435 0.9483 -1.2951  0.4251  False\n",
      "  History  Thriller    -0.69 0.3052 -1.5501  0.1701  False\n",
      "  History       War     0.06    1.0 -0.8001  0.9201  False\n",
      "   Horror     Music    0.785 0.1221 -0.0751  1.6451  False\n",
      "   Horror   Mystery    0.735  0.204 -0.1251  1.5951  False\n",
      "   Horror   Romance    0.525  0.787 -0.3351  1.3851  False\n",
      "   Horror    Sci-Fi     0.16    1.0 -0.7001  1.0201  False\n",
      "   Horror     Sport    0.635 0.4598 -0.2251  1.4951  False\n",
      "   Horror  Thriller     0.38 0.9858 -0.4801  1.2401  False\n",
      "   Horror       War     1.13 0.0008  0.2699  1.9901   True\n",
      "    Music   Mystery    -0.05    1.0 -0.9101  0.8101  False\n",
      "    Music   Romance    -0.26 0.9999 -1.1201  0.6001  False\n",
      "    Music    Sci-Fi   -0.625 0.4904 -1.4851  0.2351  False\n",
      "    Music     Sport    -0.15    1.0 -1.0101  0.7101  False\n",
      "    Music  Thriller   -0.405 0.9732 -1.2651  0.4551  False\n",
      "    Music       War    0.345  0.995 -0.5151  1.2051  False\n",
      "  Mystery   Romance    -0.21    1.0 -1.0701  0.6501  False\n",
      "  Mystery    Sci-Fi   -0.575 0.6457 -1.4351  0.2851  False\n",
      "  Mystery     Sport     -0.1    1.0 -0.9601  0.7601  False\n",
      "  Mystery  Thriller   -0.355 0.9932 -1.2151  0.5051  False\n",
      "  Mystery       War    0.395  0.979 -0.4651  1.2551  False\n",
      "  Romance    Sci-Fi   -0.365 0.9908 -1.2251  0.4951  False\n",
      "  Romance     Sport     0.11    1.0 -0.7501  0.9701  False\n",
      "  Romance  Thriller   -0.145    1.0 -1.0051  0.7151  False\n",
      "  Romance       War    0.605 0.5527 -0.2551  1.4651  False\n",
      "   Sci-Fi     Sport    0.475 0.8936 -0.3851  1.3351  False\n",
      "   Sci-Fi  Thriller     0.22    1.0 -0.6401  1.0801  False\n",
      "   Sci-Fi       War     0.97 0.0108  0.1099  1.8301   True\n",
      "    Sport  Thriller   -0.255 0.9999 -1.1151  0.6051  False\n",
      "    Sport       War    0.495  0.856 -0.3651  1.3551  False\n",
      " Thriller       War     0.75 0.1761 -0.1101  1.6101  False\n",
      "----------------------------------------------------------\n",
      "Figure(1000x600)\n"
     ]
    },
    {
     "data": {
      "image/png": "[encoded data removed]",
      "text/plain": [
       "<Figure size 1000x600 with 1 Axes>"
      ]
     },
     "metadata": {},
     "output_type": "display_data"
    }
   ],
   "source": [
    "# Assuming 'score' contains your scores and 'genre' contains corresponding genre labels\n",
    "mc = MultiComparison(df_sort_gr['ratings'], df_sort_gr['genre'])\n",
    "results = mc.tukeyhsd()\n",
    "print(results)\n",
    "\n",
    "# If you want to plot the results\n",
    "print(results.plot_simultaneous())"
   ]
  },
  {
   "cell_type": "code",
   "execution_count": 30,
   "metadata": {},
   "outputs": [
    {
     "data": {
      "text/plain": [
       "Index(['Horror', 'Sci-Fi', 'Fantasy', 'Action', 'Thriller', 'Comedy',\n",
       "       'Romance', 'Crime', 'Sport', 'Adventure', 'Mystery', 'Biography',\n",
       "       'Music', 'Animation', 'Drama', 'Family', 'History', 'War'],\n",
       "      dtype='object')"
      ]
     },
     "execution_count": 30,
     "metadata": {},
     "output_type": "execute_result"
    }
   ],
   "source": [
    "df_sort.columns"
   ]
  },
  {
   "cell_type": "code",
   "execution_count": 31,
   "metadata": {},
   "outputs": [
    {
     "data": {
      "image/png": "[encoded data removed]",
      "text/plain": [
       "<Figure size 2000x1600 with 8 Axes>"
      ]
     },
     "metadata": {},
     "output_type": "display_data"
    }
   ],
   "source": [
    "selected_columns1 = ['Horror','Drama']\n",
    "selected_columns2 = ['Sci-Fi','History']\n",
    "selected_columns3 = ['Horror','Family']\n",
    "selected_columns4 = ['Sci-Fi','War']\n",
    "selected_columns5 = ['Horror','History']\n",
    "selected_columns6 = ['Fantasy','History']\n",
    "selected_columns7 = ['Horror','War']\n",
    "selected_columns8 = ['Fantasy','War']\n",
    "\n",
    "selected_columns = [selected_columns1,selected_columns2,selected_columns3,selected_columns4,\n",
    "                    selected_columns5,selected_columns6,selected_columns7,selected_columns8]\n",
    "\n",
    "# 使用 Seaborn 绘制箱线图\n",
    "plt.figure(figsize=(20, 16))  # 设置图的大小\n",
    "for index, item in enumerate(selected_columns):\n",
    "    plt.subplot(4, 2, index+1)\n",
    "    sns.boxplot(data=df_sort[item])\n",
    "    plt.xlabel('Genre')  # 设置 x 轴标签\n",
    "    plt.ylabel('Rating')  # 设置 y 轴标签\n",
    "    plt.title('Boxplot of Ratings by Genre')  # 设置图的标题\n",
    "    plt.xticks(rotation = 45)\n",
    "\n",
    "# 显示图表\n",
    "plt.tight_layout()  # 调整子图布局，避免重叠\n",
    "plt.show()"
   ]
  },
  {
   "cell_type": "code",
   "execution_count": 32,
   "metadata": {},
   "outputs": [
    {
     "data": {
      "image/png": "[encoded data removed]",
      "text/plain": [
       "<Figure size 1000x600 with 1 Axes>"
      ]
     },
     "metadata": {},
     "output_type": "display_data"
    }
   ],
   "source": [
    "# 将字典数据转换为 DataFrame\n",
    "df_sample = pd.DataFrame.from_dict(dic_g2rating_sample)\n",
    "\n",
    "sorted_categories = df_sample.mean().sort_values().index.tolist()\n",
    "df_sort = df_sample.reindex(columns=sorted_categories)\n",
    "\n",
    "# 使用 Seaborn 绘制箱线图\n",
    "plt.figure(figsize=(10, 6))  # 设置图的大小\n",
    "sns.boxplot(data=df_sort)\n",
    "plt.xlabel('Movie Category')  # 设置 x 轴标签\n",
    "plt.ylabel('Rating')  # 设置 y 轴标签\n",
    "plt.title('Boxplot of Ratings by Genre')  # 设置图的标题\n",
    "plt.xticks(rotation = 45)\n",
    "plt.show()"
   ]
  },
  {
   "cell_type": "markdown",
   "metadata": {},
   "source": [
    "# Visualization"
   ]
  },
  {
   "cell_type": "code",
   "execution_count": 39,
   "metadata": {},
   "outputs": [
    {
     "data": {
      "application/vnd.plotly.v1+json": {
       "config": {
        "linkText": "Export to plot.ly",
        "plotlyServerURL": "https://plot.ly",
        "showLink": false
       },
       "data": [
        {
         "marker": {
          "color": "#db0000"
         },
         "text": [
          "0.3 %",
          "0.1 %",
          "0.4 %",
          "1.3 %",
          "0.1 %",
          "0.4 %",
          "0.3 %",
          "0.7 %",
          "1.3 %",
          "0.8 %",
          "1.1 %",
          "2.4 %",
          "3.5 %",
          "2.4 %",
          "2.9 %",
          "3.7 %",
          "3.4 %",
          "4.3 %",
          "3.1 %",
          "3.6 %",
          "5.4 %",
          "3.1 %",
          "4.7 %",
          "4.5 %",
          "3.8 %",
          "4.0 %",
          "3.2 %",
          "5.0 %",
          "5.4 %",
          "3.6 %",
          "4.6 %",
          "3.1 %",
          "3.3 %",
          "1.3 %",
          "1.1 %",
          "1.7 %",
          "1.1 %",
          "1.3 %",
          "1.1 %",
          "0.5 %",
          "0.7 %",
          "0.5 %",
          "0.3 %",
          "0.3 %",
          "0.1 %",
          "0.1 %",
          "0.2 %",
          "0.1 %",
          "0.1 %",
          "0.1 %"
         ],
         "textfont": {
          "color": "#000000"
         },
         "textposition": "auto",
         "type": "bar",
         "x": [
          9.3,
          9.2,
          9.1,
          9,
          8.9,
          8.8,
          8.7,
          8.6,
          8.5,
          8.4,
          8.3,
          8.2,
          8.1,
          8,
          7.9,
          7.8,
          7.7,
          7.6,
          7.5,
          7.4,
          7.3,
          7.2,
          7.1,
          7,
          6.9,
          6.8,
          6.7,
          6.6,
          6.5,
          6.4,
          6.3,
          6.2,
          6.1,
          6,
          5.9,
          5.8,
          5.7,
          5.6,
          5.5,
          5.4,
          5.3,
          5.2,
          5.1,
          4.9,
          4.8,
          4.6,
          4.3,
          4.2,
          4,
          2.8
         ],
         "y": [
          4,
          1,
          6,
          20,
          1,
          7,
          5,
          11,
          20,
          13,
          17,
          37,
          55,
          38,
          46,
          58,
          53,
          67,
          48,
          57,
          84,
          49,
          73,
          70,
          60,
          62,
          50,
          78,
          85,
          57,
          72,
          48,
          51,
          20,
          17,
          26,
          17,
          20,
          17,
          8,
          11,
          8,
          5,
          5,
          1,
          2,
          3,
          2,
          1,
          1
         ]
        }
       ],
       "layout": {
        "template": {
         "data": {
          "bar": [
           {
            "error_x": {
             "color": "#2a3f5f"
            },
            "error_y": {
             "color": "#2a3f5f"
            },
            "marker": {
             "line": {
              "color": "#E5ECF6",
              "width": 0.5
             },
             "pattern": {
              "fillmode": "overlay",
              "size": 10,
              "solidity": 0.2
             }
            },
            "type": "bar"
           }
          ],
          "barpolar": [
           {
            "marker": {
             "line": {
              "color": "#E5ECF6",
              "width": 0.5
             },
             "pattern": {
              "fillmode": "overlay",
              "size": 10,
              "solidity": 0.2
             }
            },
            "type": "barpolar"
           }
          ],
          "carpet": [
           {
            "aaxis": {
             "endlinecolor": "#2a3f5f",
             "gridcolor": "white",
             "linecolor": "white",
             "minorgridcolor": "white",
             "startlinecolor": "#2a3f5f"
            },
            "baxis": {
             "endlinecolor": "#2a3f5f",
             "gridcolor": "white",
             "linecolor": "white",
             "minorgridcolor": "white",
             "startlinecolor": "#2a3f5f"
            },
            "type": "carpet"
           }
          ],
          "choropleth": [
           {
            "colorbar": {
             "outlinewidth": 0,
             "ticks": ""
            },
            "type": "choropleth"
           }
          ],
          "contour": [
           {
            "colorbar": {
             "outlinewidth": 0,
             "ticks": ""
            },
            "colorscale": [
             [
              0,
              "#0d0887"
             ],
             [
              0.1111111111111111,
              "#46039f"
             ],
             [
              0.2222222222222222,
              "#7201a8"
             ],
             [
              0.3333333333333333,
              "#9c179e"
             ],
             [
              0.4444444444444444,
              "#bd3786"
             ],
             [
              0.5555555555555556,
              "#d8576b"
             ],
             [
              0.6666666666666666,
              "#ed7953"
             ],
             [
              0.7777777777777778,
              "#fb9f3a"
             ],
             [
              0.8888888888888888,
              "#fdca26"
             ],
             [
              1,
              "#f0f921"
             ]
            ],
            "type": "contour"
           }
          ],
          "contourcarpet": [
           {
            "colorbar": {
             "outlinewidth": 0,
             "ticks": ""
            },
            "type": "contourcarpet"
           }
          ],
          "heatmap": [
           {
            "colorbar": {
             "outlinewidth": 0,
             "ticks": ""
            },
            "colorscale": [
             [
              0,
              "#0d0887"
             ],
             [
              0.1111111111111111,
              "#46039f"
             ],
             [
              0.2222222222222222,
              "#7201a8"
             ],
             [
              0.3333333333333333,
              "#9c179e"
             ],
             [
              0.4444444444444444,
              "#bd3786"
             ],
             [
              0.5555555555555556,
              "#d8576b"
             ],
             [
              0.6666666666666666,
              "#ed7953"
             ],
             [
              0.7777777777777778,
              "#fb9f3a"
             ],
             [
              0.8888888888888888,
              "#fdca26"
             ],
             [
              1,
              "#f0f921"
             ]
            ],
            "type": "heatmap"
           }
          ],
          "heatmapgl": [
           {
            "colorbar": {
             "outlinewidth": 0,
             "ticks": ""
            },
            "colorscale": [
             [
              0,
              "#0d0887"
             ],
             [
              0.1111111111111111,
              "#46039f"
             ],
             [
              0.2222222222222222,
              "#7201a8"
             ],
             [
              0.3333333333333333,
              "#9c179e"
             ],
             [
              0.4444444444444444,
              "#bd3786"
             ],
             [
              0.5555555555555556,
              "#d8576b"
             ],
             [
              0.6666666666666666,
              "#ed7953"
             ],
             [
              0.7777777777777778,
              "#fb9f3a"
             ],
             [
              0.8888888888888888,
              "#fdca26"
             ],
             [
              1,
              "#f0f921"
             ]
            ],
            "type": "heatmapgl"
           }
          ],
          "histogram": [
           {
            "marker": {
             "pattern": {
              "fillmode": "overlay",
              "size": 10,
              "solidity": 0.2
             }
            },
            "type": "histogram"
           }
          ],
          "histogram2d": [
           {
            "colorbar": {
             "outlinewidth": 0,
             "ticks": ""
            },
            "colorscale": [
             [
              0,
              "#0d0887"
             ],
             [
              0.1111111111111111,
              "#46039f"
             ],
             [
              0.2222222222222222,
              "#7201a8"
             ],
             [
              0.3333333333333333,
              "#9c179e"
             ],
             [
              0.4444444444444444,
              "#bd3786"
             ],
             [
              0.5555555555555556,
              "#d8576b"
             ],
             [
              0.6666666666666666,
              "#ed7953"
             ],
             [
              0.7777777777777778,
              "#fb9f3a"
             ],
             [
              0.8888888888888888,
              "#fdca26"
             ],
             [
              1,
              "#f0f921"
             ]
            ],
            "type": "histogram2d"
           }
          ],
          "histogram2dcontour": [
           {
            "colorbar": {
             "outlinewidth": 0,
             "ticks": ""
            },
            "colorscale": [
             [
              0,
              "#0d0887"
             ],
             [
              0.1111111111111111,
              "#46039f"
             ],
             [
              0.2222222222222222,
              "#7201a8"
             ],
             [
              0.3333333333333333,
              "#9c179e"
             ],
             [
              0.4444444444444444,
              "#bd3786"
             ],
             [
              0.5555555555555556,
              "#d8576b"
             ],
             [
              0.6666666666666666,
              "#ed7953"
             ],
             [
              0.7777777777777778,
              "#fb9f3a"
             ],
             [
              0.8888888888888888,
              "#fdca26"
             ],
             [
              1,
              "#f0f921"
             ]
            ],
            "type": "histogram2dcontour"
           }
          ],
          "mesh3d": [
           {
            "colorbar": {
             "outlinewidth": 0,
             "ticks": ""
            },
            "type": "mesh3d"
           }
          ],
          "parcoords": [
           {
            "line": {
             "colorbar": {
              "outlinewidth": 0,
              "ticks": ""
             }
            },
            "type": "parcoords"
           }
          ],
          "pie": [
           {
            "automargin": true,
            "type": "pie"
           }
          ],
          "scatter": [
           {
            "fillpattern": {
             "fillmode": "overlay",
             "size": 10,
             "solidity": 0.2
            },
            "type": "scatter"
           }
          ],
          "scatter3d": [
           {
            "line": {
             "colorbar": {
              "outlinewidth": 0,
              "ticks": ""
             }
            },
            "marker": {
             "colorbar": {
              "outlinewidth": 0,
              "ticks": ""
             }
            },
            "type": "scatter3d"
           }
          ],
          "scattercarpet": [
           {
            "marker": {
             "colorbar": {
              "outlinewidth": 0,
              "ticks": ""
             }
            },
            "type": "scattercarpet"
           }
          ],
          "scattergeo": [
           {
            "marker": {
             "colorbar": {
              "outlinewidth": 0,
              "ticks": ""
             }
            },
            "type": "scattergeo"
           }
          ],
          "scattergl": [
           {
            "marker": {
             "colorbar": {
              "outlinewidth": 0,
              "ticks": ""
             }
            },
            "type": "scattergl"
           }
          ],
          "scattermapbox": [
           {
            "marker": {
             "colorbar": {
              "outlinewidth": 0,
              "ticks": ""
             }
            },
            "type": "scattermapbox"
           }
          ],
          "scatterpolar": [
           {
            "marker": {
             "colorbar": {
              "outlinewidth": 0,
              "ticks": ""
             }
            },
            "type": "scatterpolar"
           }
          ],
          "scatterpolargl": [
           {
            "marker": {
             "colorbar": {
              "outlinewidth": 0,
              "ticks": ""
             }
            },
            "type": "scatterpolargl"
           }
          ],
          "scatterternary": [
           {
            "marker": {
             "colorbar": {
              "outlinewidth": 0,
              "ticks": ""
             }
            },
            "type": "scatterternary"
           }
          ],
          "surface": [
           {
            "colorbar": {
             "outlinewidth": 0,
             "ticks": ""
            },
            "colorscale": [
             [
              0,
              "#0d0887"
             ],
             [
              0.1111111111111111,
              "#46039f"
             ],
             [
              0.2222222222222222,
              "#7201a8"
             ],
             [
              0.3333333333333333,
              "#9c179e"
             ],
             [
              0.4444444444444444,
              "#bd3786"
             ],
             [
              0.5555555555555556,
              "#d8576b"
             ],
             [
              0.6666666666666666,
              "#ed7953"
             ],
             [
              0.7777777777777778,
              "#fb9f3a"
             ],
             [
              0.8888888888888888,
              "#fdca26"
             ],
             [
              1,
              "#f0f921"
             ]
            ],
            "type": "surface"
           }
          ],
          "table": [
           {
            "cells": {
             "fill": {
              "color": "#EBF0F8"
             },
             "line": {
              "color": "white"
             }
            },
            "header": {
             "fill": {
              "color": "#C8D4E3"
             },
             "line": {
              "color": "white"
             }
            },
            "type": "table"
           }
          ]
         },
         "layout": {
          "annotationdefaults": {
           "arrowcolor": "#2a3f5f",
           "arrowhead": 0,
           "arrowwidth": 1
          },
          "autotypenumbers": "strict",
          "coloraxis": {
           "colorbar": {
            "outlinewidth": 0,
            "ticks": ""
           }
          },
          "colorscale": {
           "diverging": [
            [
             0,
             "#8e0152"
            ],
            [
             0.1,
             "#c51b7d"
            ],
            [
             0.2,
             "#de77ae"
            ],
            [
             0.3,
             "#f1b6da"
            ],
            [
             0.4,
             "#fde0ef"
            ],
            [
             0.5,
             "#f7f7f7"
            ],
            [
             0.6,
             "#e6f5d0"
            ],
            [
             0.7,
             "#b8e186"
            ],
            [
             0.8,
             "#7fbc41"
            ],
            [
             0.9,
             "#4d9221"
            ],
            [
             1,
             "#276419"
            ]
           ],
           "sequential": [
            [
             0,
             "#0d0887"
            ],
            [
             0.1111111111111111,
             "#46039f"
            ],
            [
             0.2222222222222222,
             "#7201a8"
            ],
            [
             0.3333333333333333,
             "#9c179e"
            ],
            [
             0.4444444444444444,
             "#bd3786"
            ],
            [
             0.5555555555555556,
             "#d8576b"
            ],
            [
             0.6666666666666666,
             "#ed7953"
            ],
            [
             0.7777777777777778,
             "#fb9f3a"
            ],
            [
             0.8888888888888888,
             "#fdca26"
            ],
            [
             1,
             "#f0f921"
            ]
           ],
           "sequentialminus": [
            [
             0,
             "#0d0887"
            ],
            [
             0.1111111111111111,
             "#46039f"
            ],
            [
             0.2222222222222222,
             "#7201a8"
            ],
            [
             0.3333333333333333,
             "#9c179e"
            ],
            [
             0.4444444444444444,
             "#bd3786"
            ],
            [
             0.5555555555555556,
             "#d8576b"
            ],
            [
             0.6666666666666666,
             "#ed7953"
            ],
            [
             0.7777777777777778,
             "#fb9f3a"
            ],
            [
             0.8888888888888888,
             "#fdca26"
            ],
            [
             1,
             "#f0f921"
            ]
           ]
          },
          "colorway": [
           "#636efa",
           "#EF553B",
           "#00cc96",
           "#ab63fa",
           "#FFA15A",
           "#19d3f3",
           "#FF6692",
           "#B6E880",
           "#FF97FF",
           "#FECB52"
          ],
          "font": {
           "color": "#2a3f5f"
          },
          "geo": {
           "bgcolor": "white",
           "lakecolor": "white",
           "landcolor": "#E5ECF6",
           "showlakes": true,
           "showland": true,
           "subunitcolor": "white"
          },
          "hoverlabel": {
           "align": "left"
          },
          "hovermode": "closest",
          "mapbox": {
           "style": "light"
          },
          "paper_bgcolor": "white",
          "plot_bgcolor": "#E5ECF6",
          "polar": {
           "angularaxis": {
            "gridcolor": "white",
            "linecolor": "white",
            "ticks": ""
           },
           "bgcolor": "#E5ECF6",
           "radialaxis": {
            "gridcolor": "white",
            "linecolor": "white",
            "ticks": ""
           }
          },
          "scene": {
           "xaxis": {
            "backgroundcolor": "#E5ECF6",
            "gridcolor": "white",
            "gridwidth": 2,
            "linecolor": "white",
            "showbackground": true,
            "ticks": "",
            "zerolinecolor": "white"
           },
           "yaxis": {
            "backgroundcolor": "#E5ECF6",
            "gridcolor": "white",
            "gridwidth": 2,
            "linecolor": "white",
            "showbackground": true,
            "ticks": "",
            "zerolinecolor": "white"
           },
           "zaxis": {
            "backgroundcolor": "#E5ECF6",
            "gridcolor": "white",
            "gridwidth": 2,
            "linecolor": "white",
            "showbackground": true,
            "ticks": "",
            "zerolinecolor": "white"
           }
          },
          "shapedefaults": {
           "line": {
            "color": "#2a3f5f"
           }
          },
          "ternary": {
           "aaxis": {
            "gridcolor": "white",
            "linecolor": "white",
            "ticks": ""
           },
           "baxis": {
            "gridcolor": "white",
            "linecolor": "white",
            "ticks": ""
           },
           "bgcolor": "#E5ECF6",
           "caxis": {
            "gridcolor": "white",
            "linecolor": "white",
            "ticks": ""
           }
          },
          "title": {
           "x": 0.05
          },
          "xaxis": {
           "automargin": true,
           "gridcolor": "white",
           "linecolor": "white",
           "ticks": "",
           "title": {
            "standoff": 15
           },
           "zerolinecolor": "white",
           "zerolinewidth": 2
          },
          "yaxis": {
           "automargin": true,
           "gridcolor": "white",
           "linecolor": "white",
           "ticks": "",
           "title": {
            "standoff": 15
           },
           "zerolinecolor": "white",
           "zerolinewidth": 2
          }
         }
        },
        "title": {
         "text": "Distribution Of 1567 Netflix-Ratings"
        },
        "xaxis": {
         "title": {
          "text": "Rating"
         }
        },
        "yaxis": {
         "title": {
          "text": "Count"
         }
        }
       }
      },
      "text/html": [
       "<div>                            <div id=\"f4a244e1-d6ab-4b0d-8689-404489930810\" class=\"plotly-graph-div\" style=\"height:525px; width:100%;\"></div>            <script type=\"text/javascript\">                require([\"plotly\"], function(Plotly) {                    window.PLOTLYENV=window.PLOTLYENV || {};                                    if (document.getElementById(\"f4a244e1-d6ab-4b0d-8689-404489930810\")) {                    Plotly.newPlot(                        \"f4a244e1-d6ab-4b0d-8689-404489930810\",                        [{\"marker\":{\"color\":\"#db0000\"},\"text\":[\"0.3 %\",\"0.1 %\",\"0.4 %\",\"1.3 %\",\"0.1 %\",\"0.4 %\",\"0.3 %\",\"0.7 %\",\"1.3 %\",\"0.8 %\",\"1.1 %\",\"2.4 %\",\"3.5 %\",\"2.4 %\",\"2.9 %\",\"3.7 %\",\"3.4 %\",\"4.3 %\",\"3.1 %\",\"3.6 %\",\"5.4 %\",\"3.1 %\",\"4.7 %\",\"4.5 %\",\"3.8 %\",\"4.0 %\",\"3.2 %\",\"5.0 %\",\"5.4 %\",\"3.6 %\",\"4.6 %\",\"3.1 %\",\"3.3 %\",\"1.3 %\",\"1.1 %\",\"1.7 %\",\"1.1 %\",\"1.3 %\",\"1.1 %\",\"0.5 %\",\"0.7 %\",\"0.5 %\",\"0.3 %\",\"0.3 %\",\"0.1 %\",\"0.1 %\",\"0.2 %\",\"0.1 %\",\"0.1 %\",\"0.1 %\"],\"textfont\":{\"color\":\"#000000\"},\"textposition\":\"auto\",\"x\":[9.3,9.2,9.1,9.0,8.9,8.8,8.7,8.6,8.5,8.4,8.3,8.2,8.1,8.0,7.9,7.8,7.7,7.6,7.5,7.4,7.3,7.2,7.1,7.0,6.9,6.8,6.7,6.6,6.5,6.4,6.3,6.2,6.1,6.0,5.9,5.8,5.7,5.6,5.5,5.4,5.3,5.2,5.1,4.9,4.8,4.6,4.3,4.2,4.0,2.8],\"y\":[4,1,6,20,1,7,5,11,20,13,17,37,55,38,46,58,53,67,48,57,84,49,73,70,60,62,50,78,85,57,72,48,51,20,17,26,17,20,17,8,11,8,5,5,1,2,3,2,1,1],\"type\":\"bar\"}],                        {\"template\":{\"data\":{\"barpolar\":[{\"marker\":{\"line\":{\"color\":\"#E5ECF6\",\"width\":0.5},\"pattern\":{\"fillmode\":\"overlay\",\"size\":10,\"solidity\":0.2}},\"type\":\"barpolar\"}],\"bar\":[{\"error_x\":{\"color\":\"#2a3f5f\"},\"error_y\":{\"color\":\"#2a3f5f\"},\"marker\":{\"line\":{\"color\":\"#E5ECF6\",\"width\":0.5},\"pattern\":{\"fillmode\":\"overlay\",\"size\":10,\"solidity\":0.2}},\"type\":\"bar\"}],\"carpet\":[{\"aaxis\":{\"endlinecolor\":\"#2a3f5f\",\"gridcolor\":\"white\",\"linecolor\":\"white\",\"minorgridcolor\":\"white\",\"startlinecolor\":\"#2a3f5f\"},\"baxis\":{\"endlinecolor\":\"#2a3f5f\",\"gridcolor\":\"white\",\"linecolor\":\"white\",\"minorgridcolor\":\"white\",\"startlinecolor\":\"#2a3f5f\"},\"type\":\"carpet\"}],\"choropleth\":[{\"colorbar\":{\"outlinewidth\":0,\"ticks\":\"\"},\"type\":\"choropleth\"}],\"contourcarpet\":[{\"colorbar\":{\"outlinewidth\":0,\"ticks\":\"\"},\"type\":\"contourcarpet\"}],\"contour\":[{\"colorbar\":{\"outlinewidth\":0,\"ticks\":\"\"},\"colorscale\":[[0.0,\"#0d0887\"],[0.1111111111111111,\"#46039f\"],[0.2222222222222222,\"#7201a8\"],[0.3333333333333333,\"#9c179e\"],[0.4444444444444444,\"#bd3786\"],[0.5555555555555556,\"#d8576b\"],[0.6666666666666666,\"#ed7953\"],[0.7777777777777778,\"#fb9f3a\"],[0.8888888888888888,\"#fdca26\"],[1.0,\"#f0f921\"]],\"type\":\"contour\"}],\"heatmapgl\":[{\"colorbar\":{\"outlinewidth\":0,\"ticks\":\"\"},\"colorscale\":[[0.0,\"#0d0887\"],[0.1111111111111111,\"#46039f\"],[0.2222222222222222,\"#7201a8\"],[0.3333333333333333,\"#9c179e\"],[0.4444444444444444,\"#bd3786\"],[0.5555555555555556,\"#d8576b\"],[0.6666666666666666,\"#ed7953\"],[0.7777777777777778,\"#fb9f3a\"],[0.8888888888888888,\"#fdca26\"],[1.0,\"#f0f921\"]],\"type\":\"heatmapgl\"}],\"heatmap\":[{\"colorbar\":{\"outlinewidth\":0,\"ticks\":\"\"},\"colorscale\":[[0.0,\"#0d0887\"],[0.1111111111111111,\"#46039f\"],[0.2222222222222222,\"#7201a8\"],[0.3333333333333333,\"#9c179e\"],[0.4444444444444444,\"#bd3786\"],[0.5555555555555556,\"#d8576b\"],[0.6666666666666666,\"#ed7953\"],[0.7777777777777778,\"#fb9f3a\"],[0.8888888888888888,\"#fdca26\"],[1.0,\"#f0f921\"]],\"type\":\"heatmap\"}],\"histogram2dcontour\":[{\"colorbar\":{\"outlinewidth\":0,\"ticks\":\"\"},\"colorscale\":[[0.0,\"#0d0887\"],[0.1111111111111111,\"#46039f\"],[0.2222222222222222,\"#7201a8\"],[0.3333333333333333,\"#9c179e\"],[0.4444444444444444,\"#bd3786\"],[0.5555555555555556,\"#d8576b\"],[0.6666666666666666,\"#ed7953\"],[0.7777777777777778,\"#fb9f3a\"],[0.8888888888888888,\"#fdca26\"],[1.0,\"#f0f921\"]],\"type\":\"histogram2dcontour\"}],\"histogram2d\":[{\"colorbar\":{\"outlinewidth\":0,\"ticks\":\"\"},\"colorscale\":[[0.0,\"#0d0887\"],[0.1111111111111111,\"#46039f\"],[0.2222222222222222,\"#7201a8\"],[0.3333333333333333,\"#9c179e\"],[0.4444444444444444,\"#bd3786\"],[0.5555555555555556,\"#d8576b\"],[0.6666666666666666,\"#ed7953\"],[0.7777777777777778,\"#fb9f3a\"],[0.8888888888888888,\"#fdca26\"],[1.0,\"#f0f921\"]],\"type\":\"histogram2d\"}],\"histogram\":[{\"marker\":{\"pattern\":{\"fillmode\":\"overlay\",\"size\":10,\"solidity\":0.2}},\"type\":\"histogram\"}],\"mesh3d\":[{\"colorbar\":{\"outlinewidth\":0,\"ticks\":\"\"},\"type\":\"mesh3d\"}],\"parcoords\":[{\"line\":{\"colorbar\":{\"outlinewidth\":0,\"ticks\":\"\"}},\"type\":\"parcoords\"}],\"pie\":[{\"automargin\":true,\"type\":\"pie\"}],\"scatter3d\":[{\"line\":{\"colorbar\":{\"outlinewidth\":0,\"ticks\":\"\"}},\"marker\":{\"colorbar\":{\"outlinewidth\":0,\"ticks\":\"\"}},\"type\":\"scatter3d\"}],\"scattercarpet\":[{\"marker\":{\"colorbar\":{\"outlinewidth\":0,\"ticks\":\"\"}},\"type\":\"scattercarpet\"}],\"scattergeo\":[{\"marker\":{\"colorbar\":{\"outlinewidth\":0,\"ticks\":\"\"}},\"type\":\"scattergeo\"}],\"scattergl\":[{\"marker\":{\"colorbar\":{\"outlinewidth\":0,\"ticks\":\"\"}},\"type\":\"scattergl\"}],\"scattermapbox\":[{\"marker\":{\"colorbar\":{\"outlinewidth\":0,\"ticks\":\"\"}},\"type\":\"scattermapbox\"}],\"scatterpolargl\":[{\"marker\":{\"colorbar\":{\"outlinewidth\":0,\"ticks\":\"\"}},\"type\":\"scatterpolargl\"}],\"scatterpolar\":[{\"marker\":{\"colorbar\":{\"outlinewidth\":0,\"ticks\":\"\"}},\"type\":\"scatterpolar\"}],\"scatter\":[{\"fillpattern\":{\"fillmode\":\"overlay\",\"size\":10,\"solidity\":0.2},\"type\":\"scatter\"}],\"scatterternary\":[{\"marker\":{\"colorbar\":{\"outlinewidth\":0,\"ticks\":\"\"}},\"type\":\"scatterternary\"}],\"surface\":[{\"colorbar\":{\"outlinewidth\":0,\"ticks\":\"\"},\"colorscale\":[[0.0,\"#0d0887\"],[0.1111111111111111,\"#46039f\"],[0.2222222222222222,\"#7201a8\"],[0.3333333333333333,\"#9c179e\"],[0.4444444444444444,\"#bd3786\"],[0.5555555555555556,\"#d8576b\"],[0.6666666666666666,\"#ed7953\"],[0.7777777777777778,\"#fb9f3a\"],[0.8888888888888888,\"#fdca26\"],[1.0,\"#f0f921\"]],\"type\":\"surface\"}],\"table\":[{\"cells\":{\"fill\":{\"color\":\"#EBF0F8\"},\"line\":{\"color\":\"white\"}},\"header\":{\"fill\":{\"color\":\"#C8D4E3\"},\"line\":{\"color\":\"white\"}},\"type\":\"table\"}]},\"layout\":{\"annotationdefaults\":{\"arrowcolor\":\"#2a3f5f\",\"arrowhead\":0,\"arrowwidth\":1},\"autotypenumbers\":\"strict\",\"coloraxis\":{\"colorbar\":{\"outlinewidth\":0,\"ticks\":\"\"}},\"colorscale\":{\"diverging\":[[0,\"#8e0152\"],[0.1,\"#c51b7d\"],[0.2,\"#de77ae\"],[0.3,\"#f1b6da\"],[0.4,\"#fde0ef\"],[0.5,\"#f7f7f7\"],[0.6,\"#e6f5d0\"],[0.7,\"#b8e186\"],[0.8,\"#7fbc41\"],[0.9,\"#4d9221\"],[1,\"#276419\"]],\"sequential\":[[0.0,\"#0d0887\"],[0.1111111111111111,\"#46039f\"],[0.2222222222222222,\"#7201a8\"],[0.3333333333333333,\"#9c179e\"],[0.4444444444444444,\"#bd3786\"],[0.5555555555555556,\"#d8576b\"],[0.6666666666666666,\"#ed7953\"],[0.7777777777777778,\"#fb9f3a\"],[0.8888888888888888,\"#fdca26\"],[1.0,\"#f0f921\"]],\"sequentialminus\":[[0.0,\"#0d0887\"],[0.1111111111111111,\"#46039f\"],[0.2222222222222222,\"#7201a8\"],[0.3333333333333333,\"#9c179e\"],[0.4444444444444444,\"#bd3786\"],[0.5555555555555556,\"#d8576b\"],[0.6666666666666666,\"#ed7953\"],[0.7777777777777778,\"#fb9f3a\"],[0.8888888888888888,\"#fdca26\"],[1.0,\"#f0f921\"]]},\"colorway\":[\"#636efa\",\"#EF553B\",\"#00cc96\",\"#ab63fa\",\"#FFA15A\",\"#19d3f3\",\"#FF6692\",\"#B6E880\",\"#FF97FF\",\"#FECB52\"],\"font\":{\"color\":\"#2a3f5f\"},\"geo\":{\"bgcolor\":\"white\",\"lakecolor\":\"white\",\"landcolor\":\"#E5ECF6\",\"showlakes\":true,\"showland\":true,\"subunitcolor\":\"white\"},\"hoverlabel\":{\"align\":\"left\"},\"hovermode\":\"closest\",\"mapbox\":{\"style\":\"light\"},\"paper_bgcolor\":\"white\",\"plot_bgcolor\":\"#E5ECF6\",\"polar\":{\"angularaxis\":{\"gridcolor\":\"white\",\"linecolor\":\"white\",\"ticks\":\"\"},\"bgcolor\":\"#E5ECF6\",\"radialaxis\":{\"gridcolor\":\"white\",\"linecolor\":\"white\",\"ticks\":\"\"}},\"scene\":{\"xaxis\":{\"backgroundcolor\":\"#E5ECF6\",\"gridcolor\":\"white\",\"gridwidth\":2,\"linecolor\":\"white\",\"showbackground\":true,\"ticks\":\"\",\"zerolinecolor\":\"white\"},\"yaxis\":{\"backgroundcolor\":\"#E5ECF6\",\"gridcolor\":\"white\",\"gridwidth\":2,\"linecolor\":\"white\",\"showbackground\":true,\"ticks\":\"\",\"zerolinecolor\":\"white\"},\"zaxis\":{\"backgroundcolor\":\"#E5ECF6\",\"gridcolor\":\"white\",\"gridwidth\":2,\"linecolor\":\"white\",\"showbackground\":true,\"ticks\":\"\",\"zerolinecolor\":\"white\"}},\"shapedefaults\":{\"line\":{\"color\":\"#2a3f5f\"}},\"ternary\":{\"aaxis\":{\"gridcolor\":\"white\",\"linecolor\":\"white\",\"ticks\":\"\"},\"baxis\":{\"gridcolor\":\"white\",\"linecolor\":\"white\",\"ticks\":\"\"},\"bgcolor\":\"#E5ECF6\",\"caxis\":{\"gridcolor\":\"white\",\"linecolor\":\"white\",\"ticks\":\"\"}},\"title\":{\"x\":0.05},\"xaxis\":{\"automargin\":true,\"gridcolor\":\"white\",\"linecolor\":\"white\",\"ticks\":\"\",\"title\":{\"standoff\":15},\"zerolinecolor\":\"white\",\"zerolinewidth\":2},\"yaxis\":{\"automargin\":true,\"gridcolor\":\"white\",\"linecolor\":\"white\",\"ticks\":\"\",\"title\":{\"standoff\":15},\"zerolinecolor\":\"white\",\"zerolinewidth\":2}}},\"title\":{\"text\":\"Distribution Of 1567 Netflix-Ratings\"},\"xaxis\":{\"title\":{\"text\":\"Rating\"}},\"yaxis\":{\"title\":{\"text\":\"Count\"}}},                        {\"responsive\": true}                    ).then(function(){\n",
       "                            \n",
       "var gd = document.getElementById('f4a244e1-d6ab-4b0d-8689-404489930810');\n",
       "var x = new MutationObserver(function (mutations, observer) {{\n",
       "        var display = window.getComputedStyle(gd).display;\n",
       "        if (!display || display === 'none') {{\n",
       "            console.log([gd, 'removed!']);\n",
       "            Plotly.purge(gd);\n",
       "            observer.disconnect();\n",
       "        }}\n",
       "}});\n",
       "\n",
       "// Listen for the removal of the full notebook cells\n",
       "var notebookContainer = gd.closest('#notebook-container');\n",
       "if (notebookContainer) {{\n",
       "    x.observe(notebookContainer, {childList: true});\n",
       "}}\n",
       "\n",
       "// Listen for the clearing of the current output cell\n",
       "var outputEl = gd.closest('.output');\n",
       "if (outputEl) {{\n",
       "    x.observe(outputEl, {childList: true});\n",
       "}}\n",
       "\n",
       "                        })                };                });            </script>        </div>"
      ]
     },
     "metadata": {},
     "output_type": "display_data"
    }
   ],
   "source": [
    "# Get data\n",
    "data = df['Rating'].value_counts().sort_index(ascending=False)\n",
    "\n",
    "# Create trace\n",
    "trace = go.Bar(x = data.index,\n",
    "               text = ['{:.1f} %'.format(val) for val in (data.values / df.shape[0] * 100)],\n",
    "               textposition = 'auto',\n",
    "               textfont = dict(color = '#000000'),\n",
    "               y = data.values,\n",
    "               marker = dict(color = '#db0000'))\n",
    "# Create layout\n",
    "layout = dict(title = 'Distribution Of {} Netflix-Ratings'.format(df.shape[0]),\n",
    "              xaxis = dict(title = 'Rating'),\n",
    "              yaxis = dict(title = 'Count'))\n",
    "# Create plot\n",
    "fig = go.Figure(data=[trace], layout=layout)\n",
    "iplot(fig)"
   ]
  },
  {
   "cell_type": "code",
   "execution_count": 34,
   "metadata": {},
   "outputs": [
    {
     "data": {
      "application/vnd.plotly.v1+json": {
       "config": {
        "plotlyServerURL": "https://plot.ly"
       },
       "data": [
        {
         "marker": {
          "color": "#db0000"
         },
         "name": "Rating Distribution",
         "type": "box",
         "y": [
          7,
          7.6,
          6.9,
          6.2,
          7.1,
          8.1,
          6.6,
          7,
          7.6,
          6,
          6.8,
          9,
          7.1,
          6.3,
          8.1,
          6.3,
          6.6,
          6.7,
          7.9,
          6.5,
          8.1,
          7.6,
          7.5,
          8.1,
          7.2,
          8.1,
          9,
          8.1,
          7.3,
          7.9,
          7.3,
          6.6,
          9.3,
          8.2,
          9,
          5.2,
          5.8,
          9,
          9.3,
          9,
          7.2,
          9.3,
          6,
          6.1,
          9,
          6.7,
          7.6,
          6,
          7.2,
          7,
          6.5,
          7.3,
          6.9,
          8.1,
          7.1,
          6.7,
          6.6,
          7.2,
          9,
          6.4,
          8.2,
          6.7,
          9,
          7.8,
          7.8,
          6,
          7.5,
          4.6,
          7.7,
          6.7,
          6.2,
          7.6,
          7.1,
          7.1,
          5.8,
          7.7,
          6.4,
          6.5,
          6.4,
          6.9,
          6.9,
          6.5,
          6.3,
          7.9,
          7.1,
          7.3,
          7.2,
          6.2,
          7.9,
          8.1,
          7.4,
          7.3,
          8.1,
          5.4,
          7.4,
          7,
          4.2,
          7.6,
          6.1,
          6.9,
          7.2,
          6.6,
          7,
          7.3,
          6.3,
          7.1,
          5.6,
          9.1,
          6.5,
          7.9,
          5.2,
          6.4,
          8.1,
          6.2,
          6.3,
          8.8,
          7.4,
          8.2,
          6.6,
          7.9,
          6.3,
          7.7,
          6.6,
          7.8,
          6.4,
          5.6,
          6.5,
          6.9,
          6.6,
          7.4,
          7.9,
          7.9,
          7.8,
          9,
          7.4,
          7.1,
          9,
          5.8,
          8.1,
          6.5,
          7,
          6.6,
          7.6,
          8.1,
          8.2,
          5.9,
          7.1,
          5.5,
          8.1,
          6.8,
          8.1,
          8.2,
          6.3,
          6.6,
          5.5,
          6.6,
          7.3,
          6.7,
          7.5,
          6.2,
          7.2,
          6.8,
          8.1,
          6.3,
          7.4,
          6.3,
          8.6,
          6.9,
          7.3,
          6.4,
          9.2,
          7,
          7.1,
          8.8,
          7.1,
          6.2,
          7.1,
          7.6,
          7,
          5.7,
          5.8,
          7.8,
          6.6,
          7.4,
          9.1,
          9.1,
          7.4,
          6.7,
          7.7,
          8.7,
          7.4,
          7.8,
          8.5,
          4.8,
          7.1,
          6.3,
          6.6,
          6.6,
          5.7,
          6.1,
          9.1,
          7.3,
          8.6,
          7.8,
          7.4,
          7.2,
          7,
          5.6,
          9.1,
          6.6,
          7.5,
          5.6,
          5.9,
          7.2,
          5.9,
          7.8,
          7.3,
          7.3,
          6.9,
          7.3,
          8.3,
          7,
          8.4,
          5.4,
          6.2,
          7,
          7,
          8.1,
          7.9,
          6.8,
          7.4,
          4.9,
          5.1,
          7.6,
          6.4,
          7.2,
          6.9,
          5.8,
          8,
          6.1,
          7.3,
          5.3,
          7.2,
          9,
          5.6,
          6.3,
          6.5,
          5.2,
          5.5,
          9,
          6.8,
          7,
          7.3,
          6.5,
          7.7,
          8.2,
          7.7,
          5.9,
          8,
          5.6,
          7.7,
          6.1,
          6.7,
          6.1,
          7.6,
          7.5,
          8,
          6.4,
          7.2,
          6.5,
          8.2,
          7.3,
          8.3,
          5.2,
          7.2,
          5.9,
          6.5,
          7.6,
          7.3,
          7.2,
          7.2,
          7.6,
          6.2,
          6.4,
          6,
          7.5,
          7.3,
          7.6,
          6.1,
          6.7,
          5.3,
          7.8,
          6.1,
          6.8,
          7.8,
          7.2,
          6.6,
          7.7,
          7.7,
          6.1,
          5.6,
          6.2,
          4,
          6.3,
          8,
          6.3,
          6.1,
          6.6,
          6.1,
          6.7,
          7.1,
          7.1,
          6.2,
          6.7,
          6.5,
          8.1,
          6.6,
          8,
          7.3,
          6.9,
          5.6,
          6.5,
          8.6,
          8,
          5.9,
          8.1,
          7.2,
          8.2,
          7.1,
          7.6,
          7.9,
          6.9,
          7.3,
          6.4,
          7.8,
          8.3,
          7.3,
          8.5,
          7.6,
          6.4,
          7.3,
          6.1,
          6.8,
          7.2,
          7,
          6.4,
          6.3,
          8.1,
          6.1,
          6.3,
          7.2,
          8.5,
          8.8,
          7.4,
          7,
          7.1,
          7.7,
          7.5,
          8,
          6.6,
          8.5,
          8,
          8.9,
          8,
          7.3,
          6.6,
          7.1,
          6.4,
          6.7,
          6.2,
          7,
          7.8,
          6.5,
          6.1,
          6.4,
          6.4,
          7.3,
          6.7,
          7.5,
          6.4,
          7.1,
          7.3,
          5.6,
          8.2,
          8.5,
          7.1,
          7.4,
          7.8,
          6.4,
          7,
          6.1,
          6.1,
          6,
          6.8,
          7,
          5.7,
          6.7,
          6.4,
          6.1,
          6.3,
          6.5,
          6,
          7.5,
          7.1,
          6.6,
          8.4,
          7.8,
          7.7,
          4.6,
          7,
          7.7,
          6.1,
          7.9,
          5.7,
          6.4,
          7.4,
          7,
          9,
          5.5,
          6.8,
          6.2,
          7.7,
          7.5,
          6.5,
          7.3,
          6.9,
          7,
          6.4,
          6.4,
          7.3,
          6,
          6.7,
          7.3,
          7.3,
          6.2,
          7.6,
          7.3,
          7.7,
          7.8,
          8.6,
          6.9,
          6.3,
          6.6,
          5.6,
          7,
          7.1,
          7.6,
          9.1,
          7.1,
          7.8,
          7.7,
          6.1,
          7.8,
          8,
          7.4,
          6.5,
          7.5,
          7.8,
          6.9,
          5.7,
          7.5,
          6.3,
          6.1,
          6.4,
          8.1,
          6.6,
          6.5,
          7.1,
          6.8,
          5.9,
          7.5,
          7.3,
          6.6,
          7.3,
          6.5,
          5.7,
          5.6,
          7.2,
          6.8,
          5.5,
          6.2,
          7.1,
          6.8,
          7.3,
          8.4,
          6.5,
          7.1,
          6.3,
          6.9,
          6.7,
          5.5,
          7,
          7.3,
          6.4,
          8,
          7.4,
          6.4,
          6.8,
          7.4,
          6.5,
          6.6,
          6.7,
          6.8,
          6.1,
          7.1,
          7.9,
          7.4,
          7.5,
          7.6,
          8.3,
          7.6,
          7.8,
          6.5,
          6.3,
          6.9,
          7.1,
          6.6,
          7.6,
          8.2,
          8.1,
          5.6,
          7.7,
          6.9,
          8.2,
          7.5,
          5.5,
          4.3,
          6,
          7.1,
          8,
          6.3,
          6.5,
          7.1,
          6.6,
          6.7,
          6.4,
          6.1,
          8.3,
          8.4,
          6.5,
          5.9,
          8.2,
          6.9,
          7,
          7.2,
          8.2,
          8.1,
          7,
          6.4,
          5.8,
          7.8,
          7.4,
          6.4,
          6.2,
          6.8,
          6.3,
          8.5,
          7.4,
          7,
          7.2,
          7.9,
          6.2,
          6.8,
          6.5,
          7.3,
          8.6,
          7.6,
          6.3,
          8,
          8.2,
          7.1,
          6.3,
          6.3,
          6.3,
          7.3,
          8.3,
          7.6,
          8.2,
          6.8,
          6.6,
          6.1,
          6.6,
          7.1,
          7.9,
          7.6,
          7.2,
          8.1,
          7.2,
          6.8,
          7.4,
          5.4,
          6.4,
          6.9,
          7,
          8.5,
          6,
          7.7,
          7.8,
          6.8,
          7.5,
          7.7,
          5.5,
          7.8,
          7.8,
          7.5,
          6.1,
          6.6,
          7.4,
          6.2,
          8.3,
          6.6,
          6.8,
          5.7,
          6.5,
          6,
          5.7,
          7.3,
          7.5,
          6.4,
          6.9,
          7,
          6.9,
          7.6,
          7.6,
          6.9,
          5.4,
          6.1,
          6.6,
          6.7,
          5.8,
          5.8,
          5.3,
          6.7,
          7.6,
          6.8,
          6.8,
          6.5,
          6.9,
          6.4,
          8,
          6.2,
          5.8,
          6.5,
          8.1,
          6.7,
          7.6,
          7.1,
          6.1,
          6.3,
          7.1,
          6.4,
          6.1,
          5.1,
          5.2,
          6.5,
          8,
          7.5,
          7.7,
          7,
          6.5,
          6.9,
          7.7,
          6.8,
          7.4,
          8.4,
          7.9,
          6.3,
          6.8,
          5.8,
          6.6,
          6.9,
          6.9,
          5.3,
          7,
          7.7,
          6.2,
          5.1,
          5.2,
          5.8,
          7.3,
          6.5,
          6.3,
          8.2,
          7.3,
          8.5,
          7.9,
          6.4,
          7.8,
          7.8,
          7.8,
          6.6,
          6.5,
          6.8,
          6.3,
          7.6,
          8.1,
          7.4,
          6.5,
          7.4,
          7.6,
          6.4,
          6.7,
          5.3,
          7.5,
          8,
          7.7,
          6.1,
          5.5,
          7.2,
          6.4,
          4.9,
          5.5,
          6.7,
          8.5,
          7.7,
          7,
          8,
          6.9,
          7,
          6.5,
          6.6,
          7.8,
          5.3,
          6.4,
          7.3,
          7,
          6.2,
          7,
          7.4,
          5.4,
          6.2,
          6.6,
          6.5,
          6.8,
          7.7,
          7.6,
          6.5,
          6.3,
          6.2,
          7.5,
          7.6,
          7.5,
          6.6,
          7.1,
          7.6,
          8.5,
          7.8,
          7.3,
          7,
          6.1,
          5.6,
          5.3,
          7.2,
          7.1,
          6.5,
          6.3,
          7.4,
          9.3,
          6.8,
          6.9,
          5.9,
          7.1,
          5.8,
          7.4,
          8.6,
          7.6,
          7.8,
          8.5,
          6.3,
          7.1,
          7.8,
          7.1,
          5.4,
          7.5,
          7.1,
          6.4,
          8,
          7.9,
          7.9,
          8,
          6.7,
          6.2,
          7.3,
          8.1,
          5.9,
          5.7,
          6,
          7.8,
          5.7,
          6.5,
          6.5,
          6.3,
          7.6,
          8.1,
          6.5,
          7.5,
          7.7,
          7.4,
          6.5,
          7.8,
          6.5,
          6.4,
          7.4,
          7.8,
          5.9,
          7.3,
          8.7,
          6.9,
          5.5,
          6.6,
          6.8,
          8.1,
          6.5,
          6.8,
          6.1,
          6.8,
          7.6,
          6.3,
          8.2,
          7.2,
          6.3,
          7.3,
          7.2,
          7.5,
          7,
          5.8,
          7.3,
          6.2,
          6.4,
          8.1,
          6.8,
          7.4,
          7.6,
          6.1,
          6.1,
          6.7,
          6.6,
          7.4,
          6.4,
          6.2,
          7.3,
          6.3,
          8.1,
          8.4,
          6.7,
          7.7,
          7.3,
          6,
          6.3,
          7.8,
          6.8,
          7.1,
          5.8,
          7.3,
          6.6,
          6.8,
          7.3,
          6.5,
          6.6,
          5.3,
          5.5,
          6.9,
          9,
          7.8,
          7.1,
          7.2,
          8.2,
          7.1,
          7.2,
          6.2,
          6.1,
          8.1,
          8.2,
          5.5,
          6.3,
          8,
          5.7,
          8.5,
          6.5,
          7.2,
          7.1,
          7.4,
          7,
          8.2,
          7.5,
          7.7,
          7.6,
          7.5,
          7.7,
          6.2,
          7,
          6.5,
          8.3,
          7.9,
          7.8,
          8.7,
          5.5,
          7.4,
          9,
          8.1,
          6.9,
          7.4,
          7.1,
          6.5,
          6.3,
          9,
          7.3,
          5.6,
          7.5,
          7,
          6.4,
          5.7,
          6.8,
          6.8,
          6.8,
          7,
          5.8,
          6.8,
          7.4,
          6.4,
          6.2,
          5.6,
          7.3,
          6.6,
          6.1,
          6.2,
          6.3,
          6.4,
          7,
          6.3,
          6.6,
          7.5,
          6.5,
          7,
          8.2,
          7.1,
          6,
          7.6,
          6.1,
          6.2,
          7.5,
          6.5,
          6.2,
          8.6,
          7.3,
          7.1,
          6.7,
          7.2,
          6.4,
          6.8,
          7.3,
          7.4,
          6.9,
          6.5,
          7.3,
          6.4,
          6.1,
          6.3,
          6.3,
          7.7,
          6.6,
          6.6,
          7.4,
          7.8,
          5.9,
          7.3,
          6.6,
          6.1,
          6.1,
          6.1,
          6.6,
          6.8,
          6.6,
          8.4,
          7.4,
          6.2,
          7.8,
          7.4,
          7.1,
          7,
          7.8,
          5.1,
          7.8,
          7.5,
          6.7,
          7.5,
          6.3,
          6,
          8.3,
          6.4,
          8.7,
          6.6,
          6.3,
          7.3,
          8.1,
          6.6,
          6.6,
          7.8,
          6,
          5.8,
          8.2,
          7.7,
          6.6,
          7.6,
          6.7,
          5.7,
          6.5,
          6,
          7,
          6.7,
          6.2,
          7.6,
          7.4,
          7,
          8,
          6.4,
          7.3,
          6.5,
          8.1,
          6.3,
          6.3,
          7.8,
          6.7,
          7.6,
          7.3,
          4.3,
          7,
          6.8,
          7.6,
          6.5,
          6.6,
          5.8,
          9,
          8,
          7.3,
          7.4,
          6.8,
          7,
          7.7,
          6.6,
          6.1,
          4.9,
          6.7,
          6.5,
          6.8,
          5.7,
          6.6,
          5.5,
          7,
          7.1,
          7.2,
          5.8,
          7,
          8.6,
          7.4,
          8.1,
          6.5,
          5.3,
          7.8,
          7.3,
          6.1,
          7.4,
          5.1,
          6.9,
          8.1,
          6.3,
          8.2,
          6.7,
          6.6,
          6.2,
          7.6,
          6.5,
          8.2,
          6.4,
          7.7,
          8.1,
          6.3,
          8,
          7.1,
          5.9,
          6.5,
          7.9,
          7.4,
          6.2,
          7.6,
          7.7,
          6.4,
          7.2,
          6.9,
          6.7,
          7.8,
          7.9,
          7.9,
          7.3,
          8.2,
          6.7,
          7.6,
          6.6,
          7.8,
          7.6,
          7.4,
          8.1,
          6.7,
          5.4,
          5.8,
          7.2,
          6.5,
          7.1,
          7,
          7.8,
          6.5,
          8.1,
          6.8,
          8.5,
          6.9,
          5.8,
          8.7,
          8.2,
          7.5,
          7.9,
          5.2,
          7.1,
          8.2,
          5.6,
          7.3,
          7.9,
          7.3,
          8.4,
          7,
          6.4,
          8.2,
          7.1,
          7.9,
          8.3,
          5.8,
          5.9,
          7,
          6.9,
          8.8,
          8.1,
          6.5,
          7.8,
          7.7,
          2.8,
          6.3,
          8.2,
          6.9,
          6.6,
          5.7,
          7.2,
          7.6,
          6.8,
          6.2,
          6.2,
          5.9,
          6.3,
          8,
          6.7,
          6.4,
          8,
          7.4,
          7.2,
          8.5,
          7.3,
          8.6,
          7.7,
          7.3,
          6.7,
          6.2,
          6.1,
          6.6,
          6.5,
          6.5,
          6.5,
          6.7,
          8.1,
          6.3,
          8,
          8,
          6.3,
          6.9,
          7,
          7.8,
          7.9,
          6.9,
          8.4,
          6.6,
          7.1,
          6.6,
          6.6,
          6.2,
          8,
          6.8,
          6.8,
          6.1,
          5.8,
          7.4,
          6.1,
          6.8,
          6.8,
          7.6,
          8.1,
          6.3,
          6.6,
          7.6,
          6.6,
          7.1,
          6.3,
          6.3,
          7.8,
          7.9,
          7.5,
          5.6,
          7.4,
          7.1,
          6.5,
          7.9,
          7.2,
          7.3,
          7.3,
          7.2,
          8.5,
          7,
          5.8,
          7,
          6.5,
          8.1,
          8.6,
          5.2,
          7.3,
          7.2,
          7.7,
          6.7,
          7.4,
          8,
          6.5,
          7,
          7.1,
          8,
          5.8,
          6.7,
          7,
          6.3,
          6.5,
          7.3,
          7.3,
          6.4,
          4.3,
          7.5,
          6.4,
          6.7,
          8.1,
          7.7,
          7.9,
          7.9,
          6.3,
          6.5,
          7.5,
          6.2,
          6.1,
          8.1,
          8.1,
          6.7,
          6.6,
          6.9,
          7.7,
          7.6,
          7,
          7.4,
          8.4,
          6.9,
          8.4,
          7.6,
          7.6,
          6.3,
          6.8,
          7.4,
          5.8,
          5.5,
          6.5,
          7.1,
          7.7,
          6.6,
          6.1,
          6.5,
          7.9,
          7.9,
          7.9,
          8,
          8.1,
          7,
          6.9,
          6.9,
          7.6,
          7.6,
          7.6,
          7.6,
          6.5,
          6.5,
          6.8,
          6.5,
          7.5,
          6.7,
          6.8,
          8.2,
          7.7,
          8.3,
          6.6,
          6.7,
          7.5,
          6.9,
          7.1,
          7.1,
          7.5,
          7.7,
          8,
          7.2,
          6.1,
          7.1,
          8,
          7.3,
          6.2,
          6.6,
          7.9,
          6.7,
          7.7,
          6.3,
          6.3,
          7.7,
          7.3,
          6.6,
          7.7,
          8,
          7.6,
          6,
          7.7,
          7.3,
          6.9,
          5.3,
          7.7,
          6.6,
          6.3,
          5.6,
          8.1,
          7.5,
          6.3,
          7.7,
          7.6,
          7.6,
          8.3,
          7.6,
          7,
          6.6,
          8.2,
          6.5,
          7.5,
          7.5,
          6,
          7.1,
          7.1,
          7.1,
          6.2,
          6.5,
          6.7,
          7.1,
          7.2,
          8,
          7.7,
          5.3,
          6.9,
          6,
          6.9,
          7.2,
          7.9,
          7.2,
          6.8,
          7.9,
          6.3,
          6.9,
          6.6,
          6.8,
          5.9,
          7,
          6.2,
          6.1,
          7.3,
          7.2,
          8.5,
          7.3,
          8.4,
          6.4,
          7.5,
          6.2,
          6.3,
          6.3,
          8.2,
          7.2,
          6.7,
          4.9,
          5.5,
          7.7,
          7.6,
          7.3,
          7.2,
          7,
          7.9,
          7.9,
          7.5,
          8,
          5.6,
          8.4,
          8.3,
          6.7,
          7.9,
          8.2,
          8,
          8.5,
          7,
          8.1,
          7.3,
          6.5,
          6.9,
          7.7,
          6.8,
          7.3,
          8.5,
          6.9,
          7.9,
          7.6,
          6.1,
          7,
          7.1,
          8.3,
          6.8,
          8.5,
          8.2,
          7.5,
          6.6,
          6.5,
          6.9,
          7.8,
          4.2,
          7,
          5.7,
          7.2,
          7.1,
          6.3,
          5.6,
          5.9,
          6.5,
          6.3,
          7.9,
          7.9,
          6.6,
          8.1,
          6.2,
          6.8,
          6.2,
          7.9,
          6.2,
          4.9,
          7.6,
          7.8,
          7,
          6.9,
          7.7,
          7,
          6.4,
          6.5,
          7.4,
          6.1,
          6.6,
          6.5,
          6.3,
          7.8,
          7,
          7.8,
          6.9,
          8.3,
          7.6,
          7.6,
          7.6,
          7.6,
          7.4,
          8.1,
          6.5,
          7.7,
          7.4,
          7.3,
          8.1,
          7.5,
          6.5,
          8.3,
          8.3,
          6.6,
          9,
          6.3,
          6.7,
          5.7,
          7,
          8.2,
          6.8,
          6.4,
          8.2,
          7.1,
          8.1,
          7.9,
          7.3,
          7.1,
          6.5,
          6.1,
          7.5,
          6.8,
          7.8,
          8.1,
          8.1,
          7.8,
          7.2,
          6.6,
          7.8,
          6.5,
          8.8,
          7.9,
          6.6,
          7.1,
          6.4,
          6.8,
          7.8,
          7.4,
          6.8,
          6.8,
          7,
          7.4,
          7.7,
          6.2,
          7.5,
          6.9,
          7.1,
          6.9,
          7.3,
          9,
          6.4,
          6.9,
          8,
          9,
          8.8,
          7.3,
          6.9,
          8.6,
          8.5,
          8.8,
          8.2,
          6.9,
          6.9,
          5.4,
          7.8,
          7.3,
          7.3,
          6.3,
          6.9,
          7.1,
          7.1,
          5.8,
          7.3,
          6.8,
          7.9,
          6.5
         ]
        }
       ],
       "layout": {
        "template": {
         "data": {
          "bar": [
           {
            "error_x": {
             "color": "#2a3f5f"
            },
            "error_y": {
             "color": "#2a3f5f"
            },
            "marker": {
             "line": {
              "color": "#E5ECF6",
              "width": 0.5
             },
             "pattern": {
              "fillmode": "overlay",
              "size": 10,
              "solidity": 0.2
             }
            },
            "type": "bar"
           }
          ],
          "barpolar": [
           {
            "marker": {
             "line": {
              "color": "#E5ECF6",
              "width": 0.5
             },
             "pattern": {
              "fillmode": "overlay",
              "size": 10,
              "solidity": 0.2
             }
            },
            "type": "barpolar"
           }
          ],
          "carpet": [
           {
            "aaxis": {
             "endlinecolor": "#2a3f5f",
             "gridcolor": "white",
             "linecolor": "white",
             "minorgridcolor": "white",
             "startlinecolor": "#2a3f5f"
            },
            "baxis": {
             "endlinecolor": "#2a3f5f",
             "gridcolor": "white",
             "linecolor": "white",
             "minorgridcolor": "white",
             "startlinecolor": "#2a3f5f"
            },
            "type": "carpet"
           }
          ],
          "choropleth": [
           {
            "colorbar": {
             "outlinewidth": 0,
             "ticks": ""
            },
            "type": "choropleth"
           }
          ],
          "contour": [
           {
            "colorbar": {
             "outlinewidth": 0,
             "ticks": ""
            },
            "colorscale": [
             [
              0,
              "#0d0887"
             ],
             [
              0.1111111111111111,
              "#46039f"
             ],
             [
              0.2222222222222222,
              "#7201a8"
             ],
             [
              0.3333333333333333,
              "#9c179e"
             ],
             [
              0.4444444444444444,
              "#bd3786"
             ],
             [
              0.5555555555555556,
              "#d8576b"
             ],
             [
              0.6666666666666666,
              "#ed7953"
             ],
             [
              0.7777777777777778,
              "#fb9f3a"
             ],
             [
              0.8888888888888888,
              "#fdca26"
             ],
             [
              1,
              "#f0f921"
             ]
            ],
            "type": "contour"
           }
          ],
          "contourcarpet": [
           {
            "colorbar": {
             "outlinewidth": 0,
             "ticks": ""
            },
            "type": "contourcarpet"
           }
          ],
          "heatmap": [
           {
            "colorbar": {
             "outlinewidth": 0,
             "ticks": ""
            },
            "colorscale": [
             [
              0,
              "#0d0887"
             ],
             [
              0.1111111111111111,
              "#46039f"
             ],
             [
              0.2222222222222222,
              "#7201a8"
             ],
             [
              0.3333333333333333,
              "#9c179e"
             ],
             [
              0.4444444444444444,
              "#bd3786"
             ],
             [
              0.5555555555555556,
              "#d8576b"
             ],
             [
              0.6666666666666666,
              "#ed7953"
             ],
             [
              0.7777777777777778,
              "#fb9f3a"
             ],
             [
              0.8888888888888888,
              "#fdca26"
             ],
             [
              1,
              "#f0f921"
             ]
            ],
            "type": "heatmap"
           }
          ],
          "heatmapgl": [
           {
            "colorbar": {
             "outlinewidth": 0,
             "ticks": ""
            },
            "colorscale": [
             [
              0,
              "#0d0887"
             ],
             [
              0.1111111111111111,
              "#46039f"
             ],
             [
              0.2222222222222222,
              "#7201a8"
             ],
             [
              0.3333333333333333,
              "#9c179e"
             ],
             [
              0.4444444444444444,
              "#bd3786"
             ],
             [
              0.5555555555555556,
              "#d8576b"
             ],
             [
              0.6666666666666666,
              "#ed7953"
             ],
             [
              0.7777777777777778,
              "#fb9f3a"
             ],
             [
              0.8888888888888888,
              "#fdca26"
             ],
             [
              1,
              "#f0f921"
             ]
            ],
            "type": "heatmapgl"
           }
          ],
          "histogram": [
           {
            "marker": {
             "pattern": {
              "fillmode": "overlay",
              "size": 10,
              "solidity": 0.2
             }
            },
            "type": "histogram"
           }
          ],
          "histogram2d": [
           {
            "colorbar": {
             "outlinewidth": 0,
             "ticks": ""
            },
            "colorscale": [
             [
              0,
              "#0d0887"
             ],
             [
              0.1111111111111111,
              "#46039f"
             ],
             [
              0.2222222222222222,
              "#7201a8"
             ],
             [
              0.3333333333333333,
              "#9c179e"
             ],
             [
              0.4444444444444444,
              "#bd3786"
             ],
             [
              0.5555555555555556,
              "#d8576b"
             ],
             [
              0.6666666666666666,
              "#ed7953"
             ],
             [
              0.7777777777777778,
              "#fb9f3a"
             ],
             [
              0.8888888888888888,
              "#fdca26"
             ],
             [
              1,
              "#f0f921"
             ]
            ],
            "type": "histogram2d"
           }
          ],
          "histogram2dcontour": [
           {
            "colorbar": {
             "outlinewidth": 0,
             "ticks": ""
            },
            "colorscale": [
             [
              0,
              "#0d0887"
             ],
             [
              0.1111111111111111,
              "#46039f"
             ],
             [
              0.2222222222222222,
              "#7201a8"
             ],
             [
              0.3333333333333333,
              "#9c179e"
             ],
             [
              0.4444444444444444,
              "#bd3786"
             ],
             [
              0.5555555555555556,
              "#d8576b"
             ],
             [
              0.6666666666666666,
              "#ed7953"
             ],
             [
              0.7777777777777778,
              "#fb9f3a"
             ],
             [
              0.8888888888888888,
              "#fdca26"
             ],
             [
              1,
              "#f0f921"
             ]
            ],
            "type": "histogram2dcontour"
           }
          ],
          "mesh3d": [
           {
            "colorbar": {
             "outlinewidth": 0,
             "ticks": ""
            },
            "type": "mesh3d"
           }
          ],
          "parcoords": [
           {
            "line": {
             "colorbar": {
              "outlinewidth": 0,
              "ticks": ""
             }
            },
            "type": "parcoords"
           }
          ],
          "pie": [
           {
            "automargin": true,
            "type": "pie"
           }
          ],
          "scatter": [
           {
            "fillpattern": {
             "fillmode": "overlay",
             "size": 10,
             "solidity": 0.2
            },
            "type": "scatter"
           }
          ],
          "scatter3d": [
           {
            "line": {
             "colorbar": {
              "outlinewidth": 0,
              "ticks": ""
             }
            },
            "marker": {
             "colorbar": {
              "outlinewidth": 0,
              "ticks": ""
             }
            },
            "type": "scatter3d"
           }
          ],
          "scattercarpet": [
           {
            "marker": {
             "colorbar": {
              "outlinewidth": 0,
              "ticks": ""
             }
            },
            "type": "scattercarpet"
           }
          ],
          "scattergeo": [
           {
            "marker": {
             "colorbar": {
              "outlinewidth": 0,
              "ticks": ""
             }
            },
            "type": "scattergeo"
           }
          ],
          "scattergl": [
           {
            "marker": {
             "colorbar": {
              "outlinewidth": 0,
              "ticks": ""
             }
            },
            "type": "scattergl"
           }
          ],
          "scattermapbox": [
           {
            "marker": {
             "colorbar": {
              "outlinewidth": 0,
              "ticks": ""
             }
            },
            "type": "scattermapbox"
           }
          ],
          "scatterpolar": [
           {
            "marker": {
             "colorbar": {
              "outlinewidth": 0,
              "ticks": ""
             }
            },
            "type": "scatterpolar"
           }
          ],
          "scatterpolargl": [
           {
            "marker": {
             "colorbar": {
              "outlinewidth": 0,
              "ticks": ""
             }
            },
            "type": "scatterpolargl"
           }
          ],
          "scatterternary": [
           {
            "marker": {
             "colorbar": {
              "outlinewidth": 0,
              "ticks": ""
             }
            },
            "type": "scatterternary"
           }
          ],
          "surface": [
           {
            "colorbar": {
             "outlinewidth": 0,
             "ticks": ""
            },
            "colorscale": [
             [
              0,
              "#0d0887"
             ],
             [
              0.1111111111111111,
              "#46039f"
             ],
             [
              0.2222222222222222,
              "#7201a8"
             ],
             [
              0.3333333333333333,
              "#9c179e"
             ],
             [
              0.4444444444444444,
              "#bd3786"
             ],
             [
              0.5555555555555556,
              "#d8576b"
             ],
             [
              0.6666666666666666,
              "#ed7953"
             ],
             [
              0.7777777777777778,
              "#fb9f3a"
             ],
             [
              0.8888888888888888,
              "#fdca26"
             ],
             [
              1,
              "#f0f921"
             ]
            ],
            "type": "surface"
           }
          ],
          "table": [
           {
            "cells": {
             "fill": {
              "color": "#EBF0F8"
             },
             "line": {
              "color": "white"
             }
            },
            "header": {
             "fill": {
              "color": "#C8D4E3"
             },
             "line": {
              "color": "white"
             }
            },
            "type": "table"
           }
          ]
         },
         "layout": {
          "annotationdefaults": {
           "arrowcolor": "#2a3f5f",
           "arrowhead": 0,
           "arrowwidth": 1
          },
          "autotypenumbers": "strict",
          "coloraxis": {
           "colorbar": {
            "outlinewidth": 0,
            "ticks": ""
           }
          },
          "colorscale": {
           "diverging": [
            [
             0,
             "#8e0152"
            ],
            [
             0.1,
             "#c51b7d"
            ],
            [
             0.2,
             "#de77ae"
            ],
            [
             0.3,
             "#f1b6da"
            ],
            [
             0.4,
             "#fde0ef"
            ],
            [
             0.5,
             "#f7f7f7"
            ],
            [
             0.6,
             "#e6f5d0"
            ],
            [
             0.7,
             "#b8e186"
            ],
            [
             0.8,
             "#7fbc41"
            ],
            [
             0.9,
             "#4d9221"
            ],
            [
             1,
             "#276419"
            ]
           ],
           "sequential": [
            [
             0,
             "#0d0887"
            ],
            [
             0.1111111111111111,
             "#46039f"
            ],
            [
             0.2222222222222222,
             "#7201a8"
            ],
            [
             0.3333333333333333,
             "#9c179e"
            ],
            [
             0.4444444444444444,
             "#bd3786"
            ],
            [
             0.5555555555555556,
             "#d8576b"
            ],
            [
             0.6666666666666666,
             "#ed7953"
            ],
            [
             0.7777777777777778,
             "#fb9f3a"
            ],
            [
             0.8888888888888888,
             "#fdca26"
            ],
            [
             1,
             "#f0f921"
            ]
           ],
           "sequentialminus": [
            [
             0,
             "#0d0887"
            ],
            [
             0.1111111111111111,
             "#46039f"
            ],
            [
             0.2222222222222222,
             "#7201a8"
            ],
            [
             0.3333333333333333,
             "#9c179e"
            ],
            [
             0.4444444444444444,
             "#bd3786"
            ],
            [
             0.5555555555555556,
             "#d8576b"
            ],
            [
             0.6666666666666666,
             "#ed7953"
            ],
            [
             0.7777777777777778,
             "#fb9f3a"
            ],
            [
             0.8888888888888888,
             "#fdca26"
            ],
            [
             1,
             "#f0f921"
            ]
           ]
          },
          "colorway": [
           "#636efa",
           "#EF553B",
           "#00cc96",
           "#ab63fa",
           "#FFA15A",
           "#19d3f3",
           "#FF6692",
           "#B6E880",
           "#FF97FF",
           "#FECB52"
          ],
          "font": {
           "color": "#2a3f5f"
          },
          "geo": {
           "bgcolor": "white",
           "lakecolor": "white",
           "landcolor": "#E5ECF6",
           "showlakes": true,
           "showland": true,
           "subunitcolor": "white"
          },
          "hoverlabel": {
           "align": "left"
          },
          "hovermode": "closest",
          "mapbox": {
           "style": "light"
          },
          "paper_bgcolor": "white",
          "plot_bgcolor": "#E5ECF6",
          "polar": {
           "angularaxis": {
            "gridcolor": "white",
            "linecolor": "white",
            "ticks": ""
           },
           "bgcolor": "#E5ECF6",
           "radialaxis": {
            "gridcolor": "white",
            "linecolor": "white",
            "ticks": ""
           }
          },
          "scene": {
           "xaxis": {
            "backgroundcolor": "#E5ECF6",
            "gridcolor": "white",
            "gridwidth": 2,
            "linecolor": "white",
            "showbackground": true,
            "ticks": "",
            "zerolinecolor": "white"
           },
           "yaxis": {
            "backgroundcolor": "#E5ECF6",
            "gridcolor": "white",
            "gridwidth": 2,
            "linecolor": "white",
            "showbackground": true,
            "ticks": "",
            "zerolinecolor": "white"
           },
           "zaxis": {
            "backgroundcolor": "#E5ECF6",
            "gridcolor": "white",
            "gridwidth": 2,
            "linecolor": "white",
            "showbackground": true,
            "ticks": "",
            "zerolinecolor": "white"
           }
          },
          "shapedefaults": {
           "line": {
            "color": "#2a3f5f"
           }
          },
          "ternary": {
           "aaxis": {
            "gridcolor": "white",
            "linecolor": "white",
            "ticks": ""
           },
           "baxis": {
            "gridcolor": "white",
            "linecolor": "white",
            "ticks": ""
           },
           "bgcolor": "#E5ECF6",
           "caxis": {
            "gridcolor": "white",
            "linecolor": "white",
            "ticks": ""
           }
          },
          "title": {
           "x": 0.05
          },
          "xaxis": {
           "automargin": true,
           "gridcolor": "white",
           "linecolor": "white",
           "ticks": "",
           "title": {
            "standoff": 15
           },
           "zerolinecolor": "white",
           "zerolinewidth": 2
          },
          "yaxis": {
           "automargin": true,
           "gridcolor": "white",
           "linecolor": "white",
           "ticks": "",
           "title": {
            "standoff": 15
           },
           "zerolinecolor": "white",
           "zerolinewidth": 2
          }
         }
        },
        "title": {
         "text": "Distribution Of 1567 Netflix-Ratings"
        },
        "yaxis": {
         "title": {
          "text": "Rating"
         }
        }
       }
      },
      "text/html": [
       "<div>                            <div id=\"f4d9d071-0417-47d2-999b-74b78aff4f54\" class=\"plotly-graph-div\" style=\"height:525px; width:100%;\"></div>            <script type=\"text/javascript\">                require([\"plotly\"], function(Plotly) {                    window.PLOTLYENV=window.PLOTLYENV || {};                                    if (document.getElementById(\"f4d9d071-0417-47d2-999b-74b78aff4f54\")) {                    Plotly.newPlot(                        \"f4d9d071-0417-47d2-999b-74b78aff4f54\",                        [{\"marker\":{\"color\":\"#db0000\"},\"name\":\"Rating Distribution\",\"y\":[7.0,7.6,6.9,6.2,7.1,8.1,6.6,7.0,7.6,6.0,6.8,9.0,7.1,6.3,8.1,6.3,6.6,6.7,7.9,6.5,8.1,7.6,7.5,8.1,7.2,8.1,9.0,8.1,7.3,7.9,7.3,6.6,9.3,8.2,9.0,5.2,5.8,9.0,9.3,9.0,7.2,9.3,6.0,6.1,9.0,6.7,7.6,6.0,7.2,7.0,6.5,7.3,6.9,8.1,7.1,6.7,6.6,7.2,9.0,6.4,8.2,6.7,9.0,7.8,7.8,6.0,7.5,4.6,7.7,6.7,6.2,7.6,7.1,7.1,5.8,7.7,6.4,6.5,6.4,6.9,6.9,6.5,6.3,7.9,7.1,7.3,7.2,6.2,7.9,8.1,7.4,7.3,8.1,5.4,7.4,7.0,4.2,7.6,6.1,6.9,7.2,6.6,7.0,7.3,6.3,7.1,5.6,9.1,6.5,7.9,5.2,6.4,8.1,6.2,6.3,8.8,7.4,8.2,6.6,7.9,6.3,7.7,6.6,7.8,6.4,5.6,6.5,6.9,6.6,7.4,7.9,7.9,7.8,9.0,7.4,7.1,9.0,5.8,8.1,6.5,7.0,6.6,7.6,8.1,8.2,5.9,7.1,5.5,8.1,6.8,8.1,8.2,6.3,6.6,5.5,6.6,7.3,6.7,7.5,6.2,7.2,6.8,8.1,6.3,7.4,6.3,8.6,6.9,7.3,6.4,9.2,7.0,7.1,8.8,7.1,6.2,7.1,7.6,7.0,5.7,5.8,7.8,6.6,7.4,9.1,9.1,7.4,6.7,7.7,8.7,7.4,7.8,8.5,4.8,7.1,6.3,6.6,6.6,5.7,6.1,9.1,7.3,8.6,7.8,7.4,7.2,7.0,5.6,9.1,6.6,7.5,5.6,5.9,7.2,5.9,7.8,7.3,7.3,6.9,7.3,8.3,7.0,8.4,5.4,6.2,7.0,7.0,8.1,7.9,6.8,7.4,4.9,5.1,7.6,6.4,7.2,6.9,5.8,8.0,6.1,7.3,5.3,7.2,9.0,5.6,6.3,6.5,5.2,5.5,9.0,6.8,7.0,7.3,6.5,7.7,8.2,7.7,5.9,8.0,5.6,7.7,6.1,6.7,6.1,7.6,7.5,8.0,6.4,7.2,6.5,8.2,7.3,8.3,5.2,7.2,5.9,6.5,7.6,7.3,7.2,7.2,7.6,6.2,6.4,6.0,7.5,7.3,7.6,6.1,6.7,5.3,7.8,6.1,6.8,7.8,7.2,6.6,7.7,7.7,6.1,5.6,6.2,4.0,6.3,8.0,6.3,6.1,6.6,6.1,6.7,7.1,7.1,6.2,6.7,6.5,8.1,6.6,8.0,7.3,6.9,5.6,6.5,8.6,8.0,5.9,8.1,7.2,8.2,7.1,7.6,7.9,6.9,7.3,6.4,7.8,8.3,7.3,8.5,7.6,6.4,7.3,6.1,6.8,7.2,7.0,6.4,6.3,8.1,6.1,6.3,7.2,8.5,8.8,7.4,7.0,7.1,7.7,7.5,8.0,6.6,8.5,8.0,8.9,8.0,7.3,6.6,7.1,6.4,6.7,6.2,7.0,7.8,6.5,6.1,6.4,6.4,7.3,6.7,7.5,6.4,7.1,7.3,5.6,8.2,8.5,7.1,7.4,7.8,6.4,7.0,6.1,6.1,6.0,6.8,7.0,5.7,6.7,6.4,6.1,6.3,6.5,6.0,7.5,7.1,6.6,8.4,7.8,7.7,4.6,7.0,7.7,6.1,7.9,5.7,6.4,7.4,7.0,9.0,5.5,6.8,6.2,7.7,7.5,6.5,7.3,6.9,7.0,6.4,6.4,7.3,6.0,6.7,7.3,7.3,6.2,7.6,7.3,7.7,7.8,8.6,6.9,6.3,6.6,5.6,7.0,7.1,7.6,9.1,7.1,7.8,7.7,6.1,7.8,8.0,7.4,6.5,7.5,7.8,6.9,5.7,7.5,6.3,6.1,6.4,8.1,6.6,6.5,7.1,6.8,5.9,7.5,7.3,6.6,7.3,6.5,5.7,5.6,7.2,6.8,5.5,6.2,7.1,6.8,7.3,8.4,6.5,7.1,6.3,6.9,6.7,5.5,7.0,7.3,6.4,8.0,7.4,6.4,6.8,7.4,6.5,6.6,6.7,6.8,6.1,7.1,7.9,7.4,7.5,7.6,8.3,7.6,7.8,6.5,6.3,6.9,7.1,6.6,7.6,8.2,8.1,5.6,7.7,6.9,8.2,7.5,5.5,4.3,6.0,7.1,8.0,6.3,6.5,7.1,6.6,6.7,6.4,6.1,8.3,8.4,6.5,5.9,8.2,6.9,7.0,7.2,8.2,8.1,7.0,6.4,5.8,7.8,7.4,6.4,6.2,6.8,6.3,8.5,7.4,7.0,7.2,7.9,6.2,6.8,6.5,7.3,8.6,7.6,6.3,8.0,8.2,7.1,6.3,6.3,6.3,7.3,8.3,7.6,8.2,6.8,6.6,6.1,6.6,7.1,7.9,7.6,7.2,8.1,7.2,6.8,7.4,5.4,6.4,6.9,7.0,8.5,6.0,7.7,7.8,6.8,7.5,7.7,5.5,7.8,7.8,7.5,6.1,6.6,7.4,6.2,8.3,6.6,6.8,5.7,6.5,6.0,5.7,7.3,7.5,6.4,6.9,7.0,6.9,7.6,7.6,6.9,5.4,6.1,6.6,6.7,5.8,5.8,5.3,6.7,7.6,6.8,6.8,6.5,6.9,6.4,8.0,6.2,5.8,6.5,8.1,6.7,7.6,7.1,6.1,6.3,7.1,6.4,6.1,5.1,5.2,6.5,8.0,7.5,7.7,7.0,6.5,6.9,7.7,6.8,7.4,8.4,7.9,6.3,6.8,5.8,6.6,6.9,6.9,5.3,7.0,7.7,6.2,5.1,5.2,5.8,7.3,6.5,6.3,8.2,7.3,8.5,7.9,6.4,7.8,7.8,7.8,6.6,6.5,6.8,6.3,7.6,8.1,7.4,6.5,7.4,7.6,6.4,6.7,5.3,7.5,8.0,7.7,6.1,5.5,7.2,6.4,4.9,5.5,6.7,8.5,7.7,7.0,8.0,6.9,7.0,6.5,6.6,7.8,5.3,6.4,7.3,7.0,6.2,7.0,7.4,5.4,6.2,6.6,6.5,6.8,7.7,7.6,6.5,6.3,6.2,7.5,7.6,7.5,6.6,7.1,7.6,8.5,7.8,7.3,7.0,6.1,5.6,5.3,7.2,7.1,6.5,6.3,7.4,9.3,6.8,6.9,5.9,7.1,5.8,7.4,8.6,7.6,7.8,8.5,6.3,7.1,7.8,7.1,5.4,7.5,7.1,6.4,8.0,7.9,7.9,8.0,6.7,6.2,7.3,8.1,5.9,5.7,6.0,7.8,5.7,6.5,6.5,6.3,7.6,8.1,6.5,7.5,7.7,7.4,6.5,7.8,6.5,6.4,7.4,7.8,5.9,7.3,8.7,6.9,5.5,6.6,6.8,8.1,6.5,6.8,6.1,6.8,7.6,6.3,8.2,7.2,6.3,7.3,7.2,7.5,7.0,5.8,7.3,6.2,6.4,8.1,6.8,7.4,7.6,6.1,6.1,6.7,6.6,7.4,6.4,6.2,7.3,6.3,8.1,8.4,6.7,7.7,7.3,6.0,6.3,7.8,6.8,7.1,5.8,7.3,6.6,6.8,7.3,6.5,6.6,5.3,5.5,6.9,9.0,7.8,7.1,7.2,8.2,7.1,7.2,6.2,6.1,8.1,8.2,5.5,6.3,8.0,5.7,8.5,6.5,7.2,7.1,7.4,7.0,8.2,7.5,7.7,7.6,7.5,7.7,6.2,7.0,6.5,8.3,7.9,7.8,8.7,5.5,7.4,9.0,8.1,6.9,7.4,7.1,6.5,6.3,9.0,7.3,5.6,7.5,7.0,6.4,5.7,6.8,6.8,6.8,7.0,5.8,6.8,7.4,6.4,6.2,5.6,7.3,6.6,6.1,6.2,6.3,6.4,7.0,6.3,6.6,7.5,6.5,7.0,8.2,7.1,6.0,7.6,6.1,6.2,7.5,6.5,6.2,8.6,7.3,7.1,6.7,7.2,6.4,6.8,7.3,7.4,6.9,6.5,7.3,6.4,6.1,6.3,6.3,7.7,6.6,6.6,7.4,7.8,5.9,7.3,6.6,6.1,6.1,6.1,6.6,6.8,6.6,8.4,7.4,6.2,7.8,7.4,7.1,7.0,7.8,5.1,7.8,7.5,6.7,7.5,6.3,6.0,8.3,6.4,8.7,6.6,6.3,7.3,8.1,6.6,6.6,7.8,6.0,5.8,8.2,7.7,6.6,7.6,6.7,5.7,6.5,6.0,7.0,6.7,6.2,7.6,7.4,7.0,8.0,6.4,7.3,6.5,8.1,6.3,6.3,7.8,6.7,7.6,7.3,4.3,7.0,6.8,7.6,6.5,6.6,5.8,9.0,8.0,7.3,7.4,6.8,7.0,7.7,6.6,6.1,4.9,6.7,6.5,6.8,5.7,6.6,5.5,7.0,7.1,7.2,5.8,7.0,8.6,7.4,8.1,6.5,5.3,7.8,7.3,6.1,7.4,5.1,6.9,8.1,6.3,8.2,6.7,6.6,6.2,7.6,6.5,8.2,6.4,7.7,8.1,6.3,8.0,7.1,5.9,6.5,7.9,7.4,6.2,7.6,7.7,6.4,7.2,6.9,6.7,7.8,7.9,7.9,7.3,8.2,6.7,7.6,6.6,7.8,7.6,7.4,8.1,6.7,5.4,5.8,7.2,6.5,7.1,7.0,7.8,6.5,8.1,6.8,8.5,6.9,5.8,8.7,8.2,7.5,7.9,5.2,7.1,8.2,5.6,7.3,7.9,7.3,8.4,7.0,6.4,8.2,7.1,7.9,8.3,5.8,5.9,7.0,6.9,8.8,8.1,6.5,7.8,7.7,2.8,6.3,8.2,6.9,6.6,5.7,7.2,7.6,6.8,6.2,6.2,5.9,6.3,8.0,6.7,6.4,8.0,7.4,7.2,8.5,7.3,8.6,7.7,7.3,6.7,6.2,6.1,6.6,6.5,6.5,6.5,6.7,8.1,6.3,8.0,8.0,6.3,6.9,7.0,7.8,7.9,6.9,8.4,6.6,7.1,6.6,6.6,6.2,8.0,6.8,6.8,6.1,5.8,7.4,6.1,6.8,6.8,7.6,8.1,6.3,6.6,7.6,6.6,7.1,6.3,6.3,7.8,7.9,7.5,5.6,7.4,7.1,6.5,7.9,7.2,7.3,7.3,7.2,8.5,7.0,5.8,7.0,6.5,8.1,8.6,5.2,7.3,7.2,7.7,6.7,7.4,8.0,6.5,7.0,7.1,8.0,5.8,6.7,7.0,6.3,6.5,7.3,7.3,6.4,4.3,7.5,6.4,6.7,8.1,7.7,7.9,7.9,6.3,6.5,7.5,6.2,6.1,8.1,8.1,6.7,6.6,6.9,7.7,7.6,7.0,7.4,8.4,6.9,8.4,7.6,7.6,6.3,6.8,7.4,5.8,5.5,6.5,7.1,7.7,6.6,6.1,6.5,7.9,7.9,7.9,8.0,8.1,7.0,6.9,6.9,7.6,7.6,7.6,7.6,6.5,6.5,6.8,6.5,7.5,6.7,6.8,8.2,7.7,8.3,6.6,6.7,7.5,6.9,7.1,7.1,7.5,7.7,8.0,7.2,6.1,7.1,8.0,7.3,6.2,6.6,7.9,6.7,7.7,6.3,6.3,7.7,7.3,6.6,7.7,8.0,7.6,6.0,7.7,7.3,6.9,5.3,7.7,6.6,6.3,5.6,8.1,7.5,6.3,7.7,7.6,7.6,8.3,7.6,7.0,6.6,8.2,6.5,7.5,7.5,6.0,7.1,7.1,7.1,6.2,6.5,6.7,7.1,7.2,8.0,7.7,5.3,6.9,6.0,6.9,7.2,7.9,7.2,6.8,7.9,6.3,6.9,6.6,6.8,5.9,7.0,6.2,6.1,7.3,7.2,8.5,7.3,8.4,6.4,7.5,6.2,6.3,6.3,8.2,7.2,6.7,4.9,5.5,7.7,7.6,7.3,7.2,7.0,7.9,7.9,7.5,8.0,5.6,8.4,8.3,6.7,7.9,8.2,8.0,8.5,7.0,8.1,7.3,6.5,6.9,7.7,6.8,7.3,8.5,6.9,7.9,7.6,6.1,7.0,7.1,8.3,6.8,8.5,8.2,7.5,6.6,6.5,6.9,7.8,4.2,7.0,5.7,7.2,7.1,6.3,5.6,5.9,6.5,6.3,7.9,7.9,6.6,8.1,6.2,6.8,6.2,7.9,6.2,4.9,7.6,7.8,7.0,6.9,7.7,7.0,6.4,6.5,7.4,6.1,6.6,6.5,6.3,7.8,7.0,7.8,6.9,8.3,7.6,7.6,7.6,7.6,7.4,8.1,6.5,7.7,7.4,7.3,8.1,7.5,6.5,8.3,8.3,6.6,9.0,6.3,6.7,5.7,7.0,8.2,6.8,6.4,8.2,7.1,8.1,7.9,7.3,7.1,6.5,6.1,7.5,6.8,7.8,8.1,8.1,7.8,7.2,6.6,7.8,6.5,8.8,7.9,6.6,7.1,6.4,6.8,7.8,7.4,6.8,6.8,7.0,7.4,7.7,6.2,7.5,6.9,7.1,6.9,7.3,9.0,6.4,6.9,8.0,9.0,8.8,7.3,6.9,8.6,8.5,8.8,8.2,6.9,6.9,5.4,7.8,7.3,7.3,6.3,6.9,7.1,7.1,5.8,7.3,6.8,7.9,6.5],\"type\":\"box\"}],                        {\"title\":{\"text\":\"Distribution Of 1567 Netflix-Ratings\"},\"yaxis\":{\"title\":{\"text\":\"Rating\"}},\"template\":{\"data\":{\"histogram2dcontour\":[{\"type\":\"histogram2dcontour\",\"colorbar\":{\"outlinewidth\":0,\"ticks\":\"\"},\"colorscale\":[[0.0,\"#0d0887\"],[0.1111111111111111,\"#46039f\"],[0.2222222222222222,\"#7201a8\"],[0.3333333333333333,\"#9c179e\"],[0.4444444444444444,\"#bd3786\"],[0.5555555555555556,\"#d8576b\"],[0.6666666666666666,\"#ed7953\"],[0.7777777777777778,\"#fb9f3a\"],[0.8888888888888888,\"#fdca26\"],[1.0,\"#f0f921\"]]}],\"choropleth\":[{\"type\":\"choropleth\",\"colorbar\":{\"outlinewidth\":0,\"ticks\":\"\"}}],\"histogram2d\":[{\"type\":\"histogram2d\",\"colorbar\":{\"outlinewidth\":0,\"ticks\":\"\"},\"colorscale\":[[0.0,\"#0d0887\"],[0.1111111111111111,\"#46039f\"],[0.2222222222222222,\"#7201a8\"],[0.3333333333333333,\"#9c179e\"],[0.4444444444444444,\"#bd3786\"],[0.5555555555555556,\"#d8576b\"],[0.6666666666666666,\"#ed7953\"],[0.7777777777777778,\"#fb9f3a\"],[0.8888888888888888,\"#fdca26\"],[1.0,\"#f0f921\"]]}],\"heatmap\":[{\"type\":\"heatmap\",\"colorbar\":{\"outlinewidth\":0,\"ticks\":\"\"},\"colorscale\":[[0.0,\"#0d0887\"],[0.1111111111111111,\"#46039f\"],[0.2222222222222222,\"#7201a8\"],[0.3333333333333333,\"#9c179e\"],[0.4444444444444444,\"#bd3786\"],[0.5555555555555556,\"#d8576b\"],[0.6666666666666666,\"#ed7953\"],[0.7777777777777778,\"#fb9f3a\"],[0.8888888888888888,\"#fdca26\"],[1.0,\"#f0f921\"]]}],\"heatmapgl\":[{\"type\":\"heatmapgl\",\"colorbar\":{\"outlinewidth\":0,\"ticks\":\"\"},\"colorscale\":[[0.0,\"#0d0887\"],[0.1111111111111111,\"#46039f\"],[0.2222222222222222,\"#7201a8\"],[0.3333333333333333,\"#9c179e\"],[0.4444444444444444,\"#bd3786\"],[0.5555555555555556,\"#d8576b\"],[0.6666666666666666,\"#ed7953\"],[0.7777777777777778,\"#fb9f3a\"],[0.8888888888888888,\"#fdca26\"],[1.0,\"#f0f921\"]]}],\"contourcarpet\":[{\"type\":\"contourcarpet\",\"colorbar\":{\"outlinewidth\":0,\"ticks\":\"\"}}],\"contour\":[{\"type\":\"contour\",\"colorbar\":{\"outlinewidth\":0,\"ticks\":\"\"},\"colorscale\":[[0.0,\"#0d0887\"],[0.1111111111111111,\"#46039f\"],[0.2222222222222222,\"#7201a8\"],[0.3333333333333333,\"#9c179e\"],[0.4444444444444444,\"#bd3786\"],[0.5555555555555556,\"#d8576b\"],[0.6666666666666666,\"#ed7953\"],[0.7777777777777778,\"#fb9f3a\"],[0.8888888888888888,\"#fdca26\"],[1.0,\"#f0f921\"]]}],\"surface\":[{\"type\":\"surface\",\"colorbar\":{\"outlinewidth\":0,\"ticks\":\"\"},\"colorscale\":[[0.0,\"#0d0887\"],[0.1111111111111111,\"#46039f\"],[0.2222222222222222,\"#7201a8\"],[0.3333333333333333,\"#9c179e\"],[0.4444444444444444,\"#bd3786\"],[0.5555555555555556,\"#d8576b\"],[0.6666666666666666,\"#ed7953\"],[0.7777777777777778,\"#fb9f3a\"],[0.8888888888888888,\"#fdca26\"],[1.0,\"#f0f921\"]]}],\"mesh3d\":[{\"type\":\"mesh3d\",\"colorbar\":{\"outlinewidth\":0,\"ticks\":\"\"}}],\"scatter\":[{\"fillpattern\":{\"fillmode\":\"overlay\",\"size\":10,\"solidity\":0.2},\"type\":\"scatter\"}],\"parcoords\":[{\"type\":\"parcoords\",\"line\":{\"colorbar\":{\"outlinewidth\":0,\"ticks\":\"\"}}}],\"scatterpolargl\":[{\"type\":\"scatterpolargl\",\"marker\":{\"colorbar\":{\"outlinewidth\":0,\"ticks\":\"\"}}}],\"bar\":[{\"error_x\":{\"color\":\"#2a3f5f\"},\"error_y\":{\"color\":\"#2a3f5f\"},\"marker\":{\"line\":{\"color\":\"#E5ECF6\",\"width\":0.5},\"pattern\":{\"fillmode\":\"overlay\",\"size\":10,\"solidity\":0.2}},\"type\":\"bar\"}],\"scattergeo\":[{\"type\":\"scattergeo\",\"marker\":{\"colorbar\":{\"outlinewidth\":0,\"ticks\":\"\"}}}],\"scatterpolar\":[{\"type\":\"scatterpolar\",\"marker\":{\"colorbar\":{\"outlinewidth\":0,\"ticks\":\"\"}}}],\"histogram\":[{\"marker\":{\"pattern\":{\"fillmode\":\"overlay\",\"size\":10,\"solidity\":0.2}},\"type\":\"histogram\"}],\"scattergl\":[{\"type\":\"scattergl\",\"marker\":{\"colorbar\":{\"outlinewidth\":0,\"ticks\":\"\"}}}],\"scatter3d\":[{\"type\":\"scatter3d\",\"line\":{\"colorbar\":{\"outlinewidth\":0,\"ticks\":\"\"}},\"marker\":{\"colorbar\":{\"outlinewidth\":0,\"ticks\":\"\"}}}],\"scattermapbox\":[{\"type\":\"scattermapbox\",\"marker\":{\"colorbar\":{\"outlinewidth\":0,\"ticks\":\"\"}}}],\"scatterternary\":[{\"type\":\"scatterternary\",\"marker\":{\"colorbar\":{\"outlinewidth\":0,\"ticks\":\"\"}}}],\"scattercarpet\":[{\"type\":\"scattercarpet\",\"marker\":{\"colorbar\":{\"outlinewidth\":0,\"ticks\":\"\"}}}],\"carpet\":[{\"aaxis\":{\"endlinecolor\":\"#2a3f5f\",\"gridcolor\":\"white\",\"linecolor\":\"white\",\"minorgridcolor\":\"white\",\"startlinecolor\":\"#2a3f5f\"},\"baxis\":{\"endlinecolor\":\"#2a3f5f\",\"gridcolor\":\"white\",\"linecolor\":\"white\",\"minorgridcolor\":\"white\",\"startlinecolor\":\"#2a3f5f\"},\"type\":\"carpet\"}],\"table\":[{\"cells\":{\"fill\":{\"color\":\"#EBF0F8\"},\"line\":{\"color\":\"white\"}},\"header\":{\"fill\":{\"color\":\"#C8D4E3\"},\"line\":{\"color\":\"white\"}},\"type\":\"table\"}],\"barpolar\":[{\"marker\":{\"line\":{\"color\":\"#E5ECF6\",\"width\":0.5},\"pattern\":{\"fillmode\":\"overlay\",\"size\":10,\"solidity\":0.2}},\"type\":\"barpolar\"}],\"pie\":[{\"automargin\":true,\"type\":\"pie\"}]},\"layout\":{\"autotypenumbers\":\"strict\",\"colorway\":[\"#636efa\",\"#EF553B\",\"#00cc96\",\"#ab63fa\",\"#FFA15A\",\"#19d3f3\",\"#FF6692\",\"#B6E880\",\"#FF97FF\",\"#FECB52\"],\"font\":{\"color\":\"#2a3f5f\"},\"hovermode\":\"closest\",\"hoverlabel\":{\"align\":\"left\"},\"paper_bgcolor\":\"white\",\"plot_bgcolor\":\"#E5ECF6\",\"polar\":{\"bgcolor\":\"#E5ECF6\",\"angularaxis\":{\"gridcolor\":\"white\",\"linecolor\":\"white\",\"ticks\":\"\"},\"radialaxis\":{\"gridcolor\":\"white\",\"linecolor\":\"white\",\"ticks\":\"\"}},\"ternary\":{\"bgcolor\":\"#E5ECF6\",\"aaxis\":{\"gridcolor\":\"white\",\"linecolor\":\"white\",\"ticks\":\"\"},\"baxis\":{\"gridcolor\":\"white\",\"linecolor\":\"white\",\"ticks\":\"\"},\"caxis\":{\"gridcolor\":\"white\",\"linecolor\":\"white\",\"ticks\":\"\"}},\"coloraxis\":{\"colorbar\":{\"outlinewidth\":0,\"ticks\":\"\"}},\"colorscale\":{\"sequential\":[[0.0,\"#0d0887\"],[0.1111111111111111,\"#46039f\"],[0.2222222222222222,\"#7201a8\"],[0.3333333333333333,\"#9c179e\"],[0.4444444444444444,\"#bd3786\"],[0.5555555555555556,\"#d8576b\"],[0.6666666666666666,\"#ed7953\"],[0.7777777777777778,\"#fb9f3a\"],[0.8888888888888888,\"#fdca26\"],[1.0,\"#f0f921\"]],\"sequentialminus\":[[0.0,\"#0d0887\"],[0.1111111111111111,\"#46039f\"],[0.2222222222222222,\"#7201a8\"],[0.3333333333333333,\"#9c179e\"],[0.4444444444444444,\"#bd3786\"],[0.5555555555555556,\"#d8576b\"],[0.6666666666666666,\"#ed7953\"],[0.7777777777777778,\"#fb9f3a\"],[0.8888888888888888,\"#fdca26\"],[1.0,\"#f0f921\"]],\"diverging\":[[0,\"#8e0152\"],[0.1,\"#c51b7d\"],[0.2,\"#de77ae\"],[0.3,\"#f1b6da\"],[0.4,\"#fde0ef\"],[0.5,\"#f7f7f7\"],[0.6,\"#e6f5d0\"],[0.7,\"#b8e186\"],[0.8,\"#7fbc41\"],[0.9,\"#4d9221\"],[1,\"#276419\"]]},\"xaxis\":{\"gridcolor\":\"white\",\"linecolor\":\"white\",\"ticks\":\"\",\"title\":{\"standoff\":15},\"zerolinecolor\":\"white\",\"automargin\":true,\"zerolinewidth\":2},\"yaxis\":{\"gridcolor\":\"white\",\"linecolor\":\"white\",\"ticks\":\"\",\"title\":{\"standoff\":15},\"zerolinecolor\":\"white\",\"automargin\":true,\"zerolinewidth\":2},\"scene\":{\"xaxis\":{\"backgroundcolor\":\"#E5ECF6\",\"gridcolor\":\"white\",\"linecolor\":\"white\",\"showbackground\":true,\"ticks\":\"\",\"zerolinecolor\":\"white\",\"gridwidth\":2},\"yaxis\":{\"backgroundcolor\":\"#E5ECF6\",\"gridcolor\":\"white\",\"linecolor\":\"white\",\"showbackground\":true,\"ticks\":\"\",\"zerolinecolor\":\"white\",\"gridwidth\":2},\"zaxis\":{\"backgroundcolor\":\"#E5ECF6\",\"gridcolor\":\"white\",\"linecolor\":\"white\",\"showbackground\":true,\"ticks\":\"\",\"zerolinecolor\":\"white\",\"gridwidth\":2}},\"shapedefaults\":{\"line\":{\"color\":\"#2a3f5f\"}},\"annotationdefaults\":{\"arrowcolor\":\"#2a3f5f\",\"arrowhead\":0,\"arrowwidth\":1},\"geo\":{\"bgcolor\":\"white\",\"landcolor\":\"#E5ECF6\",\"subunitcolor\":\"white\",\"showland\":true,\"showlakes\":true,\"lakecolor\":\"white\"},\"title\":{\"x\":0.05},\"mapbox\":{\"style\":\"light\"}}}},                        {\"responsive\": true}                    ).then(function(){\n",
       "                            \n",
       "var gd = document.getElementById('f4d9d071-0417-47d2-999b-74b78aff4f54');\n",
       "var x = new MutationObserver(function (mutations, observer) {{\n",
       "        var display = window.getComputedStyle(gd).display;\n",
       "        if (!display || display === 'none') {{\n",
       "            console.log([gd, 'removed!']);\n",
       "            Plotly.purge(gd);\n",
       "            observer.disconnect();\n",
       "        }}\n",
       "}});\n",
       "\n",
       "// Listen for the removal of the full notebook cells\n",
       "var notebookContainer = gd.closest('#notebook-container');\n",
       "if (notebookContainer) {{\n",
       "    x.observe(notebookContainer, {childList: true});\n",
       "}}\n",
       "\n",
       "// Listen for the clearing of the current output cell\n",
       "var outputEl = gd.closest('.output');\n",
       "if (outputEl) {{\n",
       "    x.observe(outputEl, {childList: true});\n",
       "}}\n",
       "\n",
       "                        })                };                });            </script>        </div>"
      ]
     },
     "metadata": {},
     "output_type": "display_data"
    }
   ],
   "source": [
    "# Get data\n",
    "data = df['Rating'].value_counts().sort_index(ascending=False)\n",
    "\n",
    "# Create trace\n",
    "trace = go.Box(y=df['Rating'], name='Rating Distribution', marker=dict(color='#db0000'))\n",
    "\n",
    "# Create layout\n",
    "layout = dict(title='Distribution Of {} Netflix-Ratings'.format(len(df)),\n",
    "              yaxis=dict(title='Rating'))\n",
    "\n",
    "# Create plot\n",
    "fig = go.Figure(data=[trace], layout=layout)\n",
    "fig.show()"
   ]
  },
  {
   "cell_type": "code",
   "execution_count": 35,
   "metadata": {},
   "outputs": [
    {
     "data": {
      "application/vnd.plotly.v1+json": {
       "config": {
        "plotlyServerURL": "https://plot.ly"
       },
       "data": [
        {
         "marker": {
          "color": "#db0000"
         },
         "name": "Number of Ratings Distribution",
         "type": "box",
         "y": [
          136009,
          111361,
          112694,
          119246,
          419661,
          1058121,
          118352,
          426880,
          111361,
          163191,
          255235,
          620143,
          186094,
          137978,
          1058121,
          308125,
          139444,
          274154,
          148405,
          109736,
          1058121,
          836899,
          143473,
          1058121,
          228037,
          1058121,
          620143,
          1058121,
          250532,
          718336,
          494480,
          188186,
          349385,
          515709,
          620143,
          157640,
          159287,
          620143,
          349385,
          620143,
          980208,
          349385,
          195540,
          192274,
          620143,
          222690,
          122784,
          269006,
          263468,
          275240,
          171650,
          397206,
          670175,
          783580,
          325594,
          186721,
          263249,
          112135,
          125855,
          254006,
          515709,
          223834,
          681715,
          160187,
          420510,
          423507,
          706073,
          109253,
          828927,
          179564,
          427464,
          836899,
          157377,
          178295,
          183129,
          369699,
          191507,
          213756,
          260617,
          120031,
          643784,
          142003,
          245741,
          750022,
          459037,
          139042,
          579566,
          200867,
          267867,
          249848,
          311697,
          287661,
          163339,
          165767,
          676484,
          120310,
          331533,
          391585,
          326451,
          428548,
          440854,
          128770,
          705750,
          167557,
          144237,
          157377,
          174907,
          581839,
          360749,
          118768,
          165614,
          106277,
          163339,
          171511,
          112253,
          2204968,
          539887,
          182431,
          376532,
          675536,
          208032,
          666269,
          489935,
          199604,
          254006,
          141873,
          255472,
          412431,
          135183,
          123851,
          267868,
          129696,
          356889,
          125855,
          498155,
          266243,
          2811102,
          392649,
          163339,
          525673,
          148944,
          312696,
          581665,
          163339,
          1045354,
          143928,
          266243,
          259478,
          163339,
          218286,
          783643,
          432369,
          207650,
          212776,
          198520,
          136132,
          116613,
          184222,
          619058,
          143611,
          588472,
          281223,
          1064497,
          143233,
          862320,
          625692,
          823055,
          252109,
          282499,
          175808,
          1972305,
          131278,
          266243,
          1964393,
          157377,
          168824,
          452839,
          531597,
          666843,
          186203,
          103903,
          233473,
          489935,
          412872,
          581839,
          581839,
          403899,
          205356,
          585242,
          2024366,
          521314,
          445999,
          1582672,
          296199,
          116924,
          199154,
          239241,
          489935,
          213801,
          171280,
          581839,
          110555,
          1514027,
          673246,
          722275,
          407362,
          261142,
          155622,
          581839,
          242775,
          262505,
          174907,
          131152,
          189109,
          112757,
          377257,
          146068,
          146077,
          139711,
          371223,
          896118,
          358698,
          645026,
          202617,
          148509,
          120966,
          410487,
          928033,
          174939,
          218286,
          703772,
          251041,
          257138,
          504565,
          173302,
          197493,
          690362,
          255213,
          636399,
          103828,
          173919,
          249229,
          294740,
          125861,
          174907,
          210400,
          437689,
          145036,
          106006,
          1937552,
          289423,
          275246,
          253553,
          360749,
          273409,
          848281,
          417214,
          336544,
          548521,
          174907,
          238585,
          117493,
          275158,
          185407,
          609848,
          693390,
          576932,
          111209,
          695078,
          261703,
          1416039,
          163343,
          646164,
          115553,
          170761,
          108447,
          127756,
          813752,
          118593,
          308906,
          313692,
          514445,
          241156,
          171869,
          142184,
          237723,
          536566,
          157467,
          176065,
          254465,
          110475,
          321528,
          134410,
          352854,
          150955,
          287033,
          152148,
          342827,
          241180,
          103828,
          202546,
          205096,
          169895,
          193157,
          576932,
          122890,
          193543,
          283476,
          280562,
          116053,
          266243,
          148661,
          149646,
          306039,
          284895,
          616537,
          452856,
          576932,
          128726,
          243309,
          206685,
          126175,
          788338,
          108578,
          152603,
          367648,
          333649,
          628646,
          205192,
          354718,
          746654,
          238800,
          287459,
          326666,
          484741,
          1034305,
          363572,
          1221513,
          247550,
          142135,
          282317,
          103828,
          218286,
          232614,
          250610,
          167871,
          105631,
          367648,
          152701,
          233338,
          495881,
          1278525,
          2495359,
          147297,
          216553,
          202983,
          585242,
          544547,
          810678,
          429755,
          1656148,
          732440,
          2169658,
          321384,
          571125,
          528192,
          332935,
          193752,
          404165,
          186753,
          546480,
          568499,
          115926,
          259256,
          350445,
          313864,
          333812,
          195939,
          236728,
          132282,
          219794,
          592137,
          196034,
          848281,
          1395221,
          268803,
          199234,
          744702,
          205674,
          107134,
          207510,
          206688,
          100341,
          131704,
          403851,
          184028,
          512957,
          525048,
          107259,
          289686,
          124771,
          108119,
          569469,
          151961,
          269483,
          1429558,
          722014,
          481151,
          131431,
          281735,
          585242,
          472583,
          337112,
          131197,
          328482,
          360910,
          371013,
          125861,
          143488,
          334236,
          162776,
          148304,
          178981,
          118988,
          158036,
          222529,
          255666,
          168564,
          138757,
          600712,
          145997,
          235973,
          560771,
          205857,
          159445,
          514445,
          227330,
          493967,
          214624,
          1152845,
          105357,
          141588,
          274056,
          211394,
          198130,
          154172,
          471327,
          478002,
          219102,
          428030,
          342827,
          105817,
          159140,
          644389,
          183919,
          105355,
          457264,
          644467,
          310327,
          122246,
          426337,
          236900,
          114762,
          123025,
          249848,
          489935,
          360749,
          153034,
          187468,
          712991,
          379091,
          294421,
          186384,
          519278,
          302401,
          110420,
          177161,
          251078,
          207496,
          106917,
          108183,
          328530,
          265750,
          220982,
          1545057,
          294028,
          192671,
          151852,
          205089,
          181638,
          111326,
          384071,
          267814,
          138272,
          652328,
          472544,
          230222,
          425537,
          551640,
          185997,
          280028,
          118510,
          189482,
          119845,
          200039,
          575916,
          214385,
          302515,
          576031,
          646164,
          217275,
          690195,
          100522,
          229911,
          384486,
          162368,
          319364,
          100815,
          1548837,
          647266,
          144021,
          607044,
          353382,
          898141,
          435725,
          113626,
          124829,
          102313,
          368671,
          247387,
          115234,
          141390,
          294425,
          465606,
          100426,
          505138,
          116386,
          421554,
          1792746,
          100950,
          251970,
          110896,
          252109,
          367428,
          115808,
          545497,
          304461,
          202822,
          160288,
          185018,
          160198,
          470536,
          133521,
          101899,
          194791,
          206665,
          951362,
          689535,
          403851,
          499224,
          476878,
          164506,
          251858,
          209708,
          137689,
          1376722,
          409632,
          156100,
          654805,
          177038,
          801817,
          152932,
          226980,
          134547,
          152566,
          275050,
          130963,
          653445,
          241575,
          238588,
          181462,
          283914,
          248482,
          278897,
          852099,
          259116,
          504349,
          187530,
          201934,
          173084,
          200512,
          180390,
          197614,
          426880,
          909887,
          102276,
          583619,
          690195,
          268944,
          200535,
          123128,
          133100,
          604996,
          302266,
          109871,
          319591,
          247363,
          127614,
          180205,
          203276,
          516614,
          111187,
          128724,
          123776,
          198318,
          139607,
          191999,
          468383,
          227741,
          319458,
          253320,
          146641,
          514482,
          312605,
          313195,
          286933,
          129108,
          150464,
          228560,
          150598,
          177415,
          148343,
          234954,
          619160,
          134377,
          134726,
          110008,
          281950,
          213189,
          133910,
          145115,
          115637,
          179227,
          494006,
          194544,
          214234,
          134647,
          103828,
          145378,
          381418,
          176861,
          121249,
          116756,
          168774,
          744024,
          231509,
          130207,
          280828,
          376930,
          125212,
          182219,
          421078,
          267775,
          314807,
          423364,
          721321,
          122467,
          154589,
          156035,
          157446,
          129777,
          362577,
          148393,
          121456,
          189636,
          113026,
          134602,
          117728,
          120537,
          372852,
          105845,
          282854,
          894265,
          312886,
          161665,
          539123,
          107553,
          154738,
          562639,
          720505,
          193738,
          126281,
          288641,
          138752,
          514482,
          1061161,
          175934,
          206918,
          292482,
          201323,
          360985,
          260863,
          166291,
          409464,
          639041,
          375586,
          134567,
          115476,
          799163,
          254015,
          102429,
          115417,
          206092,
          161665,
          381747,
          291317,
          576948,
          159552,
          242406,
          261720,
          331105,
          177985,
          193100,
          134351,
          146587,
          161407,
          128035,
          435650,
          175934,
          131904,
          312523,
          245317,
          109662,
          305446,
          326180,
          284938,
          360768,
          225693,
          168310,
          234409,
          281490,
          141813,
          489960,
          146951,
          110037,
          909149,
          626154,
          418988,
          349988,
          371326,
          124856,
          115905,
          112282,
          459045,
          196574,
          134552,
          161860,
          2829797,
          263504,
          185609,
          141022,
          205808,
          117774,
          175934,
          1756620,
          660507,
          859295,
          161665,
          120289,
          369234,
          325943,
          165841,
          172360,
          271747,
          244233,
          216775,
          669821,
          186314,
          186317,
          167165,
          339329,
          189574,
          129917,
          197616,
          125249,
          131202,
          253422,
          356897,
          194066,
          207029,
          137805,
          134991,
          144719,
          576880,
          161096,
          342019,
          100729,
          175934,
          240821,
          749296,
          196574,
          123972,
          560621,
          693095,
          106428,
          168452,
          2011534,
          120031,
          144092,
          525329,
          159167,
          250098,
          148163,
          124338,
          105705,
          126048,
          573327,
          169250,
          101946,
          462224,
          414481,
          204116,
          142863,
          101032,
          236955,
          146667,
          227335,
          126888,
          431832,
          804331,
          345059,
          422414,
          271979,
          122226,
          112676,
          227848,
          178611,
          474485,
          112749,
          147132,
          120807,
          109170,
          491146,
          698214,
          203748,
          625639,
          213462,
          144979,
          225090,
          527885,
          263065,
          141796,
          129738,
          185822,
          489960,
          381482,
          155108,
          285044,
          113828,
          123157,
          143656,
          371847,
          1338735,
          462899,
          244905,
          348349,
          100298,
          142000,
          139267,
          187565,
          103828,
          928058,
          101946,
          117589,
          112257,
          178571,
          123261,
          706483,
          132973,
          262247,
          103153,
          381380,
          255666,
          898179,
          211010,
          183412,
          255703,
          116560,
          313919,
          132839,
          203828,
          156299,
          1048375,
          262233,
          437375,
          1229933,
          293411,
          159470,
          1937639,
          119050,
          327732,
          602638,
          152405,
          266508,
          252928,
          1421976,
          240541,
          144255,
          394832,
          168462,
          122629,
          123744,
          378120,
          375037,
          107581,
          403980,
          290282,
          104041,
          294098,
          197006,
          176254,
          276248,
          262969,
          101056,
          195116,
          105141,
          151855,
          138276,
          241847,
          101090,
          489960,
          386034,
          168873,
          241900,
          552192,
          298623,
          129396,
          246727,
          145970,
          396696,
          298153,
          117591,
          203182,
          1466365,
          160403,
          158395,
          138286,
          583178,
          147286,
          162784,
          208214,
          233908,
          260317,
          245420,
          401514,
          128859,
          259262,
          106000,
          100843,
          625639,
          105121,
          105121,
          142229,
          101359,
          101681,
          240541,
          516614,
          147760,
          111042,
          124268,
          153229,
          102870,
          128156,
          305996,
          249643,
          225380,
          294589,
          164554,
          293141,
          139000,
          263155,
          101996,
          486680,
          366263,
          274349,
          465716,
          182116,
          174839,
          308524,
          240109,
          1053019,
          105121,
          208035,
          189759,
          442759,
          115060,
          272373,
          625263,
          201621,
          218130,
          1162976,
          132659,
          231768,
          496856,
          106969,
          272513,
          175810,
          101968,
          139998,
          206092,
          148509,
          106337,
          676511,
          398791,
          200316,
          267037,
          137389,
          162041,
          249855,
          151855,
          175753,
          493781,
          176226,
          332392,
          418988,
          110830,
          247020,
          120581,
          513536,
          127645,
          112394,
          117883,
          1937639,
          854120,
          156608,
          346697,
          240521,
          113096,
          326964,
          140550,
          196098,
          110213,
          230876,
          141391,
          312642,
          120119,
          219096,
          132191,
          214831,
          162265,
          307201,
          216759,
          168265,
          729852,
          278623,
          712486,
          138482,
          172389,
          303414,
          379189,
          153076,
          560621,
          113284,
          144916,
          166299,
          212899,
          1535436,
          535877,
          231768,
          263709,
          353227,
          125212,
          1163909,
          107385,
          632784,
          179289,
          138752,
          454272,
          142000,
          152807,
          104443,
          521721,
          371195,
          277410,
          263846,
          574897,
          142528,
          215471,
          251150,
          100522,
          138849,
          454263,
          1106602,
          282319,
          606793,
          113779,
          444196,
          244439,
          590306,
          813793,
          142229,
          121610,
          133679,
          115026,
          100942,
          176560,
          143861,
          210586,
          442985,
          384270,
          360768,
          219971,
          324632,
          161665,
          411071,
          137887,
          1053019,
          1162976,
          190790,
          428543,
          106287,
          373903,
          110905,
          210510,
          210685,
          364300,
          211765,
          101391,
          415492,
          125588,
          109800,
          171746,
          430507,
          1056596,
          151479,
          123249,
          282874,
          464770,
          1964467,
          648354,
          137467,
          233493,
          100395,
          110887,
          324877,
          1035583,
          274435,
          105121,
          109157,
          189117,
          177231,
          274136,
          104357,
          318822,
          116311,
          144955,
          444389,
          128501,
          110184,
          701114,
          244896,
          128997,
          890108,
          115127,
          1514073,
          474397,
          120807,
          127514,
          236746,
          174716,
          111809,
          125212,
          125212,
          125212,
          207345,
          730742,
          214782,
          133910,
          454272,
          153837,
          189963,
          347786,
          230903,
          229145,
          106236,
          260876,
          128494,
          154256,
          215056,
          250885,
          178976,
          238369,
          141678,
          288641,
          114655,
          136745,
          145297,
          472590,
          119368,
          119368,
          514482,
          207810,
          225693,
          244439,
          103081,
          300685,
          349672,
          308138,
          109946,
          303414,
          584589,
          542192,
          125271,
          103697,
          196814,
          108820,
          142625,
          169430,
          146068,
          146077,
          159747,
          1412084,
          114585,
          110680,
          209958,
          125212,
          211918,
          1514073,
          213108,
          218862,
          319425,
          255356,
          104289,
          110334,
          133910,
          171658,
          403980,
          328539,
          808295,
          186066,
          235980,
          104066,
          155249,
          354812,
          404858,
          343349,
          138276,
          174293,
          297553,
          120692,
          221218,
          1043534,
          853067,
          350579,
          350579,
          141377,
          112993,
          333673,
          100378,
          472600,
          1064534,
          190569,
          176228,
          170254,
          327736,
          479529,
          514482,
          165652,
          278639,
          1299496,
          349627,
          619107,
          813821,
          813821,
          168044,
          292739,
          298129,
          135410,
          156048,
          206921,
          382317,
          493969,
          196141,
          135907,
          360793,
          142625,
          142625,
          142625,
          188713,
          219976,
          159891,
          159742,
          159745,
          282636,
          282636,
          282636,
          282636,
          125218,
          166247,
          332116,
          468950,
          165032,
          225991,
          375046,
          971439,
          281589,
          783914,
          105127,
          110668,
          192068,
          189968,
          114243,
          128417,
          148366,
          382893,
          156948,
          154343,
          156947,
          244238,
          284754,
          102527,
          117050,
          249212,
          428268,
          194546,
          318304,
          184392,
          225096,
          151191,
          150892,
          158612,
          114943,
          129705,
          585608,
          198320,
          160634,
          185825,
          661591,
          110959,
          479529,
          247981,
          282858,
          202552,
          207815,
          235863,
          151858,
          325918,
          813821,
          813821,
          370800,
          813821,
          161407,
          135889,
          694055,
          179618,
          348334,
          144021,
          102280,
          298627,
          298627,
          298627,
          209118,
          206921,
          117977,
          270691,
          203827,
          869196,
          145073,
          147221,
          313206,
          249598,
          133486,
          131034,
          116458,
          197508,
          134261,
          210278,
          144960,
          419633,
          489987,
          116584,
          149695,
          173333,
          136554,
          177909,
          333834,
          250606,
          1128341,
          133945,
          134291,
          190911,
          348334,
          141290,
          212295,
          159801,
          429855,
          158784,
          104287,
          165827,
          103809,
          607066,
          243896,
          204116,
          313711,
          145705,
          228457,
          228457,
          143498,
          321411,
          174907,
          420885,
          1194988,
          221898,
          104529,
          110911,
          133913,
          1278598,
          214396,
          282335,
          109539,
          127268,
          123116,
          160634,
          258143,
          199320,
          277018,
          146646,
          511452,
          461292,
          100534,
          108360,
          194818,
          133999,
          245211,
          1656242,
          369852,
          274151,
          193521,
          126297,
          104588,
          380106,
          331548,
          147564,
          125982,
          122167,
          231353,
          225096,
          107776,
          129882,
          348423,
          100849,
          186314,
          186317,
          152327,
          184227,
          137059,
          159691,
          125237,
          750081,
          150886,
          102399,
          504612,
          168467,
          159656,
          139745,
          322873,
          165656,
          240012,
          103683,
          325729,
          136330,
          244449,
          106385,
          151860,
          126429,
          233339,
          137028,
          111856,
          370806,
          813847,
          813847,
          813847,
          813847,
          176909,
          162650,
          113155,
          254223,
          422425,
          173927,
          282342,
          569497,
          179620,
          867351,
          883325,
          283923,
          1937713,
          100840,
          134180,
          131205,
          173338,
          922511,
          119328,
          142531,
          1416169,
          164859,
          432091,
          616227,
          382668,
          109889,
          373897,
          106510,
          190537,
          242569,
          126429,
          846702,
          230329,
          428040,
          110835,
          118402,
          384277,
          196589,
          797067,
          350677,
          528213,
          248498,
          112732,
          324635,
          859314,
          288487,
          134377,
          134726,
          173338,
          560647,
          109580,
          184750,
          124789,
          419639,
          280331,
          224735,
          153638,
          1937713,
          210428,
          182245,
          444407,
          1937713,
          1747113,
          282525,
          105364,
          1514130,
          1128352,
          1747113,
          1535500,
          159742,
          159745,
          286941,
          493858,
          434382,
          434382,
          223888,
          126625,
          105553,
          266245,
          182145,
          163100,
          131713,
          350677,
          181297
         ]
        }
       ],
       "layout": {
        "template": {
         "data": {
          "bar": [
           {
            "error_x": {
             "color": "#2a3f5f"
            },
            "error_y": {
             "color": "#2a3f5f"
            },
            "marker": {
             "line": {
              "color": "#E5ECF6",
              "width": 0.5
             },
             "pattern": {
              "fillmode": "overlay",
              "size": 10,
              "solidity": 0.2
             }
            },
            "type": "bar"
           }
          ],
          "barpolar": [
           {
            "marker": {
             "line": {
              "color": "#E5ECF6",
              "width": 0.5
             },
             "pattern": {
              "fillmode": "overlay",
              "size": 10,
              "solidity": 0.2
             }
            },
            "type": "barpolar"
           }
          ],
          "carpet": [
           {
            "aaxis": {
             "endlinecolor": "#2a3f5f",
             "gridcolor": "white",
             "linecolor": "white",
             "minorgridcolor": "white",
             "startlinecolor": "#2a3f5f"
            },
            "baxis": {
             "endlinecolor": "#2a3f5f",
             "gridcolor": "white",
             "linecolor": "white",
             "minorgridcolor": "white",
             "startlinecolor": "#2a3f5f"
            },
            "type": "carpet"
           }
          ],
          "choropleth": [
           {
            "colorbar": {
             "outlinewidth": 0,
             "ticks": ""
            },
            "type": "choropleth"
           }
          ],
          "contour": [
           {
            "colorbar": {
             "outlinewidth": 0,
             "ticks": ""
            },
            "colorscale": [
             [
              0,
              "#0d0887"
             ],
             [
              0.1111111111111111,
              "#46039f"
             ],
             [
              0.2222222222222222,
              "#7201a8"
             ],
             [
              0.3333333333333333,
              "#9c179e"
             ],
             [
              0.4444444444444444,
              "#bd3786"
             ],
             [
              0.5555555555555556,
              "#d8576b"
             ],
             [
              0.6666666666666666,
              "#ed7953"
             ],
             [
              0.7777777777777778,
              "#fb9f3a"
             ],
             [
              0.8888888888888888,
              "#fdca26"
             ],
             [
              1,
              "#f0f921"
             ]
            ],
            "type": "contour"
           }
          ],
          "contourcarpet": [
           {
            "colorbar": {
             "outlinewidth": 0,
             "ticks": ""
            },
            "type": "contourcarpet"
           }
          ],
          "heatmap": [
           {
            "colorbar": {
             "outlinewidth": 0,
             "ticks": ""
            },
            "colorscale": [
             [
              0,
              "#0d0887"
             ],
             [
              0.1111111111111111,
              "#46039f"
             ],
             [
              0.2222222222222222,
              "#7201a8"
             ],
             [
              0.3333333333333333,
              "#9c179e"
             ],
             [
              0.4444444444444444,
              "#bd3786"
             ],
             [
              0.5555555555555556,
              "#d8576b"
             ],
             [
              0.6666666666666666,
              "#ed7953"
             ],
             [
              0.7777777777777778,
              "#fb9f3a"
             ],
             [
              0.8888888888888888,
              "#fdca26"
             ],
             [
              1,
              "#f0f921"
             ]
            ],
            "type": "heatmap"
           }
          ],
          "heatmapgl": [
           {
            "colorbar": {
             "outlinewidth": 0,
             "ticks": ""
            },
            "colorscale": [
             [
              0,
              "#0d0887"
             ],
             [
              0.1111111111111111,
              "#46039f"
             ],
             [
              0.2222222222222222,
              "#7201a8"
             ],
             [
              0.3333333333333333,
              "#9c179e"
             ],
             [
              0.4444444444444444,
              "#bd3786"
             ],
             [
              0.5555555555555556,
              "#d8576b"
             ],
             [
              0.6666666666666666,
              "#ed7953"
             ],
             [
              0.7777777777777778,
              "#fb9f3a"
             ],
             [
              0.8888888888888888,
              "#fdca26"
             ],
             [
              1,
              "#f0f921"
             ]
            ],
            "type": "heatmapgl"
           }
          ],
          "histogram": [
           {
            "marker": {
             "pattern": {
              "fillmode": "overlay",
              "size": 10,
              "solidity": 0.2
             }
            },
            "type": "histogram"
           }
          ],
          "histogram2d": [
           {
            "colorbar": {
             "outlinewidth": 0,
             "ticks": ""
            },
            "colorscale": [
             [
              0,
              "#0d0887"
             ],
             [
              0.1111111111111111,
              "#46039f"
             ],
             [
              0.2222222222222222,
              "#7201a8"
             ],
             [
              0.3333333333333333,
              "#9c179e"
             ],
             [
              0.4444444444444444,
              "#bd3786"
             ],
             [
              0.5555555555555556,
              "#d8576b"
             ],
             [
              0.6666666666666666,
              "#ed7953"
             ],
             [
              0.7777777777777778,
              "#fb9f3a"
             ],
             [
              0.8888888888888888,
              "#fdca26"
             ],
             [
              1,
              "#f0f921"
             ]
            ],
            "type": "histogram2d"
           }
          ],
          "histogram2dcontour": [
           {
            "colorbar": {
             "outlinewidth": 0,
             "ticks": ""
            },
            "colorscale": [
             [
              0,
              "#0d0887"
             ],
             [
              0.1111111111111111,
              "#46039f"
             ],
             [
              0.2222222222222222,
              "#7201a8"
             ],
             [
              0.3333333333333333,
              "#9c179e"
             ],
             [
              0.4444444444444444,
              "#bd3786"
             ],
             [
              0.5555555555555556,
              "#d8576b"
             ],
             [
              0.6666666666666666,
              "#ed7953"
             ],
             [
              0.7777777777777778,
              "#fb9f3a"
             ],
             [
              0.8888888888888888,
              "#fdca26"
             ],
             [
              1,
              "#f0f921"
             ]
            ],
            "type": "histogram2dcontour"
           }
          ],
          "mesh3d": [
           {
            "colorbar": {
             "outlinewidth": 0,
             "ticks": ""
            },
            "type": "mesh3d"
           }
          ],
          "parcoords": [
           {
            "line": {
             "colorbar": {
              "outlinewidth": 0,
              "ticks": ""
             }
            },
            "type": "parcoords"
           }
          ],
          "pie": [
           {
            "automargin": true,
            "type": "pie"
           }
          ],
          "scatter": [
           {
            "fillpattern": {
             "fillmode": "overlay",
             "size": 10,
             "solidity": 0.2
            },
            "type": "scatter"
           }
          ],
          "scatter3d": [
           {
            "line": {
             "colorbar": {
              "outlinewidth": 0,
              "ticks": ""
             }
            },
            "marker": {
             "colorbar": {
              "outlinewidth": 0,
              "ticks": ""
             }
            },
            "type": "scatter3d"
           }
          ],
          "scattercarpet": [
           {
            "marker": {
             "colorbar": {
              "outlinewidth": 0,
              "ticks": ""
             }
            },
            "type": "scattercarpet"
           }
          ],
          "scattergeo": [
           {
            "marker": {
             "colorbar": {
              "outlinewidth": 0,
              "ticks": ""
             }
            },
            "type": "scattergeo"
           }
          ],
          "scattergl": [
           {
            "marker": {
             "colorbar": {
              "outlinewidth": 0,
              "ticks": ""
             }
            },
            "type": "scattergl"
           }
          ],
          "scattermapbox": [
           {
            "marker": {
             "colorbar": {
              "outlinewidth": 0,
              "ticks": ""
             }
            },
            "type": "scattermapbox"
           }
          ],
          "scatterpolar": [
           {
            "marker": {
             "colorbar": {
              "outlinewidth": 0,
              "ticks": ""
             }
            },
            "type": "scatterpolar"
           }
          ],
          "scatterpolargl": [
           {
            "marker": {
             "colorbar": {
              "outlinewidth": 0,
              "ticks": ""
             }
            },
            "type": "scatterpolargl"
           }
          ],
          "scatterternary": [
           {
            "marker": {
             "colorbar": {
              "outlinewidth": 0,
              "ticks": ""
             }
            },
            "type": "scatterternary"
           }
          ],
          "surface": [
           {
            "colorbar": {
             "outlinewidth": 0,
             "ticks": ""
            },
            "colorscale": [
             [
              0,
              "#0d0887"
             ],
             [
              0.1111111111111111,
              "#46039f"
             ],
             [
              0.2222222222222222,
              "#7201a8"
             ],
             [
              0.3333333333333333,
              "#9c179e"
             ],
             [
              0.4444444444444444,
              "#bd3786"
             ],
             [
              0.5555555555555556,
              "#d8576b"
             ],
             [
              0.6666666666666666,
              "#ed7953"
             ],
             [
              0.7777777777777778,
              "#fb9f3a"
             ],
             [
              0.8888888888888888,
              "#fdca26"
             ],
             [
              1,
              "#f0f921"
             ]
            ],
            "type": "surface"
           }
          ],
          "table": [
           {
            "cells": {
             "fill": {
              "color": "#EBF0F8"
             },
             "line": {
              "color": "white"
             }
            },
            "header": {
             "fill": {
              "color": "#C8D4E3"
             },
             "line": {
              "color": "white"
             }
            },
            "type": "table"
           }
          ]
         },
         "layout": {
          "annotationdefaults": {
           "arrowcolor": "#2a3f5f",
           "arrowhead": 0,
           "arrowwidth": 1
          },
          "autotypenumbers": "strict",
          "coloraxis": {
           "colorbar": {
            "outlinewidth": 0,
            "ticks": ""
           }
          },
          "colorscale": {
           "diverging": [
            [
             0,
             "#8e0152"
            ],
            [
             0.1,
             "#c51b7d"
            ],
            [
             0.2,
             "#de77ae"
            ],
            [
             0.3,
             "#f1b6da"
            ],
            [
             0.4,
             "#fde0ef"
            ],
            [
             0.5,
             "#f7f7f7"
            ],
            [
             0.6,
             "#e6f5d0"
            ],
            [
             0.7,
             "#b8e186"
            ],
            [
             0.8,
             "#7fbc41"
            ],
            [
             0.9,
             "#4d9221"
            ],
            [
             1,
             "#276419"
            ]
           ],
           "sequential": [
            [
             0,
             "#0d0887"
            ],
            [
             0.1111111111111111,
             "#46039f"
            ],
            [
             0.2222222222222222,
             "#7201a8"
            ],
            [
             0.3333333333333333,
             "#9c179e"
            ],
            [
             0.4444444444444444,
             "#bd3786"
            ],
            [
             0.5555555555555556,
             "#d8576b"
            ],
            [
             0.6666666666666666,
             "#ed7953"
            ],
            [
             0.7777777777777778,
             "#fb9f3a"
            ],
            [
             0.8888888888888888,
             "#fdca26"
            ],
            [
             1,
             "#f0f921"
            ]
           ],
           "sequentialminus": [
            [
             0,
             "#0d0887"
            ],
            [
             0.1111111111111111,
             "#46039f"
            ],
            [
             0.2222222222222222,
             "#7201a8"
            ],
            [
             0.3333333333333333,
             "#9c179e"
            ],
            [
             0.4444444444444444,
             "#bd3786"
            ],
            [
             0.5555555555555556,
             "#d8576b"
            ],
            [
             0.6666666666666666,
             "#ed7953"
            ],
            [
             0.7777777777777778,
             "#fb9f3a"
            ],
            [
             0.8888888888888888,
             "#fdca26"
            ],
            [
             1,
             "#f0f921"
            ]
           ]
          },
          "colorway": [
           "#636efa",
           "#EF553B",
           "#00cc96",
           "#ab63fa",
           "#FFA15A",
           "#19d3f3",
           "#FF6692",
           "#B6E880",
           "#FF97FF",
           "#FECB52"
          ],
          "font": {
           "color": "#2a3f5f"
          },
          "geo": {
           "bgcolor": "white",
           "lakecolor": "white",
           "landcolor": "#E5ECF6",
           "showlakes": true,
           "showland": true,
           "subunitcolor": "white"
          },
          "hoverlabel": {
           "align": "left"
          },
          "hovermode": "closest",
          "mapbox": {
           "style": "light"
          },
          "paper_bgcolor": "white",
          "plot_bgcolor": "#E5ECF6",
          "polar": {
           "angularaxis": {
            "gridcolor": "white",
            "linecolor": "white",
            "ticks": ""
           },
           "bgcolor": "#E5ECF6",
           "radialaxis": {
            "gridcolor": "white",
            "linecolor": "white",
            "ticks": ""
           }
          },
          "scene": {
           "xaxis": {
            "backgroundcolor": "#E5ECF6",
            "gridcolor": "white",
            "gridwidth": 2,
            "linecolor": "white",
            "showbackground": true,
            "ticks": "",
            "zerolinecolor": "white"
           },
           "yaxis": {
            "backgroundcolor": "#E5ECF6",
            "gridcolor": "white",
            "gridwidth": 2,
            "linecolor": "white",
            "showbackground": true,
            "ticks": "",
            "zerolinecolor": "white"
           },
           "zaxis": {
            "backgroundcolor": "#E5ECF6",
            "gridcolor": "white",
            "gridwidth": 2,
            "linecolor": "white",
            "showbackground": true,
            "ticks": "",
            "zerolinecolor": "white"
           }
          },
          "shapedefaults": {
           "line": {
            "color": "#2a3f5f"
           }
          },
          "ternary": {
           "aaxis": {
            "gridcolor": "white",
            "linecolor": "white",
            "ticks": ""
           },
           "baxis": {
            "gridcolor": "white",
            "linecolor": "white",
            "ticks": ""
           },
           "bgcolor": "#E5ECF6",
           "caxis": {
            "gridcolor": "white",
            "linecolor": "white",
            "ticks": ""
           }
          },
          "title": {
           "x": 0.05
          },
          "xaxis": {
           "automargin": true,
           "gridcolor": "white",
           "linecolor": "white",
           "ticks": "",
           "title": {
            "standoff": 15
           },
           "zerolinecolor": "white",
           "zerolinewidth": 2
          },
          "yaxis": {
           "automargin": true,
           "gridcolor": "white",
           "linecolor": "white",
           "ticks": "",
           "title": {
            "standoff": 15
           },
           "zerolinecolor": "white",
           "zerolinewidth": 2
          }
         }
        },
        "title": {
         "text": "Distribution Of 1567 Netflix-Ratings"
        },
        "yaxis": {
         "title": {
          "text": "Rating"
         }
        }
       }
      },
      "text/html": [
       "<div>                            <div id=\"72afbbc8-dd02-4c7b-bc7d-67f37d29c0d8\" class=\"plotly-graph-div\" style=\"height:525px; width:100%;\"></div>            <script type=\"text/javascript\">                require([\"plotly\"], function(Plotly) {                    window.PLOTLYENV=window.PLOTLYENV || {};                                    if (document.getElementById(\"72afbbc8-dd02-4c7b-bc7d-67f37d29c0d8\")) {                    Plotly.newPlot(                        \"72afbbc8-dd02-4c7b-bc7d-67f37d29c0d8\",                        [{\"marker\":{\"color\":\"#db0000\"},\"name\":\"Number of Ratings Distribution\",\"y\":[136009.0,111361.0,112694.0,119246.0,419661.0,1058121.0,118352.0,426880.0,111361.0,163191.0,255235.0,620143.0,186094.0,137978.0,1058121.0,308125.0,139444.0,274154.0,148405.0,109736.0,1058121.0,836899.0,143473.0,1058121.0,228037.0,1058121.0,620143.0,1058121.0,250532.0,718336.0,494480.0,188186.0,349385.0,515709.0,620143.0,157640.0,159287.0,620143.0,349385.0,620143.0,980208.0,349385.0,195540.0,192274.0,620143.0,222690.0,122784.0,269006.0,263468.0,275240.0,171650.0,397206.0,670175.0,783580.0,325594.0,186721.0,263249.0,112135.0,125855.0,254006.0,515709.0,223834.0,681715.0,160187.0,420510.0,423507.0,706073.0,109253.0,828927.0,179564.0,427464.0,836899.0,157377.0,178295.0,183129.0,369699.0,191507.0,213756.0,260617.0,120031.0,643784.0,142003.0,245741.0,750022.0,459037.0,139042.0,579566.0,200867.0,267867.0,249848.0,311697.0,287661.0,163339.0,165767.0,676484.0,120310.0,331533.0,391585.0,326451.0,428548.0,440854.0,128770.0,705750.0,167557.0,144237.0,157377.0,174907.0,581839.0,360749.0,118768.0,165614.0,106277.0,163339.0,171511.0,112253.0,2204968.0,539887.0,182431.0,376532.0,675536.0,208032.0,666269.0,489935.0,199604.0,254006.0,141873.0,255472.0,412431.0,135183.0,123851.0,267868.0,129696.0,356889.0,125855.0,498155.0,266243.0,2811102.0,392649.0,163339.0,525673.0,148944.0,312696.0,581665.0,163339.0,1045354.0,143928.0,266243.0,259478.0,163339.0,218286.0,783643.0,432369.0,207650.0,212776.0,198520.0,136132.0,116613.0,184222.0,619058.0,143611.0,588472.0,281223.0,1064497.0,143233.0,862320.0,625692.0,823055.0,252109.0,282499.0,175808.0,1972305.0,131278.0,266243.0,1964393.0,157377.0,168824.0,452839.0,531597.0,666843.0,186203.0,103903.0,233473.0,489935.0,412872.0,581839.0,581839.0,403899.0,205356.0,585242.0,2024366.0,521314.0,445999.0,1582672.0,296199.0,116924.0,199154.0,239241.0,489935.0,213801.0,171280.0,581839.0,110555.0,1514027.0,673246.0,722275.0,407362.0,261142.0,155622.0,581839.0,242775.0,262505.0,174907.0,131152.0,189109.0,112757.0,377257.0,146068.0,146077.0,139711.0,371223.0,896118.0,358698.0,645026.0,202617.0,148509.0,120966.0,410487.0,928033.0,174939.0,218286.0,703772.0,251041.0,257138.0,504565.0,173302.0,197493.0,690362.0,255213.0,636399.0,103828.0,173919.0,249229.0,294740.0,125861.0,174907.0,210400.0,437689.0,145036.0,106006.0,1937552.0,289423.0,275246.0,253553.0,360749.0,273409.0,848281.0,417214.0,336544.0,548521.0,174907.0,238585.0,117493.0,275158.0,185407.0,609848.0,693390.0,576932.0,111209.0,695078.0,261703.0,1416039.0,163343.0,646164.0,115553.0,170761.0,108447.0,127756.0,813752.0,118593.0,308906.0,313692.0,514445.0,241156.0,171869.0,142184.0,237723.0,536566.0,157467.0,176065.0,254465.0,110475.0,321528.0,134410.0,352854.0,150955.0,287033.0,152148.0,342827.0,241180.0,103828.0,202546.0,205096.0,169895.0,193157.0,576932.0,122890.0,193543.0,283476.0,280562.0,116053.0,266243.0,148661.0,149646.0,306039.0,284895.0,616537.0,452856.0,576932.0,128726.0,243309.0,206685.0,126175.0,788338.0,108578.0,152603.0,367648.0,333649.0,628646.0,205192.0,354718.0,746654.0,238800.0,287459.0,326666.0,484741.0,1034305.0,363572.0,1221513.0,247550.0,142135.0,282317.0,103828.0,218286.0,232614.0,250610.0,167871.0,105631.0,367648.0,152701.0,233338.0,495881.0,1278525.0,2495359.0,147297.0,216553.0,202983.0,585242.0,544547.0,810678.0,429755.0,1656148.0,732440.0,2169658.0,321384.0,571125.0,528192.0,332935.0,193752.0,404165.0,186753.0,546480.0,568499.0,115926.0,259256.0,350445.0,313864.0,333812.0,195939.0,236728.0,132282.0,219794.0,592137.0,196034.0,848281.0,1395221.0,268803.0,199234.0,744702.0,205674.0,107134.0,207510.0,206688.0,100341.0,131704.0,403851.0,184028.0,512957.0,525048.0,107259.0,289686.0,124771.0,108119.0,569469.0,151961.0,269483.0,1429558.0,722014.0,481151.0,131431.0,281735.0,585242.0,472583.0,337112.0,131197.0,328482.0,360910.0,371013.0,125861.0,143488.0,334236.0,162776.0,148304.0,178981.0,118988.0,158036.0,222529.0,255666.0,168564.0,138757.0,600712.0,145997.0,235973.0,560771.0,205857.0,159445.0,514445.0,227330.0,493967.0,214624.0,1152845.0,105357.0,141588.0,274056.0,211394.0,198130.0,154172.0,471327.0,478002.0,219102.0,428030.0,342827.0,105817.0,159140.0,644389.0,183919.0,105355.0,457264.0,644467.0,310327.0,122246.0,426337.0,236900.0,114762.0,123025.0,249848.0,489935.0,360749.0,153034.0,187468.0,712991.0,379091.0,294421.0,186384.0,519278.0,302401.0,110420.0,177161.0,251078.0,207496.0,106917.0,108183.0,328530.0,265750.0,220982.0,1545057.0,294028.0,192671.0,151852.0,205089.0,181638.0,111326.0,384071.0,267814.0,138272.0,652328.0,472544.0,230222.0,425537.0,551640.0,185997.0,280028.0,118510.0,189482.0,119845.0,200039.0,575916.0,214385.0,302515.0,576031.0,646164.0,217275.0,690195.0,100522.0,229911.0,384486.0,162368.0,319364.0,100815.0,1548837.0,647266.0,144021.0,607044.0,353382.0,898141.0,435725.0,113626.0,124829.0,102313.0,368671.0,247387.0,115234.0,141390.0,294425.0,465606.0,100426.0,505138.0,116386.0,421554.0,1792746.0,100950.0,251970.0,110896.0,252109.0,367428.0,115808.0,545497.0,304461.0,202822.0,160288.0,185018.0,160198.0,470536.0,133521.0,101899.0,194791.0,206665.0,951362.0,689535.0,403851.0,499224.0,476878.0,164506.0,251858.0,209708.0,137689.0,1376722.0,409632.0,156100.0,654805.0,177038.0,801817.0,152932.0,226980.0,134547.0,152566.0,275050.0,130963.0,653445.0,241575.0,238588.0,181462.0,283914.0,248482.0,278897.0,852099.0,259116.0,504349.0,187530.0,201934.0,173084.0,200512.0,180390.0,197614.0,426880.0,909887.0,102276.0,583619.0,690195.0,268944.0,200535.0,123128.0,133100.0,604996.0,302266.0,109871.0,319591.0,247363.0,127614.0,180205.0,203276.0,516614.0,111187.0,128724.0,123776.0,198318.0,139607.0,191999.0,468383.0,227741.0,319458.0,253320.0,146641.0,514482.0,312605.0,313195.0,286933.0,129108.0,150464.0,228560.0,150598.0,177415.0,148343.0,234954.0,619160.0,134377.0,134726.0,110008.0,281950.0,213189.0,133910.0,145115.0,115637.0,179227.0,494006.0,194544.0,214234.0,134647.0,103828.0,145378.0,381418.0,176861.0,121249.0,116756.0,168774.0,744024.0,231509.0,130207.0,280828.0,376930.0,125212.0,182219.0,421078.0,267775.0,314807.0,423364.0,721321.0,122467.0,154589.0,156035.0,157446.0,129777.0,362577.0,148393.0,121456.0,189636.0,113026.0,134602.0,117728.0,120537.0,372852.0,105845.0,282854.0,894265.0,312886.0,161665.0,539123.0,107553.0,154738.0,562639.0,720505.0,193738.0,126281.0,288641.0,138752.0,514482.0,1061161.0,175934.0,206918.0,292482.0,201323.0,360985.0,260863.0,166291.0,409464.0,639041.0,375586.0,134567.0,115476.0,799163.0,254015.0,102429.0,115417.0,206092.0,161665.0,381747.0,291317.0,576948.0,159552.0,242406.0,261720.0,331105.0,177985.0,193100.0,134351.0,146587.0,161407.0,128035.0,435650.0,175934.0,131904.0,312523.0,245317.0,109662.0,305446.0,326180.0,284938.0,360768.0,225693.0,168310.0,234409.0,281490.0,141813.0,489960.0,146951.0,110037.0,909149.0,626154.0,418988.0,349988.0,371326.0,124856.0,115905.0,112282.0,459045.0,196574.0,134552.0,161860.0,2829797.0,263504.0,185609.0,141022.0,205808.0,117774.0,175934.0,1756620.0,660507.0,859295.0,161665.0,120289.0,369234.0,325943.0,165841.0,172360.0,271747.0,244233.0,216775.0,669821.0,186314.0,186317.0,167165.0,339329.0,189574.0,129917.0,197616.0,125249.0,131202.0,253422.0,356897.0,194066.0,207029.0,137805.0,134991.0,144719.0,576880.0,161096.0,342019.0,100729.0,175934.0,240821.0,749296.0,196574.0,123972.0,560621.0,693095.0,106428.0,168452.0,2011534.0,120031.0,144092.0,525329.0,159167.0,250098.0,148163.0,124338.0,105705.0,126048.0,573327.0,169250.0,101946.0,462224.0,414481.0,204116.0,142863.0,101032.0,236955.0,146667.0,227335.0,126888.0,431832.0,804331.0,345059.0,422414.0,271979.0,122226.0,112676.0,227848.0,178611.0,474485.0,112749.0,147132.0,120807.0,109170.0,491146.0,698214.0,203748.0,625639.0,213462.0,144979.0,225090.0,527885.0,263065.0,141796.0,129738.0,185822.0,489960.0,381482.0,155108.0,285044.0,113828.0,123157.0,143656.0,371847.0,1338735.0,462899.0,244905.0,348349.0,100298.0,142000.0,139267.0,187565.0,103828.0,928058.0,101946.0,117589.0,112257.0,178571.0,123261.0,706483.0,132973.0,262247.0,103153.0,381380.0,255666.0,898179.0,211010.0,183412.0,255703.0,116560.0,313919.0,132839.0,203828.0,156299.0,1048375.0,262233.0,437375.0,1229933.0,293411.0,159470.0,1937639.0,119050.0,327732.0,602638.0,152405.0,266508.0,252928.0,1421976.0,240541.0,144255.0,394832.0,168462.0,122629.0,123744.0,378120.0,375037.0,107581.0,403980.0,290282.0,104041.0,294098.0,197006.0,176254.0,276248.0,262969.0,101056.0,195116.0,105141.0,151855.0,138276.0,241847.0,101090.0,489960.0,386034.0,168873.0,241900.0,552192.0,298623.0,129396.0,246727.0,145970.0,396696.0,298153.0,117591.0,203182.0,1466365.0,160403.0,158395.0,138286.0,583178.0,147286.0,162784.0,208214.0,233908.0,260317.0,245420.0,401514.0,128859.0,259262.0,106000.0,100843.0,625639.0,105121.0,105121.0,142229.0,101359.0,101681.0,240541.0,516614.0,147760.0,111042.0,124268.0,153229.0,102870.0,128156.0,305996.0,249643.0,225380.0,294589.0,164554.0,293141.0,139000.0,263155.0,101996.0,486680.0,366263.0,274349.0,465716.0,182116.0,174839.0,308524.0,240109.0,1053019.0,105121.0,208035.0,189759.0,442759.0,115060.0,272373.0,625263.0,201621.0,218130.0,1162976.0,132659.0,231768.0,496856.0,106969.0,272513.0,175810.0,101968.0,139998.0,206092.0,148509.0,106337.0,676511.0,398791.0,200316.0,267037.0,137389.0,162041.0,249855.0,151855.0,175753.0,493781.0,176226.0,332392.0,418988.0,110830.0,247020.0,120581.0,513536.0,127645.0,112394.0,117883.0,1937639.0,854120.0,156608.0,346697.0,240521.0,113096.0,326964.0,140550.0,196098.0,110213.0,230876.0,141391.0,312642.0,120119.0,219096.0,132191.0,214831.0,162265.0,307201.0,216759.0,168265.0,729852.0,278623.0,712486.0,138482.0,172389.0,303414.0,379189.0,153076.0,560621.0,113284.0,144916.0,166299.0,212899.0,1535436.0,535877.0,231768.0,263709.0,353227.0,125212.0,1163909.0,107385.0,632784.0,179289.0,138752.0,454272.0,142000.0,152807.0,104443.0,521721.0,371195.0,277410.0,263846.0,574897.0,142528.0,215471.0,251150.0,100522.0,138849.0,454263.0,1106602.0,282319.0,606793.0,113779.0,444196.0,244439.0,590306.0,813793.0,142229.0,121610.0,133679.0,115026.0,100942.0,176560.0,143861.0,210586.0,442985.0,384270.0,360768.0,219971.0,324632.0,161665.0,411071.0,137887.0,1053019.0,1162976.0,190790.0,428543.0,106287.0,373903.0,110905.0,210510.0,210685.0,364300.0,211765.0,101391.0,415492.0,125588.0,109800.0,171746.0,430507.0,1056596.0,151479.0,123249.0,282874.0,464770.0,1964467.0,648354.0,137467.0,233493.0,100395.0,110887.0,324877.0,1035583.0,274435.0,105121.0,109157.0,189117.0,177231.0,274136.0,104357.0,318822.0,116311.0,144955.0,444389.0,128501.0,110184.0,701114.0,244896.0,128997.0,890108.0,115127.0,1514073.0,474397.0,120807.0,127514.0,236746.0,174716.0,111809.0,125212.0,125212.0,125212.0,207345.0,730742.0,214782.0,133910.0,454272.0,153837.0,189963.0,347786.0,230903.0,229145.0,106236.0,260876.0,128494.0,154256.0,215056.0,250885.0,178976.0,238369.0,141678.0,288641.0,114655.0,136745.0,145297.0,472590.0,119368.0,119368.0,514482.0,207810.0,225693.0,244439.0,103081.0,300685.0,349672.0,308138.0,109946.0,303414.0,584589.0,542192.0,125271.0,103697.0,196814.0,108820.0,142625.0,169430.0,146068.0,146077.0,159747.0,1412084.0,114585.0,110680.0,209958.0,125212.0,211918.0,1514073.0,213108.0,218862.0,319425.0,255356.0,104289.0,110334.0,133910.0,171658.0,403980.0,328539.0,808295.0,186066.0,235980.0,104066.0,155249.0,354812.0,404858.0,343349.0,138276.0,174293.0,297553.0,120692.0,221218.0,1043534.0,853067.0,350579.0,350579.0,141377.0,112993.0,333673.0,100378.0,472600.0,1064534.0,190569.0,176228.0,170254.0,327736.0,479529.0,514482.0,165652.0,278639.0,1299496.0,349627.0,619107.0,813821.0,813821.0,168044.0,292739.0,298129.0,135410.0,156048.0,206921.0,382317.0,493969.0,196141.0,135907.0,360793.0,142625.0,142625.0,142625.0,188713.0,219976.0,159891.0,159742.0,159745.0,282636.0,282636.0,282636.0,282636.0,125218.0,166247.0,332116.0,468950.0,165032.0,225991.0,375046.0,971439.0,281589.0,783914.0,105127.0,110668.0,192068.0,189968.0,114243.0,128417.0,148366.0,382893.0,156948.0,154343.0,156947.0,244238.0,284754.0,102527.0,117050.0,249212.0,428268.0,194546.0,318304.0,184392.0,225096.0,151191.0,150892.0,158612.0,114943.0,129705.0,585608.0,198320.0,160634.0,185825.0,661591.0,110959.0,479529.0,247981.0,282858.0,202552.0,207815.0,235863.0,151858.0,325918.0,813821.0,813821.0,370800.0,813821.0,161407.0,135889.0,694055.0,179618.0,348334.0,144021.0,102280.0,298627.0,298627.0,298627.0,209118.0,206921.0,117977.0,270691.0,203827.0,869196.0,145073.0,147221.0,313206.0,249598.0,133486.0,131034.0,116458.0,197508.0,134261.0,210278.0,144960.0,419633.0,489987.0,116584.0,149695.0,173333.0,136554.0,177909.0,333834.0,250606.0,1128341.0,133945.0,134291.0,190911.0,348334.0,141290.0,212295.0,159801.0,429855.0,158784.0,104287.0,165827.0,103809.0,607066.0,243896.0,204116.0,313711.0,145705.0,228457.0,228457.0,143498.0,321411.0,174907.0,420885.0,1194988.0,221898.0,104529.0,110911.0,133913.0,1278598.0,214396.0,282335.0,109539.0,127268.0,123116.0,160634.0,258143.0,199320.0,277018.0,146646.0,511452.0,461292.0,100534.0,108360.0,194818.0,133999.0,245211.0,1656242.0,369852.0,274151.0,193521.0,126297.0,104588.0,380106.0,331548.0,147564.0,125982.0,122167.0,231353.0,225096.0,107776.0,129882.0,348423.0,100849.0,186314.0,186317.0,152327.0,184227.0,137059.0,159691.0,125237.0,750081.0,150886.0,102399.0,504612.0,168467.0,159656.0,139745.0,322873.0,165656.0,240012.0,103683.0,325729.0,136330.0,244449.0,106385.0,151860.0,126429.0,233339.0,137028.0,111856.0,370806.0,813847.0,813847.0,813847.0,813847.0,176909.0,162650.0,113155.0,254223.0,422425.0,173927.0,282342.0,569497.0,179620.0,867351.0,883325.0,283923.0,1937713.0,100840.0,134180.0,131205.0,173338.0,922511.0,119328.0,142531.0,1416169.0,164859.0,432091.0,616227.0,382668.0,109889.0,373897.0,106510.0,190537.0,242569.0,126429.0,846702.0,230329.0,428040.0,110835.0,118402.0,384277.0,196589.0,797067.0,350677.0,528213.0,248498.0,112732.0,324635.0,859314.0,288487.0,134377.0,134726.0,173338.0,560647.0,109580.0,184750.0,124789.0,419639.0,280331.0,224735.0,153638.0,1937713.0,210428.0,182245.0,444407.0,1937713.0,1747113.0,282525.0,105364.0,1514130.0,1128352.0,1747113.0,1535500.0,159742.0,159745.0,286941.0,493858.0,434382.0,434382.0,223888.0,126625.0,105553.0,266245.0,182145.0,163100.0,131713.0,350677.0,181297.0],\"type\":\"box\"}],                        {\"title\":{\"text\":\"Distribution Of 1567 Netflix-Ratings\"},\"yaxis\":{\"title\":{\"text\":\"Rating\"}},\"template\":{\"data\":{\"histogram2dcontour\":[{\"type\":\"histogram2dcontour\",\"colorbar\":{\"outlinewidth\":0,\"ticks\":\"\"},\"colorscale\":[[0.0,\"#0d0887\"],[0.1111111111111111,\"#46039f\"],[0.2222222222222222,\"#7201a8\"],[0.3333333333333333,\"#9c179e\"],[0.4444444444444444,\"#bd3786\"],[0.5555555555555556,\"#d8576b\"],[0.6666666666666666,\"#ed7953\"],[0.7777777777777778,\"#fb9f3a\"],[0.8888888888888888,\"#fdca26\"],[1.0,\"#f0f921\"]]}],\"choropleth\":[{\"type\":\"choropleth\",\"colorbar\":{\"outlinewidth\":0,\"ticks\":\"\"}}],\"histogram2d\":[{\"type\":\"histogram2d\",\"colorbar\":{\"outlinewidth\":0,\"ticks\":\"\"},\"colorscale\":[[0.0,\"#0d0887\"],[0.1111111111111111,\"#46039f\"],[0.2222222222222222,\"#7201a8\"],[0.3333333333333333,\"#9c179e\"],[0.4444444444444444,\"#bd3786\"],[0.5555555555555556,\"#d8576b\"],[0.6666666666666666,\"#ed7953\"],[0.7777777777777778,\"#fb9f3a\"],[0.8888888888888888,\"#fdca26\"],[1.0,\"#f0f921\"]]}],\"heatmap\":[{\"type\":\"heatmap\",\"colorbar\":{\"outlinewidth\":0,\"ticks\":\"\"},\"colorscale\":[[0.0,\"#0d0887\"],[0.1111111111111111,\"#46039f\"],[0.2222222222222222,\"#7201a8\"],[0.3333333333333333,\"#9c179e\"],[0.4444444444444444,\"#bd3786\"],[0.5555555555555556,\"#d8576b\"],[0.6666666666666666,\"#ed7953\"],[0.7777777777777778,\"#fb9f3a\"],[0.8888888888888888,\"#fdca26\"],[1.0,\"#f0f921\"]]}],\"heatmapgl\":[{\"type\":\"heatmapgl\",\"colorbar\":{\"outlinewidth\":0,\"ticks\":\"\"},\"colorscale\":[[0.0,\"#0d0887\"],[0.1111111111111111,\"#46039f\"],[0.2222222222222222,\"#7201a8\"],[0.3333333333333333,\"#9c179e\"],[0.4444444444444444,\"#bd3786\"],[0.5555555555555556,\"#d8576b\"],[0.6666666666666666,\"#ed7953\"],[0.7777777777777778,\"#fb9f3a\"],[0.8888888888888888,\"#fdca26\"],[1.0,\"#f0f921\"]]}],\"contourcarpet\":[{\"type\":\"contourcarpet\",\"colorbar\":{\"outlinewidth\":0,\"ticks\":\"\"}}],\"contour\":[{\"type\":\"contour\",\"colorbar\":{\"outlinewidth\":0,\"ticks\":\"\"},\"colorscale\":[[0.0,\"#0d0887\"],[0.1111111111111111,\"#46039f\"],[0.2222222222222222,\"#7201a8\"],[0.3333333333333333,\"#9c179e\"],[0.4444444444444444,\"#bd3786\"],[0.5555555555555556,\"#d8576b\"],[0.6666666666666666,\"#ed7953\"],[0.7777777777777778,\"#fb9f3a\"],[0.8888888888888888,\"#fdca26\"],[1.0,\"#f0f921\"]]}],\"surface\":[{\"type\":\"surface\",\"colorbar\":{\"outlinewidth\":0,\"ticks\":\"\"},\"colorscale\":[[0.0,\"#0d0887\"],[0.1111111111111111,\"#46039f\"],[0.2222222222222222,\"#7201a8\"],[0.3333333333333333,\"#9c179e\"],[0.4444444444444444,\"#bd3786\"],[0.5555555555555556,\"#d8576b\"],[0.6666666666666666,\"#ed7953\"],[0.7777777777777778,\"#fb9f3a\"],[0.8888888888888888,\"#fdca26\"],[1.0,\"#f0f921\"]]}],\"mesh3d\":[{\"type\":\"mesh3d\",\"colorbar\":{\"outlinewidth\":0,\"ticks\":\"\"}}],\"scatter\":[{\"fillpattern\":{\"fillmode\":\"overlay\",\"size\":10,\"solidity\":0.2},\"type\":\"scatter\"}],\"parcoords\":[{\"type\":\"parcoords\",\"line\":{\"colorbar\":{\"outlinewidth\":0,\"ticks\":\"\"}}}],\"scatterpolargl\":[{\"type\":\"scatterpolargl\",\"marker\":{\"colorbar\":{\"outlinewidth\":0,\"ticks\":\"\"}}}],\"bar\":[{\"error_x\":{\"color\":\"#2a3f5f\"},\"error_y\":{\"color\":\"#2a3f5f\"},\"marker\":{\"line\":{\"color\":\"#E5ECF6\",\"width\":0.5},\"pattern\":{\"fillmode\":\"overlay\",\"size\":10,\"solidity\":0.2}},\"type\":\"bar\"}],\"scattergeo\":[{\"type\":\"scattergeo\",\"marker\":{\"colorbar\":{\"outlinewidth\":0,\"ticks\":\"\"}}}],\"scatterpolar\":[{\"type\":\"scatterpolar\",\"marker\":{\"colorbar\":{\"outlinewidth\":0,\"ticks\":\"\"}}}],\"histogram\":[{\"marker\":{\"pattern\":{\"fillmode\":\"overlay\",\"size\":10,\"solidity\":0.2}},\"type\":\"histogram\"}],\"scattergl\":[{\"type\":\"scattergl\",\"marker\":{\"colorbar\":{\"outlinewidth\":0,\"ticks\":\"\"}}}],\"scatter3d\":[{\"type\":\"scatter3d\",\"line\":{\"colorbar\":{\"outlinewidth\":0,\"ticks\":\"\"}},\"marker\":{\"colorbar\":{\"outlinewidth\":0,\"ticks\":\"\"}}}],\"scattermapbox\":[{\"type\":\"scattermapbox\",\"marker\":{\"colorbar\":{\"outlinewidth\":0,\"ticks\":\"\"}}}],\"scatterternary\":[{\"type\":\"scatterternary\",\"marker\":{\"colorbar\":{\"outlinewidth\":0,\"ticks\":\"\"}}}],\"scattercarpet\":[{\"type\":\"scattercarpet\",\"marker\":{\"colorbar\":{\"outlinewidth\":0,\"ticks\":\"\"}}}],\"carpet\":[{\"aaxis\":{\"endlinecolor\":\"#2a3f5f\",\"gridcolor\":\"white\",\"linecolor\":\"white\",\"minorgridcolor\":\"white\",\"startlinecolor\":\"#2a3f5f\"},\"baxis\":{\"endlinecolor\":\"#2a3f5f\",\"gridcolor\":\"white\",\"linecolor\":\"white\",\"minorgridcolor\":\"white\",\"startlinecolor\":\"#2a3f5f\"},\"type\":\"carpet\"}],\"table\":[{\"cells\":{\"fill\":{\"color\":\"#EBF0F8\"},\"line\":{\"color\":\"white\"}},\"header\":{\"fill\":{\"color\":\"#C8D4E3\"},\"line\":{\"color\":\"white\"}},\"type\":\"table\"}],\"barpolar\":[{\"marker\":{\"line\":{\"color\":\"#E5ECF6\",\"width\":0.5},\"pattern\":{\"fillmode\":\"overlay\",\"size\":10,\"solidity\":0.2}},\"type\":\"barpolar\"}],\"pie\":[{\"automargin\":true,\"type\":\"pie\"}]},\"layout\":{\"autotypenumbers\":\"strict\",\"colorway\":[\"#636efa\",\"#EF553B\",\"#00cc96\",\"#ab63fa\",\"#FFA15A\",\"#19d3f3\",\"#FF6692\",\"#B6E880\",\"#FF97FF\",\"#FECB52\"],\"font\":{\"color\":\"#2a3f5f\"},\"hovermode\":\"closest\",\"hoverlabel\":{\"align\":\"left\"},\"paper_bgcolor\":\"white\",\"plot_bgcolor\":\"#E5ECF6\",\"polar\":{\"bgcolor\":\"#E5ECF6\",\"angularaxis\":{\"gridcolor\":\"white\",\"linecolor\":\"white\",\"ticks\":\"\"},\"radialaxis\":{\"gridcolor\":\"white\",\"linecolor\":\"white\",\"ticks\":\"\"}},\"ternary\":{\"bgcolor\":\"#E5ECF6\",\"aaxis\":{\"gridcolor\":\"white\",\"linecolor\":\"white\",\"ticks\":\"\"},\"baxis\":{\"gridcolor\":\"white\",\"linecolor\":\"white\",\"ticks\":\"\"},\"caxis\":{\"gridcolor\":\"white\",\"linecolor\":\"white\",\"ticks\":\"\"}},\"coloraxis\":{\"colorbar\":{\"outlinewidth\":0,\"ticks\":\"\"}},\"colorscale\":{\"sequential\":[[0.0,\"#0d0887\"],[0.1111111111111111,\"#46039f\"],[0.2222222222222222,\"#7201a8\"],[0.3333333333333333,\"#9c179e\"],[0.4444444444444444,\"#bd3786\"],[0.5555555555555556,\"#d8576b\"],[0.6666666666666666,\"#ed7953\"],[0.7777777777777778,\"#fb9f3a\"],[0.8888888888888888,\"#fdca26\"],[1.0,\"#f0f921\"]],\"sequentialminus\":[[0.0,\"#0d0887\"],[0.1111111111111111,\"#46039f\"],[0.2222222222222222,\"#7201a8\"],[0.3333333333333333,\"#9c179e\"],[0.4444444444444444,\"#bd3786\"],[0.5555555555555556,\"#d8576b\"],[0.6666666666666666,\"#ed7953\"],[0.7777777777777778,\"#fb9f3a\"],[0.8888888888888888,\"#fdca26\"],[1.0,\"#f0f921\"]],\"diverging\":[[0,\"#8e0152\"],[0.1,\"#c51b7d\"],[0.2,\"#de77ae\"],[0.3,\"#f1b6da\"],[0.4,\"#fde0ef\"],[0.5,\"#f7f7f7\"],[0.6,\"#e6f5d0\"],[0.7,\"#b8e186\"],[0.8,\"#7fbc41\"],[0.9,\"#4d9221\"],[1,\"#276419\"]]},\"xaxis\":{\"gridcolor\":\"white\",\"linecolor\":\"white\",\"ticks\":\"\",\"title\":{\"standoff\":15},\"zerolinecolor\":\"white\",\"automargin\":true,\"zerolinewidth\":2},\"yaxis\":{\"gridcolor\":\"white\",\"linecolor\":\"white\",\"ticks\":\"\",\"title\":{\"standoff\":15},\"zerolinecolor\":\"white\",\"automargin\":true,\"zerolinewidth\":2},\"scene\":{\"xaxis\":{\"backgroundcolor\":\"#E5ECF6\",\"gridcolor\":\"white\",\"linecolor\":\"white\",\"showbackground\":true,\"ticks\":\"\",\"zerolinecolor\":\"white\",\"gridwidth\":2},\"yaxis\":{\"backgroundcolor\":\"#E5ECF6\",\"gridcolor\":\"white\",\"linecolor\":\"white\",\"showbackground\":true,\"ticks\":\"\",\"zerolinecolor\":\"white\",\"gridwidth\":2},\"zaxis\":{\"backgroundcolor\":\"#E5ECF6\",\"gridcolor\":\"white\",\"linecolor\":\"white\",\"showbackground\":true,\"ticks\":\"\",\"zerolinecolor\":\"white\",\"gridwidth\":2}},\"shapedefaults\":{\"line\":{\"color\":\"#2a3f5f\"}},\"annotationdefaults\":{\"arrowcolor\":\"#2a3f5f\",\"arrowhead\":0,\"arrowwidth\":1},\"geo\":{\"bgcolor\":\"white\",\"landcolor\":\"#E5ECF6\",\"subunitcolor\":\"white\",\"showland\":true,\"showlakes\":true,\"lakecolor\":\"white\"},\"title\":{\"x\":0.05},\"mapbox\":{\"style\":\"light\"}}}},                        {\"responsive\": true}                    ).then(function(){\n",
       "                            \n",
       "var gd = document.getElementById('72afbbc8-dd02-4c7b-bc7d-67f37d29c0d8');\n",
       "var x = new MutationObserver(function (mutations, observer) {{\n",
       "        var display = window.getComputedStyle(gd).display;\n",
       "        if (!display || display === 'none') {{\n",
       "            console.log([gd, 'removed!']);\n",
       "            Plotly.purge(gd);\n",
       "            observer.disconnect();\n",
       "        }}\n",
       "}});\n",
       "\n",
       "// Listen for the removal of the full notebook cells\n",
       "var notebookContainer = gd.closest('#notebook-container');\n",
       "if (notebookContainer) {{\n",
       "    x.observe(notebookContainer, {childList: true});\n",
       "}}\n",
       "\n",
       "// Listen for the clearing of the current output cell\n",
       "var outputEl = gd.closest('.output');\n",
       "if (outputEl) {{\n",
       "    x.observe(outputEl, {childList: true});\n",
       "}}\n",
       "\n",
       "                        })                };                });            </script>        </div>"
      ]
     },
     "metadata": {},
     "output_type": "display_data"
    }
   ],
   "source": [
    "# Get data\n",
    "data = df['Number of Ratings'].value_counts().sort_index(ascending=False)\n",
    "\n",
    "# Create trace\n",
    "trace = go.Box(y=df['Number of Ratings'], name='Number of Ratings Distribution', marker=dict(color='#db0000'))\n",
    "\n",
    "# Create layout\n",
    "layout = dict(title='Distribution Of {} Netflix-Ratings'.format(len(df)),\n",
    "              yaxis=dict(title='Rating'))\n",
    "\n",
    "# Create plot\n",
    "fig = go.Figure(data=[trace], layout=layout)\n",
    "fig.show()"
   ]
  },
  {
   "cell_type": "code",
   "execution_count": 36,
   "metadata": {},
   "outputs": [
    {
     "data": {
      "application/vnd.plotly.v1+json": {
       "config": {
        "plotlyServerURL": "https://plot.ly"
       },
       "data": [
        {
         "marker": {
          "color": "#db0000"
         },
         "name": "Release Date Distribution",
         "type": "box",
         "y": [
          "2023-06-16",
          "2023-03-16",
          "2022-12-21",
          "2022-12-22",
          "2022-12-23",
          null,
          "2023-01-06",
          "2023-02-10",
          "2021-04-23",
          "2019-06-14",
          "2020-04-24",
          "2022-04-19",
          null,
          null,
          null,
          "2021-11-12",
          null,
          null,
          "2022-09-21",
          null,
          null,
          "2022-12-08",
          null,
          null,
          null,
          null,
          "2015-02-08",
          null,
          "2022-05-13",
          null,
          null,
          null,
          null,
          "2021-09-03",
          "2020-02-24",
          null,
          null,
          "2017-04-11",
          null,
          "2016-02-15",
          null,
          null,
          null,
          "2019-12-13",
          "2018-08-07",
          null,
          "2021-04-30",
          null,
          null,
          null,
          null,
          null,
          null,
          null,
          null,
          null,
          null,
          null,
          null,
          null,
          "2020-04-03",
          "2022-03-11",
          null,
          null,
          "2019-11-27",
          null,
          null,
          null,
          null,
          "2020-07-10",
          null,
          null,
          "2020-02-07",
          "2016-08-18",
          "2021-05-21",
          null,
          null,
          null,
          null,
          null,
          null,
          "2019-03-13",
          null,
          null,
          null,
          "2022-06-08",
          "2021-12-24",
          null,
          "2022-06-22",
          null,
          null,
          null,
          null,
          null,
          null,
          "2018-08-17",
          null,
          null,
          null,
          null,
          null,
          null,
          null,
          null,
          null,
          "2021-10-22",
          "2018-03-23",
          null,
          null,
          null,
          null,
          null,
          null,
          "2023-03-23",
          null,
          null,
          null,
          "2017-09-21",
          "2018-12-21",
          null,
          null,
          null,
          null,
          "2018-06-24",
          null,
          null,
          null,
          null,
          null,
          "2020-10-09",
          "2020-07-31",
          null,
          null,
          null,
          null,
          null,
          null,
          null,
          null,
          null,
          null,
          null,
          null,
          null,
          null,
          null,
          null,
          null,
          null,
          "2017-01-13",
          null,
          null,
          null,
          "2020-09-23",
          null,
          null,
          null,
          null,
          null,
          null,
          null,
          null,
          null,
          "2021-10-01",
          null,
          null,
          null,
          null,
          "2019-10-11",
          null,
          null,
          null,
          null,
          null,
          "2022-08-10",
          null,
          null,
          null,
          null,
          null,
          null,
          null,
          "2016-04-01",
          null,
          null,
          null,
          null,
          null,
          null,
          null,
          null,
          null,
          null,
          null,
          "2021-12-10",
          "2017-12-22",
          null,
          "2021-05-12",
          null,
          null,
          null,
          null,
          "2019-04-10",
          null,
          null,
          null,
          "2020-03-20",
          null,
          null,
          null,
          null,
          "2018-12-26",
          null,
          null,
          null,
          null,
          "2019-11-01",
          "2019-11-01",
          "2021-04-14",
          null,
          null,
          null,
          null,
          null,
          null,
          null,
          null,
          null,
          null,
          "2018-03-30",
          null,
          null,
          null,
          null,
          null,
          null,
          null,
          null,
          null,
          null,
          null,
          null,
          null,
          null,
          "2020-06-13",
          null,
          null,
          null,
          null,
          null,
          null,
          null,
          null,
          "2022-06-29",
          null,
          null,
          null,
          null,
          null,
          "2019-12-30",
          null,
          null,
          null,
          null,
          null,
          null,
          "2022-11-25",
          null,
          null,
          null,
          null,
          "2018-11-16",
          null,
          null,
          null,
          null,
          null,
          null,
          null,
          null,
          null,
          null,
          null,
          null,
          null,
          null,
          null,
          null,
          null,
          null,
          null,
          null,
          null,
          "2018-03-12",
          null,
          null,
          null,
          null,
          null,
          "2015-06-05",
          null,
          null,
          null,
          null,
          "2020-05-20",
          null,
          null,
          null,
          null,
          null,
          null,
          "2020-09-16",
          null,
          null,
          null,
          null,
          null,
          "2021-09-24",
          null,
          "2017-08-25",
          null,
          null,
          null,
          null,
          null,
          null,
          null,
          null,
          null,
          null,
          null,
          null,
          null,
          null,
          null,
          null,
          null,
          null,
          null,
          "2021-02-19",
          null,
          "2016-12-23",
          "2019-01-01",
          null,
          null,
          null,
          "2017-10-13",
          null,
          null,
          null,
          null,
          null,
          null,
          null,
          null,
          null,
          "2019-04-15",
          null,
          null,
          null,
          null,
          null,
          null,
          null,
          null,
          null,
          null,
          null,
          null,
          null,
          null,
          null,
          null,
          null,
          null,
          null,
          null,
          null,
          null,
          null,
          null,
          null,
          null,
          null,
          null,
          null,
          null,
          null,
          null,
          null,
          null,
          null,
          null,
          "2017-08-18",
          null,
          null,
          null,
          null,
          null,
          null,
          null,
          null,
          null,
          null,
          null,
          null,
          null,
          null,
          "2018-08-31",
          null,
          "2022-09-06",
          null,
          "2019-12-06",
          "2020-06-12",
          null,
          null,
          null,
          null,
          null,
          null,
          null,
          null,
          null,
          null,
          null,
          null,
          null,
          null,
          null,
          null,
          null,
          null,
          null,
          null,
          null,
          "2022-06-22",
          null,
          null,
          null,
          null,
          null,
          null,
          "2023-06-16",
          null,
          null,
          null,
          "2023-01-01",
          null,
          "2021-09-10",
          null,
          null,
          null,
          null,
          null,
          null,
          null,
          null,
          null,
          null,
          null,
          null,
          null,
          null,
          null,
          null,
          null,
          "2021-05-04",
          null,
          null,
          null,
          null,
          null,
          null,
          null,
          null,
          null,
          null,
          null,
          null,
          null,
          null,
          null,
          null,
          null,
          null,
          null,
          null,
          null,
          null,
          null,
          "2018-02-04",
          null,
          null,
          null,
          null,
          null,
          null,
          null,
          null,
          null,
          null,
          null,
          "2021-12-01",
          null,
          null,
          null,
          null,
          null,
          null,
          null,
          null,
          null,
          "2020-06-26",
          null,
          null,
          null,
          null,
          null,
          null,
          null,
          null,
          null,
          null,
          null,
          null,
          null,
          null,
          null,
          null,
          null,
          "2018-02-09",
          null,
          null,
          null,
          "2019-05-03",
          null,
          null,
          null,
          null,
          null,
          null,
          null,
          null,
          null,
          null,
          null,
          null,
          null,
          null,
          null,
          null,
          null,
          null,
          null,
          null,
          null,
          null,
          null,
          null,
          null,
          null,
          null,
          null,
          null,
          null,
          null,
          null,
          null,
          null,
          "2019-11-15",
          null,
          null,
          null,
          null,
          null,
          null,
          "2019-12-20",
          null,
          null,
          null,
          null,
          null,
          null,
          null,
          null,
          null,
          null,
          null,
          null,
          null,
          null,
          null,
          null,
          null,
          null,
          "2017-05-12",
          null,
          "2019-11-01",
          null,
          null,
          null,
          null,
          null,
          null,
          null,
          null,
          null,
          null,
          null,
          null,
          null,
          null,
          null,
          "2017-09-29",
          null,
          null,
          null,
          null,
          null,
          null,
          null,
          null,
          "2020-11-04",
          null,
          null,
          null,
          null,
          null,
          null,
          null,
          null,
          null,
          null,
          null,
          "2017-11-10",
          "2017-11-10",
          "2019-08-08",
          null,
          null,
          null,
          null,
          null,
          null,
          null,
          null,
          null,
          "2018-12-28",
          "2019-06-28",
          null,
          null,
          null,
          null,
          null,
          null,
          null,
          null,
          null,
          null,
          null,
          null,
          null,
          null,
          null,
          null,
          null,
          null,
          null,
          null,
          null,
          null,
          null,
          null,
          null,
          "2017-12-15",
          "2020-10-16",
          null,
          null,
          null,
          null,
          "2022-12-07",
          null,
          null,
          null,
          null,
          null,
          null,
          null,
          null,
          null,
          null,
          null,
          null,
          null,
          null,
          "2022-06-16",
          null,
          null,
          null,
          null,
          null,
          null,
          null,
          null,
          null,
          null,
          null,
          null,
          null,
          null,
          null,
          null,
          null,
          "2021-07-14",
          null,
          null,
          null,
          null,
          null,
          null,
          null,
          null,
          null,
          null,
          null,
          null,
          null,
          null,
          null,
          null,
          null,
          null,
          null,
          null,
          null,
          null,
          null,
          "2020-05-01",
          null,
          null,
          null,
          null,
          null,
          "2019-06-28",
          null,
          null,
          null,
          null,
          null,
          null,
          null,
          "2022-04-19",
          null,
          "2021-05-08",
          null,
          null,
          null,
          null,
          null,
          null,
          null,
          null,
          null,
          null,
          null,
          null,
          null,
          null,
          null,
          null,
          null,
          null,
          null,
          null,
          null,
          null,
          null,
          null,
          null,
          null,
          null,
          null,
          null,
          "2017-06-28",
          null,
          null,
          null,
          null,
          null,
          null,
          null,
          null,
          null,
          null,
          null,
          null,
          null,
          "2019-01-25",
          null,
          null,
          null,
          "2021-02-26",
          null,
          null,
          null,
          null,
          null,
          null,
          "2021-06-24",
          null,
          null,
          null,
          null,
          null,
          null,
          null,
          null,
          null,
          null,
          null,
          null,
          null,
          null,
          null,
          null,
          null,
          null,
          null,
          null,
          null,
          null,
          null,
          null,
          null,
          null,
          null,
          null,
          null,
          null,
          null,
          null,
          null,
          null,
          null,
          null,
          null,
          null,
          null,
          null,
          null,
          null,
          null,
          null,
          null,
          null,
          "2021-11-26",
          null,
          null,
          null,
          null,
          null,
          null,
          "2019-01-11",
          "2018-07-30",
          null,
          null,
          null,
          null,
          null,
          null,
          null,
          "2017-12-22",
          "2021-06-04",
          null,
          null,
          null,
          null,
          null,
          null,
          null,
          null,
          null,
          null,
          null,
          null,
          null,
          null,
          null,
          "2021-11-19",
          null,
          "2016-12-12",
          "2020-02-13",
          null,
          null,
          null,
          null,
          null,
          null,
          null,
          "2021-08-27",
          null,
          null,
          null,
          null,
          null,
          null,
          null,
          null,
          null,
          null,
          null,
          null,
          null,
          null,
          null,
          null,
          null,
          null,
          null,
          null,
          null,
          null,
          null,
          null,
          null,
          "2021-12-25",
          null,
          null,
          null,
          null,
          null,
          "2016-08-12",
          null,
          null,
          null,
          null,
          null,
          null,
          "2016-11-18",
          null,
          null,
          null,
          null,
          null,
          null,
          null,
          null,
          null,
          null,
          null,
          null,
          null,
          null,
          null,
          null,
          null,
          null,
          null,
          "2020-07-03",
          null,
          null,
          null,
          null,
          null,
          null,
          null,
          null,
          null,
          null,
          null,
          null,
          null,
          null,
          null,
          null,
          null,
          null,
          null,
          null,
          null,
          null,
          null,
          null,
          null,
          null,
          null,
          null,
          null,
          null,
          null,
          null,
          null,
          null,
          null,
          null,
          null,
          null,
          null,
          null,
          null,
          null,
          "2020-12-09",
          null,
          null,
          null,
          null,
          null,
          null,
          null,
          null,
          null,
          null,
          null,
          null,
          null,
          null,
          null,
          null,
          null,
          null,
          null,
          null,
          null,
          null,
          null,
          "2022-07-29",
          null,
          null,
          null,
          null,
          null,
          null,
          null,
          null,
          null,
          null,
          null,
          null,
          null,
          null,
          null,
          null,
          null,
          null,
          null,
          null,
          null,
          null,
          null,
          null,
          null,
          null,
          null,
          null,
          null,
          null,
          null,
          null,
          null,
          null,
          null,
          null,
          null,
          null,
          null,
          null,
          null,
          null,
          null,
          null,
          null,
          null,
          null,
          null,
          null,
          null,
          "2016-12-16",
          null,
          "2018-08-17",
          null,
          null,
          null,
          null,
          null,
          null,
          null,
          null,
          "2022-04-01",
          null,
          null,
          null,
          null,
          null,
          null,
          null,
          null,
          null,
          null,
          "2020-11-03",
          null,
          null,
          null,
          null,
          null,
          null,
          null,
          null,
          null,
          null,
          null,
          null,
          "2017-04-07",
          null,
          null,
          null,
          null,
          null,
          null,
          null,
          null,
          null,
          null,
          null,
          null,
          null,
          null,
          null,
          null,
          null,
          null,
          null,
          null,
          null,
          null,
          null,
          null,
          null,
          null,
          null,
          null,
          null,
          null,
          null,
          "2021-02-05",
          null,
          null,
          null,
          null,
          null,
          null,
          null,
          null,
          null,
          null,
          null,
          null,
          null,
          null,
          null,
          null,
          null,
          null,
          null,
          null,
          null,
          "2020-04-22",
          null,
          null,
          null,
          null,
          null,
          null,
          null,
          null,
          null,
          null,
          null,
          null,
          null,
          null,
          null,
          null,
          null,
          null,
          null,
          null,
          null,
          null,
          null,
          null,
          null,
          null,
          null,
          null,
          null,
          null,
          null,
          null,
          null,
          "2017-09-29",
          null,
          null,
          null,
          null,
          null,
          null,
          null,
          null,
          null,
          null,
          "2019-03-08",
          null,
          null,
          null,
          null,
          null,
          null,
          null,
          null,
          null,
          null,
          null,
          null,
          null,
          null,
          null,
          null,
          null,
          null,
          null,
          null,
          null,
          null,
          "2021-06-17",
          null,
          null,
          null,
          null,
          "2022-06-29",
          null,
          null,
          null,
          null,
          null,
          null,
          null,
          null,
          null,
          null,
          null,
          null,
          null,
          null,
          null,
          null,
          "2018-03-02",
          null,
          null,
          null,
          null,
          null,
          null,
          null,
          null,
          null,
          null,
          null,
          null,
          null,
          null,
          null,
          null,
          null,
          null,
          null,
          null,
          null,
          null,
          null,
          null,
          null,
          null,
          null,
          null,
          null,
          "2018-08-31",
          null,
          null,
          null,
          null,
          null,
          null,
          null,
          null,
          null,
          null,
          null,
          null,
          null,
          null,
          null,
          null,
          null,
          null,
          null,
          null,
          null,
          null,
          null,
          null,
          null,
          null,
          null,
          "2019-05-23",
          null,
          "2017-06-27",
          null,
          null,
          null,
          null,
          null,
          null,
          null,
          null,
          "2022-07-11",
          null,
          null,
          null,
          null,
          null,
          null,
          null,
          null,
          null,
          null,
          null,
          null,
          null,
          null,
          null,
          null,
          null,
          null,
          null,
          null,
          null,
          null,
          null,
          null,
          null,
          null,
          null,
          null,
          null,
          null,
          null,
          null,
          null,
          null,
          null,
          null,
          null,
          null,
          null,
          null,
          null,
          null,
          null,
          null,
          null,
          null,
          null,
          null,
          null,
          null,
          null,
          null,
          null,
          null,
          null,
          "2018-07-03",
          null,
          null,
          null,
          null,
          null,
          null,
          null,
          null,
          null,
          null,
          null,
          null,
          null,
          null,
          null,
          null,
          null,
          null,
          null,
          null,
          null,
          null,
          null,
          "2020-06-19",
          null,
          null,
          null,
          null,
          null,
          null,
          null,
          null,
          null,
          null,
          null,
          null,
          null,
          null,
          null,
          null,
          null,
          null,
          null,
          null,
          null,
          null,
          null,
          null,
          null,
          null,
          null,
          null,
          null,
          null,
          null,
          null,
          null,
          null,
          null,
          null,
          null,
          null,
          null,
          null,
          null,
          null,
          null,
          null,
          null,
          null,
          null,
          null,
          null,
          null,
          null,
          null,
          null,
          null,
          null,
          null,
          null,
          null,
          null,
          null,
          null,
          null,
          null,
          null,
          null,
          null,
          null,
          null,
          null,
          null,
          null,
          null,
          null,
          null,
          null,
          null,
          null,
          null,
          null,
          null,
          null,
          null,
          null,
          null,
          null,
          null,
          null,
          null,
          null,
          null,
          null,
          null,
          null,
          null,
          null,
          null,
          null,
          null,
          null,
          null,
          null,
          null,
          null,
          null,
          null,
          null,
          null,
          null,
          null,
          null,
          null,
          null,
          null,
          null,
          null,
          null,
          null,
          null,
          null,
          null,
          null,
          null,
          null,
          null,
          null,
          null,
          null,
          null,
          null,
          null,
          null,
          null,
          null,
          null,
          null,
          null,
          null,
          null,
          null,
          null,
          null,
          null,
          "2019-10-29",
          null,
          null,
          null,
          null,
          null,
          null,
          null,
          null,
          null,
          null,
          null,
          null,
          null,
          null,
          null,
          null,
          null,
          "2021-01-01",
          null,
          null
         ]
        }
       ],
       "layout": {
        "template": {
         "data": {
          "bar": [
           {
            "error_x": {
             "color": "#2a3f5f"
            },
            "error_y": {
             "color": "#2a3f5f"
            },
            "marker": {
             "line": {
              "color": "#E5ECF6",
              "width": 0.5
             },
             "pattern": {
              "fillmode": "overlay",
              "size": 10,
              "solidity": 0.2
             }
            },
            "type": "bar"
           }
          ],
          "barpolar": [
           {
            "marker": {
             "line": {
              "color": "#E5ECF6",
              "width": 0.5
             },
             "pattern": {
              "fillmode": "overlay",
              "size": 10,
              "solidity": 0.2
             }
            },
            "type": "barpolar"
           }
          ],
          "carpet": [
           {
            "aaxis": {
             "endlinecolor": "#2a3f5f",
             "gridcolor": "white",
             "linecolor": "white",
             "minorgridcolor": "white",
             "startlinecolor": "#2a3f5f"
            },
            "baxis": {
             "endlinecolor": "#2a3f5f",
             "gridcolor": "white",
             "linecolor": "white",
             "minorgridcolor": "white",
             "startlinecolor": "#2a3f5f"
            },
            "type": "carpet"
           }
          ],
          "choropleth": [
           {
            "colorbar": {
             "outlinewidth": 0,
             "ticks": ""
            },
            "type": "choropleth"
           }
          ],
          "contour": [
           {
            "colorbar": {
             "outlinewidth": 0,
             "ticks": ""
            },
            "colorscale": [
             [
              0,
              "#0d0887"
             ],
             [
              0.1111111111111111,
              "#46039f"
             ],
             [
              0.2222222222222222,
              "#7201a8"
             ],
             [
              0.3333333333333333,
              "#9c179e"
             ],
             [
              0.4444444444444444,
              "#bd3786"
             ],
             [
              0.5555555555555556,
              "#d8576b"
             ],
             [
              0.6666666666666666,
              "#ed7953"
             ],
             [
              0.7777777777777778,
              "#fb9f3a"
             ],
             [
              0.8888888888888888,
              "#fdca26"
             ],
             [
              1,
              "#f0f921"
             ]
            ],
            "type": "contour"
           }
          ],
          "contourcarpet": [
           {
            "colorbar": {
             "outlinewidth": 0,
             "ticks": ""
            },
            "type": "contourcarpet"
           }
          ],
          "heatmap": [
           {
            "colorbar": {
             "outlinewidth": 0,
             "ticks": ""
            },
            "colorscale": [
             [
              0,
              "#0d0887"
             ],
             [
              0.1111111111111111,
              "#46039f"
             ],
             [
              0.2222222222222222,
              "#7201a8"
             ],
             [
              0.3333333333333333,
              "#9c179e"
             ],
             [
              0.4444444444444444,
              "#bd3786"
             ],
             [
              0.5555555555555556,
              "#d8576b"
             ],
             [
              0.6666666666666666,
              "#ed7953"
             ],
             [
              0.7777777777777778,
              "#fb9f3a"
             ],
             [
              0.8888888888888888,
              "#fdca26"
             ],
             [
              1,
              "#f0f921"
             ]
            ],
            "type": "heatmap"
           }
          ],
          "heatmapgl": [
           {
            "colorbar": {
             "outlinewidth": 0,
             "ticks": ""
            },
            "colorscale": [
             [
              0,
              "#0d0887"
             ],
             [
              0.1111111111111111,
              "#46039f"
             ],
             [
              0.2222222222222222,
              "#7201a8"
             ],
             [
              0.3333333333333333,
              "#9c179e"
             ],
             [
              0.4444444444444444,
              "#bd3786"
             ],
             [
              0.5555555555555556,
              "#d8576b"
             ],
             [
              0.6666666666666666,
              "#ed7953"
             ],
             [
              0.7777777777777778,
              "#fb9f3a"
             ],
             [
              0.8888888888888888,
              "#fdca26"
             ],
             [
              1,
              "#f0f921"
             ]
            ],
            "type": "heatmapgl"
           }
          ],
          "histogram": [
           {
            "marker": {
             "pattern": {
              "fillmode": "overlay",
              "size": 10,
              "solidity": 0.2
             }
            },
            "type": "histogram"
           }
          ],
          "histogram2d": [
           {
            "colorbar": {
             "outlinewidth": 0,
             "ticks": ""
            },
            "colorscale": [
             [
              0,
              "#0d0887"
             ],
             [
              0.1111111111111111,
              "#46039f"
             ],
             [
              0.2222222222222222,
              "#7201a8"
             ],
             [
              0.3333333333333333,
              "#9c179e"
             ],
             [
              0.4444444444444444,
              "#bd3786"
             ],
             [
              0.5555555555555556,
              "#d8576b"
             ],
             [
              0.6666666666666666,
              "#ed7953"
             ],
             [
              0.7777777777777778,
              "#fb9f3a"
             ],
             [
              0.8888888888888888,
              "#fdca26"
             ],
             [
              1,
              "#f0f921"
             ]
            ],
            "type": "histogram2d"
           }
          ],
          "histogram2dcontour": [
           {
            "colorbar": {
             "outlinewidth": 0,
             "ticks": ""
            },
            "colorscale": [
             [
              0,
              "#0d0887"
             ],
             [
              0.1111111111111111,
              "#46039f"
             ],
             [
              0.2222222222222222,
              "#7201a8"
             ],
             [
              0.3333333333333333,
              "#9c179e"
             ],
             [
              0.4444444444444444,
              "#bd3786"
             ],
             [
              0.5555555555555556,
              "#d8576b"
             ],
             [
              0.6666666666666666,
              "#ed7953"
             ],
             [
              0.7777777777777778,
              "#fb9f3a"
             ],
             [
              0.8888888888888888,
              "#fdca26"
             ],
             [
              1,
              "#f0f921"
             ]
            ],
            "type": "histogram2dcontour"
           }
          ],
          "mesh3d": [
           {
            "colorbar": {
             "outlinewidth": 0,
             "ticks": ""
            },
            "type": "mesh3d"
           }
          ],
          "parcoords": [
           {
            "line": {
             "colorbar": {
              "outlinewidth": 0,
              "ticks": ""
             }
            },
            "type": "parcoords"
           }
          ],
          "pie": [
           {
            "automargin": true,
            "type": "pie"
           }
          ],
          "scatter": [
           {
            "fillpattern": {
             "fillmode": "overlay",
             "size": 10,
             "solidity": 0.2
            },
            "type": "scatter"
           }
          ],
          "scatter3d": [
           {
            "line": {
             "colorbar": {
              "outlinewidth": 0,
              "ticks": ""
             }
            },
            "marker": {
             "colorbar": {
              "outlinewidth": 0,
              "ticks": ""
             }
            },
            "type": "scatter3d"
           }
          ],
          "scattercarpet": [
           {
            "marker": {
             "colorbar": {
              "outlinewidth": 0,
              "ticks": ""
             }
            },
            "type": "scattercarpet"
           }
          ],
          "scattergeo": [
           {
            "marker": {
             "colorbar": {
              "outlinewidth": 0,
              "ticks": ""
             }
            },
            "type": "scattergeo"
           }
          ],
          "scattergl": [
           {
            "marker": {
             "colorbar": {
              "outlinewidth": 0,
              "ticks": ""
             }
            },
            "type": "scattergl"
           }
          ],
          "scattermapbox": [
           {
            "marker": {
             "colorbar": {
              "outlinewidth": 0,
              "ticks": ""
             }
            },
            "type": "scattermapbox"
           }
          ],
          "scatterpolar": [
           {
            "marker": {
             "colorbar": {
              "outlinewidth": 0,
              "ticks": ""
             }
            },
            "type": "scatterpolar"
           }
          ],
          "scatterpolargl": [
           {
            "marker": {
             "colorbar": {
              "outlinewidth": 0,
              "ticks": ""
             }
            },
            "type": "scatterpolargl"
           }
          ],
          "scatterternary": [
           {
            "marker": {
             "colorbar": {
              "outlinewidth": 0,
              "ticks": ""
             }
            },
            "type": "scatterternary"
           }
          ],
          "surface": [
           {
            "colorbar": {
             "outlinewidth": 0,
             "ticks": ""
            },
            "colorscale": [
             [
              0,
              "#0d0887"
             ],
             [
              0.1111111111111111,
              "#46039f"
             ],
             [
              0.2222222222222222,
              "#7201a8"
             ],
             [
              0.3333333333333333,
              "#9c179e"
             ],
             [
              0.4444444444444444,
              "#bd3786"
             ],
             [
              0.5555555555555556,
              "#d8576b"
             ],
             [
              0.6666666666666666,
              "#ed7953"
             ],
             [
              0.7777777777777778,
              "#fb9f3a"
             ],
             [
              0.8888888888888888,
              "#fdca26"
             ],
             [
              1,
              "#f0f921"
             ]
            ],
            "type": "surface"
           }
          ],
          "table": [
           {
            "cells": {
             "fill": {
              "color": "#EBF0F8"
             },
             "line": {
              "color": "white"
             }
            },
            "header": {
             "fill": {
              "color": "#C8D4E3"
             },
             "line": {
              "color": "white"
             }
            },
            "type": "table"
           }
          ]
         },
         "layout": {
          "annotationdefaults": {
           "arrowcolor": "#2a3f5f",
           "arrowhead": 0,
           "arrowwidth": 1
          },
          "autotypenumbers": "strict",
          "coloraxis": {
           "colorbar": {
            "outlinewidth": 0,
            "ticks": ""
           }
          },
          "colorscale": {
           "diverging": [
            [
             0,
             "#8e0152"
            ],
            [
             0.1,
             "#c51b7d"
            ],
            [
             0.2,
             "#de77ae"
            ],
            [
             0.3,
             "#f1b6da"
            ],
            [
             0.4,
             "#fde0ef"
            ],
            [
             0.5,
             "#f7f7f7"
            ],
            [
             0.6,
             "#e6f5d0"
            ],
            [
             0.7,
             "#b8e186"
            ],
            [
             0.8,
             "#7fbc41"
            ],
            [
             0.9,
             "#4d9221"
            ],
            [
             1,
             "#276419"
            ]
           ],
           "sequential": [
            [
             0,
             "#0d0887"
            ],
            [
             0.1111111111111111,
             "#46039f"
            ],
            [
             0.2222222222222222,
             "#7201a8"
            ],
            [
             0.3333333333333333,
             "#9c179e"
            ],
            [
             0.4444444444444444,
             "#bd3786"
            ],
            [
             0.5555555555555556,
             "#d8576b"
            ],
            [
             0.6666666666666666,
             "#ed7953"
            ],
            [
             0.7777777777777778,
             "#fb9f3a"
            ],
            [
             0.8888888888888888,
             "#fdca26"
            ],
            [
             1,
             "#f0f921"
            ]
           ],
           "sequentialminus": [
            [
             0,
             "#0d0887"
            ],
            [
             0.1111111111111111,
             "#46039f"
            ],
            [
             0.2222222222222222,
             "#7201a8"
            ],
            [
             0.3333333333333333,
             "#9c179e"
            ],
            [
             0.4444444444444444,
             "#bd3786"
            ],
            [
             0.5555555555555556,
             "#d8576b"
            ],
            [
             0.6666666666666666,
             "#ed7953"
            ],
            [
             0.7777777777777778,
             "#fb9f3a"
            ],
            [
             0.8888888888888888,
             "#fdca26"
            ],
            [
             1,
             "#f0f921"
            ]
           ]
          },
          "colorway": [
           "#636efa",
           "#EF553B",
           "#00cc96",
           "#ab63fa",
           "#FFA15A",
           "#19d3f3",
           "#FF6692",
           "#B6E880",
           "#FF97FF",
           "#FECB52"
          ],
          "font": {
           "color": "#2a3f5f"
          },
          "geo": {
           "bgcolor": "white",
           "lakecolor": "white",
           "landcolor": "#E5ECF6",
           "showlakes": true,
           "showland": true,
           "subunitcolor": "white"
          },
          "hoverlabel": {
           "align": "left"
          },
          "hovermode": "closest",
          "mapbox": {
           "style": "light"
          },
          "paper_bgcolor": "white",
          "plot_bgcolor": "#E5ECF6",
          "polar": {
           "angularaxis": {
            "gridcolor": "white",
            "linecolor": "white",
            "ticks": ""
           },
           "bgcolor": "#E5ECF6",
           "radialaxis": {
            "gridcolor": "white",
            "linecolor": "white",
            "ticks": ""
           }
          },
          "scene": {
           "xaxis": {
            "backgroundcolor": "#E5ECF6",
            "gridcolor": "white",
            "gridwidth": 2,
            "linecolor": "white",
            "showbackground": true,
            "ticks": "",
            "zerolinecolor": "white"
           },
           "yaxis": {
            "backgroundcolor": "#E5ECF6",
            "gridcolor": "white",
            "gridwidth": 2,
            "linecolor": "white",
            "showbackground": true,
            "ticks": "",
            "zerolinecolor": "white"
           },
           "zaxis": {
            "backgroundcolor": "#E5ECF6",
            "gridcolor": "white",
            "gridwidth": 2,
            "linecolor": "white",
            "showbackground": true,
            "ticks": "",
            "zerolinecolor": "white"
           }
          },
          "shapedefaults": {
           "line": {
            "color": "#2a3f5f"
           }
          },
          "ternary": {
           "aaxis": {
            "gridcolor": "white",
            "linecolor": "white",
            "ticks": ""
           },
           "baxis": {
            "gridcolor": "white",
            "linecolor": "white",
            "ticks": ""
           },
           "bgcolor": "#E5ECF6",
           "caxis": {
            "gridcolor": "white",
            "linecolor": "white",
            "ticks": ""
           }
          },
          "title": {
           "x": 0.05
          },
          "xaxis": {
           "automargin": true,
           "gridcolor": "white",
           "linecolor": "white",
           "ticks": "",
           "title": {
            "standoff": 15
           },
           "zerolinecolor": "white",
           "zerolinewidth": 2
          },
          "yaxis": {
           "automargin": true,
           "gridcolor": "white",
           "linecolor": "white",
           "ticks": "",
           "title": {
            "standoff": 15
           },
           "zerolinecolor": "white",
           "zerolinewidth": 2
          }
         }
        },
        "title": {
         "text": "Distribution Of 1567 Netflix-Ratings"
        },
        "yaxis": {
         "title": {
          "text": "Rating"
         }
        }
       }
      },
      "text/html": [
       "<div>                            <div id=\"a7d173b6-1fb9-448f-9621-08732b1bb53e\" class=\"plotly-graph-div\" style=\"height:525px; width:100%;\"></div>            <script type=\"text/javascript\">                require([\"plotly\"], function(Plotly) {                    window.PLOTLYENV=window.PLOTLYENV || {};                                    if (document.getElementById(\"a7d173b6-1fb9-448f-9621-08732b1bb53e\")) {                    Plotly.newPlot(                        \"a7d173b6-1fb9-448f-9621-08732b1bb53e\",                        [{\"marker\":{\"color\":\"#db0000\"},\"name\":\"Release Date Distribution\",\"y\":[\"2023-06-16\",\"2023-03-16\",\"2022-12-21\",\"2022-12-22\",\"2022-12-23\",null,\"2023-01-06\",\"2023-02-10\",\"2021-04-23\",\"2019-06-14\",\"2020-04-24\",\"2022-04-19\",null,null,null,\"2021-11-12\",null,null,\"2022-09-21\",null,null,\"2022-12-08\",null,null,null,null,\"2015-02-08\",null,\"2022-05-13\",null,null,null,null,\"2021-09-03\",\"2020-02-24\",null,null,\"2017-04-11\",null,\"2016-02-15\",null,null,null,\"2019-12-13\",\"2018-08-07\",null,\"2021-04-30\",null,null,null,null,null,null,null,null,null,null,null,null,null,\"2020-04-03\",\"2022-03-11\",null,null,\"2019-11-27\",null,null,null,null,\"2020-07-10\",null,null,\"2020-02-07\",\"2016-08-18\",\"2021-05-21\",null,null,null,null,null,null,\"2019-03-13\",null,null,null,\"2022-06-08\",\"2021-12-24\",null,\"2022-06-22\",null,null,null,null,null,null,\"2018-08-17\",null,null,null,null,null,null,null,null,null,\"2021-10-22\",\"2018-03-23\",null,null,null,null,null,null,\"2023-03-23\",null,null,null,\"2017-09-21\",\"2018-12-21\",null,null,null,null,\"2018-06-24\",null,null,null,null,null,\"2020-10-09\",\"2020-07-31\",null,null,null,null,null,null,null,null,null,null,null,null,null,null,null,null,null,null,\"2017-01-13\",null,null,null,\"2020-09-23\",null,null,null,null,null,null,null,null,null,\"2021-10-01\",null,null,null,null,\"2019-10-11\",null,null,null,null,null,\"2022-08-10\",null,null,null,null,null,null,null,\"2016-04-01\",null,null,null,null,null,null,null,null,null,null,null,\"2021-12-10\",\"2017-12-22\",null,\"2021-05-12\",null,null,null,null,\"2019-04-10\",null,null,null,\"2020-03-20\",null,null,null,null,\"2018-12-26\",null,null,null,null,\"2019-11-01\",\"2019-11-01\",\"2021-04-14\",null,null,null,null,null,null,null,null,null,null,\"2018-03-30\",null,null,null,null,null,null,null,null,null,null,null,null,null,null,\"2020-06-13\",null,null,null,null,null,null,null,null,\"2022-06-29\",null,null,null,null,null,\"2019-12-30\",null,null,null,null,null,null,\"2022-11-25\",null,null,null,null,\"2018-11-16\",null,null,null,null,null,null,null,null,null,null,null,null,null,null,null,null,null,null,null,null,null,\"2018-03-12\",null,null,null,null,null,\"2015-06-05\",null,null,null,null,\"2020-05-20\",null,null,null,null,null,null,\"2020-09-16\",null,null,null,null,null,\"2021-09-24\",null,\"2017-08-25\",null,null,null,null,null,null,null,null,null,null,null,null,null,null,null,null,null,null,null,\"2021-02-19\",null,\"2016-12-23\",\"2019-01-01\",null,null,null,\"2017-10-13\",null,null,null,null,null,null,null,null,null,\"2019-04-15\",null,null,null,null,null,null,null,null,null,null,null,null,null,null,null,null,null,null,null,null,null,null,null,null,null,null,null,null,null,null,null,null,null,null,null,null,\"2017-08-18\",null,null,null,null,null,null,null,null,null,null,null,null,null,null,\"2018-08-31\",null,\"2022-09-06\",null,\"2019-12-06\",\"2020-06-12\",null,null,null,null,null,null,null,null,null,null,null,null,null,null,null,null,null,null,null,null,null,\"2022-06-22\",null,null,null,null,null,null,\"2023-06-16\",null,null,null,\"2023-01-01\",null,\"2021-09-10\",null,null,null,null,null,null,null,null,null,null,null,null,null,null,null,null,null,\"2021-05-04\",null,null,null,null,null,null,null,null,null,null,null,null,null,null,null,null,null,null,null,null,null,null,null,\"2018-02-04\",null,null,null,null,null,null,null,null,null,null,null,\"2021-12-01\",null,null,null,null,null,null,null,null,null,\"2020-06-26\",null,null,null,null,null,null,null,null,null,null,null,null,null,null,null,null,null,\"2018-02-09\",null,null,null,\"2019-05-03\",null,null,null,null,null,null,null,null,null,null,null,null,null,null,null,null,null,null,null,null,null,null,null,null,null,null,null,null,null,null,null,null,null,null,\"2019-11-15\",null,null,null,null,null,null,\"2019-12-20\",null,null,null,null,null,null,null,null,null,null,null,null,null,null,null,null,null,null,\"2017-05-12\",null,\"2019-11-01\",null,null,null,null,null,null,null,null,null,null,null,null,null,null,null,\"2017-09-29\",null,null,null,null,null,null,null,null,\"2020-11-04\",null,null,null,null,null,null,null,null,null,null,null,\"2017-11-10\",\"2017-11-10\",\"2019-08-08\",null,null,null,null,null,null,null,null,null,\"2018-12-28\",\"2019-06-28\",null,null,null,null,null,null,null,null,null,null,null,null,null,null,null,null,null,null,null,null,null,null,null,null,null,\"2017-12-15\",\"2020-10-16\",null,null,null,null,\"2022-12-07\",null,null,null,null,null,null,null,null,null,null,null,null,null,null,\"2022-06-16\",null,null,null,null,null,null,null,null,null,null,null,null,null,null,null,null,null,\"2021-07-14\",null,null,null,null,null,null,null,null,null,null,null,null,null,null,null,null,null,null,null,null,null,null,null,\"2020-05-01\",null,null,null,null,null,\"2019-06-28\",null,null,null,null,null,null,null,\"2022-04-19\",null,\"2021-05-08\",null,null,null,null,null,null,null,null,null,null,null,null,null,null,null,null,null,null,null,null,null,null,null,null,null,null,null,null,null,\"2017-06-28\",null,null,null,null,null,null,null,null,null,null,null,null,null,\"2019-01-25\",null,null,null,\"2021-02-26\",null,null,null,null,null,null,\"2021-06-24\",null,null,null,null,null,null,null,null,null,null,null,null,null,null,null,null,null,null,null,null,null,null,null,null,null,null,null,null,null,null,null,null,null,null,null,null,null,null,null,null,null,null,null,null,null,null,\"2021-11-26\",null,null,null,null,null,null,\"2019-01-11\",\"2018-07-30\",null,null,null,null,null,null,null,\"2017-12-22\",\"2021-06-04\",null,null,null,null,null,null,null,null,null,null,null,null,null,null,null,\"2021-11-19\",null,\"2016-12-12\",\"2020-02-13\",null,null,null,null,null,null,null,\"2021-08-27\",null,null,null,null,null,null,null,null,null,null,null,null,null,null,null,null,null,null,null,null,null,null,null,null,null,\"2021-12-25\",null,null,null,null,null,\"2016-08-12\",null,null,null,null,null,null,\"2016-11-18\",null,null,null,null,null,null,null,null,null,null,null,null,null,null,null,null,null,null,null,\"2020-07-03\",null,null,null,null,null,null,null,null,null,null,null,null,null,null,null,null,null,null,null,null,null,null,null,null,null,null,null,null,null,null,null,null,null,null,null,null,null,null,null,null,null,null,\"2020-12-09\",null,null,null,null,null,null,null,null,null,null,null,null,null,null,null,null,null,null,null,null,null,null,null,\"2022-07-29\",null,null,null,null,null,null,null,null,null,null,null,null,null,null,null,null,null,null,null,null,null,null,null,null,null,null,null,null,null,null,null,null,null,null,null,null,null,null,null,null,null,null,null,null,null,null,null,null,null,null,\"2016-12-16\",null,\"2018-08-17\",null,null,null,null,null,null,null,null,\"2022-04-01\",null,null,null,null,null,null,null,null,null,null,\"2020-11-03\",null,null,null,null,null,null,null,null,null,null,null,null,\"2017-04-07\",null,null,null,null,null,null,null,null,null,null,null,null,null,null,null,null,null,null,null,null,null,null,null,null,null,null,null,null,null,null,null,\"2021-02-05\",null,null,null,null,null,null,null,null,null,null,null,null,null,null,null,null,null,null,null,null,null,\"2020-04-22\",null,null,null,null,null,null,null,null,null,null,null,null,null,null,null,null,null,null,null,null,null,null,null,null,null,null,null,null,null,null,null,null,null,\"2017-09-29\",null,null,null,null,null,null,null,null,null,null,\"2019-03-08\",null,null,null,null,null,null,null,null,null,null,null,null,null,null,null,null,null,null,null,null,null,null,\"2021-06-17\",null,null,null,null,\"2022-06-29\",null,null,null,null,null,null,null,null,null,null,null,null,null,null,null,null,\"2018-03-02\",null,null,null,null,null,null,null,null,null,null,null,null,null,null,null,null,null,null,null,null,null,null,null,null,null,null,null,null,null,\"2018-08-31\",null,null,null,null,null,null,null,null,null,null,null,null,null,null,null,null,null,null,null,null,null,null,null,null,null,null,null,\"2019-05-23\",null,\"2017-06-27\",null,null,null,null,null,null,null,null,\"2022-07-11\",null,null,null,null,null,null,null,null,null,null,null,null,null,null,null,null,null,null,null,null,null,null,null,null,null,null,null,null,null,null,null,null,null,null,null,null,null,null,null,null,null,null,null,null,null,null,null,null,null,null,null,null,null,null,null,\"2018-07-03\",null,null,null,null,null,null,null,null,null,null,null,null,null,null,null,null,null,null,null,null,null,null,null,\"2020-06-19\",null,null,null,null,null,null,null,null,null,null,null,null,null,null,null,null,null,null,null,null,null,null,null,null,null,null,null,null,null,null,null,null,null,null,null,null,null,null,null,null,null,null,null,null,null,null,null,null,null,null,null,null,null,null,null,null,null,null,null,null,null,null,null,null,null,null,null,null,null,null,null,null,null,null,null,null,null,null,null,null,null,null,null,null,null,null,null,null,null,null,null,null,null,null,null,null,null,null,null,null,null,null,null,null,null,null,null,null,null,null,null,null,null,null,null,null,null,null,null,null,null,null,null,null,null,null,null,null,null,null,null,null,null,null,null,null,null,null,null,null,null,null,\"2019-10-29\",null,null,null,null,null,null,null,null,null,null,null,null,null,null,null,null,null,\"2021-01-01\",null,null],\"type\":\"box\"}],                        {\"title\":{\"text\":\"Distribution Of 1567 Netflix-Ratings\"},\"yaxis\":{\"title\":{\"text\":\"Rating\"}},\"template\":{\"data\":{\"histogram2dcontour\":[{\"type\":\"histogram2dcontour\",\"colorbar\":{\"outlinewidth\":0,\"ticks\":\"\"},\"colorscale\":[[0.0,\"#0d0887\"],[0.1111111111111111,\"#46039f\"],[0.2222222222222222,\"#7201a8\"],[0.3333333333333333,\"#9c179e\"],[0.4444444444444444,\"#bd3786\"],[0.5555555555555556,\"#d8576b\"],[0.6666666666666666,\"#ed7953\"],[0.7777777777777778,\"#fb9f3a\"],[0.8888888888888888,\"#fdca26\"],[1.0,\"#f0f921\"]]}],\"choropleth\":[{\"type\":\"choropleth\",\"colorbar\":{\"outlinewidth\":0,\"ticks\":\"\"}}],\"histogram2d\":[{\"type\":\"histogram2d\",\"colorbar\":{\"outlinewidth\":0,\"ticks\":\"\"},\"colorscale\":[[0.0,\"#0d0887\"],[0.1111111111111111,\"#46039f\"],[0.2222222222222222,\"#7201a8\"],[0.3333333333333333,\"#9c179e\"],[0.4444444444444444,\"#bd3786\"],[0.5555555555555556,\"#d8576b\"],[0.6666666666666666,\"#ed7953\"],[0.7777777777777778,\"#fb9f3a\"],[0.8888888888888888,\"#fdca26\"],[1.0,\"#f0f921\"]]}],\"heatmap\":[{\"type\":\"heatmap\",\"colorbar\":{\"outlinewidth\":0,\"ticks\":\"\"},\"colorscale\":[[0.0,\"#0d0887\"],[0.1111111111111111,\"#46039f\"],[0.2222222222222222,\"#7201a8\"],[0.3333333333333333,\"#9c179e\"],[0.4444444444444444,\"#bd3786\"],[0.5555555555555556,\"#d8576b\"],[0.6666666666666666,\"#ed7953\"],[0.7777777777777778,\"#fb9f3a\"],[0.8888888888888888,\"#fdca26\"],[1.0,\"#f0f921\"]]}],\"heatmapgl\":[{\"type\":\"heatmapgl\",\"colorbar\":{\"outlinewidth\":0,\"ticks\":\"\"},\"colorscale\":[[0.0,\"#0d0887\"],[0.1111111111111111,\"#46039f\"],[0.2222222222222222,\"#7201a8\"],[0.3333333333333333,\"#9c179e\"],[0.4444444444444444,\"#bd3786\"],[0.5555555555555556,\"#d8576b\"],[0.6666666666666666,\"#ed7953\"],[0.7777777777777778,\"#fb9f3a\"],[0.8888888888888888,\"#fdca26\"],[1.0,\"#f0f921\"]]}],\"contourcarpet\":[{\"type\":\"contourcarpet\",\"colorbar\":{\"outlinewidth\":0,\"ticks\":\"\"}}],\"contour\":[{\"type\":\"contour\",\"colorbar\":{\"outlinewidth\":0,\"ticks\":\"\"},\"colorscale\":[[0.0,\"#0d0887\"],[0.1111111111111111,\"#46039f\"],[0.2222222222222222,\"#7201a8\"],[0.3333333333333333,\"#9c179e\"],[0.4444444444444444,\"#bd3786\"],[0.5555555555555556,\"#d8576b\"],[0.6666666666666666,\"#ed7953\"],[0.7777777777777778,\"#fb9f3a\"],[0.8888888888888888,\"#fdca26\"],[1.0,\"#f0f921\"]]}],\"surface\":[{\"type\":\"surface\",\"colorbar\":{\"outlinewidth\":0,\"ticks\":\"\"},\"colorscale\":[[0.0,\"#0d0887\"],[0.1111111111111111,\"#46039f\"],[0.2222222222222222,\"#7201a8\"],[0.3333333333333333,\"#9c179e\"],[0.4444444444444444,\"#bd3786\"],[0.5555555555555556,\"#d8576b\"],[0.6666666666666666,\"#ed7953\"],[0.7777777777777778,\"#fb9f3a\"],[0.8888888888888888,\"#fdca26\"],[1.0,\"#f0f921\"]]}],\"mesh3d\":[{\"type\":\"mesh3d\",\"colorbar\":{\"outlinewidth\":0,\"ticks\":\"\"}}],\"scatter\":[{\"fillpattern\":{\"fillmode\":\"overlay\",\"size\":10,\"solidity\":0.2},\"type\":\"scatter\"}],\"parcoords\":[{\"type\":\"parcoords\",\"line\":{\"colorbar\":{\"outlinewidth\":0,\"ticks\":\"\"}}}],\"scatterpolargl\":[{\"type\":\"scatterpolargl\",\"marker\":{\"colorbar\":{\"outlinewidth\":0,\"ticks\":\"\"}}}],\"bar\":[{\"error_x\":{\"color\":\"#2a3f5f\"},\"error_y\":{\"color\":\"#2a3f5f\"},\"marker\":{\"line\":{\"color\":\"#E5ECF6\",\"width\":0.5},\"pattern\":{\"fillmode\":\"overlay\",\"size\":10,\"solidity\":0.2}},\"type\":\"bar\"}],\"scattergeo\":[{\"type\":\"scattergeo\",\"marker\":{\"colorbar\":{\"outlinewidth\":0,\"ticks\":\"\"}}}],\"scatterpolar\":[{\"type\":\"scatterpolar\",\"marker\":{\"colorbar\":{\"outlinewidth\":0,\"ticks\":\"\"}}}],\"histogram\":[{\"marker\":{\"pattern\":{\"fillmode\":\"overlay\",\"size\":10,\"solidity\":0.2}},\"type\":\"histogram\"}],\"scattergl\":[{\"type\":\"scattergl\",\"marker\":{\"colorbar\":{\"outlinewidth\":0,\"ticks\":\"\"}}}],\"scatter3d\":[{\"type\":\"scatter3d\",\"line\":{\"colorbar\":{\"outlinewidth\":0,\"ticks\":\"\"}},\"marker\":{\"colorbar\":{\"outlinewidth\":0,\"ticks\":\"\"}}}],\"scattermapbox\":[{\"type\":\"scattermapbox\",\"marker\":{\"colorbar\":{\"outlinewidth\":0,\"ticks\":\"\"}}}],\"scatterternary\":[{\"type\":\"scatterternary\",\"marker\":{\"colorbar\":{\"outlinewidth\":0,\"ticks\":\"\"}}}],\"scattercarpet\":[{\"type\":\"scattercarpet\",\"marker\":{\"colorbar\":{\"outlinewidth\":0,\"ticks\":\"\"}}}],\"carpet\":[{\"aaxis\":{\"endlinecolor\":\"#2a3f5f\",\"gridcolor\":\"white\",\"linecolor\":\"white\",\"minorgridcolor\":\"white\",\"startlinecolor\":\"#2a3f5f\"},\"baxis\":{\"endlinecolor\":\"#2a3f5f\",\"gridcolor\":\"white\",\"linecolor\":\"white\",\"minorgridcolor\":\"white\",\"startlinecolor\":\"#2a3f5f\"},\"type\":\"carpet\"}],\"table\":[{\"cells\":{\"fill\":{\"color\":\"#EBF0F8\"},\"line\":{\"color\":\"white\"}},\"header\":{\"fill\":{\"color\":\"#C8D4E3\"},\"line\":{\"color\":\"white\"}},\"type\":\"table\"}],\"barpolar\":[{\"marker\":{\"line\":{\"color\":\"#E5ECF6\",\"width\":0.5},\"pattern\":{\"fillmode\":\"overlay\",\"size\":10,\"solidity\":0.2}},\"type\":\"barpolar\"}],\"pie\":[{\"automargin\":true,\"type\":\"pie\"}]},\"layout\":{\"autotypenumbers\":\"strict\",\"colorway\":[\"#636efa\",\"#EF553B\",\"#00cc96\",\"#ab63fa\",\"#FFA15A\",\"#19d3f3\",\"#FF6692\",\"#B6E880\",\"#FF97FF\",\"#FECB52\"],\"font\":{\"color\":\"#2a3f5f\"},\"hovermode\":\"closest\",\"hoverlabel\":{\"align\":\"left\"},\"paper_bgcolor\":\"white\",\"plot_bgcolor\":\"#E5ECF6\",\"polar\":{\"bgcolor\":\"#E5ECF6\",\"angularaxis\":{\"gridcolor\":\"white\",\"linecolor\":\"white\",\"ticks\":\"\"},\"radialaxis\":{\"gridcolor\":\"white\",\"linecolor\":\"white\",\"ticks\":\"\"}},\"ternary\":{\"bgcolor\":\"#E5ECF6\",\"aaxis\":{\"gridcolor\":\"white\",\"linecolor\":\"white\",\"ticks\":\"\"},\"baxis\":{\"gridcolor\":\"white\",\"linecolor\":\"white\",\"ticks\":\"\"},\"caxis\":{\"gridcolor\":\"white\",\"linecolor\":\"white\",\"ticks\":\"\"}},\"coloraxis\":{\"colorbar\":{\"outlinewidth\":0,\"ticks\":\"\"}},\"colorscale\":{\"sequential\":[[0.0,\"#0d0887\"],[0.1111111111111111,\"#46039f\"],[0.2222222222222222,\"#7201a8\"],[0.3333333333333333,\"#9c179e\"],[0.4444444444444444,\"#bd3786\"],[0.5555555555555556,\"#d8576b\"],[0.6666666666666666,\"#ed7953\"],[0.7777777777777778,\"#fb9f3a\"],[0.8888888888888888,\"#fdca26\"],[1.0,\"#f0f921\"]],\"sequentialminus\":[[0.0,\"#0d0887\"],[0.1111111111111111,\"#46039f\"],[0.2222222222222222,\"#7201a8\"],[0.3333333333333333,\"#9c179e\"],[0.4444444444444444,\"#bd3786\"],[0.5555555555555556,\"#d8576b\"],[0.6666666666666666,\"#ed7953\"],[0.7777777777777778,\"#fb9f3a\"],[0.8888888888888888,\"#fdca26\"],[1.0,\"#f0f921\"]],\"diverging\":[[0,\"#8e0152\"],[0.1,\"#c51b7d\"],[0.2,\"#de77ae\"],[0.3,\"#f1b6da\"],[0.4,\"#fde0ef\"],[0.5,\"#f7f7f7\"],[0.6,\"#e6f5d0\"],[0.7,\"#b8e186\"],[0.8,\"#7fbc41\"],[0.9,\"#4d9221\"],[1,\"#276419\"]]},\"xaxis\":{\"gridcolor\":\"white\",\"linecolor\":\"white\",\"ticks\":\"\",\"title\":{\"standoff\":15},\"zerolinecolor\":\"white\",\"automargin\":true,\"zerolinewidth\":2},\"yaxis\":{\"gridcolor\":\"white\",\"linecolor\":\"white\",\"ticks\":\"\",\"title\":{\"standoff\":15},\"zerolinecolor\":\"white\",\"automargin\":true,\"zerolinewidth\":2},\"scene\":{\"xaxis\":{\"backgroundcolor\":\"#E5ECF6\",\"gridcolor\":\"white\",\"linecolor\":\"white\",\"showbackground\":true,\"ticks\":\"\",\"zerolinecolor\":\"white\",\"gridwidth\":2},\"yaxis\":{\"backgroundcolor\":\"#E5ECF6\",\"gridcolor\":\"white\",\"linecolor\":\"white\",\"showbackground\":true,\"ticks\":\"\",\"zerolinecolor\":\"white\",\"gridwidth\":2},\"zaxis\":{\"backgroundcolor\":\"#E5ECF6\",\"gridcolor\":\"white\",\"linecolor\":\"white\",\"showbackground\":true,\"ticks\":\"\",\"zerolinecolor\":\"white\",\"gridwidth\":2}},\"shapedefaults\":{\"line\":{\"color\":\"#2a3f5f\"}},\"annotationdefaults\":{\"arrowcolor\":\"#2a3f5f\",\"arrowhead\":0,\"arrowwidth\":1},\"geo\":{\"bgcolor\":\"white\",\"landcolor\":\"#E5ECF6\",\"subunitcolor\":\"white\",\"showland\":true,\"showlakes\":true,\"lakecolor\":\"white\"},\"title\":{\"x\":0.05},\"mapbox\":{\"style\":\"light\"}}}},                        {\"responsive\": true}                    ).then(function(){\n",
       "                            \n",
       "var gd = document.getElementById('a7d173b6-1fb9-448f-9621-08732b1bb53e');\n",
       "var x = new MutationObserver(function (mutations, observer) {{\n",
       "        var display = window.getComputedStyle(gd).display;\n",
       "        if (!display || display === 'none') {{\n",
       "            console.log([gd, 'removed!']);\n",
       "            Plotly.purge(gd);\n",
       "            observer.disconnect();\n",
       "        }}\n",
       "}});\n",
       "\n",
       "// Listen for the removal of the full notebook cells\n",
       "var notebookContainer = gd.closest('#notebook-container');\n",
       "if (notebookContainer) {{\n",
       "    x.observe(notebookContainer, {childList: true});\n",
       "}}\n",
       "\n",
       "// Listen for the clearing of the current output cell\n",
       "var outputEl = gd.closest('.output');\n",
       "if (outputEl) {{\n",
       "    x.observe(outputEl, {childList: true});\n",
       "}}\n",
       "\n",
       "                        })                };                });            </script>        </div>"
      ]
     },
     "metadata": {},
     "output_type": "display_data"
    }
   ],
   "source": [
    "# Get data\n",
    "data = df['Release Date'].value_counts().sort_index(ascending=False)\n",
    "\n",
    "# Create trace\n",
    "trace = go.Box(y=df['Release Date'], name='Release Date Distribution', marker=dict(color='#db0000'))\n",
    "\n",
    "# Create layout\n",
    "layout = dict(title='Distribution Of {} Netflix-Ratings'.format(len(df)),\n",
    "              yaxis=dict(title='Rating'))\n",
    "\n",
    "# Create plot\n",
    "fig = go.Figure(data=[trace], layout=layout)\n",
    "fig.show()"
   ]
  }
 ],
 "metadata": {
  "kernelspec": {
   "display_name": "base",
   "language": "python",
   "name": "python3"
  },
  "language_info": {
   "codemirror_mode": {
    "name": "ipython",
    "version": 3
   },
   "file_extension": ".py",
   "mimetype": "text/x-python",
   "name": "python",
   "nbconvert_exporter": "python",
   "pygments_lexer": "ipython3",
   "version": "3.7.4"
  }
 },
 "nbformat": 4,
 "nbformat_minor": 2
}
